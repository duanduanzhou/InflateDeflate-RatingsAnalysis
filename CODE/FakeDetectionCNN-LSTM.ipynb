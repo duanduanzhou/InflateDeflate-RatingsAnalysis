{
 "cells": [
  {
   "cell_type": "code",
   "execution_count": 25,
   "metadata": {
    "executionInfo": {
     "elapsed": 4,
     "status": "ok",
     "timestamp": 1700402904403,
     "user": {
      "displayName": "Honglai Peng",
      "userId": "09422365991702136955"
     },
     "user_tz": 300
    },
    "id": "6amBF5S10r7g"
   },
   "outputs": [],
   "source": [
    "import numpy as np\n",
    "import pandas as pd\n",
    "from sklearn.model_selection import train_test_split\n",
    "from sklearn.metrics import classification_report\n",
    "from sklearn.feature_extraction.text import TfidfVectorizer\n",
    "from gensim.models.doc2vec import Doc2Vec, TaggedDocument\n",
    "from tensorflow.keras.models import Sequential\n",
    "from tensorflow.keras.layers import Dense, Reshape, Conv1D, MaxPooling1D, LSTM, GlobalMaxPooling1D, BatchNormalization, Dropout\n",
    "from tensorflow.keras.optimizers import Adam\n",
    "from keras.regularizers import l2\n",
    "from nltk.tokenize import word_tokenize\n",
    "from sklearn.preprocessing import StandardScaler\n",
    "import nltk\n",
    "from tensorflow.keras.callbacks import EarlyStopping, ModelCheckpoint"
   ]
  },
  {
   "cell_type": "code",
   "execution_count": 11,
   "metadata": {
    "colab": {
     "base_uri": "https://localhost:8080/"
    },
    "executionInfo": {
     "elapsed": 2697,
     "status": "ok",
     "timestamp": 1700402323521,
     "user": {
      "displayName": "Honglai Peng",
      "userId": "09422365991702136955"
     },
     "user_tz": 300
    },
    "id": "3fSTHPfy05-G",
    "outputId": "045a79b0-e020-4b7c-dfca-82c02275bd07"
   },
   "outputs": [
    {
     "name": "stdout",
     "output_type": "stream",
     "text": [
      "Drive already mounted at /content/drive; to attempt to forcibly remount, call drive.mount(\"/content/drive\", force_remount=True).\n",
      "/content/drive/MyDrive/Project11_FakeNewsDetection\n"
     ]
    }
   ],
   "source": [
    "# Mount Google Drive\n",
    "from google.colab import drive\n",
    "drive.mount('/content/drive')\n",
    "# Set Working Directory\n",
    "%cd /content/drive/MyDrive/CSE6242\n",
    "#Load Data\n",
    "data = pd.read_csv(\"combined_reviews.csv\")"
   ]
  },
  {
   "cell_type": "code",
   "execution_count": 13,
   "metadata": {
    "colab": {
     "base_uri": "https://localhost:8080/"
    },
    "executionInfo": {
     "elapsed": 345,
     "status": "ok",
     "timestamp": 1700402340359,
     "user": {
      "displayName": "Honglai Peng",
      "userId": "09422365991702136955"
     },
     "user_tz": 300
    },
    "id": "OAuB1Hx72xnI",
    "outputId": "c988a1cb-1243-4612-e697-d017de871336"
   },
   "outputs": [
    {
     "name": "stderr",
     "output_type": "stream",
     "text": [
      "[nltk_data] Downloading package punkt to /root/nltk_data...\n",
      "[nltk_data]   Package punkt is already up-to-date!\n"
     ]
    },
    {
     "data": {
      "text/plain": [
       "True"
      ]
     },
     "execution_count": 13,
     "metadata": {},
     "output_type": "execute_result"
    }
   ],
   "source": [
    "nltk.download('punkt')"
   ]
  },
  {
   "cell_type": "code",
   "execution_count": 14,
   "metadata": {
    "executionInfo": {
     "elapsed": 259,
     "status": "ok",
     "timestamp": 1700402342783,
     "user": {
      "displayName": "Honglai Peng",
      "userId": "09422365991702136955"
     },
     "user_tz": 300
    },
    "id": "kJEPdk0I1vsG"
   },
   "outputs": [],
   "source": [
    "# Preprocess Data (Tokenization, etc.)\n",
    "def preprocess_text(text):\n",
    "    return word_tokenize(text.lower())"
   ]
  },
  {
   "cell_type": "code",
   "execution_count": 15,
   "metadata": {
    "executionInfo": {
     "elapsed": 48196,
     "status": "ok",
     "timestamp": 1700402392565,
     "user": {
      "displayName": "Honglai Peng",
      "userId": "09422365991702136955"
     },
     "user_tz": 300
    },
    "id": "cu9X2rpl11G1"
   },
   "outputs": [],
   "source": [
    "data['processed_reviewContent'] = data['reviewContent'].apply(preprocess_text)"
   ]
  },
  {
   "cell_type": "code",
   "execution_count": 16,
   "metadata": {
    "executionInfo": {
     "elapsed": 210300,
     "status": "ok",
     "timestamp": 1700402605586,
     "user": {
      "displayName": "Honglai Peng",
      "userId": "09422365991702136955"
     },
     "user_tz": 300
    },
    "id": "9-ghBvn42gTb"
   },
   "outputs": [],
   "source": [
    "# Create Doc2Vec Vectors\n",
    "documents = [TaggedDocument(doc, [i]) for i, doc in enumerate(data['processed_reviewContent'])]\n",
    "doc2vec_model = Doc2Vec(documents, vector_size=100, window=2, min_count=1, workers=4)\n",
    "doc2vec_vectors = np.array([doc2vec_model.infer_vector(doc.words) for doc in documents])"
   ]
  },
  {
   "cell_type": "code",
   "execution_count": 36,
   "metadata": {
    "executionInfo": {
     "elapsed": 979,
     "status": "ok",
     "timestamp": 1700404724153,
     "user": {
      "displayName": "Honglai Peng",
      "userId": "09422365991702136955"
     },
     "user_tz": 300
    },
    "id": "87H44wEw_xA6"
   },
   "outputs": [],
   "source": [
    "# Save Doc2Vec model\n",
    "doc2vec_model.save('doc2vec_model_path')"
   ]
  },
  {
   "cell_type": "code",
   "execution_count": 17,
   "metadata": {
    "executionInfo": {
     "elapsed": 6710,
     "status": "ok",
     "timestamp": 1700402627654,
     "user": {
      "displayName": "Honglai Peng",
      "userId": "09422365991702136955"
     },
     "user_tz": 300
    },
    "id": "CW8yFmxe3JeH"
   },
   "outputs": [],
   "source": [
    "# TF-IDF Feature Extraction\n",
    "tfidf_vectorizer = TfidfVectorizer(max_features=5000)\n",
    "tfidf_vectors = tfidf_vectorizer.fit_transform([' '.join(doc) for doc in data['processed_reviewContent']]).toarray()"
   ]
  },
  {
   "cell_type": "code",
   "execution_count": 33,
   "metadata": {
    "executionInfo": {
     "elapsed": 718,
     "status": "ok",
     "timestamp": 1700404394734,
     "user": {
      "displayName": "Honglai Peng",
      "userId": "09422365991702136955"
     },
     "user_tz": 300
    },
    "id": "D6Kjuher_3Mb"
   },
   "outputs": [],
   "source": [
    "import pickle\n",
    "# Save TF-IDF Vectorizer\n",
    "with open('tfidf_vectorizer.pkl', 'wb') as file:\n",
    "    pickle.dump(tfidf_vectorizer, file)"
   ]
  },
  {
   "cell_type": "code",
   "execution_count": 18,
   "metadata": {
    "executionInfo": {
     "elapsed": 1138,
     "status": "ok",
     "timestamp": 1700402640047,
     "user": {
      "displayName": "Honglai Peng",
      "userId": "09422365991702136955"
     },
     "user_tz": 300
    },
    "id": "25yCa_MR5P7u"
   },
   "outputs": [],
   "source": [
    "# Combine Doc2Vec and TF-IDF Features\n",
    "combined_features = np.hstack((doc2vec_vectors, tfidf_vectors))"
   ]
  },
  {
   "cell_type": "code",
   "execution_count": 19,
   "metadata": {
    "executionInfo": {
     "elapsed": 4203,
     "status": "ok",
     "timestamp": 1700402658043,
     "user": {
      "displayName": "Honglai Peng",
      "userId": "09422365991702136955"
     },
     "user_tz": 300
    },
    "id": "M1AZ9Buv5WJp"
   },
   "outputs": [],
   "source": [
    "# Scale Features\n",
    "scaler = StandardScaler()\n",
    "X = scaler.fit_transform(combined_features)\n",
    "y = data['label'].values"
   ]
  },
  {
   "cell_type": "code",
   "execution_count": 34,
   "metadata": {
    "executionInfo": {
     "elapsed": 215,
     "status": "ok",
     "timestamp": 1700404420764,
     "user": {
      "displayName": "Honglai Peng",
      "userId": "09422365991702136955"
     },
     "user_tz": 300
    },
    "id": "VfENQJjgAD8K"
   },
   "outputs": [],
   "source": [
    "# Save StandardScaler\n",
    "with open('scaler.pkl', 'wb') as file:\n",
    "    pickle.dump(scaler, file)"
   ]
  },
  {
   "cell_type": "code",
   "execution_count": 20,
   "metadata": {
    "executionInfo": {
     "elapsed": 1165,
     "status": "ok",
     "timestamp": 1700402668306,
     "user": {
      "displayName": "Honglai Peng",
      "userId": "09422365991702136955"
     },
     "user_tz": 300
    },
    "id": "kNuuz_L35Y4u"
   },
   "outputs": [],
   "source": [
    "# Train-Test Split\n",
    "X_train, X_test, y_train, y_test = train_test_split(X, y, test_size=0.2, random_state=42)"
   ]
  },
  {
   "cell_type": "code",
   "execution_count": 22,
   "metadata": {
    "executionInfo": {
     "elapsed": 4,
     "status": "ok",
     "timestamp": 1700402843481,
     "user": {
      "displayName": "Honglai Peng",
      "userId": "09422365991702136955"
     },
     "user_tz": 300
    },
    "id": "DF8MOYNk5edI"
   },
   "outputs": [],
   "source": [
    "# Define Model Architecture\n",
    "def create_model(input_dim):\n",
    "    model = Sequential()\n",
    "    model.add(Dense(128, input_dim=input_dim, activation='relu'))\n",
    "    model.add(Reshape((128, 1)))  # Reshape for Conv1D\n",
    "    model.add(Conv1D(filters=64, kernel_size=3, activation='relu'))\n",
    "    model.add(MaxPooling1D(pool_size=2))\n",
    "    model.add(LSTM(100, return_sequences=True))\n",
    "    model.add(GlobalMaxPooling1D())\n",
    "    model.add(BatchNormalization())\n",
    "    model.add(Dense(64, activation='relu', kernel_regularizer=l2(0.01)))\n",
    "    model.add(Dropout(0.5))\n",
    "    model.add(Dense(1, activation='sigmoid'))\n",
    "    model.compile(loss='binary_crossentropy', optimizer=Adam(learning_rate=0.001), metrics=['accuracy'])\n",
    "    return model"
   ]
  },
  {
   "cell_type": "code",
   "execution_count": 23,
   "metadata": {
    "executionInfo": {
     "elapsed": 4405,
     "status": "ok",
     "timestamp": 1700402860377,
     "user": {
      "displayName": "Honglai Peng",
      "userId": "09422365991702136955"
     },
     "user_tz": 300
    },
    "id": "NATahSpg5gAv"
   },
   "outputs": [],
   "source": [
    "# Initialize the Model\n",
    "model = create_model(input_dim=X_train.shape[1])"
   ]
  },
  {
   "cell_type": "code",
   "execution_count": 26,
   "metadata": {
    "executionInfo": {
     "elapsed": 5,
     "status": "ok",
     "timestamp": 1700402907697,
     "user": {
      "displayName": "Honglai Peng",
      "userId": "09422365991702136955"
     },
     "user_tz": 300
    },
    "id": "R5db63bj6Je0"
   },
   "outputs": [],
   "source": [
    "# Callbacks\n",
    "checkpoint = ModelCheckpoint('best_model.h5', monitor='val_accuracy', save_best_only=True, mode='max')\n",
    "early_stopping = EarlyStopping(monitor='val_accuracy', patience=5, mode='max')\n"
   ]
  },
  {
   "cell_type": "code",
   "execution_count": 27,
   "metadata": {
    "colab": {
     "base_uri": "https://localhost:8080/"
    },
    "executionInfo": {
     "elapsed": 73870,
     "status": "ok",
     "timestamp": 1700402997623,
     "user": {
      "displayName": "Honglai Peng",
      "userId": "09422365991702136955"
     },
     "user_tz": 300
    },
    "id": "0oAyKZ3F6Vit",
    "outputId": "e53d4e86-b5ce-4669-c132-df694ef48d59"
   },
   "outputs": [
    {
     "name": "stdout",
     "output_type": "stream",
     "text": [
      "Epoch 1/10\n",
      "1137/1137 [==============================] - 25s 9ms/step - loss: 0.4639 - accuracy: 0.8352 - val_loss: 0.3277 - val_accuracy: 0.8544\n",
      "Epoch 2/10\n",
      "  16/1137 [..............................] - ETA: 7s - loss: 0.3152 - accuracy: 0.8691"
     ]
    },
    {
     "name": "stderr",
     "output_type": "stream",
     "text": [
      "/usr/local/lib/python3.10/dist-packages/keras/src/engine/training.py:3079: UserWarning: You are saving your model as an HDF5 file via `model.save()`. This file format is considered legacy. We recommend using instead the native Keras format, e.g. `model.save('my_model.keras')`.\n",
      "  saving_api.save_model(\n"
     ]
    },
    {
     "name": "stdout",
     "output_type": "stream",
     "text": [
      "1137/1137 [==============================] - 9s 8ms/step - loss: 0.2929 - accuracy: 0.8706 - val_loss: 0.3555 - val_accuracy: 0.8544\n",
      "Epoch 3/10\n",
      "1137/1137 [==============================] - 9s 8ms/step - loss: 0.1876 - accuracy: 0.9249 - val_loss: 0.4241 - val_accuracy: 0.8514\n",
      "Epoch 4/10\n",
      "1137/1137 [==============================] - 9s 8ms/step - loss: 0.0841 - accuracy: 0.9740 - val_loss: 0.6846 - val_accuracy: 0.8468\n",
      "Epoch 5/10\n",
      "1137/1137 [==============================] - 9s 8ms/step - loss: 0.0613 - accuracy: 0.9842 - val_loss: 0.6904 - val_accuracy: 0.8269\n",
      "Epoch 6/10\n",
      "1137/1137 [==============================] - 10s 9ms/step - loss: 0.0507 - accuracy: 0.9856 - val_loss: 0.8952 - val_accuracy: 0.8222\n"
     ]
    }
   ],
   "source": [
    "# Train the Model\n",
    "history = model.fit(\n",
    "    X_train, y_train,\n",
    "    epochs=10,\n",
    "    batch_size=32,\n",
    "    verbose=1,\n",
    "    validation_split=0.2,\n",
    "    callbacks=[checkpoint, early_stopping]\n",
    ")"
   ]
  },
  {
   "cell_type": "code",
   "execution_count": 28,
   "metadata": {
    "colab": {
     "base_uri": "https://localhost:8080/"
    },
    "executionInfo": {
     "elapsed": 2292,
     "status": "ok",
     "timestamp": 1700403091651,
     "user": {
      "displayName": "Honglai Peng",
      "userId": "09422365991702136955"
     },
     "user_tz": 300
    },
    "id": "v_oMQhPZ7AUe",
    "outputId": "5d7024bd-7191-42ed-dbd1-dc0f881765ec"
   },
   "outputs": [
    {
     "name": "stdout",
     "output_type": "stream",
     "text": [
      "Test accuracy: 82.22%\n"
     ]
    }
   ],
   "source": [
    "# Evaluate the Model\n",
    "scores = model.evaluate(X_test, y_test, verbose=0)\n",
    "print(f'Test accuracy: {scores[1]*100:.2f}%')"
   ]
  },
  {
   "cell_type": "code",
   "execution_count": 29,
   "metadata": {
    "colab": {
     "base_uri": "https://localhost:8080/"
    },
    "executionInfo": {
     "elapsed": 2711,
     "status": "ok",
     "timestamp": 1700403128573,
     "user": {
      "displayName": "Honglai Peng",
      "userId": "09422365991702136955"
     },
     "user_tz": 300
    },
    "id": "AH0c86Us7JBs",
    "outputId": "aa3b0b91-6cb7-4cae-bb4d-c9615263135d"
   },
   "outputs": [
    {
     "name": "stdout",
     "output_type": "stream",
     "text": [
      "356/356 [==============================] - 1s 3ms/step\n",
      "              precision    recall  f1-score   support\n",
      "\n",
      "           0       0.82      0.82      0.82      5599\n",
      "           1       0.83      0.82      0.82      5765\n",
      "\n",
      "    accuracy                           0.82     11364\n",
      "   macro avg       0.82      0.82      0.82     11364\n",
      "weighted avg       0.82      0.82      0.82     11364\n",
      "\n"
     ]
    }
   ],
   "source": [
    "# Classification Report\n",
    "y_pred = model.predict(X_test).round()\n",
    "print(classification_report(y_test, y_pred))\n"
   ]
  },
  {
   "cell_type": "code",
   "execution_count": 30,
   "metadata": {
    "colab": {
     "base_uri": "https://localhost:8080/"
    },
    "executionInfo": {
     "elapsed": 518,
     "status": "ok",
     "timestamp": 1700403291374,
     "user": {
      "displayName": "Honglai Peng",
      "userId": "09422365991702136955"
     },
     "user_tz": 300
    },
    "id": "LSzoUnd17xiW",
    "outputId": "78cf2082-dfb5-4426-c187-114092cd238d"
   },
   "outputs": [
    {
     "name": "stderr",
     "output_type": "stream",
     "text": [
      "/usr/local/lib/python3.10/dist-packages/keras/src/engine/training.py:3079: UserWarning: You are saving your model as an HDF5 file via `model.save()`. This file format is considered legacy. We recommend using instead the native Keras format, e.g. `model.save('my_model.keras')`.\n",
      "  saving_api.save_model(\n"
     ]
    }
   ],
   "source": [
    "# Save model\n",
    "model.save('text_classification_model.h5')"
   ]
  }
 ],
 "metadata": {
  "accelerator": "GPU",
  "colab": {
   "authorship_tag": "ABX9TyMp/0F//ZlnZped4nw1+GOa",
   "gpuType": "V100",
   "machine_shape": "hm",
   "provenance": []
  },
  "kernelspec": {
   "display_name": "Python 3 (ipykernel)",
   "language": "python",
   "name": "python3"
  },
  "language_info": {
   "codemirror_mode": {
    "name": "ipython",
    "version": 3
   },
   "file_extension": ".py",
   "mimetype": "text/x-python",
   "name": "python",
   "nbconvert_exporter": "python",
   "pygments_lexer": "ipython3",
   "version": "3.10.9"
  }
 },
 "nbformat": 4,
 "nbformat_minor": 1
}
