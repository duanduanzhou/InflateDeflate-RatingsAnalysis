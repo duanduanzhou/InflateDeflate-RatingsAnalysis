{
 "cells": [
  {
   "cell_type": "markdown",
   "metadata": {
    "id": "qb9qKvDdMbNX"
   },
   "source": [
    "## Setup Environment"
   ]
  },
  {
   "cell_type": "code",
   "execution_count": 1,
   "metadata": {
    "colab": {
     "base_uri": "https://localhost:8080/",
     "height": 1000
    },
    "executionInfo": {
     "elapsed": 45303,
     "status": "ok",
     "timestamp": 1700192117083,
     "user": {
      "displayName": "Honglai Peng",
      "userId": "09422365991702136955"
     },
     "user_tz": 300
    },
    "id": "jYNPBqRnEdJT",
    "outputId": "6b24169b-3c3d-443c-cc0c-9af776f77388"
   },
   "outputs": [
    {
     "name": "stdout",
     "output_type": "stream",
     "text": [
      "Collecting transformers\n",
      "  Downloading transformers-4.35.2-py3-none-any.whl (7.9 MB)\n",
      "\u001b[2K     \u001b[90m━━━━━━━━━━━━━━━━━━━━━━━━━━━━━━━━━━━━━━━━\u001b[0m \u001b[32m7.9/7.9 MB\u001b[0m \u001b[31m30.9 MB/s\u001b[0m eta \u001b[36m0:00:00\u001b[0m\n",
      "\u001b[?25hRequirement already satisfied: filelock in /usr/local/lib/python3.10/dist-packages (from transformers) (3.13.1)\n",
      "Collecting huggingface-hub<1.0,>=0.16.4 (from transformers)\n",
      "  Downloading huggingface_hub-0.19.4-py3-none-any.whl (311 kB)\n",
      "\u001b[2K     \u001b[90m━━━━━━━━━━━━━━━━━━━━━━━━━━━━━━━━━━━━━━━━\u001b[0m \u001b[32m311.7/311.7 kB\u001b[0m \u001b[31m34.1 MB/s\u001b[0m eta \u001b[36m0:00:00\u001b[0m\n",
      "\u001b[?25hRequirement already satisfied: numpy>=1.17 in /usr/local/lib/python3.10/dist-packages (from transformers) (1.23.5)\n",
      "Requirement already satisfied: packaging>=20.0 in /usr/local/lib/python3.10/dist-packages (from transformers) (23.2)\n",
      "Requirement already satisfied: pyyaml>=5.1 in /usr/local/lib/python3.10/dist-packages (from transformers) (6.0.1)\n",
      "Requirement already satisfied: regex!=2019.12.17 in /usr/local/lib/python3.10/dist-packages (from transformers) (2023.6.3)\n",
      "Requirement already satisfied: requests in /usr/local/lib/python3.10/dist-packages (from transformers) (2.31.0)\n",
      "Collecting tokenizers<0.19,>=0.14 (from transformers)\n",
      "  Downloading tokenizers-0.15.0-cp310-cp310-manylinux_2_17_x86_64.manylinux2014_x86_64.whl (3.8 MB)\n",
      "\u001b[2K     \u001b[90m━━━━━━━━━━━━━━━━━━━━━━━━━━━━━━━━━━━━━━━━\u001b[0m \u001b[32m3.8/3.8 MB\u001b[0m \u001b[31m80.6 MB/s\u001b[0m eta \u001b[36m0:00:00\u001b[0m\n",
      "\u001b[?25hCollecting safetensors>=0.3.1 (from transformers)\n",
      "  Downloading safetensors-0.4.0-cp310-cp310-manylinux_2_17_x86_64.manylinux2014_x86_64.whl (1.3 MB)\n",
      "\u001b[2K     \u001b[90m━━━━━━━━━━━━━━━━━━━━━━━━━━━━━━━━━━━━━━━━\u001b[0m \u001b[32m1.3/1.3 MB\u001b[0m \u001b[31m68.8 MB/s\u001b[0m eta \u001b[36m0:00:00\u001b[0m\n",
      "\u001b[?25hRequirement already satisfied: tqdm>=4.27 in /usr/local/lib/python3.10/dist-packages (from transformers) (4.66.1)\n",
      "Requirement already satisfied: fsspec>=2023.5.0 in /usr/local/lib/python3.10/dist-packages (from huggingface-hub<1.0,>=0.16.4->transformers) (2023.6.0)\n",
      "Requirement already satisfied: typing-extensions>=3.7.4.3 in /usr/local/lib/python3.10/dist-packages (from huggingface-hub<1.0,>=0.16.4->transformers) (4.5.0)\n",
      "Requirement already satisfied: charset-normalizer<4,>=2 in /usr/local/lib/python3.10/dist-packages (from requests->transformers) (3.3.2)\n",
      "Requirement already satisfied: idna<4,>=2.5 in /usr/local/lib/python3.10/dist-packages (from requests->transformers) (3.4)\n",
      "Requirement already satisfied: urllib3<3,>=1.21.1 in /usr/local/lib/python3.10/dist-packages (from requests->transformers) (2.0.7)\n",
      "Requirement already satisfied: certifi>=2017.4.17 in /usr/local/lib/python3.10/dist-packages (from requests->transformers) (2023.7.22)\n",
      "Installing collected packages: safetensors, huggingface-hub, tokenizers, transformers\n",
      "Successfully installed huggingface-hub-0.19.4 safetensors-0.4.0 tokenizers-0.15.0 transformers-4.35.2\n",
      "Collecting pycaret\n",
      "  Downloading pycaret-3.2.0-py3-none-any.whl (484 kB)\n",
      "\u001b[2K     \u001b[90m━━━━━━━━━━━━━━━━━━━━━━━━━━━━━━━━━━━━━━━━\u001b[0m \u001b[32m484.7/484.7 kB\u001b[0m \u001b[31m7.2 MB/s\u001b[0m eta \u001b[36m0:00:00\u001b[0m\n",
      "\u001b[?25hCollecting category-encoders>=2.4.0 (from pycaret)\n",
      "  Downloading category_encoders-2.6.3-py2.py3-none-any.whl (81 kB)\n",
      "\u001b[2K     \u001b[90m━━━━━━━━━━━━━━━━━━━━━━━━━━━━━━━━━━━━━━━━\u001b[0m \u001b[32m81.9/81.9 kB\u001b[0m \u001b[31m7.1 MB/s\u001b[0m eta \u001b[36m0:00:00\u001b[0m\n",
      "\u001b[?25hRequirement already satisfied: cloudpickle in /usr/local/lib/python3.10/dist-packages (from pycaret) (2.2.1)\n",
      "Collecting deprecation>=2.1.0 (from pycaret)\n",
      "  Downloading deprecation-2.1.0-py2.py3-none-any.whl (11 kB)\n",
      "Requirement already satisfied: imbalanced-learn>=0.8.1 in /usr/local/lib/python3.10/dist-packages (from pycaret) (0.10.1)\n",
      "Requirement already satisfied: importlib-metadata>=4.12.0 in /usr/local/lib/python3.10/dist-packages (from pycaret) (6.8.0)\n",
      "Requirement already satisfied: ipython>=5.5.0 in /usr/local/lib/python3.10/dist-packages (from pycaret) (7.34.0)\n",
      "Requirement already satisfied: ipywidgets>=7.6.5 in /usr/local/lib/python3.10/dist-packages (from pycaret) (7.7.1)\n",
      "Requirement already satisfied: jinja2>=1.2 in /usr/local/lib/python3.10/dist-packages (from pycaret) (3.1.2)\n",
      "Requirement already satisfied: joblib>=1.2.0 in /usr/local/lib/python3.10/dist-packages (from pycaret) (1.3.2)\n",
      "Collecting kaleido>=0.2.1 (from pycaret)\n",
      "  Downloading kaleido-0.2.1-py2.py3-none-manylinux1_x86_64.whl (79.9 MB)\n",
      "\u001b[2K     \u001b[90m━━━━━━━━━━━━━━━━━━━━━━━━━━━━━━━━━━━━━━━━\u001b[0m \u001b[32m79.9/79.9 MB\u001b[0m \u001b[31m11.9 MB/s\u001b[0m eta \u001b[36m0:00:00\u001b[0m\n",
      "\u001b[?25hRequirement already satisfied: lightgbm>=3.0.0 in /usr/local/lib/python3.10/dist-packages (from pycaret) (4.1.0)\n",
      "Requirement already satisfied: markupsafe>=2.0.1 in /usr/local/lib/python3.10/dist-packages (from pycaret) (2.1.3)\n",
      "Collecting matplotlib<=3.6,>=3.3.0 (from pycaret)\n",
      "  Downloading matplotlib-3.6.0-cp310-cp310-manylinux_2_17_x86_64.manylinux2014_x86_64.whl (11.8 MB)\n",
      "\u001b[2K     \u001b[90m━━━━━━━━━━━━━━━━━━━━━━━━━━━━━━━━━━━━━━━━\u001b[0m \u001b[32m11.8/11.8 MB\u001b[0m \u001b[31m94.4 MB/s\u001b[0m eta \u001b[36m0:00:00\u001b[0m\n",
      "\u001b[?25hRequirement already satisfied: nbformat>=4.2.0 in /usr/local/lib/python3.10/dist-packages (from pycaret) (5.9.2)\n",
      "Requirement already satisfied: numba>=0.55.0 in /usr/local/lib/python3.10/dist-packages (from pycaret) (0.58.1)\n",
      "Requirement already satisfied: numpy<1.27,>=1.21 in /usr/local/lib/python3.10/dist-packages (from pycaret) (1.23.5)\n",
      "Requirement already satisfied: pandas<2.0.0,>=1.3.0 in /usr/local/lib/python3.10/dist-packages (from pycaret) (1.5.3)\n",
      "Collecting plotly-resampler>=0.8.3.1 (from pycaret)\n",
      "  Downloading plotly_resampler-0.9.1-py3-none-any.whl (73 kB)\n",
      "\u001b[2K     \u001b[90m━━━━━━━━━━━━━━━━━━━━━━━━━━━━━━━━━━━━━━━━\u001b[0m \u001b[32m73.4/73.4 kB\u001b[0m \u001b[31m10.7 MB/s\u001b[0m eta \u001b[36m0:00:00\u001b[0m\n",
      "\u001b[?25hRequirement already satisfied: plotly>=5.0.0 in /usr/local/lib/python3.10/dist-packages (from pycaret) (5.15.0)\n",
      "Collecting pmdarima!=1.8.1,<3.0.0,>=1.8.0 (from pycaret)\n",
      "  Downloading pmdarima-2.0.4-cp310-cp310-manylinux_2_17_x86_64.manylinux2014_x86_64.manylinux_2_28_x86_64.whl (2.1 MB)\n",
      "\u001b[2K     \u001b[90m━━━━━━━━━━━━━━━━━━━━━━━━━━━━━━━━━━━━━━━━\u001b[0m \u001b[32m2.1/2.1 MB\u001b[0m \u001b[31m87.0 MB/s\u001b[0m eta \u001b[36m0:00:00\u001b[0m\n",
      "\u001b[?25hRequirement already satisfied: psutil>=5.9.0 in /usr/local/lib/python3.10/dist-packages (from pycaret) (5.9.5)\n",
      "Collecting pyod>=1.0.8 (from pycaret)\n",
      "  Downloading pyod-1.1.1.tar.gz (159 kB)\n",
      "\u001b[2K     \u001b[90m━━━━━━━━━━━━━━━━━━━━━━━━━━━━━━━━━━━━━━━━\u001b[0m \u001b[32m159.4/159.4 kB\u001b[0m \u001b[31m20.6 MB/s\u001b[0m eta \u001b[36m0:00:00\u001b[0m\n",
      "\u001b[?25h  Preparing metadata (setup.py) ... \u001b[?25l\u001b[?25hdone\n",
      "Requirement already satisfied: requests>=2.27.1 in /usr/local/lib/python3.10/dist-packages (from pycaret) (2.31.0)\n",
      "Collecting schemdraw==0.15 (from pycaret)\n",
      "  Downloading schemdraw-0.15-py3-none-any.whl (106 kB)\n",
      "\u001b[2K     \u001b[90m━━━━━━━━━━━━━━━━━━━━━━━━━━━━━━━━━━━━━━━━\u001b[0m \u001b[32m106.8/106.8 kB\u001b[0m \u001b[31m13.8 MB/s\u001b[0m eta \u001b[36m0:00:00\u001b[0m\n",
      "\u001b[?25hRequirement already satisfied: scikit-learn<1.3.0,>=1.0 in /usr/local/lib/python3.10/dist-packages (from pycaret) (1.2.2)\n",
      "Collecting scikit-plot>=0.3.7 (from pycaret)\n",
      "  Downloading scikit_plot-0.3.7-py3-none-any.whl (33 kB)\n",
      "Collecting scipy~=1.10.1 (from pycaret)\n",
      "  Downloading scipy-1.10.1-cp310-cp310-manylinux_2_17_x86_64.manylinux2014_x86_64.whl (34.4 MB)\n",
      "\u001b[2K     \u001b[90m━━━━━━━━━━━━━━━━━━━━━━━━━━━━━━━━━━━━━━━━\u001b[0m \u001b[32m34.4/34.4 MB\u001b[0m \u001b[31m47.6 MB/s\u001b[0m eta \u001b[36m0:00:00\u001b[0m\n",
      "\u001b[?25hCollecting sktime!=0.17.1,!=0.17.2,!=0.18.0,<0.22.0,>=0.16.1 (from pycaret)\n",
      "  Downloading sktime-0.21.1-py3-none-any.whl (17.1 MB)\n",
      "\u001b[2K     \u001b[90m━━━━━━━━━━━━━━━━━━━━━━━━━━━━━━━━━━━━━━━━\u001b[0m \u001b[32m17.1/17.1 MB\u001b[0m \u001b[31m78.5 MB/s\u001b[0m eta \u001b[36m0:00:00\u001b[0m\n",
      "\u001b[?25hRequirement already satisfied: statsmodels>=0.12.1 in /usr/local/lib/python3.10/dist-packages (from pycaret) (0.14.0)\n",
      "Collecting tbats>=1.1.3 (from pycaret)\n",
      "  Downloading tbats-1.1.3-py3-none-any.whl (44 kB)\n",
      "\u001b[2K     \u001b[90m━━━━━━━━━━━━━━━━━━━━━━━━━━━━━━━━━━━━━━━━\u001b[0m \u001b[32m44.0/44.0 kB\u001b[0m \u001b[31m5.2 MB/s\u001b[0m eta \u001b[36m0:00:00\u001b[0m\n",
      "\u001b[?25hRequirement already satisfied: tqdm>=4.62.0 in /usr/local/lib/python3.10/dist-packages (from pycaret) (4.66.1)\n",
      "Requirement already satisfied: xxhash in /usr/local/lib/python3.10/dist-packages (from pycaret) (3.4.1)\n",
      "Requirement already satisfied: yellowbrick>=1.4 in /usr/local/lib/python3.10/dist-packages (from pycaret) (1.5)\n",
      "Collecting wurlitzer (from pycaret)\n",
      "  Downloading wurlitzer-3.0.3-py3-none-any.whl (7.3 kB)\n",
      "Requirement already satisfied: patsy>=0.5.1 in /usr/local/lib/python3.10/dist-packages (from category-encoders>=2.4.0->pycaret) (0.5.3)\n",
      "Requirement already satisfied: packaging in /usr/local/lib/python3.10/dist-packages (from deprecation>=2.1.0->pycaret) (23.2)\n",
      "Requirement already satisfied: threadpoolctl>=2.0.0 in /usr/local/lib/python3.10/dist-packages (from imbalanced-learn>=0.8.1->pycaret) (3.2.0)\n",
      "Requirement already satisfied: zipp>=0.5 in /usr/local/lib/python3.10/dist-packages (from importlib-metadata>=4.12.0->pycaret) (3.17.0)\n",
      "Requirement already satisfied: setuptools>=18.5 in /usr/local/lib/python3.10/dist-packages (from ipython>=5.5.0->pycaret) (67.7.2)\n",
      "Collecting jedi>=0.16 (from ipython>=5.5.0->pycaret)\n",
      "  Downloading jedi-0.19.1-py2.py3-none-any.whl (1.6 MB)\n",
      "\u001b[2K     \u001b[90m━━━━━━━━━━━━━━━━━━━━━━━━━━━━━━━━━━━━━━━━\u001b[0m \u001b[32m1.6/1.6 MB\u001b[0m \u001b[31m83.8 MB/s\u001b[0m eta \u001b[36m0:00:00\u001b[0m\n",
      "\u001b[?25hRequirement already satisfied: decorator in /usr/local/lib/python3.10/dist-packages (from ipython>=5.5.0->pycaret) (4.4.2)\n",
      "Requirement already satisfied: pickleshare in /usr/local/lib/python3.10/dist-packages (from ipython>=5.5.0->pycaret) (0.7.5)\n",
      "Requirement already satisfied: traitlets>=4.2 in /usr/local/lib/python3.10/dist-packages (from ipython>=5.5.0->pycaret) (5.7.1)\n",
      "Requirement already satisfied: prompt-toolkit!=3.0.0,!=3.0.1,<3.1.0,>=2.0.0 in /usr/local/lib/python3.10/dist-packages (from ipython>=5.5.0->pycaret) (3.0.39)\n",
      "Requirement already satisfied: pygments in /usr/local/lib/python3.10/dist-packages (from ipython>=5.5.0->pycaret) (2.16.1)\n",
      "Requirement already satisfied: backcall in /usr/local/lib/python3.10/dist-packages (from ipython>=5.5.0->pycaret) (0.2.0)\n",
      "Requirement already satisfied: matplotlib-inline in /usr/local/lib/python3.10/dist-packages (from ipython>=5.5.0->pycaret) (0.1.6)\n",
      "Requirement already satisfied: pexpect>4.3 in /usr/local/lib/python3.10/dist-packages (from ipython>=5.5.0->pycaret) (4.8.0)\n",
      "Requirement already satisfied: ipykernel>=4.5.1 in /usr/local/lib/python3.10/dist-packages (from ipywidgets>=7.6.5->pycaret) (5.5.6)\n",
      "Requirement already satisfied: ipython-genutils~=0.2.0 in /usr/local/lib/python3.10/dist-packages (from ipywidgets>=7.6.5->pycaret) (0.2.0)\n",
      "Requirement already satisfied: widgetsnbextension~=3.6.0 in /usr/local/lib/python3.10/dist-packages (from ipywidgets>=7.6.5->pycaret) (3.6.6)\n",
      "Requirement already satisfied: jupyterlab-widgets>=1.0.0 in /usr/local/lib/python3.10/dist-packages (from ipywidgets>=7.6.5->pycaret) (3.0.9)\n",
      "Requirement already satisfied: contourpy>=1.0.1 in /usr/local/lib/python3.10/dist-packages (from matplotlib<=3.6,>=3.3.0->pycaret) (1.2.0)\n",
      "Requirement already satisfied: cycler>=0.10 in /usr/local/lib/python3.10/dist-packages (from matplotlib<=3.6,>=3.3.0->pycaret) (0.12.1)\n",
      "Requirement already satisfied: fonttools>=4.22.0 in /usr/local/lib/python3.10/dist-packages (from matplotlib<=3.6,>=3.3.0->pycaret) (4.44.0)\n",
      "Requirement already satisfied: kiwisolver>=1.0.1 in /usr/local/lib/python3.10/dist-packages (from matplotlib<=3.6,>=3.3.0->pycaret) (1.4.5)\n",
      "Requirement already satisfied: pillow>=6.2.0 in /usr/local/lib/python3.10/dist-packages (from matplotlib<=3.6,>=3.3.0->pycaret) (9.4.0)\n",
      "Requirement already satisfied: pyparsing>=2.2.1 in /usr/local/lib/python3.10/dist-packages (from matplotlib<=3.6,>=3.3.0->pycaret) (3.1.1)\n",
      "Requirement already satisfied: python-dateutil>=2.7 in /usr/local/lib/python3.10/dist-packages (from matplotlib<=3.6,>=3.3.0->pycaret) (2.8.2)\n",
      "Requirement already satisfied: fastjsonschema in /usr/local/lib/python3.10/dist-packages (from nbformat>=4.2.0->pycaret) (2.18.1)\n",
      "Requirement already satisfied: jsonschema>=2.6 in /usr/local/lib/python3.10/dist-packages (from nbformat>=4.2.0->pycaret) (4.19.2)\n",
      "Requirement already satisfied: jupyter-core in /usr/local/lib/python3.10/dist-packages (from nbformat>=4.2.0->pycaret) (5.5.0)\n",
      "Requirement already satisfied: llvmlite<0.42,>=0.41.0dev0 in /usr/local/lib/python3.10/dist-packages (from numba>=0.55.0->pycaret) (0.41.1)\n",
      "Requirement already satisfied: pytz>=2020.1 in /usr/local/lib/python3.10/dist-packages (from pandas<2.0.0,>=1.3.0->pycaret) (2023.3.post1)\n",
      "Requirement already satisfied: tenacity>=6.2.0 in /usr/local/lib/python3.10/dist-packages (from plotly>=5.0.0->pycaret) (8.2.3)\n",
      "Collecting dash<3.0.0,>=2.11.0 (from plotly-resampler>=0.8.3.1->pycaret)\n",
      "  Downloading dash-2.14.1-py3-none-any.whl (10.4 MB)\n",
      "\u001b[2K     \u001b[90m━━━━━━━━━━━━━━━━━━━━━━━━━━━━━━━━━━━━━━━━\u001b[0m \u001b[32m10.4/10.4 MB\u001b[0m \u001b[31m106.0 MB/s\u001b[0m eta \u001b[36m0:00:00\u001b[0m\n",
      "\u001b[?25hCollecting orjson<4.0.0,>=3.8.0 (from plotly-resampler>=0.8.3.1->pycaret)\n",
      "  Downloading orjson-3.9.10-cp310-cp310-manylinux_2_17_x86_64.manylinux2014_x86_64.whl (138 kB)\n",
      "\u001b[2K     \u001b[90m━━━━━━━━━━━━━━━━━━━━━━━━━━━━━━━━━━━━━━━━\u001b[0m \u001b[32m138.7/138.7 kB\u001b[0m \u001b[31m4.9 MB/s\u001b[0m eta \u001b[36m0:00:00\u001b[0m\n",
      "\u001b[?25hCollecting trace-updater>=0.0.8 (from plotly-resampler>=0.8.3.1->pycaret)\n",
      "  Downloading trace_updater-0.0.9.1-py3-none-any.whl (185 kB)\n",
      "\u001b[2K     \u001b[90m━━━━━━━━━━━━━━━━━━━━━━━━━━━━━━━━━━━━━━━━\u001b[0m \u001b[32m185.2/185.2 kB\u001b[0m \u001b[31m818.6 kB/s\u001b[0m eta \u001b[36m0:00:00\u001b[0m\n",
      "\u001b[?25hCollecting tsdownsample==0.1.2 (from plotly-resampler>=0.8.3.1->pycaret)\n",
      "  Downloading tsdownsample-0.1.2-cp310-cp310-manylinux_2_17_x86_64.manylinux2014_x86_64.whl (2.3 MB)\n",
      "\u001b[2K     \u001b[90m━━━━━━━━━━━━━━━━━━━━━━━━━━━━━━━━━━━━━━━━\u001b[0m \u001b[32m2.3/2.3 MB\u001b[0m \u001b[31m100.2 MB/s\u001b[0m eta \u001b[36m0:00:00\u001b[0m\n",
      "\u001b[?25hRequirement already satisfied: Cython!=0.29.18,!=0.29.31,>=0.29 in /usr/local/lib/python3.10/dist-packages (from pmdarima!=1.8.1,<3.0.0,>=1.8.0->pycaret) (3.0.5)\n",
      "Requirement already satisfied: urllib3 in /usr/local/lib/python3.10/dist-packages (from pmdarima!=1.8.1,<3.0.0,>=1.8.0->pycaret) (2.0.7)\n",
      "Requirement already satisfied: six in /usr/local/lib/python3.10/dist-packages (from pyod>=1.0.8->pycaret) (1.16.0)\n",
      "Requirement already satisfied: charset-normalizer<4,>=2 in /usr/local/lib/python3.10/dist-packages (from requests>=2.27.1->pycaret) (3.3.2)\n",
      "Requirement already satisfied: idna<4,>=2.5 in /usr/local/lib/python3.10/dist-packages (from requests>=2.27.1->pycaret) (3.4)\n",
      "Requirement already satisfied: certifi>=2017.4.17 in /usr/local/lib/python3.10/dist-packages (from requests>=2.27.1->pycaret) (2023.7.22)\n",
      "Collecting deprecated>=1.2.13 (from sktime!=0.17.1,!=0.17.2,!=0.18.0,<0.22.0,>=0.16.1->pycaret)\n",
      "  Downloading Deprecated-1.2.14-py2.py3-none-any.whl (9.6 kB)\n",
      "Collecting scikit-base<0.6.0 (from sktime!=0.17.1,!=0.17.2,!=0.18.0,<0.22.0,>=0.16.1->pycaret)\n",
      "  Downloading scikit_base-0.5.2-py3-none-any.whl (118 kB)\n",
      "\u001b[2K     \u001b[90m━━━━━━━━━━━━━━━━━━━━━━━━━━━━━━━━━━━━━━━━\u001b[0m \u001b[32m119.0/119.0 kB\u001b[0m \u001b[31m13.0 MB/s\u001b[0m eta \u001b[36m0:00:00\u001b[0m\n",
      "\u001b[?25hRequirement already satisfied: Flask<3.1,>=1.0.4 in /usr/local/lib/python3.10/dist-packages (from dash<3.0.0,>=2.11.0->plotly-resampler>=0.8.3.1->pycaret) (2.2.5)\n",
      "Requirement already satisfied: Werkzeug<3.1 in /usr/local/lib/python3.10/dist-packages (from dash<3.0.0,>=2.11.0->plotly-resampler>=0.8.3.1->pycaret) (3.0.1)\n",
      "Collecting dash-html-components==2.0.0 (from dash<3.0.0,>=2.11.0->plotly-resampler>=0.8.3.1->pycaret)\n",
      "  Downloading dash_html_components-2.0.0-py3-none-any.whl (4.1 kB)\n",
      "Collecting dash-core-components==2.0.0 (from dash<3.0.0,>=2.11.0->plotly-resampler>=0.8.3.1->pycaret)\n",
      "  Downloading dash_core_components-2.0.0-py3-none-any.whl (3.8 kB)\n",
      "Collecting dash-table==5.0.0 (from dash<3.0.0,>=2.11.0->plotly-resampler>=0.8.3.1->pycaret)\n",
      "  Downloading dash_table-5.0.0-py3-none-any.whl (3.9 kB)\n",
      "Requirement already satisfied: typing-extensions>=4.1.1 in /usr/local/lib/python3.10/dist-packages (from dash<3.0.0,>=2.11.0->plotly-resampler>=0.8.3.1->pycaret) (4.5.0)\n",
      "Collecting retrying (from dash<3.0.0,>=2.11.0->plotly-resampler>=0.8.3.1->pycaret)\n",
      "  Downloading retrying-1.3.4-py3-none-any.whl (11 kB)\n",
      "Collecting ansi2html (from dash<3.0.0,>=2.11.0->plotly-resampler>=0.8.3.1->pycaret)\n",
      "  Downloading ansi2html-1.8.0-py3-none-any.whl (16 kB)\n",
      "Requirement already satisfied: nest-asyncio in /usr/local/lib/python3.10/dist-packages (from dash<3.0.0,>=2.11.0->plotly-resampler>=0.8.3.1->pycaret) (1.5.8)\n",
      "Requirement already satisfied: wrapt<2,>=1.10 in /usr/local/lib/python3.10/dist-packages (from deprecated>=1.2.13->sktime!=0.17.1,!=0.17.2,!=0.18.0,<0.22.0,>=0.16.1->pycaret) (1.14.1)\n",
      "Requirement already satisfied: jupyter-client in /usr/local/lib/python3.10/dist-packages (from ipykernel>=4.5.1->ipywidgets>=7.6.5->pycaret) (6.1.12)\n",
      "Requirement already satisfied: tornado>=4.2 in /usr/local/lib/python3.10/dist-packages (from ipykernel>=4.5.1->ipywidgets>=7.6.5->pycaret) (6.3.2)\n",
      "Requirement already satisfied: parso<0.9.0,>=0.8.3 in /usr/local/lib/python3.10/dist-packages (from jedi>=0.16->ipython>=5.5.0->pycaret) (0.8.3)\n",
      "Requirement already satisfied: attrs>=22.2.0 in /usr/local/lib/python3.10/dist-packages (from jsonschema>=2.6->nbformat>=4.2.0->pycaret) (23.1.0)\n",
      "Requirement already satisfied: jsonschema-specifications>=2023.03.6 in /usr/local/lib/python3.10/dist-packages (from jsonschema>=2.6->nbformat>=4.2.0->pycaret) (2023.7.1)\n",
      "Requirement already satisfied: referencing>=0.28.4 in /usr/local/lib/python3.10/dist-packages (from jsonschema>=2.6->nbformat>=4.2.0->pycaret) (0.30.2)\n",
      "Requirement already satisfied: rpds-py>=0.7.1 in /usr/local/lib/python3.10/dist-packages (from jsonschema>=2.6->nbformat>=4.2.0->pycaret) (0.12.0)\n",
      "Requirement already satisfied: ptyprocess>=0.5 in /usr/local/lib/python3.10/dist-packages (from pexpect>4.3->ipython>=5.5.0->pycaret) (0.7.0)\n",
      "Requirement already satisfied: wcwidth in /usr/local/lib/python3.10/dist-packages (from prompt-toolkit!=3.0.0,!=3.0.1,<3.1.0,>=2.0.0->ipython>=5.5.0->pycaret) (0.2.9)\n",
      "Requirement already satisfied: notebook>=4.4.1 in /usr/local/lib/python3.10/dist-packages (from widgetsnbextension~=3.6.0->ipywidgets>=7.6.5->pycaret) (6.5.5)\n",
      "Requirement already satisfied: platformdirs>=2.5 in /usr/local/lib/python3.10/dist-packages (from jupyter-core->nbformat>=4.2.0->pycaret) (3.11.0)\n",
      "Requirement already satisfied: itsdangerous>=2.0 in /usr/local/lib/python3.10/dist-packages (from Flask<3.1,>=1.0.4->dash<3.0.0,>=2.11.0->plotly-resampler>=0.8.3.1->pycaret) (2.1.2)\n",
      "Requirement already satisfied: click>=8.0 in /usr/local/lib/python3.10/dist-packages (from Flask<3.1,>=1.0.4->dash<3.0.0,>=2.11.0->plotly-resampler>=0.8.3.1->pycaret) (8.1.7)\n",
      "Requirement already satisfied: pyzmq<25,>=17 in /usr/local/lib/python3.10/dist-packages (from notebook>=4.4.1->widgetsnbextension~=3.6.0->ipywidgets>=7.6.5->pycaret) (23.2.1)\n",
      "Requirement already satisfied: argon2-cffi in /usr/local/lib/python3.10/dist-packages (from notebook>=4.4.1->widgetsnbextension~=3.6.0->ipywidgets>=7.6.5->pycaret) (23.1.0)\n",
      "Requirement already satisfied: nbconvert>=5 in /usr/local/lib/python3.10/dist-packages (from notebook>=4.4.1->widgetsnbextension~=3.6.0->ipywidgets>=7.6.5->pycaret) (6.5.4)\n",
      "Requirement already satisfied: Send2Trash>=1.8.0 in /usr/local/lib/python3.10/dist-packages (from notebook>=4.4.1->widgetsnbextension~=3.6.0->ipywidgets>=7.6.5->pycaret) (1.8.2)\n",
      "Requirement already satisfied: terminado>=0.8.3 in /usr/local/lib/python3.10/dist-packages (from notebook>=4.4.1->widgetsnbextension~=3.6.0->ipywidgets>=7.6.5->pycaret) (0.17.1)\n",
      "Requirement already satisfied: prometheus-client in /usr/local/lib/python3.10/dist-packages (from notebook>=4.4.1->widgetsnbextension~=3.6.0->ipywidgets>=7.6.5->pycaret) (0.18.0)\n",
      "Requirement already satisfied: nbclassic>=0.4.7 in /usr/local/lib/python3.10/dist-packages (from notebook>=4.4.1->widgetsnbextension~=3.6.0->ipywidgets>=7.6.5->pycaret) (1.0.0)\n",
      "Requirement already satisfied: jupyter-server>=1.8 in /usr/local/lib/python3.10/dist-packages (from nbclassic>=0.4.7->notebook>=4.4.1->widgetsnbextension~=3.6.0->ipywidgets>=7.6.5->pycaret) (1.24.0)\n",
      "Requirement already satisfied: notebook-shim>=0.2.3 in /usr/local/lib/python3.10/dist-packages (from nbclassic>=0.4.7->notebook>=4.4.1->widgetsnbextension~=3.6.0->ipywidgets>=7.6.5->pycaret) (0.2.3)\n",
      "Requirement already satisfied: lxml in /usr/local/lib/python3.10/dist-packages (from nbconvert>=5->notebook>=4.4.1->widgetsnbextension~=3.6.0->ipywidgets>=7.6.5->pycaret) (4.9.3)\n",
      "Requirement already satisfied: beautifulsoup4 in /usr/local/lib/python3.10/dist-packages (from nbconvert>=5->notebook>=4.4.1->widgetsnbextension~=3.6.0->ipywidgets>=7.6.5->pycaret) (4.11.2)\n",
      "Requirement already satisfied: bleach in /usr/local/lib/python3.10/dist-packages (from nbconvert>=5->notebook>=4.4.1->widgetsnbextension~=3.6.0->ipywidgets>=7.6.5->pycaret) (6.1.0)\n",
      "Requirement already satisfied: defusedxml in /usr/local/lib/python3.10/dist-packages (from nbconvert>=5->notebook>=4.4.1->widgetsnbextension~=3.6.0->ipywidgets>=7.6.5->pycaret) (0.7.1)\n",
      "Requirement already satisfied: entrypoints>=0.2.2 in /usr/local/lib/python3.10/dist-packages (from nbconvert>=5->notebook>=4.4.1->widgetsnbextension~=3.6.0->ipywidgets>=7.6.5->pycaret) (0.4)\n",
      "Requirement already satisfied: jupyterlab-pygments in /usr/local/lib/python3.10/dist-packages (from nbconvert>=5->notebook>=4.4.1->widgetsnbextension~=3.6.0->ipywidgets>=7.6.5->pycaret) (0.2.2)\n",
      "Requirement already satisfied: mistune<2,>=0.8.1 in /usr/local/lib/python3.10/dist-packages (from nbconvert>=5->notebook>=4.4.1->widgetsnbextension~=3.6.0->ipywidgets>=7.6.5->pycaret) (0.8.4)\n",
      "Requirement already satisfied: nbclient>=0.5.0 in /usr/local/lib/python3.10/dist-packages (from nbconvert>=5->notebook>=4.4.1->widgetsnbextension~=3.6.0->ipywidgets>=7.6.5->pycaret) (0.9.0)\n",
      "Requirement already satisfied: pandocfilters>=1.4.1 in /usr/local/lib/python3.10/dist-packages (from nbconvert>=5->notebook>=4.4.1->widgetsnbextension~=3.6.0->ipywidgets>=7.6.5->pycaret) (1.5.0)\n",
      "Requirement already satisfied: tinycss2 in /usr/local/lib/python3.10/dist-packages (from nbconvert>=5->notebook>=4.4.1->widgetsnbextension~=3.6.0->ipywidgets>=7.6.5->pycaret) (1.2.1)\n",
      "Requirement already satisfied: argon2-cffi-bindings in /usr/local/lib/python3.10/dist-packages (from argon2-cffi->notebook>=4.4.1->widgetsnbextension~=3.6.0->ipywidgets>=7.6.5->pycaret) (21.2.0)\n",
      "Requirement already satisfied: anyio<4,>=3.1.0 in /usr/local/lib/python3.10/dist-packages (from jupyter-server>=1.8->nbclassic>=0.4.7->notebook>=4.4.1->widgetsnbextension~=3.6.0->ipywidgets>=7.6.5->pycaret) (3.7.1)\n",
      "Requirement already satisfied: websocket-client in /usr/local/lib/python3.10/dist-packages (from jupyter-server>=1.8->nbclassic>=0.4.7->notebook>=4.4.1->widgetsnbextension~=3.6.0->ipywidgets>=7.6.5->pycaret) (1.6.4)\n",
      "Requirement already satisfied: cffi>=1.0.1 in /usr/local/lib/python3.10/dist-packages (from argon2-cffi-bindings->argon2-cffi->notebook>=4.4.1->widgetsnbextension~=3.6.0->ipywidgets>=7.6.5->pycaret) (1.16.0)\n",
      "Requirement already satisfied: soupsieve>1.2 in /usr/local/lib/python3.10/dist-packages (from beautifulsoup4->nbconvert>=5->notebook>=4.4.1->widgetsnbextension~=3.6.0->ipywidgets>=7.6.5->pycaret) (2.5)\n",
      "Requirement already satisfied: webencodings in /usr/local/lib/python3.10/dist-packages (from bleach->nbconvert>=5->notebook>=4.4.1->widgetsnbextension~=3.6.0->ipywidgets>=7.6.5->pycaret) (0.5.1)\n",
      "Requirement already satisfied: sniffio>=1.1 in /usr/local/lib/python3.10/dist-packages (from anyio<4,>=3.1.0->jupyter-server>=1.8->nbclassic>=0.4.7->notebook>=4.4.1->widgetsnbextension~=3.6.0->ipywidgets>=7.6.5->pycaret) (1.3.0)\n",
      "Requirement already satisfied: exceptiongroup in /usr/local/lib/python3.10/dist-packages (from anyio<4,>=3.1.0->jupyter-server>=1.8->nbclassic>=0.4.7->notebook>=4.4.1->widgetsnbextension~=3.6.0->ipywidgets>=7.6.5->pycaret) (1.1.3)\n",
      "Requirement already satisfied: pycparser in /usr/local/lib/python3.10/dist-packages (from cffi>=1.0.1->argon2-cffi-bindings->argon2-cffi->notebook>=4.4.1->widgetsnbextension~=3.6.0->ipywidgets>=7.6.5->pycaret) (2.21)\n",
      "Building wheels for collected packages: pyod\n",
      "  Building wheel for pyod (setup.py) ... \u001b[?25l\u001b[?25hdone\n",
      "  Created wheel for pyod: filename=pyod-1.1.1-py3-none-any.whl size=190074 sha256=f72945a769375935a50e25031ec3ffaacb8f931571fe96222cda6c76373d7d33\n",
      "  Stored in directory: /root/.cache/pip/wheels/a3/42/d7/48a53ffc1466bd63932f28583c64ebf442114db14a0bfa8c95\n",
      "Successfully built pyod\n",
      "Installing collected packages: trace-updater, kaleido, dash-table, dash-html-components, dash-core-components, wurlitzer, tsdownsample, scipy, scikit-base, schemdraw, retrying, orjson, jedi, deprecation, deprecated, ansi2html, matplotlib, sktime, scikit-plot, pyod, dash, pmdarima, plotly-resampler, category-encoders, tbats, pycaret\n",
      "  Attempting uninstall: scipy\n",
      "    Found existing installation: scipy 1.11.3\n",
      "    Uninstalling scipy-1.11.3:\n",
      "      Successfully uninstalled scipy-1.11.3\n",
      "  Attempting uninstall: matplotlib\n",
      "    Found existing installation: matplotlib 3.7.1\n",
      "    Uninstalling matplotlib-3.7.1:\n",
      "      Successfully uninstalled matplotlib-3.7.1\n",
      "\u001b[31mERROR: pip's dependency resolver does not currently take into account all the packages that are installed. This behaviour is the source of the following dependency conflicts.\n",
      "lida 0.0.10 requires fastapi, which is not installed.\n",
      "lida 0.0.10 requires python-multipart, which is not installed.\n",
      "lida 0.0.10 requires uvicorn, which is not installed.\u001b[0m\u001b[31m\n",
      "\u001b[0mSuccessfully installed ansi2html-1.8.0 category-encoders-2.6.3 dash-2.14.1 dash-core-components-2.0.0 dash-html-components-2.0.0 dash-table-5.0.0 deprecated-1.2.14 deprecation-2.1.0 jedi-0.19.1 kaleido-0.2.1 matplotlib-3.6.0 orjson-3.9.10 plotly-resampler-0.9.1 pmdarima-2.0.4 pycaret-3.2.0 pyod-1.1.1 retrying-1.3.4 schemdraw-0.15 scikit-base-0.5.2 scikit-plot-0.3.7 scipy-1.10.1 sktime-0.21.1 tbats-1.1.3 trace-updater-0.0.9.1 tsdownsample-0.1.2 wurlitzer-3.0.3\n"
     ]
    },
    {
     "data": {
      "application/vnd.colab-display-data+json": {
       "pip_warning": {
        "packages": [
         "matplotlib",
         "mpl_toolkits"
        ]
       }
      }
     },
     "metadata": {},
     "output_type": "display_data"
    }
   ],
   "source": [
    "# Install specific libraries\n",
    "! pip install transformers\n",
    "! pip install pycaret"
   ]
  },
  {
   "cell_type": "code",
   "execution_count": 2,
   "metadata": {
    "executionInfo": {
     "elapsed": 5734,
     "status": "ok",
     "timestamp": 1700192122813,
     "user": {
      "displayName": "Honglai Peng",
      "userId": "09422365991702136955"
     },
     "user_tz": 300
    },
    "id": "HIFgZcfWlC8F"
   },
   "outputs": [],
   "source": [
    "# Import necessary libraries\n",
    "import pandas as pd\n",
    "import numpy as np\n",
    "import torch\n",
    "import torch.nn as nn\n",
    "from torch.utils.data import DataLoader, RandomSampler, SequentialSampler, TensorDataset\n",
    "from transformers import AutoModel, BertTokenizerFast\n",
    "from sklearn.model_selection import train_test_split\n",
    "from sklearn.metrics import classification_report\n",
    "import matplotlib.pyplot as plt\n",
    "\n",
    "# Specify GPU\n",
    "device = torch.device(\"cuda\" if torch.cuda.is_available() else \"cpu\")"
   ]
  },
  {
   "cell_type": "code",
   "execution_count": 3,
   "metadata": {
    "colab": {
     "base_uri": "https://localhost:8080/"
    },
    "executionInfo": {
     "elapsed": 17236,
     "status": "ok",
     "timestamp": 1700192140047,
     "user": {
      "displayName": "Honglai Peng",
      "userId": "09422365991702136955"
     },
     "user_tz": 300
    },
    "id": "Pfi1QUkuEss5",
    "outputId": "dc7d2499-7e13-424b-d69b-276a74c640b5"
   },
   "outputs": [
    {
     "name": "stdout",
     "output_type": "stream",
     "text": [
      "Mounted at /content/drive\n"
     ]
    }
   ],
   "source": [
    "# Mount Google Drive\n",
    "from google.colab import drive\n",
    "drive.mount('/content/drive')"
   ]
  },
  {
   "cell_type": "code",
   "execution_count": 4,
   "metadata": {
    "colab": {
     "base_uri": "https://localhost:8080/"
    },
    "executionInfo": {
     "elapsed": 3,
     "status": "ok",
     "timestamp": 1700192140047,
     "user": {
      "displayName": "Honglai Peng",
      "userId": "09422365991702136955"
     },
     "user_tz": 300
    },
    "id": "-xkkoUVsEu_w",
    "outputId": "e41feeee-0852-4223-bc0c-22fb7b2e5e07"
   },
   "outputs": [
    {
     "name": "stdout",
     "output_type": "stream",
     "text": [
      "/content/drive/MyDrive/Project11_FakeNewsDetection\n"
     ]
    }
   ],
   "source": [
    "# Set Working Directory\n",
    "%cd /content/drive/MyDrive/CSE6242\n"
   ]
  },
  {
   "cell_type": "markdown",
   "metadata": {
    "id": "Ar3qNZz0MiGk"
   },
   "source": [
    "## Load Dataset"
   ]
  },
  {
   "cell_type": "code",
   "execution_count": 5,
   "metadata": {
    "colab": {
     "base_uri": "https://localhost:8080/",
     "height": 424
    },
    "executionInfo": {
     "elapsed": 2306,
     "status": "ok",
     "timestamp": 1700192142351,
     "user": {
      "displayName": "Honglai Peng",
      "userId": "09422365991702136955"
     },
     "user_tz": 300
    },
    "id": "9Gkv1hk-mr9Z",
    "outputId": "b81a8565-f3de-487f-8429-77116c5f8f3b"
   },
   "outputs": [
    {
     "data": {
      "text/html": [
       "\n",
       "  <div id=\"df-3557f9b6-3151-43d2-b322-6c0f231d8757\" class=\"colab-df-container\">\n",
       "    <div>\n",
       "<style scoped>\n",
       "    .dataframe tbody tr th:only-of-type {\n",
       "        vertical-align: middle;\n",
       "    }\n",
       "\n",
       "    .dataframe tbody tr th {\n",
       "        vertical-align: top;\n",
       "    }\n",
       "\n",
       "    .dataframe thead th {\n",
       "        text-align: right;\n",
       "    }\n",
       "</style>\n",
       "<table border=\"1\" class=\"dataframe\">\n",
       "  <thead>\n",
       "    <tr style=\"text-align: right;\">\n",
       "      <th></th>\n",
       "      <th>reviewContent</th>\n",
       "      <th>label</th>\n",
       "    </tr>\n",
       "  </thead>\n",
       "  <tbody>\n",
       "    <tr>\n",
       "      <th>0</th>\n",
       "      <td>We ate at Glenn's Diner over the weekend and s...</td>\n",
       "      <td>0</td>\n",
       "    </tr>\n",
       "    <tr>\n",
       "      <th>1</th>\n",
       "      <td>This place was great! We came on a Friday nigh...</td>\n",
       "      <td>1</td>\n",
       "    </tr>\n",
       "    <tr>\n",
       "      <th>2</th>\n",
       "      <td>There was potential here, but it was too short...</td>\n",
       "      <td>1</td>\n",
       "    </tr>\n",
       "    <tr>\n",
       "      <th>3</th>\n",
       "      <td>My mom has been a fan of this quaint place for...</td>\n",
       "      <td>1</td>\n",
       "    </tr>\n",
       "    <tr>\n",
       "      <th>4</th>\n",
       "      <td>Cat loves it,  acts like a suction cup and has...</td>\n",
       "      <td>1</td>\n",
       "    </tr>\n",
       "    <tr>\n",
       "      <th>...</th>\n",
       "      <td>...</td>\n",
       "      <td>...</td>\n",
       "    </tr>\n",
       "    <tr>\n",
       "      <th>56812</th>\n",
       "      <td>First, I'm not a vegan or a veggie. But my fat...</td>\n",
       "      <td>0</td>\n",
       "    </tr>\n",
       "    <tr>\n",
       "      <th>56813</th>\n",
       "      <td>This is a very nice little set, and very comfo...</td>\n",
       "      <td>1</td>\n",
       "    </tr>\n",
       "    <tr>\n",
       "      <th>56814</th>\n",
       "      <td>I was totally disappointed in this restaurant ...</td>\n",
       "      <td>0</td>\n",
       "    </tr>\n",
       "    <tr>\n",
       "      <th>56815</th>\n",
       "      <td>Love this place. Great food. Dining in service...</td>\n",
       "      <td>1</td>\n",
       "    </tr>\n",
       "    <tr>\n",
       "      <th>56816</th>\n",
       "      <td>Offers excellent protection and excellent soun...</td>\n",
       "      <td>1</td>\n",
       "    </tr>\n",
       "  </tbody>\n",
       "</table>\n",
       "<p>56817 rows × 2 columns</p>\n",
       "</div>\n",
       "    <div class=\"colab-df-buttons\">\n",
       "\n",
       "  <div class=\"colab-df-container\">\n",
       "    <button class=\"colab-df-convert\" onclick=\"convertToInteractive('df-3557f9b6-3151-43d2-b322-6c0f231d8757')\"\n",
       "            title=\"Convert this dataframe to an interactive table.\"\n",
       "            style=\"display:none;\">\n",
       "\n",
       "  <svg xmlns=\"http://www.w3.org/2000/svg\" height=\"24px\" viewBox=\"0 -960 960 960\">\n",
       "    <path d=\"M120-120v-720h720v720H120Zm60-500h600v-160H180v160Zm220 220h160v-160H400v160Zm0 220h160v-160H400v160ZM180-400h160v-160H180v160Zm440 0h160v-160H620v160ZM180-180h160v-160H180v160Zm440 0h160v-160H620v160Z\"/>\n",
       "  </svg>\n",
       "    </button>\n",
       "\n",
       "  <style>\n",
       "    .colab-df-container {\n",
       "      display:flex;\n",
       "      gap: 12px;\n",
       "    }\n",
       "\n",
       "    .colab-df-convert {\n",
       "      background-color: #E8F0FE;\n",
       "      border: none;\n",
       "      border-radius: 50%;\n",
       "      cursor: pointer;\n",
       "      display: none;\n",
       "      fill: #1967D2;\n",
       "      height: 32px;\n",
       "      padding: 0 0 0 0;\n",
       "      width: 32px;\n",
       "    }\n",
       "\n",
       "    .colab-df-convert:hover {\n",
       "      background-color: #E2EBFA;\n",
       "      box-shadow: 0px 1px 2px rgba(60, 64, 67, 0.3), 0px 1px 3px 1px rgba(60, 64, 67, 0.15);\n",
       "      fill: #174EA6;\n",
       "    }\n",
       "\n",
       "    .colab-df-buttons div {\n",
       "      margin-bottom: 4px;\n",
       "    }\n",
       "\n",
       "    [theme=dark] .colab-df-convert {\n",
       "      background-color: #3B4455;\n",
       "      fill: #D2E3FC;\n",
       "    }\n",
       "\n",
       "    [theme=dark] .colab-df-convert:hover {\n",
       "      background-color: #434B5C;\n",
       "      box-shadow: 0px 1px 3px 1px rgba(0, 0, 0, 0.15);\n",
       "      filter: drop-shadow(0px 1px 2px rgba(0, 0, 0, 0.3));\n",
       "      fill: #FFFFFF;\n",
       "    }\n",
       "  </style>\n",
       "\n",
       "    <script>\n",
       "      const buttonEl =\n",
       "        document.querySelector('#df-3557f9b6-3151-43d2-b322-6c0f231d8757 button.colab-df-convert');\n",
       "      buttonEl.style.display =\n",
       "        google.colab.kernel.accessAllowed ? 'block' : 'none';\n",
       "\n",
       "      async function convertToInteractive(key) {\n",
       "        const element = document.querySelector('#df-3557f9b6-3151-43d2-b322-6c0f231d8757');\n",
       "        const dataTable =\n",
       "          await google.colab.kernel.invokeFunction('convertToInteractive',\n",
       "                                                    [key], {});\n",
       "        if (!dataTable) return;\n",
       "\n",
       "        const docLinkHtml = 'Like what you see? Visit the ' +\n",
       "          '<a target=\"_blank\" href=https://colab.research.google.com/notebooks/data_table.ipynb>data table notebook</a>'\n",
       "          + ' to learn more about interactive tables.';\n",
       "        element.innerHTML = '';\n",
       "        dataTable['output_type'] = 'display_data';\n",
       "        await google.colab.output.renderOutput(dataTable, element);\n",
       "        const docLink = document.createElement('div');\n",
       "        docLink.innerHTML = docLinkHtml;\n",
       "        element.appendChild(docLink);\n",
       "      }\n",
       "    </script>\n",
       "  </div>\n",
       "\n",
       "\n",
       "<div id=\"df-bb0ccf78-89ff-44a8-ab24-2a3a10753b43\">\n",
       "  <button class=\"colab-df-quickchart\" onclick=\"quickchart('df-bb0ccf78-89ff-44a8-ab24-2a3a10753b43')\"\n",
       "            title=\"Suggest charts\"\n",
       "            style=\"display:none;\">\n",
       "\n",
       "<svg xmlns=\"http://www.w3.org/2000/svg\" height=\"24px\"viewBox=\"0 0 24 24\"\n",
       "     width=\"24px\">\n",
       "    <g>\n",
       "        <path d=\"M19 3H5c-1.1 0-2 .9-2 2v14c0 1.1.9 2 2 2h14c1.1 0 2-.9 2-2V5c0-1.1-.9-2-2-2zM9 17H7v-7h2v7zm4 0h-2V7h2v10zm4 0h-2v-4h2v4z\"/>\n",
       "    </g>\n",
       "</svg>\n",
       "  </button>\n",
       "\n",
       "<style>\n",
       "  .colab-df-quickchart {\n",
       "      --bg-color: #E8F0FE;\n",
       "      --fill-color: #1967D2;\n",
       "      --hover-bg-color: #E2EBFA;\n",
       "      --hover-fill-color: #174EA6;\n",
       "      --disabled-fill-color: #AAA;\n",
       "      --disabled-bg-color: #DDD;\n",
       "  }\n",
       "\n",
       "  [theme=dark] .colab-df-quickchart {\n",
       "      --bg-color: #3B4455;\n",
       "      --fill-color: #D2E3FC;\n",
       "      --hover-bg-color: #434B5C;\n",
       "      --hover-fill-color: #FFFFFF;\n",
       "      --disabled-bg-color: #3B4455;\n",
       "      --disabled-fill-color: #666;\n",
       "  }\n",
       "\n",
       "  .colab-df-quickchart {\n",
       "    background-color: var(--bg-color);\n",
       "    border: none;\n",
       "    border-radius: 50%;\n",
       "    cursor: pointer;\n",
       "    display: none;\n",
       "    fill: var(--fill-color);\n",
       "    height: 32px;\n",
       "    padding: 0;\n",
       "    width: 32px;\n",
       "  }\n",
       "\n",
       "  .colab-df-quickchart:hover {\n",
       "    background-color: var(--hover-bg-color);\n",
       "    box-shadow: 0 1px 2px rgba(60, 64, 67, 0.3), 0 1px 3px 1px rgba(60, 64, 67, 0.15);\n",
       "    fill: var(--button-hover-fill-color);\n",
       "  }\n",
       "\n",
       "  .colab-df-quickchart-complete:disabled,\n",
       "  .colab-df-quickchart-complete:disabled:hover {\n",
       "    background-color: var(--disabled-bg-color);\n",
       "    fill: var(--disabled-fill-color);\n",
       "    box-shadow: none;\n",
       "  }\n",
       "\n",
       "  .colab-df-spinner {\n",
       "    border: 2px solid var(--fill-color);\n",
       "    border-color: transparent;\n",
       "    border-bottom-color: var(--fill-color);\n",
       "    animation:\n",
       "      spin 1s steps(1) infinite;\n",
       "  }\n",
       "\n",
       "  @keyframes spin {\n",
       "    0% {\n",
       "      border-color: transparent;\n",
       "      border-bottom-color: var(--fill-color);\n",
       "      border-left-color: var(--fill-color);\n",
       "    }\n",
       "    20% {\n",
       "      border-color: transparent;\n",
       "      border-left-color: var(--fill-color);\n",
       "      border-top-color: var(--fill-color);\n",
       "    }\n",
       "    30% {\n",
       "      border-color: transparent;\n",
       "      border-left-color: var(--fill-color);\n",
       "      border-top-color: var(--fill-color);\n",
       "      border-right-color: var(--fill-color);\n",
       "    }\n",
       "    40% {\n",
       "      border-color: transparent;\n",
       "      border-right-color: var(--fill-color);\n",
       "      border-top-color: var(--fill-color);\n",
       "    }\n",
       "    60% {\n",
       "      border-color: transparent;\n",
       "      border-right-color: var(--fill-color);\n",
       "    }\n",
       "    80% {\n",
       "      border-color: transparent;\n",
       "      border-right-color: var(--fill-color);\n",
       "      border-bottom-color: var(--fill-color);\n",
       "    }\n",
       "    90% {\n",
       "      border-color: transparent;\n",
       "      border-bottom-color: var(--fill-color);\n",
       "    }\n",
       "  }\n",
       "</style>\n",
       "\n",
       "  <script>\n",
       "    async function quickchart(key) {\n",
       "      const quickchartButtonEl =\n",
       "        document.querySelector('#' + key + ' button');\n",
       "      quickchartButtonEl.disabled = true;  // To prevent multiple clicks.\n",
       "      quickchartButtonEl.classList.add('colab-df-spinner');\n",
       "      try {\n",
       "        const charts = await google.colab.kernel.invokeFunction(\n",
       "            'suggestCharts', [key], {});\n",
       "      } catch (error) {\n",
       "        console.error('Error during call to suggestCharts:', error);\n",
       "      }\n",
       "      quickchartButtonEl.classList.remove('colab-df-spinner');\n",
       "      quickchartButtonEl.classList.add('colab-df-quickchart-complete');\n",
       "    }\n",
       "    (() => {\n",
       "      let quickchartButtonEl =\n",
       "        document.querySelector('#df-bb0ccf78-89ff-44a8-ab24-2a3a10753b43 button');\n",
       "      quickchartButtonEl.style.display =\n",
       "        google.colab.kernel.accessAllowed ? 'block' : 'none';\n",
       "    })();\n",
       "  </script>\n",
       "</div>\n",
       "\n",
       "  <div id=\"id_cf896237-e392-4f76-a862-48f10ecc4b3a\">\n",
       "    <style>\n",
       "      .colab-df-generate {\n",
       "        background-color: #E8F0FE;\n",
       "        border: none;\n",
       "        border-radius: 50%;\n",
       "        cursor: pointer;\n",
       "        display: none;\n",
       "        fill: #1967D2;\n",
       "        height: 32px;\n",
       "        padding: 0 0 0 0;\n",
       "        width: 32px;\n",
       "      }\n",
       "\n",
       "      .colab-df-generate:hover {\n",
       "        background-color: #E2EBFA;\n",
       "        box-shadow: 0px 1px 2px rgba(60, 64, 67, 0.3), 0px 1px 3px 1px rgba(60, 64, 67, 0.15);\n",
       "        fill: #174EA6;\n",
       "      }\n",
       "\n",
       "      [theme=dark] .colab-df-generate {\n",
       "        background-color: #3B4455;\n",
       "        fill: #D2E3FC;\n",
       "      }\n",
       "\n",
       "      [theme=dark] .colab-df-generate:hover {\n",
       "        background-color: #434B5C;\n",
       "        box-shadow: 0px 1px 3px 1px rgba(0, 0, 0, 0.15);\n",
       "        filter: drop-shadow(0px 1px 2px rgba(0, 0, 0, 0.3));\n",
       "        fill: #FFFFFF;\n",
       "      }\n",
       "    </style>\n",
       "    <button class=\"colab-df-generate\" onclick=\"generateWithVariable('df')\"\n",
       "            title=\"Generate code using this dataframe.\"\n",
       "            style=\"display:none;\">\n",
       "\n",
       "  <svg xmlns=\"http://www.w3.org/2000/svg\" height=\"24px\"viewBox=\"0 0 24 24\"\n",
       "       width=\"24px\">\n",
       "    <path d=\"M7,19H8.4L18.45,9,17,7.55,7,17.6ZM5,21V16.75L18.45,3.32a2,2,0,0,1,2.83,0l1.4,1.43a1.91,1.91,0,0,1,.58,1.4,1.91,1.91,0,0,1-.58,1.4L9.25,21ZM18.45,9,17,7.55Zm-12,3A5.31,5.31,0,0,0,4.9,8.1,5.31,5.31,0,0,0,1,6.5,5.31,5.31,0,0,0,4.9,4.9,5.31,5.31,0,0,0,6.5,1,5.31,5.31,0,0,0,8.1,4.9,5.31,5.31,0,0,0,12,6.5,5.46,5.46,0,0,0,6.5,12Z\"/>\n",
       "  </svg>\n",
       "    </button>\n",
       "    <script>\n",
       "      (() => {\n",
       "      const buttonEl =\n",
       "        document.querySelector('#id_cf896237-e392-4f76-a862-48f10ecc4b3a button.colab-df-generate');\n",
       "      buttonEl.style.display =\n",
       "        google.colab.kernel.accessAllowed ? 'block' : 'none';\n",
       "\n",
       "      buttonEl.onclick = () => {\n",
       "        google.colab.notebook.generateWithVariable('df');\n",
       "      }\n",
       "      })();\n",
       "    </script>\n",
       "  </div>\n",
       "\n",
       "    </div>\n",
       "  </div>\n"
      ],
      "text/plain": [
       "                                           reviewContent  label\n",
       "0      We ate at Glenn's Diner over the weekend and s...      0\n",
       "1      This place was great! We came on a Friday nigh...      1\n",
       "2      There was potential here, but it was too short...      1\n",
       "3      My mom has been a fan of this quaint place for...      1\n",
       "4      Cat loves it,  acts like a suction cup and has...      1\n",
       "...                                                  ...    ...\n",
       "56812  First, I'm not a vegan or a veggie. But my fat...      0\n",
       "56813  This is a very nice little set, and very comfo...      1\n",
       "56814  I was totally disappointed in this restaurant ...      0\n",
       "56815  Love this place. Great food. Dining in service...      1\n",
       "56816  Offers excellent protection and excellent soun...      1\n",
       "\n",
       "[56817 rows x 2 columns]"
      ]
     },
     "execution_count": 5,
     "metadata": {},
     "output_type": "execute_result"
    }
   ],
   "source": [
    "# Load and prepare the dataset\n",
    "df = pd.read_csv(\"combined_reviews.csv\")\n",
    "df['reviewContent'] = df['reviewContent'].fillna('').astype(str)  # Handle missing data\n",
    "df"
   ]
  },
  {
   "cell_type": "code",
   "execution_count": 6,
   "metadata": {
    "colab": {
     "base_uri": "https://localhost:8080/",
     "height": 510
    },
    "executionInfo": {
     "elapsed": 209,
     "status": "ok",
     "timestamp": 1700192142558,
     "user": {
      "displayName": "Honglai Peng",
      "userId": "09422365991702136955"
     },
     "user_tz": 300
    },
    "id": "6GR5qqqwoVAc",
    "outputId": "5ce91245-8c8e-4c02-fce2-ad0e20953314"
   },
   "outputs": [
    {
     "data": {
      "text/plain": [
       "([<matplotlib.patches.Wedge at 0x79a4e5618b80>,\n",
       "  <matplotlib.patches.Wedge at 0x79a4e5618ac0>],\n",
       " [Text(-1.1999784056221885, -0.0071990305202076915, 'Fake'),\n",
       "  Text(1.1999784062962051, 0.007198918170120909, 'True')],\n",
       " [Text(-0.6999874032796098, -0.004199434470121153, '50.2%'),\n",
       "  Text(0.6999874036727862, 0.00419936893257053, '49.8%')])"
      ]
     },
     "execution_count": 6,
     "metadata": {},
     "output_type": "execute_result"
    },
    {
     "data": {
      "image/png": "[encoded data removed]",
      "text/plain": [
       "<Figure size 640x480 with 1 Axes>"
      ]
     },
     "metadata": {},
     "output_type": "display_data"
    }
   ],
   "source": [
    "# Checking if our data is well balanced\n",
    "label_size = [df['label'].sum(),len(df['label'])-df['label'].sum()]\n",
    "plt.pie(label_size,explode=[0.1,0.1],colors=['firebrick','navy'],startangle=90,shadow=True,labels=['Fake','True'],autopct='%1.1f%%')"
   ]
  },
  {
   "cell_type": "markdown",
   "metadata": {
    "id": "Zj5h7QbnZC0t"
   },
   "source": [
    "## Train-test-split"
   ]
  },
  {
   "cell_type": "code",
   "execution_count": 7,
   "metadata": {
    "executionInfo": {
     "elapsed": 2,
     "status": "ok",
     "timestamp": 1700192142558,
     "user": {
      "displayName": "Honglai Peng",
      "userId": "09422365991702136955"
     },
     "user_tz": 300
    },
    "id": "3P9DYEq3y6pR"
   },
   "outputs": [],
   "source": [
    "# Train-Validation-Test split\n",
    "train_text, temp_text, train_labels, temp_labels = train_test_split(\n",
    "    df['reviewContent'], df['label'],\n",
    "    random_state=2018,\n",
    "    test_size=0.3,\n",
    "    stratify=df['label']\n",
    ")\n",
    "\n",
    "val_text, test_text, val_labels, test_labels = train_test_split(\n",
    "    temp_text, temp_labels,\n",
    "    random_state=2018,\n",
    "    test_size=0.5,\n",
    "    stratify=temp_labels\n",
    ")"
   ]
  },
  {
   "cell_type": "markdown",
   "metadata": {
    "id": "2ItKm0hDMujq"
   },
   "source": [
    "## BERT Fine-tuning"
   ]
  },
  {
   "cell_type": "markdown",
   "metadata": {
    "id": "HIkcURDhz2R0"
   },
   "source": [
    "### Load pretrained BERT Model"
   ]
  },
  {
   "cell_type": "code",
   "execution_count": 8,
   "metadata": {
    "colab": {
     "base_uri": "https://localhost:8080/",
     "height": 177,
     "referenced_widgets": [
      "efa859a5cb0e4d558d4ff9f232c5998f",
      "30d6bbb0af2c4d5480e5e39a49332c35",
      "24e6be0de3184643b1958a2529ba3383",
      "811950e7e61e4e2dbff5535359f226ff",
      "605e700924b94999950943203df9ec44",
      "4e3e269c4c9d430d998ce0c18a6e5785",
      "ca9819dd74834440873f56bef93ec13a",
      "f958c13be4c64ab5bcbfac343e6c769f",
      "1935fa5d44184f7fbf7af5845f6a6e76",
      "ff8e09b34b594dae913143d3545bfa8b",
      "a9e671f3ad774f8cacee4e9d00e743df",
      "6b9e496334b44f6c9c51777950279f64",
      "d974c0849b3f4cc1bd123e8e6121590a",
      "04748b4849ac4bc5abbca7c35c034692",
      "edd9888558ba40099dcd3c569c9fe552",
      "a63fe08013814efd96f48229a1bb88ce",
      "3b3dea54897b4f02b25737dc79981471",
      "294f9d3401784b8e84cf44556484cab8",
      "5a5b914a0daa42ffa165c8d914a78b38",
      "140fe9e2b173419fa8b3b6d44ba399b3",
      "ef4d6f8beb9248feaa3cbda263949606",
      "e4006b4ae4474755916af8539f32ffa5",
      "6f146d41155d42e5a01b10c62f89e98f",
      "7197604659e6477880bc3b707d5288d0",
      "449c85d40e23411fb0c18da12555984b",
      "a8ebec6552304c8fa0c5d9b92f8ee94f",
      "833d8b9dde0e43f58788280d2fdf3c75",
      "1cdf108be3d9401799219a1bd5829a50",
      "00088238c77b4c88b49cec90ea1e5087",
      "0e941067bd334f769e34e764bbf30c80",
      "875cc0d3ef464cb698402cc1cece3b72",
      "79273cbbe53d47088b104a0fee400ced",
      "e19f6e36344b41f18fc7fb5f16faa005",
      "5194e63e6fee42bcba2476d122a1ef47",
      "bc807b3f60ba4a64897fd0a7c879368e",
      "7a74b4bfa74c47bb99302f4d85729c3e",
      "28476ca311644436943f8d47e210ba9a",
      "7aa4ceef727b4cc5b2054e96e02ad1e9",
      "012237dd69824991b8e9755e034790b8",
      "14e24effd855459d9fb085b5b8bd0a2e",
      "9f2f719cb5b947e4b4b320f00efdf237",
      "d901697b48024225b4d653e039c85080",
      "278ba9a56fc449239b5921cc8c10acf0",
      "10282c0cf6e740f0ba85b42695d22fca",
      "46734effa5794bdfb0a3525d877a46be",
      "f7bc5f466629451a90329b52676dde50",
      "7e20d8668d174030b45be56f5fcea6c3",
      "d484325e59534ed78c6df6f38ab4586c",
      "10c1709b2ee5465aa42d38b04f23471b",
      "5f8334face55441f8353bf5cc97f4ea6",
      "868402c106a74f2ea269f670469c83fd",
      "76c4ce94f5464b9b8892888f39ba06bc",
      "15e053b08aa84e5ba41f016b25ef8009",
      "bfb9e43e90404d3d892f62692091a3e2",
      "13ab3bbf809e4d67933129e8f7db08bb"
     ]
    },
    "executionInfo": {
     "elapsed": 4142,
     "status": "ok",
     "timestamp": 1700192146698,
     "user": {
      "displayName": "Honglai Peng",
      "userId": "09422365991702136955"
     },
     "user_tz": 300
    },
    "id": "w6skrhdVzW0b",
    "outputId": "7ffa9e0e-9f42-43db-c097-fe8aeb43ad0b"
   },
   "outputs": [
    {
     "data": {
      "application/vnd.jupyter.widget-view+json": {
       "model_id": "efa859a5cb0e4d558d4ff9f232c5998f",
       "version_major": 2,
       "version_minor": 0
      },
      "text/plain": [
       "(…)rt-base-uncased/resolve/main/config.json:   0%|          | 0.00/570 [00:00<?, ?B/s]"
      ]
     },
     "metadata": {},
     "output_type": "display_data"
    },
    {
     "data": {
      "application/vnd.jupyter.widget-view+json": {
       "model_id": "6b9e496334b44f6c9c51777950279f64",
       "version_major": 2,
       "version_minor": 0
      },
      "text/plain": [
       "model.safetensors:   0%|          | 0.00/440M [00:00<?, ?B/s]"
      ]
     },
     "metadata": {},
     "output_type": "display_data"
    },
    {
     "data": {
      "application/vnd.jupyter.widget-view+json": {
       "model_id": "6f146d41155d42e5a01b10c62f89e98f",
       "version_major": 2,
       "version_minor": 0
      },
      "text/plain": [
       "(…)cased/resolve/main/tokenizer_config.json:   0%|          | 0.00/28.0 [00:00<?, ?B/s]"
      ]
     },
     "metadata": {},
     "output_type": "display_data"
    },
    {
     "data": {
      "application/vnd.jupyter.widget-view+json": {
       "model_id": "5194e63e6fee42bcba2476d122a1ef47",
       "version_major": 2,
       "version_minor": 0
      },
      "text/plain": [
       "(…)bert-base-uncased/resolve/main/vocab.txt:   0%|          | 0.00/232k [00:00<?, ?B/s]"
      ]
     },
     "metadata": {},
     "output_type": "display_data"
    },
    {
     "data": {
      "application/vnd.jupyter.widget-view+json": {
       "model_id": "46734effa5794bdfb0a3525d877a46be",
       "version_major": 2,
       "version_minor": 0
      },
      "text/plain": [
       "(…)base-uncased/resolve/main/tokenizer.json:   0%|          | 0.00/466k [00:00<?, ?B/s]"
      ]
     },
     "metadata": {},
     "output_type": "display_data"
    }
   ],
   "source": [
    "# Load BERT model and tokenizer\n",
    "bert = AutoModel.from_pretrained('bert-base-uncased')\n",
    "tokenizer = BertTokenizerFast.from_pretrained('bert-base-uncased')\n",
    "# bert = AutoModel.from_pretrained('bert-large-uncased')\n",
    "# tokenizer = BertTokenizerFast.from_pretrained('bert-large-uncased')\n",
    "# from transformers import RobertaModel, RobertaTokenizerFast\n",
    "# bert = RobertaModel.from_pretrained('roberta-base')\n",
    "# tokenizer = RobertaTokenizerFast.from_pretrained('roberta-base')\n",
    "\n",
    "# Freeze BERT layers\n",
    "for param in bert.parameters():\n",
    "    param.requires_grad = False"
   ]
  },
  {
   "cell_type": "markdown",
   "metadata": {
    "id": "H1G4xtl7dXBD"
   },
   "source": [
    "### Prepare Input Data"
   ]
  },
  {
   "cell_type": "code",
   "execution_count": 9,
   "metadata": {
    "colab": {
     "base_uri": "https://localhost:8080/",
     "height": 466
    },
    "executionInfo": {
     "elapsed": 245,
     "status": "ok",
     "timestamp": 1700192147427,
     "user": {
      "displayName": "Honglai Peng",
      "userId": "09422365991702136955"
     },
     "user_tz": 300
    },
    "id": "FDZx-O2xzcA_",
    "outputId": "2b3b98fc-7f82-4a80-ef6e-a8520094b3ec"
   },
   "outputs": [
    {
     "data": {
      "text/plain": [
       "Text(0, 0.5, 'Number of texts')"
      ]
     },
     "execution_count": 9,
     "metadata": {},
     "output_type": "execute_result"
    },
    {
     "data": {
      "image/png": "[encoded data removed]",
      "text/plain": [
       "<Figure size 640x480 with 1 Axes>"
      ]
     },
     "metadata": {},
     "output_type": "display_data"
    }
   ],
   "source": [
    "# Plot histogram of the number of words in train data 'title'\n",
    "seq_len = [len(reviewContent.split()) for reviewContent in train_text]\n",
    "\n",
    "pd.Series(seq_len).hist(bins = 40,color='firebrick')\n",
    "plt.xlabel('Number of Words')\n",
    "plt.ylabel('Number of texts')"
   ]
  },
  {
   "cell_type": "code",
   "execution_count": 10,
   "metadata": {
    "colab": {
     "base_uri": "https://localhost:8080/"
    },
    "executionInfo": {
     "elapsed": 965,
     "status": "ok",
     "timestamp": 1700192148390,
     "user": {
      "displayName": "Honglai Peng",
      "userId": "09422365991702136955"
     },
     "user_tz": 300
    },
    "id": "SqHlBA_6M2po",
    "outputId": "a66c22eb-5594-429b-cc71-7b7a7eaa611b"
   },
   "outputs": [
    {
     "name": "stdout",
     "output_type": "stream",
     "text": [
      "75                    best falafel ever!\n",
      "81           this pizza kills. so yummy!\n",
      "141         Great cubano and  Vieja Roja\n",
      "220      short and simple.goooood sushi.\n",
      "388         It's better than Tecalitlan!\n",
      "                      ...               \n",
      "56325         Foods ok.  Way overpriced.\n",
      "56483                           Amazing.\n",
      "56532                         sooo good!\n",
      "56554                       MEH, It's OK\n",
      "56638      best sushi place in downtown!\n",
      "Name: reviewContent, Length: 416, dtype: object\n"
     ]
    }
   ],
   "source": [
    "# Filter the DataFrame for reviews with very low word counts\n",
    "low_word_reviews = df[df['reviewContent'].str.split().apply(len) <= 5]\n",
    "\n",
    "# Examine the reviews\n",
    "print(low_word_reviews['reviewContent'])\n"
   ]
  },
  {
   "cell_type": "code",
   "execution_count": 11,
   "metadata": {
    "executionInfo": {
     "elapsed": 9046,
     "status": "ok",
     "timestamp": 1700192157434,
     "user": {
      "displayName": "Honglai Peng",
      "userId": "09422365991702136955"
     },
     "user_tz": 300
    },
    "id": "rfwINnZozkyd"
   },
   "outputs": [],
   "source": [
    "# Tokenization and encoding\n",
    "MAX_LENGTH = 50\n",
    "tokens_train = tokenizer.batch_encode_plus(\n",
    "    train_text.tolist(),\n",
    "    max_length=MAX_LENGTH,\n",
    "    padding='max_length',\n",
    "    truncation=True,\n",
    "    return_tensors='pt'  # Return PyTorch tensors\n",
    ")\n",
    "tokens_val = tokenizer.batch_encode_plus(\n",
    "    val_text.tolist(),\n",
    "    max_length=MAX_LENGTH,\n",
    "    padding='max_length',\n",
    "    truncation=True,\n",
    "    return_tensors='pt'\n",
    ")\n",
    "tokens_test = tokenizer.batch_encode_plus(\n",
    "    test_text.tolist(),\n",
    "    max_length=MAX_LENGTH,\n",
    "    padding='max_length',\n",
    "    truncation=True,\n",
    "    return_tensors='pt'\n",
    ")"
   ]
  },
  {
   "cell_type": "code",
   "execution_count": 12,
   "metadata": {
    "executionInfo": {
     "elapsed": 11,
     "status": "ok",
     "timestamp": 1700192157435,
     "user": {
      "displayName": "Honglai Peng",
      "userId": "09422365991702136955"
     },
     "user_tz": 300
    },
    "id": "jE9PI9_H0Moi"
   },
   "outputs": [],
   "source": [
    "# Convert to tensors\n",
    "train_seq = tokens_train['input_ids']\n",
    "train_mask = tokens_train['attention_mask']\n",
    "train_y = torch.tensor(train_labels.tolist())\n",
    "\n",
    "val_seq = tokens_val['input_ids']\n",
    "val_mask = tokens_val['attention_mask']\n",
    "val_y = torch.tensor(val_labels.tolist())\n",
    "\n",
    "test_seq = tokens_test['input_ids']\n",
    "test_mask = tokens_test['attention_mask']\n",
    "test_y = torch.tensor(test_labels.tolist())"
   ]
  },
  {
   "cell_type": "code",
   "execution_count": 13,
   "metadata": {
    "executionInfo": {
     "elapsed": 10,
     "status": "ok",
     "timestamp": 1700192157435,
     "user": {
      "displayName": "Honglai Peng",
      "userId": "09422365991702136955"
     },
     "user_tz": 300
    },
    "id": "Oft-16jR0M6h"
   },
   "outputs": [],
   "source": [
    "# DataLoader\n",
    "batch_size = 32\n",
    "train_data = TensorDataset(train_seq, train_mask, train_y)\n",
    "train_sampler = RandomSampler(train_data)\n",
    "train_dataloader = DataLoader(train_data, sampler=train_sampler, batch_size=batch_size)\n",
    "\n",
    "val_data = TensorDataset(val_seq, val_mask, val_y)\n",
    "val_sampler = SequentialSampler(val_data)\n",
    "val_dataloader = DataLoader(val_data, sampler=val_sampler, batch_size=batch_size)\n",
    "\n",
    "test_data = TensorDataset(test_seq, test_mask, test_y)\n",
    "test_sampler = SequentialSampler(test_data)\n",
    "test_dataloader = DataLoader(test_data, sampler=test_sampler, batch_size=batch_size)"
   ]
  },
  {
   "cell_type": "markdown",
   "metadata": {
    "id": "XAJPyGH4zaRZ"
   },
   "source": [
    "### Define Model Architecture"
   ]
  },
  {
   "cell_type": "code",
   "execution_count": 14,
   "metadata": {
    "executionInfo": {
     "elapsed": 6119,
     "status": "ok",
     "timestamp": 1700192163544,
     "user": {
      "displayName": "Honglai Peng",
      "userId": "09422365991702136955"
     },
     "user_tz": 300
    },
    "id": "5oC6f5jD0vm0"
   },
   "outputs": [],
   "source": [
    "class BERT_Arch(nn.Module):\n",
    "    def __init__(self, bert):\n",
    "      super(BERT_Arch, self).__init__()\n",
    "      self.bert = bert\n",
    "      self.dropout = nn.Dropout(0.1)            # dropout layer\n",
    "      self.relu =  nn.ReLU()                    # relu activation function\n",
    "      self.fc1 = nn.Linear(768,512)             # dense layer 1\n",
    "      self.fc2 = nn.Linear(512,2)               # dense layer 2 (Output layer)\n",
    "      self.softmax = nn.LogSoftmax(dim=1)       # softmax activation function\n",
    "    def forward(self, sent_id, mask):           # define the forward pass\n",
    "      cls_hs = self.bert(sent_id, attention_mask=mask)['pooler_output']\n",
    "                                                # pass the inputs to the model\n",
    "      x = self.fc1(cls_hs)\n",
    "      x = self.relu(x)\n",
    "      x = self.dropout(x)\n",
    "      x = self.fc2(x)                           # output layer\n",
    "      x = self.softmax(x)                       # apply softmax activation\n",
    "      return x\n",
    "\n",
    "model = BERT_Arch(bert)\n",
    "model.to(device)\n",
    "\n",
    "# Optimizer and loss function\n",
    "from torch.optim import AdamW\n",
    "optimizer = AdamW(\n",
    "    filter(lambda p: p.requires_grad, model.parameters()),\n",
    "    lr=1e-5  # Learning rate\n",
    ")\n",
    "cross_entropy = nn.NLLLoss()"
   ]
  },
  {
   "cell_type": "markdown",
   "metadata": {
    "id": "LGFpP494zgLh"
   },
   "source": [
    "### Define Train & Evaluate & Test Function"
   ]
  },
  {
   "cell_type": "code",
   "execution_count": 15,
   "metadata": {
    "executionInfo": {
     "elapsed": 9,
     "status": "ok",
     "timestamp": 1700192163544,
     "user": {
      "displayName": "Honglai Peng",
      "userId": "09422365991702136955"
     },
     "user_tz": 300
    },
    "id": "BEG81NvL1Rt9"
   },
   "outputs": [],
   "source": [
    "def train():\n",
    "    model.train()\n",
    "    total_loss = 0\n",
    "\n",
    "    for step, batch in enumerate(train_dataloader):\n",
    "        # Move batch to the same device as model\n",
    "        batch = [r.to(device) for r in batch]\n",
    "        sent_id, mask, labels = batch\n",
    "\n",
    "        model.zero_grad()\n",
    "        preds = model(sent_id, mask)\n",
    "        loss = cross_entropy(preds, labels)\n",
    "        total_loss += loss.item()\n",
    "        loss.backward()\n",
    "        torch.nn.utils.clip_grad_norm_(model.parameters(), 1.0)\n",
    "        optimizer.step()\n",
    "\n",
    "        # Optional: Print progress updates\n",
    "        if step % 50 == 0 and step != 0:\n",
    "            print(f'Batch {step:>5} of {len(train_dataloader)}')\n",
    "\n",
    "    avg_loss = total_loss / len(train_dataloader)\n",
    "    return avg_loss\n",
    "\n",
    "\n",
    "def evaluate():\n",
    "    model.eval()\n",
    "    total_loss = 0\n",
    "    for step, batch in enumerate(val_dataloader):\n",
    "        batch = [t.to(device) for t in batch]\n",
    "        sent_id, mask, labels = batch\n",
    "\n",
    "        with torch.no_grad():\n",
    "            preds = model(sent_id, mask)\n",
    "            loss = cross_entropy(preds, labels)\n",
    "            total_loss += loss.item()\n",
    "\n",
    "        # Optional: Print progress updates\n",
    "        if step % 50 == 0 and step != 0:\n",
    "            print(f'Validation Batch {step:>5} of {len(val_dataloader)}')\n",
    "\n",
    "    avg_loss = total_loss / len(val_dataloader)\n",
    "    return avg_loss\n",
    "\n",
    "# Function to Evaluate Model on Test Data in Batches\n",
    "def evaluate_test(model, dataloader):\n",
    "    model.eval()\n",
    "    all_preds = []\n",
    "    all_labels = []\n",
    "\n",
    "    with torch.no_grad():\n",
    "        for step, batch in enumerate(dataloader):\n",
    "            batch = [t.to(device) for t in batch]\n",
    "            sent_id, mask, labels = batch\n",
    "\n",
    "            preds = model(sent_id, mask)\n",
    "            preds = preds.detach().cpu().numpy()\n",
    "            preds = np.argmax(preds, axis=1)\n",
    "\n",
    "            all_preds.extend(preds)\n",
    "            all_labels.extend(labels.cpu().numpy())\n",
    "\n",
    "    return all_preds, all_labels\n",
    "\n"
   ]
  },
  {
   "cell_type": "markdown",
   "metadata": {
    "id": "IARpecoUzloO"
   },
   "source": [
    "### Model training"
   ]
  },
  {
   "cell_type": "code",
   "execution_count": 19,
   "metadata": {
    "colab": {
     "base_uri": "https://localhost:8080/"
    },
    "executionInfo": {
     "elapsed": 2173232,
     "status": "ok",
     "timestamp": 1700195269012,
     "user": {
      "displayName": "Honglai Peng",
      "userId": "09422365991702136955"
     },
     "user_tz": 300
    },
    "id": "uSN0ZPiW1d-e",
    "outputId": "92fc5ab2-61e0-4ab8-84ce-6ef600797f1f"
   },
   "outputs": [
    {
     "name": "stdout",
     "output_type": "stream",
     "text": [
      "\n",
      " Epoch 1 / 50\n",
      "Batch    50 of 1243\n",
      "Batch   100 of 1243\n",
      "Batch   150 of 1243\n",
      "Batch   200 of 1243\n",
      "Batch   250 of 1243\n",
      "Batch   300 of 1243\n",
      "Batch   350 of 1243\n",
      "Batch   400 of 1243\n",
      "Batch   450 of 1243\n",
      "Batch   500 of 1243\n",
      "Batch   550 of 1243\n",
      "Batch   600 of 1243\n",
      "Batch   650 of 1243\n",
      "Batch   700 of 1243\n",
      "Batch   750 of 1243\n",
      "Batch   800 of 1243\n",
      "Batch   850 of 1243\n",
      "Batch   900 of 1243\n",
      "Batch   950 of 1243\n",
      "Batch  1000 of 1243\n",
      "Batch  1050 of 1243\n",
      "Batch  1100 of 1243\n",
      "Batch  1150 of 1243\n",
      "Batch  1200 of 1243\n",
      "Validation Batch    50 of 267\n",
      "Validation Batch   100 of 267\n",
      "Validation Batch   150 of 267\n",
      "Validation Batch   200 of 267\n",
      "Validation Batch   250 of 267\n",
      "\n",
      "Training Loss: 0.377\n",
      "Validation Loss: 0.362\n",
      "\n",
      " Epoch 2 / 50\n",
      "Batch    50 of 1243\n",
      "Batch   100 of 1243\n",
      "Batch   150 of 1243\n",
      "Batch   200 of 1243\n",
      "Batch   250 of 1243\n",
      "Batch   300 of 1243\n",
      "Batch   350 of 1243\n",
      "Batch   400 of 1243\n",
      "Batch   450 of 1243\n",
      "Batch   500 of 1243\n",
      "Batch   550 of 1243\n",
      "Batch   600 of 1243\n",
      "Batch   650 of 1243\n",
      "Batch   700 of 1243\n",
      "Batch   750 of 1243\n",
      "Batch   800 of 1243\n",
      "Batch   850 of 1243\n",
      "Batch   900 of 1243\n",
      "Batch   950 of 1243\n",
      "Batch  1000 of 1243\n",
      "Batch  1050 of 1243\n",
      "Batch  1100 of 1243\n",
      "Batch  1150 of 1243\n",
      "Batch  1200 of 1243\n",
      "Validation Batch    50 of 267\n",
      "Validation Batch   100 of 267\n",
      "Validation Batch   150 of 267\n",
      "Validation Batch   200 of 267\n",
      "Validation Batch   250 of 267\n",
      "\n",
      "Training Loss: 0.376\n",
      "Validation Loss: 0.361\n",
      "\n",
      " Epoch 3 / 50\n",
      "Batch    50 of 1243\n",
      "Batch   100 of 1243\n",
      "Batch   150 of 1243\n",
      "Batch   200 of 1243\n",
      "Batch   250 of 1243\n",
      "Batch   300 of 1243\n",
      "Batch   350 of 1243\n",
      "Batch   400 of 1243\n",
      "Batch   450 of 1243\n",
      "Batch   500 of 1243\n",
      "Batch   550 of 1243\n",
      "Batch   600 of 1243\n",
      "Batch   650 of 1243\n",
      "Batch   700 of 1243\n",
      "Batch   750 of 1243\n",
      "Batch   800 of 1243\n",
      "Batch   850 of 1243\n",
      "Batch   900 of 1243\n",
      "Batch   950 of 1243\n",
      "Batch  1000 of 1243\n",
      "Batch  1050 of 1243\n",
      "Batch  1100 of 1243\n",
      "Batch  1150 of 1243\n",
      "Batch  1200 of 1243\n",
      "Validation Batch    50 of 267\n",
      "Validation Batch   100 of 267\n",
      "Validation Batch   150 of 267\n",
      "Validation Batch   200 of 267\n",
      "Validation Batch   250 of 267\n",
      "\n",
      "Training Loss: 0.374\n",
      "Validation Loss: 0.358\n",
      "\n",
      " Epoch 4 / 50\n",
      "Batch    50 of 1243\n",
      "Batch   100 of 1243\n",
      "Batch   150 of 1243\n",
      "Batch   200 of 1243\n",
      "Batch   250 of 1243\n",
      "Batch   300 of 1243\n",
      "Batch   350 of 1243\n",
      "Batch   400 of 1243\n",
      "Batch   450 of 1243\n",
      "Batch   500 of 1243\n",
      "Batch   550 of 1243\n",
      "Batch   600 of 1243\n",
      "Batch   650 of 1243\n",
      "Batch   700 of 1243\n",
      "Batch   750 of 1243\n",
      "Batch   800 of 1243\n",
      "Batch   850 of 1243\n",
      "Batch   900 of 1243\n",
      "Batch   950 of 1243\n",
      "Batch  1000 of 1243\n",
      "Batch  1050 of 1243\n",
      "Batch  1100 of 1243\n",
      "Batch  1150 of 1243\n",
      "Batch  1200 of 1243\n",
      "Validation Batch    50 of 267\n",
      "Validation Batch   100 of 267\n",
      "Validation Batch   150 of 267\n",
      "Validation Batch   200 of 267\n",
      "Validation Batch   250 of 267\n",
      "\n",
      "Training Loss: 0.374\n",
      "Validation Loss: 0.360\n",
      "\n",
      " Epoch 5 / 50\n",
      "Batch    50 of 1243\n",
      "Batch   100 of 1243\n",
      "Batch   150 of 1243\n",
      "Batch   200 of 1243\n",
      "Batch   250 of 1243\n",
      "Batch   300 of 1243\n",
      "Batch   350 of 1243\n",
      "Batch   400 of 1243\n",
      "Batch   450 of 1243\n",
      "Batch   500 of 1243\n",
      "Batch   550 of 1243\n",
      "Batch   600 of 1243\n",
      "Batch   650 of 1243\n",
      "Batch   700 of 1243\n",
      "Batch   750 of 1243\n",
      "Batch   800 of 1243\n",
      "Batch   850 of 1243\n",
      "Batch   900 of 1243\n",
      "Batch   950 of 1243\n",
      "Batch  1000 of 1243\n",
      "Batch  1050 of 1243\n",
      "Batch  1100 of 1243\n",
      "Batch  1150 of 1243\n",
      "Batch  1200 of 1243\n",
      "Validation Batch    50 of 267\n",
      "Validation Batch   100 of 267\n",
      "Validation Batch   150 of 267\n",
      "Validation Batch   200 of 267\n",
      "Validation Batch   250 of 267\n",
      "\n",
      "Training Loss: 0.372\n",
      "Validation Loss: 0.357\n",
      "\n",
      " Epoch 6 / 50\n",
      "Batch    50 of 1243\n",
      "Batch   100 of 1243\n",
      "Batch   150 of 1243\n",
      "Batch   200 of 1243\n",
      "Batch   250 of 1243\n",
      "Batch   300 of 1243\n",
      "Batch   350 of 1243\n",
      "Batch   400 of 1243\n",
      "Batch   450 of 1243\n",
      "Batch   500 of 1243\n",
      "Batch   550 of 1243\n",
      "Batch   600 of 1243\n",
      "Batch   650 of 1243\n",
      "Batch   700 of 1243\n",
      "Batch   750 of 1243\n",
      "Batch   800 of 1243\n",
      "Batch   850 of 1243\n",
      "Batch   900 of 1243\n",
      "Batch   950 of 1243\n",
      "Batch  1000 of 1243\n",
      "Batch  1050 of 1243\n",
      "Batch  1100 of 1243\n",
      "Batch  1150 of 1243\n",
      "Batch  1200 of 1243\n",
      "Validation Batch    50 of 267\n",
      "Validation Batch   100 of 267\n",
      "Validation Batch   150 of 267\n",
      "Validation Batch   200 of 267\n",
      "Validation Batch   250 of 267\n",
      "\n",
      "Training Loss: 0.371\n",
      "Validation Loss: 0.355\n",
      "\n",
      " Epoch 7 / 50\n",
      "Batch    50 of 1243\n",
      "Batch   100 of 1243\n",
      "Batch   150 of 1243\n",
      "Batch   200 of 1243\n",
      "Batch   250 of 1243\n",
      "Batch   300 of 1243\n",
      "Batch   350 of 1243\n",
      "Batch   400 of 1243\n",
      "Batch   450 of 1243\n",
      "Batch   500 of 1243\n",
      "Batch   550 of 1243\n",
      "Batch   600 of 1243\n",
      "Batch   650 of 1243\n",
      "Batch   700 of 1243\n",
      "Batch   750 of 1243\n",
      "Batch   800 of 1243\n",
      "Batch   850 of 1243\n",
      "Batch   900 of 1243\n",
      "Batch   950 of 1243\n",
      "Batch  1000 of 1243\n",
      "Batch  1050 of 1243\n",
      "Batch  1100 of 1243\n",
      "Batch  1150 of 1243\n",
      "Batch  1200 of 1243\n",
      "Validation Batch    50 of 267\n",
      "Validation Batch   100 of 267\n",
      "Validation Batch   150 of 267\n",
      "Validation Batch   200 of 267\n",
      "Validation Batch   250 of 267\n",
      "\n",
      "Training Loss: 0.370\n",
      "Validation Loss: 0.355\n",
      "\n",
      " Epoch 8 / 50\n",
      "Batch    50 of 1243\n",
      "Batch   100 of 1243\n",
      "Batch   150 of 1243\n",
      "Batch   200 of 1243\n",
      "Batch   250 of 1243\n",
      "Batch   300 of 1243\n",
      "Batch   350 of 1243\n",
      "Batch   400 of 1243\n",
      "Batch   450 of 1243\n",
      "Batch   500 of 1243\n",
      "Batch   550 of 1243\n",
      "Batch   600 of 1243\n",
      "Batch   650 of 1243\n",
      "Batch   700 of 1243\n",
      "Batch   750 of 1243\n",
      "Batch   800 of 1243\n",
      "Batch   850 of 1243\n",
      "Batch   900 of 1243\n",
      "Batch   950 of 1243\n",
      "Batch  1000 of 1243\n",
      "Batch  1050 of 1243\n",
      "Batch  1100 of 1243\n",
      "Batch  1150 of 1243\n",
      "Batch  1200 of 1243\n",
      "Validation Batch    50 of 267\n",
      "Validation Batch   100 of 267\n",
      "Validation Batch   150 of 267\n",
      "Validation Batch   200 of 267\n",
      "Validation Batch   250 of 267\n",
      "\n",
      "Training Loss: 0.369\n",
      "Validation Loss: 0.355\n",
      "\n",
      " Epoch 9 / 50\n",
      "Batch    50 of 1243\n",
      "Batch   100 of 1243\n",
      "Batch   150 of 1243\n",
      "Batch   200 of 1243\n",
      "Batch   250 of 1243\n",
      "Batch   300 of 1243\n",
      "Batch   350 of 1243\n",
      "Batch   400 of 1243\n",
      "Batch   450 of 1243\n",
      "Batch   500 of 1243\n",
      "Batch   550 of 1243\n",
      "Batch   600 of 1243\n",
      "Batch   650 of 1243\n",
      "Batch   700 of 1243\n",
      "Batch   750 of 1243\n",
      "Batch   800 of 1243\n",
      "Batch   850 of 1243\n",
      "Batch   900 of 1243\n",
      "Batch   950 of 1243\n",
      "Batch  1000 of 1243\n",
      "Batch  1050 of 1243\n",
      "Batch  1100 of 1243\n",
      "Batch  1150 of 1243\n",
      "Batch  1200 of 1243\n",
      "Validation Batch    50 of 267\n",
      "Validation Batch   100 of 267\n",
      "Validation Batch   150 of 267\n",
      "Validation Batch   200 of 267\n",
      "Validation Batch   250 of 267\n",
      "\n",
      "Training Loss: 0.366\n",
      "Validation Loss: 0.355\n",
      "\n",
      " Epoch 10 / 50\n",
      "Batch    50 of 1243\n",
      "Batch   100 of 1243\n",
      "Batch   150 of 1243\n",
      "Batch   200 of 1243\n",
      "Batch   250 of 1243\n",
      "Batch   300 of 1243\n",
      "Batch   350 of 1243\n",
      "Batch   400 of 1243\n",
      "Batch   450 of 1243\n",
      "Batch   500 of 1243\n",
      "Batch   550 of 1243\n",
      "Batch   600 of 1243\n",
      "Batch   650 of 1243\n",
      "Batch   700 of 1243\n",
      "Batch   750 of 1243\n",
      "Batch   800 of 1243\n",
      "Batch   850 of 1243\n",
      "Batch   900 of 1243\n",
      "Batch   950 of 1243\n",
      "Batch  1000 of 1243\n",
      "Batch  1050 of 1243\n",
      "Batch  1100 of 1243\n",
      "Batch  1150 of 1243\n",
      "Batch  1200 of 1243\n",
      "Validation Batch    50 of 267\n",
      "Validation Batch   100 of 267\n",
      "Validation Batch   150 of 267\n",
      "Validation Batch   200 of 267\n",
      "Validation Batch   250 of 267\n",
      "\n",
      "Training Loss: 0.367\n",
      "Validation Loss: 0.352\n",
      "\n",
      " Epoch 11 / 50\n",
      "Batch    50 of 1243\n",
      "Batch   100 of 1243\n",
      "Batch   150 of 1243\n",
      "Batch   200 of 1243\n",
      "Batch   250 of 1243\n",
      "Batch   300 of 1243\n",
      "Batch   350 of 1243\n",
      "Batch   400 of 1243\n",
      "Batch   450 of 1243\n",
      "Batch   500 of 1243\n",
      "Batch   550 of 1243\n",
      "Batch   600 of 1243\n",
      "Batch   650 of 1243\n",
      "Batch   700 of 1243\n",
      "Batch   750 of 1243\n",
      "Batch   800 of 1243\n",
      "Batch   850 of 1243\n",
      "Batch   900 of 1243\n",
      "Batch   950 of 1243\n",
      "Batch  1000 of 1243\n",
      "Batch  1050 of 1243\n",
      "Batch  1100 of 1243\n",
      "Batch  1150 of 1243\n",
      "Batch  1200 of 1243\n",
      "Validation Batch    50 of 267\n",
      "Validation Batch   100 of 267\n",
      "Validation Batch   150 of 267\n",
      "Validation Batch   200 of 267\n",
      "Validation Batch   250 of 267\n",
      "\n",
      "Training Loss: 0.366\n",
      "Validation Loss: 0.353\n",
      "\n",
      " Epoch 12 / 50\n",
      "Batch    50 of 1243\n",
      "Batch   100 of 1243\n",
      "Batch   150 of 1243\n",
      "Batch   200 of 1243\n",
      "Batch   250 of 1243\n",
      "Batch   300 of 1243\n",
      "Batch   350 of 1243\n",
      "Batch   400 of 1243\n",
      "Batch   450 of 1243\n",
      "Batch   500 of 1243\n",
      "Batch   550 of 1243\n",
      "Batch   600 of 1243\n",
      "Batch   650 of 1243\n",
      "Batch   700 of 1243\n",
      "Batch   750 of 1243\n",
      "Batch   800 of 1243\n",
      "Batch   850 of 1243\n",
      "Batch   900 of 1243\n",
      "Batch   950 of 1243\n",
      "Batch  1000 of 1243\n",
      "Batch  1050 of 1243\n",
      "Batch  1100 of 1243\n",
      "Batch  1150 of 1243\n",
      "Batch  1200 of 1243\n",
      "Validation Batch    50 of 267\n",
      "Validation Batch   100 of 267\n",
      "Validation Batch   150 of 267\n",
      "Validation Batch   200 of 267\n",
      "Validation Batch   250 of 267\n",
      "\n",
      "Training Loss: 0.366\n",
      "Validation Loss: 0.353\n",
      "\n",
      " Epoch 13 / 50\n",
      "Batch    50 of 1243\n",
      "Batch   100 of 1243\n",
      "Batch   150 of 1243\n",
      "Batch   200 of 1243\n",
      "Batch   250 of 1243\n",
      "Batch   300 of 1243\n",
      "Batch   350 of 1243\n",
      "Batch   400 of 1243\n",
      "Batch   450 of 1243\n",
      "Batch   500 of 1243\n",
      "Batch   550 of 1243\n",
      "Batch   600 of 1243\n",
      "Batch   650 of 1243\n",
      "Batch   700 of 1243\n",
      "Batch   750 of 1243\n",
      "Batch   800 of 1243\n",
      "Batch   850 of 1243\n",
      "Batch   900 of 1243\n",
      "Batch   950 of 1243\n",
      "Batch  1000 of 1243\n",
      "Batch  1050 of 1243\n",
      "Batch  1100 of 1243\n",
      "Batch  1150 of 1243\n",
      "Batch  1200 of 1243\n",
      "Validation Batch    50 of 267\n",
      "Validation Batch   100 of 267\n",
      "Validation Batch   150 of 267\n",
      "Validation Batch   200 of 267\n",
      "Validation Batch   250 of 267\n",
      "\n",
      "Training Loss: 0.365\n",
      "Validation Loss: 0.350\n",
      "\n",
      " Epoch 14 / 50\n",
      "Batch    50 of 1243\n",
      "Batch   100 of 1243\n",
      "Batch   150 of 1243\n",
      "Batch   200 of 1243\n",
      "Batch   250 of 1243\n",
      "Batch   300 of 1243\n",
      "Batch   350 of 1243\n",
      "Batch   400 of 1243\n",
      "Batch   450 of 1243\n",
      "Batch   500 of 1243\n",
      "Batch   550 of 1243\n",
      "Batch   600 of 1243\n",
      "Batch   650 of 1243\n",
      "Batch   700 of 1243\n",
      "Batch   750 of 1243\n",
      "Batch   800 of 1243\n",
      "Batch   850 of 1243\n",
      "Batch   900 of 1243\n",
      "Batch   950 of 1243\n",
      "Batch  1000 of 1243\n",
      "Batch  1050 of 1243\n",
      "Batch  1100 of 1243\n",
      "Batch  1150 of 1243\n",
      "Batch  1200 of 1243\n",
      "Validation Batch    50 of 267\n",
      "Validation Batch   100 of 267\n",
      "Validation Batch   150 of 267\n",
      "Validation Batch   200 of 267\n",
      "Validation Batch   250 of 267\n",
      "\n",
      "Training Loss: 0.365\n",
      "Validation Loss: 0.353\n",
      "\n",
      " Epoch 15 / 50\n",
      "Batch    50 of 1243\n",
      "Batch   100 of 1243\n",
      "Batch   150 of 1243\n",
      "Batch   200 of 1243\n",
      "Batch   250 of 1243\n",
      "Batch   300 of 1243\n",
      "Batch   350 of 1243\n",
      "Batch   400 of 1243\n",
      "Batch   450 of 1243\n",
      "Batch   500 of 1243\n",
      "Batch   550 of 1243\n",
      "Batch   600 of 1243\n",
      "Batch   650 of 1243\n",
      "Batch   700 of 1243\n",
      "Batch   750 of 1243\n",
      "Batch   800 of 1243\n",
      "Batch   850 of 1243\n",
      "Batch   900 of 1243\n",
      "Batch   950 of 1243\n",
      "Batch  1000 of 1243\n",
      "Batch  1050 of 1243\n",
      "Batch  1100 of 1243\n",
      "Batch  1150 of 1243\n",
      "Batch  1200 of 1243\n",
      "Validation Batch    50 of 267\n",
      "Validation Batch   100 of 267\n",
      "Validation Batch   150 of 267\n",
      "Validation Batch   200 of 267\n",
      "Validation Batch   250 of 267\n",
      "\n",
      "Training Loss: 0.363\n",
      "Validation Loss: 0.349\n",
      "\n",
      " Epoch 16 / 50\n",
      "Batch    50 of 1243\n",
      "Batch   100 of 1243\n",
      "Batch   150 of 1243\n",
      "Batch   200 of 1243\n",
      "Batch   250 of 1243\n",
      "Batch   300 of 1243\n",
      "Batch   350 of 1243\n",
      "Batch   400 of 1243\n",
      "Batch   450 of 1243\n",
      "Batch   500 of 1243\n",
      "Batch   550 of 1243\n",
      "Batch   600 of 1243\n",
      "Batch   650 of 1243\n",
      "Batch   700 of 1243\n",
      "Batch   750 of 1243\n",
      "Batch   800 of 1243\n",
      "Batch   850 of 1243\n",
      "Batch   900 of 1243\n",
      "Batch   950 of 1243\n",
      "Batch  1000 of 1243\n",
      "Batch  1050 of 1243\n",
      "Batch  1100 of 1243\n",
      "Batch  1150 of 1243\n",
      "Batch  1200 of 1243\n",
      "Validation Batch    50 of 267\n",
      "Validation Batch   100 of 267\n",
      "Validation Batch   150 of 267\n",
      "Validation Batch   200 of 267\n",
      "Validation Batch   250 of 267\n",
      "\n",
      "Training Loss: 0.364\n",
      "Validation Loss: 0.348\n",
      "\n",
      " Epoch 17 / 50\n",
      "Batch    50 of 1243\n",
      "Batch   100 of 1243\n",
      "Batch   150 of 1243\n",
      "Batch   200 of 1243\n",
      "Batch   250 of 1243\n",
      "Batch   300 of 1243\n",
      "Batch   350 of 1243\n",
      "Batch   400 of 1243\n",
      "Batch   450 of 1243\n",
      "Batch   500 of 1243\n",
      "Batch   550 of 1243\n",
      "Batch   600 of 1243\n",
      "Batch   650 of 1243\n",
      "Batch   700 of 1243\n",
      "Batch   750 of 1243\n",
      "Batch   800 of 1243\n",
      "Batch   850 of 1243\n",
      "Batch   900 of 1243\n",
      "Batch   950 of 1243\n",
      "Batch  1000 of 1243\n",
      "Batch  1050 of 1243\n",
      "Batch  1100 of 1243\n",
      "Batch  1150 of 1243\n",
      "Batch  1200 of 1243\n",
      "Validation Batch    50 of 267\n",
      "Validation Batch   100 of 267\n",
      "Validation Batch   150 of 267\n",
      "Validation Batch   200 of 267\n",
      "Validation Batch   250 of 267\n",
      "\n",
      "Training Loss: 0.363\n",
      "Validation Loss: 0.350\n",
      "\n",
      " Epoch 18 / 50\n",
      "Batch    50 of 1243\n",
      "Batch   100 of 1243\n",
      "Batch   150 of 1243\n",
      "Batch   200 of 1243\n",
      "Batch   250 of 1243\n",
      "Batch   300 of 1243\n",
      "Batch   350 of 1243\n",
      "Batch   400 of 1243\n",
      "Batch   450 of 1243\n",
      "Batch   500 of 1243\n",
      "Batch   550 of 1243\n",
      "Batch   600 of 1243\n",
      "Batch   650 of 1243\n",
      "Batch   700 of 1243\n",
      "Batch   750 of 1243\n",
      "Batch   800 of 1243\n",
      "Batch   850 of 1243\n",
      "Batch   900 of 1243\n",
      "Batch   950 of 1243\n",
      "Batch  1000 of 1243\n",
      "Batch  1050 of 1243\n",
      "Batch  1100 of 1243\n",
      "Batch  1150 of 1243\n",
      "Batch  1200 of 1243\n",
      "Validation Batch    50 of 267\n",
      "Validation Batch   100 of 267\n",
      "Validation Batch   150 of 267\n",
      "Validation Batch   200 of 267\n",
      "Validation Batch   250 of 267\n",
      "\n",
      "Training Loss: 0.363\n",
      "Validation Loss: 0.350\n",
      "\n",
      " Epoch 19 / 50\n",
      "Batch    50 of 1243\n",
      "Batch   100 of 1243\n",
      "Batch   150 of 1243\n",
      "Batch   200 of 1243\n",
      "Batch   250 of 1243\n",
      "Batch   300 of 1243\n",
      "Batch   350 of 1243\n",
      "Batch   400 of 1243\n",
      "Batch   450 of 1243\n",
      "Batch   500 of 1243\n",
      "Batch   550 of 1243\n",
      "Batch   600 of 1243\n",
      "Batch   650 of 1243\n",
      "Batch   700 of 1243\n",
      "Batch   750 of 1243\n",
      "Batch   800 of 1243\n",
      "Batch   850 of 1243\n",
      "Batch   900 of 1243\n",
      "Batch   950 of 1243\n",
      "Batch  1000 of 1243\n",
      "Batch  1050 of 1243\n",
      "Batch  1100 of 1243\n",
      "Batch  1150 of 1243\n",
      "Batch  1200 of 1243\n",
      "Validation Batch    50 of 267\n",
      "Validation Batch   100 of 267\n",
      "Validation Batch   150 of 267\n",
      "Validation Batch   200 of 267\n",
      "Validation Batch   250 of 267\n",
      "\n",
      "Training Loss: 0.361\n",
      "Validation Loss: 0.352\n",
      "\n",
      " Epoch 20 / 50\n",
      "Batch    50 of 1243\n",
      "Batch   100 of 1243\n",
      "Batch   150 of 1243\n",
      "Batch   200 of 1243\n",
      "Batch   250 of 1243\n",
      "Batch   300 of 1243\n",
      "Batch   350 of 1243\n",
      "Batch   400 of 1243\n",
      "Batch   450 of 1243\n",
      "Batch   500 of 1243\n",
      "Batch   550 of 1243\n",
      "Batch   600 of 1243\n",
      "Batch   650 of 1243\n",
      "Batch   700 of 1243\n",
      "Batch   750 of 1243\n",
      "Batch   800 of 1243\n",
      "Batch   850 of 1243\n",
      "Batch   900 of 1243\n",
      "Batch   950 of 1243\n",
      "Batch  1000 of 1243\n",
      "Batch  1050 of 1243\n",
      "Batch  1100 of 1243\n",
      "Batch  1150 of 1243\n",
      "Batch  1200 of 1243\n",
      "Validation Batch    50 of 267\n",
      "Validation Batch   100 of 267\n",
      "Validation Batch   150 of 267\n",
      "Validation Batch   200 of 267\n",
      "Validation Batch   250 of 267\n",
      "\n",
      "Training Loss: 0.361\n",
      "Validation Loss: 0.345\n",
      "\n",
      " Epoch 21 / 50\n",
      "Batch    50 of 1243\n",
      "Batch   100 of 1243\n",
      "Batch   150 of 1243\n",
      "Batch   200 of 1243\n",
      "Batch   250 of 1243\n",
      "Batch   300 of 1243\n",
      "Batch   350 of 1243\n",
      "Batch   400 of 1243\n",
      "Batch   450 of 1243\n",
      "Batch   500 of 1243\n",
      "Batch   550 of 1243\n",
      "Batch   600 of 1243\n",
      "Batch   650 of 1243\n",
      "Batch   700 of 1243\n",
      "Batch   750 of 1243\n",
      "Batch   800 of 1243\n",
      "Batch   850 of 1243\n",
      "Batch   900 of 1243\n",
      "Batch   950 of 1243\n",
      "Batch  1000 of 1243\n",
      "Batch  1050 of 1243\n",
      "Batch  1100 of 1243\n",
      "Batch  1150 of 1243\n",
      "Batch  1200 of 1243\n",
      "Validation Batch    50 of 267\n",
      "Validation Batch   100 of 267\n",
      "Validation Batch   150 of 267\n",
      "Validation Batch   200 of 267\n",
      "Validation Batch   250 of 267\n",
      "\n",
      "Training Loss: 0.360\n",
      "Validation Loss: 0.346\n",
      "\n",
      " Epoch 22 / 50\n",
      "Batch    50 of 1243\n",
      "Batch   100 of 1243\n",
      "Batch   150 of 1243\n",
      "Batch   200 of 1243\n",
      "Batch   250 of 1243\n",
      "Batch   300 of 1243\n",
      "Batch   350 of 1243\n",
      "Batch   400 of 1243\n",
      "Batch   450 of 1243\n",
      "Batch   500 of 1243\n",
      "Batch   550 of 1243\n",
      "Batch   600 of 1243\n",
      "Batch   650 of 1243\n",
      "Batch   700 of 1243\n",
      "Batch   750 of 1243\n",
      "Batch   800 of 1243\n",
      "Batch   850 of 1243\n",
      "Batch   900 of 1243\n",
      "Batch   950 of 1243\n",
      "Batch  1000 of 1243\n",
      "Batch  1050 of 1243\n",
      "Batch  1100 of 1243\n",
      "Batch  1150 of 1243\n",
      "Batch  1200 of 1243\n",
      "Validation Batch    50 of 267\n",
      "Validation Batch   100 of 267\n",
      "Validation Batch   150 of 267\n",
      "Validation Batch   200 of 267\n",
      "Validation Batch   250 of 267\n",
      "\n",
      "Training Loss: 0.360\n",
      "Validation Loss: 0.345\n",
      "\n",
      " Epoch 23 / 50\n",
      "Batch    50 of 1243\n",
      "Batch   100 of 1243\n",
      "Batch   150 of 1243\n",
      "Batch   200 of 1243\n",
      "Batch   250 of 1243\n",
      "Batch   300 of 1243\n",
      "Batch   350 of 1243\n",
      "Batch   400 of 1243\n",
      "Batch   450 of 1243\n",
      "Batch   500 of 1243\n",
      "Batch   550 of 1243\n",
      "Batch   600 of 1243\n",
      "Batch   650 of 1243\n",
      "Batch   700 of 1243\n",
      "Batch   750 of 1243\n",
      "Batch   800 of 1243\n",
      "Batch   850 of 1243\n",
      "Batch   900 of 1243\n",
      "Batch   950 of 1243\n",
      "Batch  1000 of 1243\n",
      "Batch  1050 of 1243\n",
      "Batch  1100 of 1243\n",
      "Batch  1150 of 1243\n",
      "Batch  1200 of 1243\n",
      "Validation Batch    50 of 267\n",
      "Validation Batch   100 of 267\n",
      "Validation Batch   150 of 267\n",
      "Validation Batch   200 of 267\n",
      "Validation Batch   250 of 267\n",
      "\n",
      "Training Loss: 0.361\n",
      "Validation Loss: 0.346\n",
      "\n",
      " Epoch 24 / 50\n",
      "Batch    50 of 1243\n",
      "Batch   100 of 1243\n",
      "Batch   150 of 1243\n",
      "Batch   200 of 1243\n",
      "Batch   250 of 1243\n",
      "Batch   300 of 1243\n",
      "Batch   350 of 1243\n",
      "Batch   400 of 1243\n",
      "Batch   450 of 1243\n",
      "Batch   500 of 1243\n",
      "Batch   550 of 1243\n",
      "Batch   600 of 1243\n",
      "Batch   650 of 1243\n",
      "Batch   700 of 1243\n",
      "Batch   750 of 1243\n",
      "Batch   800 of 1243\n",
      "Batch   850 of 1243\n",
      "Batch   900 of 1243\n",
      "Batch   950 of 1243\n",
      "Batch  1000 of 1243\n",
      "Batch  1050 of 1243\n",
      "Batch  1100 of 1243\n",
      "Batch  1150 of 1243\n",
      "Batch  1200 of 1243\n",
      "Validation Batch    50 of 267\n",
      "Validation Batch   100 of 267\n",
      "Validation Batch   150 of 267\n",
      "Validation Batch   200 of 267\n",
      "Validation Batch   250 of 267\n",
      "\n",
      "Training Loss: 0.359\n",
      "Validation Loss: 0.344\n",
      "\n",
      " Epoch 25 / 50\n",
      "Batch    50 of 1243\n",
      "Batch   100 of 1243\n",
      "Batch   150 of 1243\n",
      "Batch   200 of 1243\n",
      "Batch   250 of 1243\n",
      "Batch   300 of 1243\n",
      "Batch   350 of 1243\n",
      "Batch   400 of 1243\n",
      "Batch   450 of 1243\n",
      "Batch   500 of 1243\n",
      "Batch   550 of 1243\n",
      "Batch   600 of 1243\n",
      "Batch   650 of 1243\n",
      "Batch   700 of 1243\n",
      "Batch   750 of 1243\n",
      "Batch   800 of 1243\n",
      "Batch   850 of 1243\n",
      "Batch   900 of 1243\n",
      "Batch   950 of 1243\n",
      "Batch  1000 of 1243\n",
      "Batch  1050 of 1243\n",
      "Batch  1100 of 1243\n",
      "Batch  1150 of 1243\n",
      "Batch  1200 of 1243\n",
      "Validation Batch    50 of 267\n",
      "Validation Batch   100 of 267\n",
      "Validation Batch   150 of 267\n",
      "Validation Batch   200 of 267\n",
      "Validation Batch   250 of 267\n",
      "\n",
      "Training Loss: 0.358\n",
      "Validation Loss: 0.345\n",
      "\n",
      " Epoch 26 / 50\n",
      "Batch    50 of 1243\n",
      "Batch   100 of 1243\n",
      "Batch   150 of 1243\n",
      "Batch   200 of 1243\n",
      "Batch   250 of 1243\n",
      "Batch   300 of 1243\n",
      "Batch   350 of 1243\n",
      "Batch   400 of 1243\n",
      "Batch   450 of 1243\n",
      "Batch   500 of 1243\n",
      "Batch   550 of 1243\n",
      "Batch   600 of 1243\n",
      "Batch   650 of 1243\n",
      "Batch   700 of 1243\n",
      "Batch   750 of 1243\n",
      "Batch   800 of 1243\n",
      "Batch   850 of 1243\n",
      "Batch   900 of 1243\n",
      "Batch   950 of 1243\n",
      "Batch  1000 of 1243\n",
      "Batch  1050 of 1243\n",
      "Batch  1100 of 1243\n",
      "Batch  1150 of 1243\n",
      "Batch  1200 of 1243\n",
      "Validation Batch    50 of 267\n",
      "Validation Batch   100 of 267\n",
      "Validation Batch   150 of 267\n",
      "Validation Batch   200 of 267\n",
      "Validation Batch   250 of 267\n",
      "\n",
      "Training Loss: 0.358\n",
      "Validation Loss: 0.345\n",
      "\n",
      " Epoch 27 / 50\n",
      "Batch    50 of 1243\n",
      "Batch   100 of 1243\n",
      "Batch   150 of 1243\n",
      "Batch   200 of 1243\n",
      "Batch   250 of 1243\n",
      "Batch   300 of 1243\n",
      "Batch   350 of 1243\n",
      "Batch   400 of 1243\n",
      "Batch   450 of 1243\n",
      "Batch   500 of 1243\n",
      "Batch   550 of 1243\n",
      "Batch   600 of 1243\n",
      "Batch   650 of 1243\n",
      "Batch   700 of 1243\n",
      "Batch   750 of 1243\n",
      "Batch   800 of 1243\n",
      "Batch   850 of 1243\n",
      "Batch   900 of 1243\n",
      "Batch   950 of 1243\n",
      "Batch  1000 of 1243\n",
      "Batch  1050 of 1243\n",
      "Batch  1100 of 1243\n",
      "Batch  1150 of 1243\n",
      "Batch  1200 of 1243\n",
      "Validation Batch    50 of 267\n",
      "Validation Batch   100 of 267\n",
      "Validation Batch   150 of 267\n",
      "Validation Batch   200 of 267\n",
      "Validation Batch   250 of 267\n",
      "\n",
      "Training Loss: 0.358\n",
      "Validation Loss: 0.348\n",
      "\n",
      " Epoch 28 / 50\n",
      "Batch    50 of 1243\n",
      "Batch   100 of 1243\n",
      "Batch   150 of 1243\n",
      "Batch   200 of 1243\n",
      "Batch   250 of 1243\n",
      "Batch   300 of 1243\n",
      "Batch   350 of 1243\n",
      "Batch   400 of 1243\n",
      "Batch   450 of 1243\n",
      "Batch   500 of 1243\n",
      "Batch   550 of 1243\n",
      "Batch   600 of 1243\n",
      "Batch   650 of 1243\n",
      "Batch   700 of 1243\n",
      "Batch   750 of 1243\n",
      "Batch   800 of 1243\n",
      "Batch   850 of 1243\n",
      "Batch   900 of 1243\n",
      "Batch   950 of 1243\n",
      "Batch  1000 of 1243\n",
      "Batch  1050 of 1243\n",
      "Batch  1100 of 1243\n",
      "Batch  1150 of 1243\n",
      "Batch  1200 of 1243\n",
      "Validation Batch    50 of 267\n",
      "Validation Batch   100 of 267\n",
      "Validation Batch   150 of 267\n",
      "Validation Batch   200 of 267\n",
      "Validation Batch   250 of 267\n",
      "\n",
      "Training Loss: 0.357\n",
      "Validation Loss: 0.347\n",
      "\n",
      " Epoch 29 / 50\n",
      "Batch    50 of 1243\n",
      "Batch   100 of 1243\n",
      "Batch   150 of 1243\n",
      "Batch   200 of 1243\n",
      "Batch   250 of 1243\n",
      "Batch   300 of 1243\n",
      "Batch   350 of 1243\n",
      "Batch   400 of 1243\n",
      "Batch   450 of 1243\n",
      "Batch   500 of 1243\n",
      "Batch   550 of 1243\n",
      "Batch   600 of 1243\n",
      "Batch   650 of 1243\n",
      "Batch   700 of 1243\n",
      "Batch   750 of 1243\n",
      "Batch   800 of 1243\n",
      "Batch   850 of 1243\n",
      "Batch   900 of 1243\n",
      "Batch   950 of 1243\n",
      "Batch  1000 of 1243\n",
      "Batch  1050 of 1243\n",
      "Batch  1100 of 1243\n",
      "Batch  1150 of 1243\n",
      "Batch  1200 of 1243\n",
      "Validation Batch    50 of 267\n",
      "Validation Batch   100 of 267\n",
      "Validation Batch   150 of 267\n",
      "Validation Batch   200 of 267\n",
      "Validation Batch   250 of 267\n",
      "\n",
      "Training Loss: 0.358\n",
      "Validation Loss: 0.344\n",
      "\n",
      " Epoch 30 / 50\n",
      "Batch    50 of 1243\n",
      "Batch   100 of 1243\n",
      "Batch   150 of 1243\n",
      "Batch   200 of 1243\n",
      "Batch   250 of 1243\n",
      "Batch   300 of 1243\n",
      "Batch   350 of 1243\n",
      "Batch   400 of 1243\n",
      "Batch   450 of 1243\n",
      "Batch   500 of 1243\n",
      "Batch   550 of 1243\n",
      "Batch   600 of 1243\n",
      "Batch   650 of 1243\n",
      "Batch   700 of 1243\n",
      "Batch   750 of 1243\n",
      "Batch   800 of 1243\n",
      "Batch   850 of 1243\n",
      "Batch   900 of 1243\n",
      "Batch   950 of 1243\n",
      "Batch  1000 of 1243\n",
      "Batch  1050 of 1243\n",
      "Batch  1100 of 1243\n",
      "Batch  1150 of 1243\n",
      "Batch  1200 of 1243\n",
      "Validation Batch    50 of 267\n",
      "Validation Batch   100 of 267\n",
      "Validation Batch   150 of 267\n",
      "Validation Batch   200 of 267\n",
      "Validation Batch   250 of 267\n",
      "\n",
      "Training Loss: 0.357\n",
      "Validation Loss: 0.342\n",
      "\n",
      " Epoch 31 / 50\n",
      "Batch    50 of 1243\n",
      "Batch   100 of 1243\n",
      "Batch   150 of 1243\n",
      "Batch   200 of 1243\n",
      "Batch   250 of 1243\n",
      "Batch   300 of 1243\n",
      "Batch   350 of 1243\n",
      "Batch   400 of 1243\n",
      "Batch   450 of 1243\n",
      "Batch   500 of 1243\n",
      "Batch   550 of 1243\n",
      "Batch   600 of 1243\n",
      "Batch   650 of 1243\n",
      "Batch   700 of 1243\n",
      "Batch   750 of 1243\n",
      "Batch   800 of 1243\n",
      "Batch   850 of 1243\n",
      "Batch   900 of 1243\n",
      "Batch   950 of 1243\n",
      "Batch  1000 of 1243\n",
      "Batch  1050 of 1243\n",
      "Batch  1100 of 1243\n",
      "Batch  1150 of 1243\n",
      "Batch  1200 of 1243\n",
      "Validation Batch    50 of 267\n",
      "Validation Batch   100 of 267\n",
      "Validation Batch   150 of 267\n",
      "Validation Batch   200 of 267\n",
      "Validation Batch   250 of 267\n",
      "\n",
      "Training Loss: 0.356\n",
      "Validation Loss: 0.342\n",
      "\n",
      " Epoch 32 / 50\n",
      "Batch    50 of 1243\n",
      "Batch   100 of 1243\n",
      "Batch   150 of 1243\n",
      "Batch   200 of 1243\n",
      "Batch   250 of 1243\n",
      "Batch   300 of 1243\n",
      "Batch   350 of 1243\n",
      "Batch   400 of 1243\n",
      "Batch   450 of 1243\n",
      "Batch   500 of 1243\n",
      "Batch   550 of 1243\n",
      "Batch   600 of 1243\n",
      "Batch   650 of 1243\n",
      "Batch   700 of 1243\n",
      "Batch   750 of 1243\n",
      "Batch   800 of 1243\n",
      "Batch   850 of 1243\n",
      "Batch   900 of 1243\n",
      "Batch   950 of 1243\n",
      "Batch  1000 of 1243\n",
      "Batch  1050 of 1243\n",
      "Batch  1100 of 1243\n",
      "Batch  1150 of 1243\n",
      "Batch  1200 of 1243\n",
      "Validation Batch    50 of 267\n",
      "Validation Batch   100 of 267\n",
      "Validation Batch   150 of 267\n",
      "Validation Batch   200 of 267\n",
      "Validation Batch   250 of 267\n",
      "\n",
      "Training Loss: 0.356\n",
      "Validation Loss: 0.348\n",
      "\n",
      " Epoch 33 / 50\n",
      "Batch    50 of 1243\n",
      "Batch   100 of 1243\n",
      "Batch   150 of 1243\n",
      "Batch   200 of 1243\n",
      "Batch   250 of 1243\n",
      "Batch   300 of 1243\n",
      "Batch   350 of 1243\n",
      "Batch   400 of 1243\n",
      "Batch   450 of 1243\n",
      "Batch   500 of 1243\n",
      "Batch   550 of 1243\n",
      "Batch   600 of 1243\n",
      "Batch   650 of 1243\n",
      "Batch   700 of 1243\n",
      "Batch   750 of 1243\n",
      "Batch   800 of 1243\n",
      "Batch   850 of 1243\n",
      "Batch   900 of 1243\n",
      "Batch   950 of 1243\n",
      "Batch  1000 of 1243\n",
      "Batch  1050 of 1243\n",
      "Batch  1100 of 1243\n",
      "Batch  1150 of 1243\n",
      "Batch  1200 of 1243\n",
      "Validation Batch    50 of 267\n",
      "Validation Batch   100 of 267\n",
      "Validation Batch   150 of 267\n",
      "Validation Batch   200 of 267\n",
      "Validation Batch   250 of 267\n",
      "\n",
      "Training Loss: 0.357\n",
      "Validation Loss: 0.341\n",
      "\n",
      " Epoch 34 / 50\n",
      "Batch    50 of 1243\n",
      "Batch   100 of 1243\n",
      "Batch   150 of 1243\n",
      "Batch   200 of 1243\n",
      "Batch   250 of 1243\n",
      "Batch   300 of 1243\n",
      "Batch   350 of 1243\n",
      "Batch   400 of 1243\n",
      "Batch   450 of 1243\n",
      "Batch   500 of 1243\n",
      "Batch   550 of 1243\n",
      "Batch   600 of 1243\n",
      "Batch   650 of 1243\n",
      "Batch   700 of 1243\n",
      "Batch   750 of 1243\n",
      "Batch   800 of 1243\n",
      "Batch   850 of 1243\n",
      "Batch   900 of 1243\n",
      "Batch   950 of 1243\n",
      "Batch  1000 of 1243\n",
      "Batch  1050 of 1243\n",
      "Batch  1100 of 1243\n",
      "Batch  1150 of 1243\n",
      "Batch  1200 of 1243\n",
      "Validation Batch    50 of 267\n",
      "Validation Batch   100 of 267\n",
      "Validation Batch   150 of 267\n",
      "Validation Batch   200 of 267\n",
      "Validation Batch   250 of 267\n",
      "\n",
      "Training Loss: 0.356\n",
      "Validation Loss: 0.343\n",
      "\n",
      " Epoch 35 / 50\n",
      "Batch    50 of 1243\n",
      "Batch   100 of 1243\n",
      "Batch   150 of 1243\n",
      "Batch   200 of 1243\n",
      "Batch   250 of 1243\n",
      "Batch   300 of 1243\n",
      "Batch   350 of 1243\n",
      "Batch   400 of 1243\n",
      "Batch   450 of 1243\n",
      "Batch   500 of 1243\n",
      "Batch   550 of 1243\n",
      "Batch   600 of 1243\n",
      "Batch   650 of 1243\n",
      "Batch   700 of 1243\n",
      "Batch   750 of 1243\n",
      "Batch   800 of 1243\n",
      "Batch   850 of 1243\n",
      "Batch   900 of 1243\n",
      "Batch   950 of 1243\n",
      "Batch  1000 of 1243\n",
      "Batch  1050 of 1243\n",
      "Batch  1100 of 1243\n",
      "Batch  1150 of 1243\n",
      "Batch  1200 of 1243\n",
      "Validation Batch    50 of 267\n",
      "Validation Batch   100 of 267\n",
      "Validation Batch   150 of 267\n",
      "Validation Batch   200 of 267\n",
      "Validation Batch   250 of 267\n",
      "\n",
      "Training Loss: 0.356\n",
      "Validation Loss: 0.340\n",
      "\n",
      " Epoch 36 / 50\n",
      "Batch    50 of 1243\n",
      "Batch   100 of 1243\n",
      "Batch   150 of 1243\n",
      "Batch   200 of 1243\n",
      "Batch   250 of 1243\n",
      "Batch   300 of 1243\n",
      "Batch   350 of 1243\n",
      "Batch   400 of 1243\n",
      "Batch   450 of 1243\n",
      "Batch   500 of 1243\n",
      "Batch   550 of 1243\n",
      "Batch   600 of 1243\n",
      "Batch   650 of 1243\n",
      "Batch   700 of 1243\n",
      "Batch   750 of 1243\n",
      "Batch   800 of 1243\n",
      "Batch   850 of 1243\n",
      "Batch   900 of 1243\n",
      "Batch   950 of 1243\n",
      "Batch  1000 of 1243\n",
      "Batch  1050 of 1243\n",
      "Batch  1100 of 1243\n",
      "Batch  1150 of 1243\n",
      "Batch  1200 of 1243\n",
      "Validation Batch    50 of 267\n",
      "Validation Batch   100 of 267\n",
      "Validation Batch   150 of 267\n",
      "Validation Batch   200 of 267\n",
      "Validation Batch   250 of 267\n",
      "\n",
      "Training Loss: 0.354\n",
      "Validation Loss: 0.341\n",
      "\n",
      " Epoch 37 / 50\n",
      "Batch    50 of 1243\n",
      "Batch   100 of 1243\n",
      "Batch   150 of 1243\n",
      "Batch   200 of 1243\n",
      "Batch   250 of 1243\n",
      "Batch   300 of 1243\n",
      "Batch   350 of 1243\n",
      "Batch   400 of 1243\n",
      "Batch   450 of 1243\n",
      "Batch   500 of 1243\n",
      "Batch   550 of 1243\n",
      "Batch   600 of 1243\n",
      "Batch   650 of 1243\n",
      "Batch   700 of 1243\n",
      "Batch   750 of 1243\n",
      "Batch   800 of 1243\n",
      "Batch   850 of 1243\n",
      "Batch   900 of 1243\n",
      "Batch   950 of 1243\n",
      "Batch  1000 of 1243\n",
      "Batch  1050 of 1243\n",
      "Batch  1100 of 1243\n",
      "Batch  1150 of 1243\n",
      "Batch  1200 of 1243\n",
      "Validation Batch    50 of 267\n",
      "Validation Batch   100 of 267\n",
      "Validation Batch   150 of 267\n",
      "Validation Batch   200 of 267\n",
      "Validation Batch   250 of 267\n",
      "\n",
      "Training Loss: 0.355\n",
      "Validation Loss: 0.339\n",
      "\n",
      " Epoch 38 / 50\n",
      "Batch    50 of 1243\n",
      "Batch   100 of 1243\n",
      "Batch   150 of 1243\n",
      "Batch   200 of 1243\n",
      "Batch   250 of 1243\n",
      "Batch   300 of 1243\n",
      "Batch   350 of 1243\n",
      "Batch   400 of 1243\n",
      "Batch   450 of 1243\n",
      "Batch   500 of 1243\n",
      "Batch   550 of 1243\n",
      "Batch   600 of 1243\n",
      "Batch   650 of 1243\n",
      "Batch   700 of 1243\n",
      "Batch   750 of 1243\n",
      "Batch   800 of 1243\n",
      "Batch   850 of 1243\n",
      "Batch   900 of 1243\n",
      "Batch   950 of 1243\n",
      "Batch  1000 of 1243\n",
      "Batch  1050 of 1243\n",
      "Batch  1100 of 1243\n",
      "Batch  1150 of 1243\n",
      "Batch  1200 of 1243\n",
      "Validation Batch    50 of 267\n",
      "Validation Batch   100 of 267\n",
      "Validation Batch   150 of 267\n",
      "Validation Batch   200 of 267\n",
      "Validation Batch   250 of 267\n",
      "\n",
      "Training Loss: 0.355\n",
      "Validation Loss: 0.341\n",
      "\n",
      " Epoch 39 / 50\n",
      "Batch    50 of 1243\n",
      "Batch   100 of 1243\n",
      "Batch   150 of 1243\n",
      "Batch   200 of 1243\n",
      "Batch   250 of 1243\n",
      "Batch   300 of 1243\n",
      "Batch   350 of 1243\n",
      "Batch   400 of 1243\n",
      "Batch   450 of 1243\n",
      "Batch   500 of 1243\n",
      "Batch   550 of 1243\n",
      "Batch   600 of 1243\n",
      "Batch   650 of 1243\n",
      "Batch   700 of 1243\n",
      "Batch   750 of 1243\n",
      "Batch   800 of 1243\n",
      "Batch   850 of 1243\n",
      "Batch   900 of 1243\n",
      "Batch   950 of 1243\n",
      "Batch  1000 of 1243\n",
      "Batch  1050 of 1243\n",
      "Batch  1100 of 1243\n",
      "Batch  1150 of 1243\n",
      "Batch  1200 of 1243\n",
      "Validation Batch    50 of 267\n",
      "Validation Batch   100 of 267\n",
      "Validation Batch   150 of 267\n",
      "Validation Batch   200 of 267\n",
      "Validation Batch   250 of 267\n",
      "\n",
      "Training Loss: 0.353\n",
      "Validation Loss: 0.342\n",
      "\n",
      " Epoch 40 / 50\n",
      "Batch    50 of 1243\n",
      "Batch   100 of 1243\n",
      "Batch   150 of 1243\n",
      "Batch   200 of 1243\n",
      "Batch   250 of 1243\n",
      "Batch   300 of 1243\n",
      "Batch   350 of 1243\n",
      "Batch   400 of 1243\n",
      "Batch   450 of 1243\n",
      "Batch   500 of 1243\n",
      "Batch   550 of 1243\n",
      "Batch   600 of 1243\n",
      "Batch   650 of 1243\n",
      "Batch   700 of 1243\n",
      "Batch   750 of 1243\n",
      "Batch   800 of 1243\n",
      "Batch   850 of 1243\n",
      "Batch   900 of 1243\n",
      "Batch   950 of 1243\n",
      "Batch  1000 of 1243\n",
      "Batch  1050 of 1243\n",
      "Batch  1100 of 1243\n",
      "Batch  1150 of 1243\n",
      "Batch  1200 of 1243\n",
      "Validation Batch    50 of 267\n",
      "Validation Batch   100 of 267\n",
      "Validation Batch   150 of 267\n",
      "Validation Batch   200 of 267\n",
      "Validation Batch   250 of 267\n",
      "\n",
      "Training Loss: 0.354\n",
      "Validation Loss: 0.340\n",
      "\n",
      " Epoch 41 / 50\n",
      "Batch    50 of 1243\n",
      "Batch   100 of 1243\n",
      "Batch   150 of 1243\n",
      "Batch   200 of 1243\n",
      "Batch   250 of 1243\n",
      "Batch   300 of 1243\n",
      "Batch   350 of 1243\n",
      "Batch   400 of 1243\n",
      "Batch   450 of 1243\n",
      "Batch   500 of 1243\n",
      "Batch   550 of 1243\n",
      "Batch   600 of 1243\n",
      "Batch   650 of 1243\n",
      "Batch   700 of 1243\n",
      "Batch   750 of 1243\n",
      "Batch   800 of 1243\n",
      "Batch   850 of 1243\n",
      "Batch   900 of 1243\n",
      "Batch   950 of 1243\n",
      "Batch  1000 of 1243\n",
      "Batch  1050 of 1243\n",
      "Batch  1100 of 1243\n",
      "Batch  1150 of 1243\n",
      "Batch  1200 of 1243\n",
      "Validation Batch    50 of 267\n",
      "Validation Batch   100 of 267\n",
      "Validation Batch   150 of 267\n",
      "Validation Batch   200 of 267\n",
      "Validation Batch   250 of 267\n",
      "\n",
      "Training Loss: 0.352\n",
      "Validation Loss: 0.339\n",
      "\n",
      " Epoch 42 / 50\n",
      "Batch    50 of 1243\n",
      "Batch   100 of 1243\n",
      "Batch   150 of 1243\n",
      "Batch   200 of 1243\n",
      "Batch   250 of 1243\n",
      "Batch   300 of 1243\n",
      "Batch   350 of 1243\n",
      "Batch   400 of 1243\n",
      "Batch   450 of 1243\n",
      "Batch   500 of 1243\n",
      "Batch   550 of 1243\n",
      "Batch   600 of 1243\n",
      "Batch   650 of 1243\n",
      "Batch   700 of 1243\n",
      "Batch   750 of 1243\n",
      "Batch   800 of 1243\n",
      "Batch   850 of 1243\n",
      "Batch   900 of 1243\n",
      "Batch   950 of 1243\n",
      "Batch  1000 of 1243\n",
      "Batch  1050 of 1243\n",
      "Batch  1100 of 1243\n",
      "Batch  1150 of 1243\n",
      "Batch  1200 of 1243\n",
      "Validation Batch    50 of 267\n",
      "Validation Batch   100 of 267\n",
      "Validation Batch   150 of 267\n",
      "Validation Batch   200 of 267\n",
      "Validation Batch   250 of 267\n",
      "\n",
      "Training Loss: 0.355\n",
      "Validation Loss: 0.340\n",
      "\n",
      " Epoch 43 / 50\n",
      "Batch    50 of 1243\n",
      "Batch   100 of 1243\n",
      "Batch   150 of 1243\n",
      "Batch   200 of 1243\n",
      "Batch   250 of 1243\n",
      "Batch   300 of 1243\n",
      "Batch   350 of 1243\n",
      "Batch   400 of 1243\n",
      "Batch   450 of 1243\n",
      "Batch   500 of 1243\n",
      "Batch   550 of 1243\n",
      "Batch   600 of 1243\n",
      "Batch   650 of 1243\n",
      "Batch   700 of 1243\n",
      "Batch   750 of 1243\n",
      "Batch   800 of 1243\n",
      "Batch   850 of 1243\n",
      "Batch   900 of 1243\n",
      "Batch   950 of 1243\n",
      "Batch  1000 of 1243\n",
      "Batch  1050 of 1243\n",
      "Batch  1100 of 1243\n",
      "Batch  1150 of 1243\n",
      "Batch  1200 of 1243\n",
      "Validation Batch    50 of 267\n",
      "Validation Batch   100 of 267\n",
      "Validation Batch   150 of 267\n",
      "Validation Batch   200 of 267\n",
      "Validation Batch   250 of 267\n",
      "\n",
      "Training Loss: 0.353\n",
      "Validation Loss: 0.340\n",
      "\n",
      " Epoch 44 / 50\n",
      "Batch    50 of 1243\n",
      "Batch   100 of 1243\n",
      "Batch   150 of 1243\n",
      "Batch   200 of 1243\n",
      "Batch   250 of 1243\n",
      "Batch   300 of 1243\n",
      "Batch   350 of 1243\n",
      "Batch   400 of 1243\n",
      "Batch   450 of 1243\n",
      "Batch   500 of 1243\n",
      "Batch   550 of 1243\n",
      "Batch   600 of 1243\n",
      "Batch   650 of 1243\n",
      "Batch   700 of 1243\n",
      "Batch   750 of 1243\n",
      "Batch   800 of 1243\n",
      "Batch   850 of 1243\n",
      "Batch   900 of 1243\n",
      "Batch   950 of 1243\n",
      "Batch  1000 of 1243\n",
      "Batch  1050 of 1243\n",
      "Batch  1100 of 1243\n",
      "Batch  1150 of 1243\n",
      "Batch  1200 of 1243\n",
      "Validation Batch    50 of 267\n",
      "Validation Batch   100 of 267\n",
      "Validation Batch   150 of 267\n",
      "Validation Batch   200 of 267\n",
      "Validation Batch   250 of 267\n",
      "\n",
      "Training Loss: 0.352\n",
      "Validation Loss: 0.341\n",
      "\n",
      " Epoch 45 / 50\n",
      "Batch    50 of 1243\n",
      "Batch   100 of 1243\n",
      "Batch   150 of 1243\n",
      "Batch   200 of 1243\n",
      "Batch   250 of 1243\n",
      "Batch   300 of 1243\n",
      "Batch   350 of 1243\n",
      "Batch   400 of 1243\n",
      "Batch   450 of 1243\n",
      "Batch   500 of 1243\n",
      "Batch   550 of 1243\n",
      "Batch   600 of 1243\n",
      "Batch   650 of 1243\n",
      "Batch   700 of 1243\n",
      "Batch   750 of 1243\n",
      "Batch   800 of 1243\n",
      "Batch   850 of 1243\n",
      "Batch   900 of 1243\n",
      "Batch   950 of 1243\n",
      "Batch  1000 of 1243\n",
      "Batch  1050 of 1243\n",
      "Batch  1100 of 1243\n",
      "Batch  1150 of 1243\n",
      "Batch  1200 of 1243\n",
      "Validation Batch    50 of 267\n",
      "Validation Batch   100 of 267\n",
      "Validation Batch   150 of 267\n",
      "Validation Batch   200 of 267\n",
      "Validation Batch   250 of 267\n",
      "\n",
      "Training Loss: 0.352\n",
      "Validation Loss: 0.338\n",
      "\n",
      " Epoch 46 / 50\n",
      "Batch    50 of 1243\n",
      "Batch   100 of 1243\n",
      "Batch   150 of 1243\n",
      "Batch   200 of 1243\n",
      "Batch   250 of 1243\n",
      "Batch   300 of 1243\n",
      "Batch   350 of 1243\n",
      "Batch   400 of 1243\n",
      "Batch   450 of 1243\n",
      "Batch   500 of 1243\n",
      "Batch   550 of 1243\n",
      "Batch   600 of 1243\n",
      "Batch   650 of 1243\n",
      "Batch   700 of 1243\n",
      "Batch   750 of 1243\n",
      "Batch   800 of 1243\n",
      "Batch   850 of 1243\n",
      "Batch   900 of 1243\n",
      "Batch   950 of 1243\n",
      "Batch  1000 of 1243\n",
      "Batch  1050 of 1243\n",
      "Batch  1100 of 1243\n",
      "Batch  1150 of 1243\n",
      "Batch  1200 of 1243\n",
      "Validation Batch    50 of 267\n",
      "Validation Batch   100 of 267\n",
      "Validation Batch   150 of 267\n",
      "Validation Batch   200 of 267\n",
      "Validation Batch   250 of 267\n",
      "\n",
      "Training Loss: 0.353\n",
      "Validation Loss: 0.338\n",
      "\n",
      " Epoch 47 / 50\n",
      "Batch    50 of 1243\n",
      "Batch   100 of 1243\n",
      "Batch   150 of 1243\n",
      "Batch   200 of 1243\n",
      "Batch   250 of 1243\n",
      "Batch   300 of 1243\n",
      "Batch   350 of 1243\n",
      "Batch   400 of 1243\n",
      "Batch   450 of 1243\n",
      "Batch   500 of 1243\n",
      "Batch   550 of 1243\n",
      "Batch   600 of 1243\n",
      "Batch   650 of 1243\n",
      "Batch   700 of 1243\n",
      "Batch   750 of 1243\n",
      "Batch   800 of 1243\n",
      "Batch   850 of 1243\n",
      "Batch   900 of 1243\n",
      "Batch   950 of 1243\n",
      "Batch  1000 of 1243\n",
      "Batch  1050 of 1243\n",
      "Batch  1100 of 1243\n",
      "Batch  1150 of 1243\n",
      "Batch  1200 of 1243\n",
      "Validation Batch    50 of 267\n",
      "Validation Batch   100 of 267\n",
      "Validation Batch   150 of 267\n",
      "Validation Batch   200 of 267\n",
      "Validation Batch   250 of 267\n",
      "\n",
      "Training Loss: 0.353\n",
      "Validation Loss: 0.338\n",
      "\n",
      " Epoch 48 / 50\n",
      "Batch    50 of 1243\n",
      "Batch   100 of 1243\n",
      "Batch   150 of 1243\n",
      "Batch   200 of 1243\n",
      "Batch   250 of 1243\n",
      "Batch   300 of 1243\n",
      "Batch   350 of 1243\n",
      "Batch   400 of 1243\n",
      "Batch   450 of 1243\n",
      "Batch   500 of 1243\n",
      "Batch   550 of 1243\n",
      "Batch   600 of 1243\n",
      "Batch   650 of 1243\n",
      "Batch   700 of 1243\n",
      "Batch   750 of 1243\n",
      "Batch   800 of 1243\n",
      "Batch   850 of 1243\n",
      "Batch   900 of 1243\n",
      "Batch   950 of 1243\n",
      "Batch  1000 of 1243\n",
      "Batch  1050 of 1243\n",
      "Batch  1100 of 1243\n",
      "Batch  1150 of 1243\n",
      "Batch  1200 of 1243\n",
      "Validation Batch    50 of 267\n",
      "Validation Batch   100 of 267\n",
      "Validation Batch   150 of 267\n",
      "Validation Batch   200 of 267\n",
      "Validation Batch   250 of 267\n",
      "\n",
      "Training Loss: 0.352\n",
      "Validation Loss: 0.341\n",
      "\n",
      " Epoch 49 / 50\n",
      "Batch    50 of 1243\n",
      "Batch   100 of 1243\n",
      "Batch   150 of 1243\n",
      "Batch   200 of 1243\n",
      "Batch   250 of 1243\n",
      "Batch   300 of 1243\n",
      "Batch   350 of 1243\n",
      "Batch   400 of 1243\n",
      "Batch   450 of 1243\n",
      "Batch   500 of 1243\n",
      "Batch   550 of 1243\n",
      "Batch   600 of 1243\n",
      "Batch   650 of 1243\n",
      "Batch   700 of 1243\n",
      "Batch   750 of 1243\n",
      "Batch   800 of 1243\n",
      "Batch   850 of 1243\n",
      "Batch   900 of 1243\n",
      "Batch   950 of 1243\n",
      "Batch  1000 of 1243\n",
      "Batch  1050 of 1243\n",
      "Batch  1100 of 1243\n",
      "Batch  1150 of 1243\n",
      "Batch  1200 of 1243\n",
      "Validation Batch    50 of 267\n",
      "Validation Batch   100 of 267\n",
      "Validation Batch   150 of 267\n",
      "Validation Batch   200 of 267\n",
      "Validation Batch   250 of 267\n",
      "\n",
      "Training Loss: 0.352\n",
      "Validation Loss: 0.338\n",
      "\n",
      " Epoch 50 / 50\n",
      "Batch    50 of 1243\n",
      "Batch   100 of 1243\n",
      "Batch   150 of 1243\n",
      "Batch   200 of 1243\n",
      "Batch   250 of 1243\n",
      "Batch   300 of 1243\n",
      "Batch   350 of 1243\n",
      "Batch   400 of 1243\n",
      "Batch   450 of 1243\n",
      "Batch   500 of 1243\n",
      "Batch   550 of 1243\n",
      "Batch   600 of 1243\n",
      "Batch   650 of 1243\n",
      "Batch   700 of 1243\n",
      "Batch   750 of 1243\n",
      "Batch   800 of 1243\n",
      "Batch   850 of 1243\n",
      "Batch   900 of 1243\n",
      "Batch   950 of 1243\n",
      "Batch  1000 of 1243\n",
      "Batch  1050 of 1243\n",
      "Batch  1100 of 1243\n",
      "Batch  1150 of 1243\n",
      "Batch  1200 of 1243\n",
      "Validation Batch    50 of 267\n",
      "Validation Batch   100 of 267\n",
      "Validation Batch   150 of 267\n",
      "Validation Batch   200 of 267\n",
      "Validation Batch   250 of 267\n",
      "\n",
      "Training Loss: 0.351\n",
      "Validation Loss: 0.337\n"
     ]
    }
   ],
   "source": [
    "# Model training\n",
    "epochs = 50\n",
    "best_valid_loss = float('inf')\n",
    "train_losses = []\n",
    "valid_losses = []\n",
    "\n",
    "for epoch in range(epochs):\n",
    "    print('\\n Epoch {:} / {:}'.format(epoch + 1, epochs))\n",
    "    train_loss = train()\n",
    "    valid_loss = evaluate()\n",
    "    if valid_loss < best_valid_loss:\n",
    "        best_valid_loss = valid_loss\n",
    "        torch.save(model.state_dict(), 'saved_weights_new.pt')\n",
    "    train_losses.append(train_loss)\n",
    "    valid_losses.append(valid_loss)\n",
    "    print(f'\\nTraining Loss: {train_loss:.3f}')\n",
    "    print(f'Validation Loss: {valid_loss:.3f}')"
   ]
  },
  {
   "cell_type": "markdown",
   "metadata": {
    "id": "Qp7jw9a6qiPt"
   },
   "source": [
    "### Model performance"
   ]
  },
  {
   "cell_type": "code",
   "execution_count": 20,
   "metadata": {
    "colab": {
     "base_uri": "https://localhost:8080/"
    },
    "executionInfo": {
     "elapsed": 885,
     "status": "ok",
     "timestamp": 1700195284485,
     "user": {
      "displayName": "Honglai Peng",
      "userId": "09422365991702136955"
     },
     "user_tz": 300
    },
    "id": "1fVcPQH5oTc6",
    "outputId": "04a05cb0-636f-422a-eb3c-0dc192f134ee"
   },
   "outputs": [
    {
     "data": {
      "text/plain": [
       "BERT_Arch(\n",
       "  (bert): BertModel(\n",
       "    (embeddings): BertEmbeddings(\n",
       "      (word_embeddings): Embedding(30522, 768, padding_idx=0)\n",
       "      (position_embeddings): Embedding(512, 768)\n",
       "      (token_type_embeddings): Embedding(2, 768)\n",
       "      (LayerNorm): LayerNorm((768,), eps=1e-12, elementwise_affine=True)\n",
       "      (dropout): Dropout(p=0.1, inplace=False)\n",
       "    )\n",
       "    (encoder): BertEncoder(\n",
       "      (layer): ModuleList(\n",
       "        (0-11): 12 x BertLayer(\n",
       "          (attention): BertAttention(\n",
       "            (self): BertSelfAttention(\n",
       "              (query): Linear(in_features=768, out_features=768, bias=True)\n",
       "              (key): Linear(in_features=768, out_features=768, bias=True)\n",
       "              (value): Linear(in_features=768, out_features=768, bias=True)\n",
       "              (dropout): Dropout(p=0.1, inplace=False)\n",
       "            )\n",
       "            (output): BertSelfOutput(\n",
       "              (dense): Linear(in_features=768, out_features=768, bias=True)\n",
       "              (LayerNorm): LayerNorm((768,), eps=1e-12, elementwise_affine=True)\n",
       "              (dropout): Dropout(p=0.1, inplace=False)\n",
       "            )\n",
       "          )\n",
       "          (intermediate): BertIntermediate(\n",
       "            (dense): Linear(in_features=768, out_features=3072, bias=True)\n",
       "            (intermediate_act_fn): GELUActivation()\n",
       "          )\n",
       "          (output): BertOutput(\n",
       "            (dense): Linear(in_features=3072, out_features=768, bias=True)\n",
       "            (LayerNorm): LayerNorm((768,), eps=1e-12, elementwise_affine=True)\n",
       "            (dropout): Dropout(p=0.1, inplace=False)\n",
       "          )\n",
       "        )\n",
       "      )\n",
       "    )\n",
       "    (pooler): BertPooler(\n",
       "      (dense): Linear(in_features=768, out_features=768, bias=True)\n",
       "      (activation): Tanh()\n",
       "    )\n",
       "  )\n",
       "  (dropout): Dropout(p=0.1, inplace=False)\n",
       "  (relu): ReLU()\n",
       "  (fc1): Linear(in_features=768, out_features=512, bias=True)\n",
       "  (fc2): Linear(in_features=512, out_features=2, bias=True)\n",
       "  (softmax): LogSoftmax(dim=1)\n",
       ")"
      ]
     },
     "execution_count": 20,
     "metadata": {},
     "output_type": "execute_result"
    }
   ],
   "source": [
    "model_test = BERT_Arch(bert)\n",
    "model_test.load_state_dict(torch.load('saved_weights_new.pt'))\n",
    "model_test.to(device)  # Make sure to move the model to the same device (GPU/CPU) as the test data\n"
   ]
  },
  {
   "cell_type": "code",
   "execution_count": 21,
   "metadata": {
    "colab": {
     "base_uri": "https://localhost:8080/"
    },
    "executionInfo": {
     "elapsed": 7148,
     "status": "ok",
     "timestamp": 1700195297070,
     "user": {
      "displayName": "Honglai Peng",
      "userId": "09422365991702136955"
     },
     "user_tz": 300
    },
    "id": "aRgRYquAoWbu",
    "outputId": "2faf4279-9285-4b2b-de2a-fa3d9219a089"
   },
   "outputs": [
    {
     "name": "stdout",
     "output_type": "stream",
     "text": [
      "              precision    recall  f1-score   support\n",
      "\n",
      "           0       0.98      0.77      0.86      5405\n",
      "           1       0.71      0.97      0.82      3118\n",
      "\n",
      "    accuracy                           0.84      8523\n",
      "   macro avg       0.85      0.87      0.84      8523\n",
      "weighted avg       0.88      0.84      0.85      8523\n",
      "\n"
     ]
    }
   ],
   "source": [
    "# Evaluate the model\n",
    "true_labels, predictions = evaluate_test(model_test, test_dataloader)\n",
    "\n",
    "# Print classification report\n",
    "print(classification_report(true_labels, predictions))\n"
   ]
  },
  {
   "cell_type": "markdown",
   "metadata": {
    "id": "P95XPCMoq8nN"
   },
   "source": [
    "## Fake News Predictions"
   ]
  },
  {
   "cell_type": "code",
   "execution_count": 22,
   "metadata": {
    "executionInfo": {
     "elapsed": 194,
     "status": "ok",
     "timestamp": 1700195305667,
     "user": {
      "displayName": "Honglai Peng",
      "userId": "09422365991702136955"
     },
     "user_tz": 300
    },
    "id": "hVr9XJT14dO2"
   },
   "outputs": [],
   "source": [
    "from tqdm import tqdm"
   ]
  },
  {
   "cell_type": "code",
   "execution_count": 1,
   "metadata": {
    "executionInfo": {
     "elapsed": 1,
     "status": "ok",
     "timestamp": 1700334441955,
     "user": {
      "displayName": "Honglai Peng",
      "userId": "09422365991702136955"
     },
     "user_tz": 300
    },
    "id": "Il58S19lz9lb"
   },
   "outputs": [],
   "source": [
    "import time\n",
    "import os as os"
   ]
  },
  {
   "cell_type": "code",
   "execution_count": 24,
   "metadata": {
    "colab": {
     "base_uri": "https://localhost:8080/"
    },
    "executionInfo": {
     "elapsed": 6109534,
     "status": "ok",
     "timestamp": 1700201429234,
     "user": {
      "displayName": "Honglai Peng",
      "userId": "09422365991702136955"
     },
     "user_tz": 300
    },
    "id": "vooQxtj5UBt-",
    "outputId": "7d910250-2745-4d14-ad1f-c1b71bfddbc5"
   },
   "outputs": [
    {
     "name": "stderr",
     "output_type": "stream",
     "text": [
      "Processing Chunks:   0%|          | 1/760 [00:11<2:19:44, 11.05s/it]"
     ]
    },
    {
     "name": "stdout",
     "output_type": "stream",
     "text": [
      "Chunk 1 saved as data_new_combined/1.csv\n"
     ]
    },
    {
     "name": "stderr",
     "output_type": "stream",
     "text": [
      "Processing Chunks:   0%|          | 2/760 [00:21<2:14:28, 10.64s/it]"
     ]
    },
    {
     "name": "stdout",
     "output_type": "stream",
     "text": [
      "Chunk 2 saved as data_new_combined/2.csv\n"
     ]
    },
    {
     "name": "stderr",
     "output_type": "stream",
     "text": [
      "Processing Chunks:   0%|          | 3/760 [00:32<2:15:08, 10.71s/it]"
     ]
    },
    {
     "name": "stdout",
     "output_type": "stream",
     "text": [
      "Chunk 3 saved as data_new_combined/3.csv\n"
     ]
    },
    {
     "name": "stderr",
     "output_type": "stream",
     "text": [
      "Processing Chunks:   1%|          | 4/760 [00:40<2:03:24,  9.79s/it]"
     ]
    },
    {
     "name": "stdout",
     "output_type": "stream",
     "text": [
      "Chunk 4 saved as data_new_combined/4.csv\n"
     ]
    },
    {
     "name": "stderr",
     "output_type": "stream",
     "text": [
      "Processing Chunks:   1%|          | 5/760 [00:51<2:08:17, 10.20s/it]"
     ]
    },
    {
     "name": "stdout",
     "output_type": "stream",
     "text": [
      "Chunk 5 saved as data_new_combined/5.csv\n"
     ]
    },
    {
     "name": "stderr",
     "output_type": "stream",
     "text": [
      "Processing Chunks:   1%|          | 6/760 [01:00<2:04:48,  9.93s/it]"
     ]
    },
    {
     "name": "stdout",
     "output_type": "stream",
     "text": [
      "Chunk 6 saved as data_new_combined/6.csv\n"
     ]
    },
    {
     "name": "stderr",
     "output_type": "stream",
     "text": [
      "Processing Chunks:   1%|          | 7/760 [01:08<1:56:46,  9.30s/it]"
     ]
    },
    {
     "name": "stdout",
     "output_type": "stream",
     "text": [
      "Chunk 7 saved as data_new_combined/7.csv\n"
     ]
    },
    {
     "name": "stderr",
     "output_type": "stream",
     "text": [
      "Processing Chunks:   1%|          | 8/760 [01:15<1:46:28,  8.50s/it]"
     ]
    },
    {
     "name": "stdout",
     "output_type": "stream",
     "text": [
      "Chunk 8 saved as data_new_combined/8.csv\n"
     ]
    },
    {
     "name": "stderr",
     "output_type": "stream",
     "text": [
      "Processing Chunks:   1%|          | 9/760 [01:22<1:40:00,  7.99s/it]"
     ]
    },
    {
     "name": "stdout",
     "output_type": "stream",
     "text": [
      "Chunk 9 saved as data_new_combined/9.csv\n"
     ]
    },
    {
     "name": "stderr",
     "output_type": "stream",
     "text": [
      "Processing Chunks:   1%|▏         | 10/760 [01:30<1:38:10,  7.85s/it]"
     ]
    },
    {
     "name": "stdout",
     "output_type": "stream",
     "text": [
      "Chunk 10 saved as data_new_combined/10.csv\n"
     ]
    },
    {
     "name": "stderr",
     "output_type": "stream",
     "text": [
      "Processing Chunks:   1%|▏         | 11/760 [01:43<2:00:32,  9.66s/it]"
     ]
    },
    {
     "name": "stdout",
     "output_type": "stream",
     "text": [
      "Chunk 11 saved as data_new_combined/11.csv\n"
     ]
    },
    {
     "name": "stderr",
     "output_type": "stream",
     "text": [
      "Processing Chunks:   2%|▏         | 12/760 [01:47<1:37:44,  7.84s/it]"
     ]
    },
    {
     "name": "stdout",
     "output_type": "stream",
     "text": [
      "Chunk 12 saved as data_new_combined/12.csv\n"
     ]
    },
    {
     "name": "stderr",
     "output_type": "stream",
     "text": [
      "Processing Chunks:   2%|▏         | 13/760 [01:56<1:42:08,  8.20s/it]"
     ]
    },
    {
     "name": "stdout",
     "output_type": "stream",
     "text": [
      "Chunk 13 saved as data_new_combined/13.csv\n"
     ]
    },
    {
     "name": "stderr",
     "output_type": "stream",
     "text": [
      "Processing Chunks:   2%|▏         | 14/760 [02:10<2:03:30,  9.93s/it]"
     ]
    },
    {
     "name": "stdout",
     "output_type": "stream",
     "text": [
      "Chunk 14 saved as data_new_combined/14.csv\n"
     ]
    },
    {
     "name": "stderr",
     "output_type": "stream",
     "text": [
      "Processing Chunks:   2%|▏         | 15/760 [02:17<1:52:52,  9.09s/it]"
     ]
    },
    {
     "name": "stdout",
     "output_type": "stream",
     "text": [
      "Chunk 15 saved as data_new_combined/15.csv\n"
     ]
    },
    {
     "name": "stderr",
     "output_type": "stream",
     "text": [
      "Processing Chunks:   2%|▏         | 16/760 [02:24<1:46:02,  8.55s/it]"
     ]
    },
    {
     "name": "stdout",
     "output_type": "stream",
     "text": [
      "Chunk 16 saved as data_new_combined/16.csv\n"
     ]
    },
    {
     "name": "stderr",
     "output_type": "stream",
     "text": [
      "Processing Chunks:   2%|▏         | 17/760 [02:29<1:32:15,  7.45s/it]"
     ]
    },
    {
     "name": "stdout",
     "output_type": "stream",
     "text": [
      "Chunk 17 saved as data_new_combined/17.csv\n"
     ]
    },
    {
     "name": "stderr",
     "output_type": "stream",
     "text": [
      "Processing Chunks:   2%|▏         | 18/760 [02:38<1:37:45,  7.91s/it]"
     ]
    },
    {
     "name": "stdout",
     "output_type": "stream",
     "text": [
      "Chunk 18 saved as data_new_combined/18.csv\n"
     ]
    },
    {
     "name": "stderr",
     "output_type": "stream",
     "text": [
      "Processing Chunks:   2%|▎         | 19/760 [02:52<1:57:48,  9.54s/it]"
     ]
    },
    {
     "name": "stdout",
     "output_type": "stream",
     "text": [
      "Chunk 19 saved as data_new_combined/19.csv\n"
     ]
    },
    {
     "name": "stderr",
     "output_type": "stream",
     "text": [
      "Processing Chunks:   3%|▎         | 20/760 [02:52<1:23:06,  6.74s/it]"
     ]
    },
    {
     "name": "stdout",
     "output_type": "stream",
     "text": [
      "Chunk 20 saved as data_new_combined/20.csv\n"
     ]
    },
    {
     "name": "stderr",
     "output_type": "stream",
     "text": [
      "Processing Chunks:   3%|▎         | 21/760 [03:06<1:49:33,  8.90s/it]"
     ]
    },
    {
     "name": "stdout",
     "output_type": "stream",
     "text": [
      "Chunk 21 saved as data_new_combined/21.csv\n"
     ]
    },
    {
     "name": "stderr",
     "output_type": "stream",
     "text": [
      "Processing Chunks:   3%|▎         | 22/760 [03:20<2:07:33, 10.37s/it]"
     ]
    },
    {
     "name": "stdout",
     "output_type": "stream",
     "text": [
      "Chunk 22 saved as data_new_combined/22.csv\n"
     ]
    },
    {
     "name": "stderr",
     "output_type": "stream",
     "text": [
      "Processing Chunks:   3%|▎         | 23/760 [03:25<1:48:02,  8.80s/it]"
     ]
    },
    {
     "name": "stdout",
     "output_type": "stream",
     "text": [
      "Chunk 23 saved as data_new_combined/23.csv\n",
      "Chunk 24 saved as data_new_combined/24.csv\n"
     ]
    },
    {
     "name": "stderr",
     "output_type": "stream",
     "text": [
      "Processing Chunks:   3%|▎         | 25/760 [03:37<1:31:47,  7.49s/it]"
     ]
    },
    {
     "name": "stdout",
     "output_type": "stream",
     "text": [
      "Chunk 25 saved as data_new_combined/25.csv\n"
     ]
    },
    {
     "name": "stderr",
     "output_type": "stream",
     "text": [
      "Processing Chunks:   3%|▎         | 26/760 [03:43<1:28:10,  7.21s/it]"
     ]
    },
    {
     "name": "stdout",
     "output_type": "stream",
     "text": [
      "Chunk 26 saved as data_new_combined/26.csv\n"
     ]
    },
    {
     "name": "stderr",
     "output_type": "stream",
     "text": [
      "Processing Chunks:   4%|▎         | 27/760 [03:45<1:10:49,  5.80s/it]"
     ]
    },
    {
     "name": "stdout",
     "output_type": "stream",
     "text": [
      "Chunk 27 saved as data_new_combined/27.csv\n"
     ]
    },
    {
     "name": "stderr",
     "output_type": "stream",
     "text": [
      "Processing Chunks:   4%|▎         | 28/760 [03:59<1:37:23,  7.98s/it]"
     ]
    },
    {
     "name": "stdout",
     "output_type": "stream",
     "text": [
      "Chunk 28 saved as data_new_combined/28.csv\n"
     ]
    },
    {
     "name": "stderr",
     "output_type": "stream",
     "text": [
      "Processing Chunks:   4%|▍         | 29/760 [04:01<1:16:54,  6.31s/it]"
     ]
    },
    {
     "name": "stdout",
     "output_type": "stream",
     "text": [
      "Chunk 29 saved as data_new_combined/29.csv\n"
     ]
    },
    {
     "name": "stderr",
     "output_type": "stream",
     "text": [
      "Processing Chunks:   4%|▍         | 30/760 [04:11<1:31:03,  7.48s/it]"
     ]
    },
    {
     "name": "stdout",
     "output_type": "stream",
     "text": [
      "Chunk 30 saved as data_new_combined/30.csv\n"
     ]
    },
    {
     "name": "stderr",
     "output_type": "stream",
     "text": [
      "Processing Chunks:   4%|▍         | 31/760 [04:17<1:24:33,  6.96s/it]"
     ]
    },
    {
     "name": "stdout",
     "output_type": "stream",
     "text": [
      "Chunk 31 saved as data_new_combined/31.csv\n"
     ]
    },
    {
     "name": "stderr",
     "output_type": "stream",
     "text": [
      "Processing Chunks:   4%|▍         | 32/760 [04:27<1:35:15,  7.85s/it]"
     ]
    },
    {
     "name": "stdout",
     "output_type": "stream",
     "text": [
      "Chunk 32 saved as data_new_combined/32.csv\n"
     ]
    },
    {
     "name": "stderr",
     "output_type": "stream",
     "text": [
      "Processing Chunks:   4%|▍         | 33/760 [04:33<1:28:45,  7.33s/it]"
     ]
    },
    {
     "name": "stdout",
     "output_type": "stream",
     "text": [
      "Chunk 33 saved as data_new_combined/33.csv\n"
     ]
    },
    {
     "name": "stderr",
     "output_type": "stream",
     "text": [
      "Processing Chunks:   4%|▍         | 34/760 [04:46<1:49:53,  9.08s/it]"
     ]
    },
    {
     "name": "stdout",
     "output_type": "stream",
     "text": [
      "Chunk 34 saved as data_new_combined/34.csv\n"
     ]
    },
    {
     "name": "stderr",
     "output_type": "stream",
     "text": [
      "Processing Chunks:   5%|▍         | 35/760 [04:57<1:56:13,  9.62s/it]"
     ]
    },
    {
     "name": "stdout",
     "output_type": "stream",
     "text": [
      "Chunk 35 saved as data_new_combined/35.csv\n",
      "Chunk 36 saved as data_new_combined/36.csv\n"
     ]
    },
    {
     "name": "stderr",
     "output_type": "stream",
     "text": [
      "Processing Chunks:   5%|▍         | 37/760 [05:06<1:28:30,  7.34s/it]"
     ]
    },
    {
     "name": "stdout",
     "output_type": "stream",
     "text": [
      "Chunk 37 saved as data_new_combined/37.csv\n"
     ]
    },
    {
     "name": "stderr",
     "output_type": "stream",
     "text": [
      "Processing Chunks:   5%|▌         | 38/760 [05:19<1:45:41,  8.78s/it]"
     ]
    },
    {
     "name": "stdout",
     "output_type": "stream",
     "text": [
      "Chunk 38 saved as data_new_combined/38.csv\n"
     ]
    },
    {
     "name": "stderr",
     "output_type": "stream",
     "text": [
      "Processing Chunks:   5%|▌         | 39/760 [05:33<2:00:09, 10.00s/it]"
     ]
    },
    {
     "name": "stdout",
     "output_type": "stream",
     "text": [
      "Chunk 39 saved as data_new_combined/39.csv\n",
      "Chunk 40 saved as data_new_combined/40.csv\n"
     ]
    },
    {
     "name": "stderr",
     "output_type": "stream",
     "text": [
      "Processing Chunks:   5%|▌         | 41/760 [05:41<1:29:33,  7.47s/it]"
     ]
    },
    {
     "name": "stdout",
     "output_type": "stream",
     "text": [
      "Chunk 41 saved as data_new_combined/41.csv\n"
     ]
    },
    {
     "name": "stderr",
     "output_type": "stream",
     "text": [
      "Processing Chunks:   6%|▌         | 42/760 [05:55<1:46:53,  8.93s/it]"
     ]
    },
    {
     "name": "stdout",
     "output_type": "stream",
     "text": [
      "Chunk 42 saved as data_new_combined/42.csv\n"
     ]
    },
    {
     "name": "stderr",
     "output_type": "stream",
     "text": [
      "Processing Chunks:   6%|▌         | 43/760 [06:01<1:37:28,  8.16s/it]"
     ]
    },
    {
     "name": "stdout",
     "output_type": "stream",
     "text": [
      "Chunk 43 saved as data_new_combined/43.csv\n"
     ]
    },
    {
     "name": "stderr",
     "output_type": "stream",
     "text": [
      "Processing Chunks:   6%|▌         | 44/760 [06:02<1:17:23,  6.49s/it]"
     ]
    },
    {
     "name": "stdout",
     "output_type": "stream",
     "text": [
      "Chunk 44 saved as data_new_combined/44.csv\n"
     ]
    },
    {
     "name": "stderr",
     "output_type": "stream",
     "text": [
      "Processing Chunks:   6%|▌         | 45/760 [06:13<1:31:48,  7.70s/it]"
     ]
    },
    {
     "name": "stdout",
     "output_type": "stream",
     "text": [
      "Chunk 45 saved as data_new_combined/45.csv\n"
     ]
    },
    {
     "name": "stderr",
     "output_type": "stream",
     "text": [
      "Processing Chunks:   6%|▌         | 46/760 [06:25<1:44:21,  8.77s/it]"
     ]
    },
    {
     "name": "stdout",
     "output_type": "stream",
     "text": [
      "Chunk 46 saved as data_new_combined/46.csv\n"
     ]
    },
    {
     "name": "stderr",
     "output_type": "stream",
     "text": [
      "Processing Chunks:   6%|▌         | 47/760 [06:32<1:36:51,  8.15s/it]"
     ]
    },
    {
     "name": "stdout",
     "output_type": "stream",
     "text": [
      "Chunk 47 saved as data_new_combined/47.csv\n"
     ]
    },
    {
     "name": "stderr",
     "output_type": "stream",
     "text": [
      "Processing Chunks:   6%|▋         | 48/760 [06:37<1:28:35,  7.47s/it]"
     ]
    },
    {
     "name": "stdout",
     "output_type": "stream",
     "text": [
      "Chunk 48 saved as data_new_combined/48.csv\n"
     ]
    },
    {
     "name": "stderr",
     "output_type": "stream",
     "text": [
      "Processing Chunks:   6%|▋         | 49/760 [06:47<1:36:43,  8.16s/it]"
     ]
    },
    {
     "name": "stdout",
     "output_type": "stream",
     "text": [
      "Chunk 49 saved as data_new_combined/49.csv\n"
     ]
    },
    {
     "name": "stderr",
     "output_type": "stream",
     "text": [
      "Processing Chunks:   7%|▋         | 50/760 [06:56<1:37:25,  8.23s/it]"
     ]
    },
    {
     "name": "stdout",
     "output_type": "stream",
     "text": [
      "Chunk 50 saved as data_new_combined/50.csv\n"
     ]
    },
    {
     "name": "stderr",
     "output_type": "stream",
     "text": [
      "Processing Chunks:   7%|▋         | 51/760 [07:00<1:25:23,  7.23s/it]"
     ]
    },
    {
     "name": "stdout",
     "output_type": "stream",
     "text": [
      "Chunk 51 saved as data_new_combined/51.csv\n"
     ]
    },
    {
     "name": "stderr",
     "output_type": "stream",
     "text": [
      "Processing Chunks:   7%|▋         | 52/760 [07:09<1:29:52,  7.62s/it]"
     ]
    },
    {
     "name": "stdout",
     "output_type": "stream",
     "text": [
      "Chunk 52 saved as data_new_combined/52.csv\n"
     ]
    },
    {
     "name": "stderr",
     "output_type": "stream",
     "text": [
      "Processing Chunks:   7%|▋         | 53/760 [07:18<1:36:34,  8.20s/it]"
     ]
    },
    {
     "name": "stdout",
     "output_type": "stream",
     "text": [
      "Chunk 53 saved as data_new_combined/53.csv\n"
     ]
    },
    {
     "name": "stderr",
     "output_type": "stream",
     "text": [
      "Processing Chunks:   7%|▋         | 54/760 [07:28<1:40:57,  8.58s/it]"
     ]
    },
    {
     "name": "stdout",
     "output_type": "stream",
     "text": [
      "Chunk 54 saved as data_new_combined/54.csv\n"
     ]
    },
    {
     "name": "stderr",
     "output_type": "stream",
     "text": [
      "Processing Chunks:   7%|▋         | 55/760 [07:38<1:46:37,  9.07s/it]"
     ]
    },
    {
     "name": "stdout",
     "output_type": "stream",
     "text": [
      "Chunk 55 saved as data_new_combined/55.csv\n"
     ]
    },
    {
     "name": "stderr",
     "output_type": "stream",
     "text": [
      "Processing Chunks:   7%|▋         | 56/760 [07:47<1:47:14,  9.14s/it]"
     ]
    },
    {
     "name": "stdout",
     "output_type": "stream",
     "text": [
      "Chunk 56 saved as data_new_combined/56.csv\n"
     ]
    },
    {
     "name": "stderr",
     "output_type": "stream",
     "text": [
      "Processing Chunks:   8%|▊         | 57/760 [07:56<1:46:07,  9.06s/it]"
     ]
    },
    {
     "name": "stdout",
     "output_type": "stream",
     "text": [
      "Chunk 57 saved as data_new_combined/57.csv\n"
     ]
    },
    {
     "name": "stderr",
     "output_type": "stream",
     "text": [
      "Processing Chunks:   8%|▊         | 58/760 [08:07<1:52:28,  9.61s/it]"
     ]
    },
    {
     "name": "stdout",
     "output_type": "stream",
     "text": [
      "Chunk 58 saved as data_new_combined/58.csv\n"
     ]
    },
    {
     "name": "stderr",
     "output_type": "stream",
     "text": [
      "Processing Chunks:   8%|▊         | 59/760 [08:16<1:48:26,  9.28s/it]"
     ]
    },
    {
     "name": "stdout",
     "output_type": "stream",
     "text": [
      "Chunk 59 saved as data_new_combined/59.csv\n"
     ]
    },
    {
     "name": "stderr",
     "output_type": "stream",
     "text": [
      "Processing Chunks:   8%|▊         | 60/760 [08:25<1:48:07,  9.27s/it]"
     ]
    },
    {
     "name": "stdout",
     "output_type": "stream",
     "text": [
      "Chunk 60 saved as data_new_combined/60.csv\n"
     ]
    },
    {
     "name": "stderr",
     "output_type": "stream",
     "text": [
      "Processing Chunks:   8%|▊         | 61/760 [08:33<1:44:49,  9.00s/it]"
     ]
    },
    {
     "name": "stdout",
     "output_type": "stream",
     "text": [
      "Chunk 61 saved as data_new_combined/61.csv\n"
     ]
    },
    {
     "name": "stderr",
     "output_type": "stream",
     "text": [
      "Processing Chunks:   8%|▊         | 62/760 [08:42<1:41:58,  8.77s/it]"
     ]
    },
    {
     "name": "stdout",
     "output_type": "stream",
     "text": [
      "Chunk 62 saved as data_new_combined/62.csv\n"
     ]
    },
    {
     "name": "stderr",
     "output_type": "stream",
     "text": [
      "Processing Chunks:   8%|▊         | 63/760 [08:50<1:40:04,  8.62s/it]"
     ]
    },
    {
     "name": "stdout",
     "output_type": "stream",
     "text": [
      "Chunk 63 saved as data_new_combined/63.csv\n"
     ]
    },
    {
     "name": "stderr",
     "output_type": "stream",
     "text": [
      "Processing Chunks:   8%|▊         | 64/760 [08:59<1:41:45,  8.77s/it]"
     ]
    },
    {
     "name": "stdout",
     "output_type": "stream",
     "text": [
      "Chunk 64 saved as data_new_combined/64.csv\n"
     ]
    },
    {
     "name": "stderr",
     "output_type": "stream",
     "text": [
      "Processing Chunks:   9%|▊         | 65/760 [09:08<1:43:07,  8.90s/it]"
     ]
    },
    {
     "name": "stdout",
     "output_type": "stream",
     "text": [
      "Chunk 65 saved as data_new_combined/65.csv\n"
     ]
    },
    {
     "name": "stderr",
     "output_type": "stream",
     "text": [
      "Processing Chunks:   9%|▊         | 66/760 [09:17<1:43:01,  8.91s/it]"
     ]
    },
    {
     "name": "stdout",
     "output_type": "stream",
     "text": [
      "Chunk 66 saved as data_new_combined/66.csv\n"
     ]
    },
    {
     "name": "stderr",
     "output_type": "stream",
     "text": [
      "Processing Chunks:   9%|▉         | 67/760 [09:27<1:44:55,  9.08s/it]"
     ]
    },
    {
     "name": "stdout",
     "output_type": "stream",
     "text": [
      "Chunk 67 saved as data_new_combined/67.csv\n"
     ]
    },
    {
     "name": "stderr",
     "output_type": "stream",
     "text": [
      "Processing Chunks:   9%|▉         | 68/760 [09:36<1:44:50,  9.09s/it]"
     ]
    },
    {
     "name": "stdout",
     "output_type": "stream",
     "text": [
      "Chunk 68 saved as data_new_combined/68.csv\n"
     ]
    },
    {
     "name": "stderr",
     "output_type": "stream",
     "text": [
      "Processing Chunks:   9%|▉         | 69/760 [09:45<1:46:58,  9.29s/it]"
     ]
    },
    {
     "name": "stdout",
     "output_type": "stream",
     "text": [
      "Chunk 69 saved as data_new_combined/69.csv\n"
     ]
    },
    {
     "name": "stderr",
     "output_type": "stream",
     "text": [
      "Processing Chunks:   9%|▉         | 70/760 [09:55<1:48:46,  9.46s/it]"
     ]
    },
    {
     "name": "stdout",
     "output_type": "stream",
     "text": [
      "Chunk 70 saved as data_new_combined/70.csv\n"
     ]
    },
    {
     "name": "stderr",
     "output_type": "stream",
     "text": [
      "Processing Chunks:   9%|▉         | 71/760 [10:03<1:43:12,  8.99s/it]"
     ]
    },
    {
     "name": "stdout",
     "output_type": "stream",
     "text": [
      "Chunk 71 saved as data_new_combined/71.csv\n"
     ]
    },
    {
     "name": "stderr",
     "output_type": "stream",
     "text": [
      "Processing Chunks:   9%|▉         | 72/760 [10:13<1:44:16,  9.09s/it]"
     ]
    },
    {
     "name": "stdout",
     "output_type": "stream",
     "text": [
      "Chunk 72 saved as data_new_combined/72.csv\n"
     ]
    },
    {
     "name": "stderr",
     "output_type": "stream",
     "text": [
      "Processing Chunks:  10%|▉         | 73/760 [10:21<1:43:00,  9.00s/it]"
     ]
    },
    {
     "name": "stdout",
     "output_type": "stream",
     "text": [
      "Chunk 73 saved as data_new_combined/73.csv\n"
     ]
    },
    {
     "name": "stderr",
     "output_type": "stream",
     "text": [
      "Processing Chunks:  10%|▉         | 74/760 [10:30<1:42:44,  8.99s/it]"
     ]
    },
    {
     "name": "stdout",
     "output_type": "stream",
     "text": [
      "Chunk 74 saved as data_new_combined/74.csv\n"
     ]
    },
    {
     "name": "stderr",
     "output_type": "stream",
     "text": [
      "Processing Chunks:  10%|▉         | 75/760 [10:40<1:44:09,  9.12s/it]"
     ]
    },
    {
     "name": "stdout",
     "output_type": "stream",
     "text": [
      "Chunk 75 saved as data_new_combined/75.csv\n"
     ]
    },
    {
     "name": "stderr",
     "output_type": "stream",
     "text": [
      "Processing Chunks:  10%|█         | 76/760 [10:48<1:41:24,  8.90s/it]"
     ]
    },
    {
     "name": "stdout",
     "output_type": "stream",
     "text": [
      "Chunk 76 saved as data_new_combined/76.csv\n"
     ]
    },
    {
     "name": "stderr",
     "output_type": "stream",
     "text": [
      "Processing Chunks:  10%|█         | 77/760 [11:00<1:50:49,  9.74s/it]"
     ]
    },
    {
     "name": "stdout",
     "output_type": "stream",
     "text": [
      "Chunk 77 saved as data_new_combined/77.csv\n"
     ]
    },
    {
     "name": "stderr",
     "output_type": "stream",
     "text": [
      "Processing Chunks:  10%|█         | 78/760 [11:12<1:57:54, 10.37s/it]"
     ]
    },
    {
     "name": "stdout",
     "output_type": "stream",
     "text": [
      "Chunk 78 saved as data_new_combined/78.csv\n"
     ]
    },
    {
     "name": "stderr",
     "output_type": "stream",
     "text": [
      "Processing Chunks:  10%|█         | 79/760 [11:14<1:29:03,  7.85s/it]"
     ]
    },
    {
     "name": "stdout",
     "output_type": "stream",
     "text": [
      "Chunk 79 saved as data_new_combined/79.csv\n"
     ]
    },
    {
     "name": "stderr",
     "output_type": "stream",
     "text": [
      "Processing Chunks:  11%|█         | 80/760 [11:21<1:27:28,  7.72s/it]"
     ]
    },
    {
     "name": "stdout",
     "output_type": "stream",
     "text": [
      "Chunk 80 saved as data_new_combined/80.csv\n"
     ]
    },
    {
     "name": "stderr",
     "output_type": "stream",
     "text": [
      "Processing Chunks:  11%|█         | 81/760 [11:34<1:44:06,  9.20s/it]"
     ]
    },
    {
     "name": "stdout",
     "output_type": "stream",
     "text": [
      "Chunk 81 saved as data_new_combined/81.csv\n"
     ]
    },
    {
     "name": "stderr",
     "output_type": "stream",
     "text": [
      "Processing Chunks:  11%|█         | 82/760 [11:48<1:59:59, 10.62s/it]"
     ]
    },
    {
     "name": "stdout",
     "output_type": "stream",
     "text": [
      "Chunk 82 saved as data_new_combined/82.csv\n"
     ]
    },
    {
     "name": "stderr",
     "output_type": "stream",
     "text": [
      "Processing Chunks:  11%|█         | 83/760 [12:01<2:10:37, 11.58s/it]"
     ]
    },
    {
     "name": "stdout",
     "output_type": "stream",
     "text": [
      "Chunk 83 saved as data_new_combined/83.csv\n"
     ]
    },
    {
     "name": "stderr",
     "output_type": "stream",
     "text": [
      "Processing Chunks:  11%|█         | 84/760 [12:15<2:18:21, 12.28s/it]"
     ]
    },
    {
     "name": "stdout",
     "output_type": "stream",
     "text": [
      "Chunk 84 saved as data_new_combined/84.csv\n"
     ]
    },
    {
     "name": "stderr",
     "output_type": "stream",
     "text": [
      "Processing Chunks:  11%|█         | 85/760 [12:29<2:23:11, 12.73s/it]"
     ]
    },
    {
     "name": "stdout",
     "output_type": "stream",
     "text": [
      "Chunk 85 saved as data_new_combined/85.csv\n"
     ]
    },
    {
     "name": "stderr",
     "output_type": "stream",
     "text": [
      "Processing Chunks:  11%|█▏        | 86/760 [12:43<2:25:57, 12.99s/it]"
     ]
    },
    {
     "name": "stdout",
     "output_type": "stream",
     "text": [
      "Chunk 86 saved as data_new_combined/86.csv\n"
     ]
    },
    {
     "name": "stderr",
     "output_type": "stream",
     "text": [
      "Processing Chunks:  11%|█▏        | 87/760 [12:46<1:52:03,  9.99s/it]"
     ]
    },
    {
     "name": "stdout",
     "output_type": "stream",
     "text": [
      "Chunk 87 saved as data_new_combined/87.csv\n",
      "Chunk 88 saved as data_new_combined/88.csv\n",
      "Chunk 89 saved as data_new_combined/89.csv\n"
     ]
    },
    {
     "name": "stderr",
     "output_type": "stream",
     "text": [
      "Processing Chunks:  12%|█▏        | 90/760 [12:51<59:41,  5.35s/it]  "
     ]
    },
    {
     "name": "stdout",
     "output_type": "stream",
     "text": [
      "Chunk 90 saved as data_new_combined/90.csv\n"
     ]
    },
    {
     "name": "stderr",
     "output_type": "stream",
     "text": [
      "Processing Chunks:  12%|█▏        | 91/760 [13:01<1:11:25,  6.41s/it]"
     ]
    },
    {
     "name": "stdout",
     "output_type": "stream",
     "text": [
      "Chunk 91 saved as data_new_combined/91.csv\n"
     ]
    },
    {
     "name": "stderr",
     "output_type": "stream",
     "text": [
      "Processing Chunks:  12%|█▏        | 92/760 [13:06<1:07:20,  6.05s/it]"
     ]
    },
    {
     "name": "stdout",
     "output_type": "stream",
     "text": [
      "Chunk 92 saved as data_new_combined/92.csv\n"
     ]
    },
    {
     "name": "stderr",
     "output_type": "stream",
     "text": [
      "Processing Chunks:  12%|█▏        | 93/760 [13:17<1:20:41,  7.26s/it]"
     ]
    },
    {
     "name": "stdout",
     "output_type": "stream",
     "text": [
      "Chunk 93 saved as data_new_combined/93.csv\n"
     ]
    },
    {
     "name": "stderr",
     "output_type": "stream",
     "text": [
      "Processing Chunks:  12%|█▏        | 94/760 [13:23<1:15:33,  6.81s/it]"
     ]
    },
    {
     "name": "stdout",
     "output_type": "stream",
     "text": [
      "Chunk 94 saved as data_new_combined/94.csv\n"
     ]
    },
    {
     "name": "stderr",
     "output_type": "stream",
     "text": [
      "Processing Chunks:  12%|█▎        | 95/760 [13:30<1:18:35,  7.09s/it]"
     ]
    },
    {
     "name": "stdout",
     "output_type": "stream",
     "text": [
      "Chunk 95 saved as data_new_combined/95.csv\n"
     ]
    },
    {
     "name": "stderr",
     "output_type": "stream",
     "text": [
      "Processing Chunks:  13%|█▎        | 96/760 [13:39<1:24:10,  7.61s/it]"
     ]
    },
    {
     "name": "stdout",
     "output_type": "stream",
     "text": [
      "Chunk 96 saved as data_new_combined/96.csv\n"
     ]
    },
    {
     "name": "stderr",
     "output_type": "stream",
     "text": [
      "Processing Chunks:  13%|█▎        | 97/760 [13:49<1:29:26,  8.09s/it]"
     ]
    },
    {
     "name": "stdout",
     "output_type": "stream",
     "text": [
      "Chunk 97 saved as data_new_combined/97.csv\n"
     ]
    },
    {
     "name": "stderr",
     "output_type": "stream",
     "text": [
      "Processing Chunks:  13%|█▎        | 98/760 [13:57<1:30:37,  8.21s/it]"
     ]
    },
    {
     "name": "stdout",
     "output_type": "stream",
     "text": [
      "Chunk 98 saved as data_new_combined/98.csv\n"
     ]
    },
    {
     "name": "stderr",
     "output_type": "stream",
     "text": [
      "Processing Chunks:  13%|█▎        | 99/760 [14:05<1:30:00,  8.17s/it]"
     ]
    },
    {
     "name": "stdout",
     "output_type": "stream",
     "text": [
      "Chunk 99 saved as data_new_combined/99.csv\n"
     ]
    },
    {
     "name": "stderr",
     "output_type": "stream",
     "text": [
      "Processing Chunks:  13%|█▎        | 100/760 [14:12<1:26:01,  7.82s/it]"
     ]
    },
    {
     "name": "stdout",
     "output_type": "stream",
     "text": [
      "Chunk 100 saved as data_new_combined/100.csv\n"
     ]
    },
    {
     "name": "stderr",
     "output_type": "stream",
     "text": [
      "Processing Chunks:  13%|█▎        | 101/760 [14:21<1:30:07,  8.21s/it]"
     ]
    },
    {
     "name": "stdout",
     "output_type": "stream",
     "text": [
      "Chunk 101 saved as data_new_combined/101.csv\n"
     ]
    },
    {
     "name": "stderr",
     "output_type": "stream",
     "text": [
      "Processing Chunks:  13%|█▎        | 102/760 [14:30<1:30:56,  8.29s/it]"
     ]
    },
    {
     "name": "stdout",
     "output_type": "stream",
     "text": [
      "Chunk 102 saved as data_new_combined/102.csv\n"
     ]
    },
    {
     "name": "stderr",
     "output_type": "stream",
     "text": [
      "Processing Chunks:  14%|█▎        | 103/760 [14:39<1:33:35,  8.55s/it]"
     ]
    },
    {
     "name": "stdout",
     "output_type": "stream",
     "text": [
      "Chunk 103 saved as data_new_combined/103.csv\n"
     ]
    },
    {
     "name": "stderr",
     "output_type": "stream",
     "text": [
      "Processing Chunks:  14%|█▎        | 104/760 [14:48<1:33:30,  8.55s/it]"
     ]
    },
    {
     "name": "stdout",
     "output_type": "stream",
     "text": [
      "Chunk 104 saved as data_new_combined/104.csv\n"
     ]
    },
    {
     "name": "stderr",
     "output_type": "stream",
     "text": [
      "Processing Chunks:  14%|█▍        | 105/760 [14:56<1:33:12,  8.54s/it]"
     ]
    },
    {
     "name": "stdout",
     "output_type": "stream",
     "text": [
      "Chunk 105 saved as data_new_combined/105.csv\n"
     ]
    },
    {
     "name": "stderr",
     "output_type": "stream",
     "text": [
      "Processing Chunks:  14%|█▍        | 106/760 [15:06<1:38:13,  9.01s/it]"
     ]
    },
    {
     "name": "stdout",
     "output_type": "stream",
     "text": [
      "Chunk 106 saved as data_new_combined/106.csv\n"
     ]
    },
    {
     "name": "stderr",
     "output_type": "stream",
     "text": [
      "Processing Chunks:  14%|█▍        | 107/760 [15:13<1:29:25,  8.22s/it]"
     ]
    },
    {
     "name": "stdout",
     "output_type": "stream",
     "text": [
      "Chunk 107 saved as data_new_combined/107.csv\n"
     ]
    },
    {
     "name": "stderr",
     "output_type": "stream",
     "text": [
      "Processing Chunks:  14%|█▍        | 108/760 [15:21<1:28:45,  8.17s/it]"
     ]
    },
    {
     "name": "stdout",
     "output_type": "stream",
     "text": [
      "Chunk 108 saved as data_new_combined/108.csv\n"
     ]
    },
    {
     "name": "stderr",
     "output_type": "stream",
     "text": [
      "Processing Chunks:  14%|█▍        | 109/760 [15:32<1:38:37,  9.09s/it]"
     ]
    },
    {
     "name": "stdout",
     "output_type": "stream",
     "text": [
      "Chunk 109 saved as data_new_combined/109.csv\n"
     ]
    },
    {
     "name": "stderr",
     "output_type": "stream",
     "text": [
      "Processing Chunks:  14%|█▍        | 110/760 [15:39<1:31:30,  8.45s/it]"
     ]
    },
    {
     "name": "stdout",
     "output_type": "stream",
     "text": [
      "Chunk 110 saved as data_new_combined/110.csv\n"
     ]
    },
    {
     "name": "stderr",
     "output_type": "stream",
     "text": [
      "Processing Chunks:  15%|█▍        | 111/760 [15:49<1:37:20,  9.00s/it]"
     ]
    },
    {
     "name": "stdout",
     "output_type": "stream",
     "text": [
      "Chunk 111 saved as data_new_combined/111.csv\n"
     ]
    },
    {
     "name": "stderr",
     "output_type": "stream",
     "text": [
      "Processing Chunks:  15%|█▍        | 112/760 [15:56<1:30:54,  8.42s/it]"
     ]
    },
    {
     "name": "stdout",
     "output_type": "stream",
     "text": [
      "Chunk 112 saved as data_new_combined/112.csv\n"
     ]
    },
    {
     "name": "stderr",
     "output_type": "stream",
     "text": [
      "Processing Chunks:  15%|█▍        | 113/760 [16:04<1:30:05,  8.35s/it]"
     ]
    },
    {
     "name": "stdout",
     "output_type": "stream",
     "text": [
      "Chunk 113 saved as data_new_combined/113.csv\n"
     ]
    },
    {
     "name": "stderr",
     "output_type": "stream",
     "text": [
      "Processing Chunks:  15%|█▌        | 114/760 [16:13<1:30:47,  8.43s/it]"
     ]
    },
    {
     "name": "stdout",
     "output_type": "stream",
     "text": [
      "Chunk 114 saved as data_new_combined/114.csv\n"
     ]
    },
    {
     "name": "stderr",
     "output_type": "stream",
     "text": [
      "Processing Chunks:  15%|█▌        | 115/760 [16:23<1:35:09,  8.85s/it]"
     ]
    },
    {
     "name": "stdout",
     "output_type": "stream",
     "text": [
      "Chunk 115 saved as data_new_combined/115.csv\n"
     ]
    },
    {
     "name": "stderr",
     "output_type": "stream",
     "text": [
      "Processing Chunks:  15%|█▌        | 116/760 [16:29<1:26:35,  8.07s/it]"
     ]
    },
    {
     "name": "stdout",
     "output_type": "stream",
     "text": [
      "Chunk 116 saved as data_new_combined/116.csv\n"
     ]
    },
    {
     "name": "stderr",
     "output_type": "stream",
     "text": [
      "Processing Chunks:  15%|█▌        | 117/760 [16:35<1:19:02,  7.38s/it]"
     ]
    },
    {
     "name": "stdout",
     "output_type": "stream",
     "text": [
      "Chunk 117 saved as data_new_combined/117.csv\n"
     ]
    },
    {
     "name": "stderr",
     "output_type": "stream",
     "text": [
      "Processing Chunks:  16%|█▌        | 118/760 [16:44<1:23:17,  7.78s/it]"
     ]
    },
    {
     "name": "stdout",
     "output_type": "stream",
     "text": [
      "Chunk 118 saved as data_new_combined/118.csv\n"
     ]
    },
    {
     "name": "stderr",
     "output_type": "stream",
     "text": [
      "Processing Chunks:  16%|█▌        | 119/760 [16:51<1:22:27,  7.72s/it]"
     ]
    },
    {
     "name": "stdout",
     "output_type": "stream",
     "text": [
      "Chunk 119 saved as data_new_combined/119.csv\n"
     ]
    },
    {
     "name": "stderr",
     "output_type": "stream",
     "text": [
      "Processing Chunks:  16%|█▌        | 120/760 [17:00<1:27:18,  8.18s/it]"
     ]
    },
    {
     "name": "stdout",
     "output_type": "stream",
     "text": [
      "Chunk 120 saved as data_new_combined/120.csv\n"
     ]
    },
    {
     "name": "stderr",
     "output_type": "stream",
     "text": [
      "Processing Chunks:  16%|█▌        | 121/760 [17:07<1:23:23,  7.83s/it]"
     ]
    },
    {
     "name": "stdout",
     "output_type": "stream",
     "text": [
      "Chunk 121 saved as data_new_combined/121.csv\n"
     ]
    },
    {
     "name": "stderr",
     "output_type": "stream",
     "text": [
      "Processing Chunks:  16%|█▌        | 122/760 [17:15<1:23:48,  7.88s/it]"
     ]
    },
    {
     "name": "stdout",
     "output_type": "stream",
     "text": [
      "Chunk 122 saved as data_new_combined/122.csv\n"
     ]
    },
    {
     "name": "stderr",
     "output_type": "stream",
     "text": [
      "Processing Chunks:  16%|█▌        | 123/760 [17:24<1:27:20,  8.23s/it]"
     ]
    },
    {
     "name": "stdout",
     "output_type": "stream",
     "text": [
      "Chunk 123 saved as data_new_combined/123.csv\n"
     ]
    },
    {
     "name": "stderr",
     "output_type": "stream",
     "text": [
      "Processing Chunks:  16%|█▋        | 124/760 [17:32<1:26:40,  8.18s/it]"
     ]
    },
    {
     "name": "stdout",
     "output_type": "stream",
     "text": [
      "Chunk 124 saved as data_new_combined/124.csv\n"
     ]
    },
    {
     "name": "stderr",
     "output_type": "stream",
     "text": [
      "Processing Chunks:  16%|█▋        | 125/760 [17:46<1:44:28,  9.87s/it]"
     ]
    },
    {
     "name": "stdout",
     "output_type": "stream",
     "text": [
      "Chunk 125 saved as data_new_combined/125.csv\n"
     ]
    },
    {
     "name": "stderr",
     "output_type": "stream",
     "text": [
      "Processing Chunks:  17%|█▋        | 126/760 [18:00<1:56:47, 11.05s/it]"
     ]
    },
    {
     "name": "stdout",
     "output_type": "stream",
     "text": [
      "Chunk 126 saved as data_new_combined/126.csv\n"
     ]
    },
    {
     "name": "stderr",
     "output_type": "stream",
     "text": [
      "Processing Chunks:  17%|█▋        | 127/760 [18:14<2:06:29, 11.99s/it]"
     ]
    },
    {
     "name": "stdout",
     "output_type": "stream",
     "text": [
      "Chunk 127 saved as data_new_combined/127.csv\n"
     ]
    },
    {
     "name": "stderr",
     "output_type": "stream",
     "text": [
      "Processing Chunks:  17%|█▋        | 128/760 [18:28<2:11:47, 12.51s/it]"
     ]
    },
    {
     "name": "stdout",
     "output_type": "stream",
     "text": [
      "Chunk 128 saved as data_new_combined/128.csv\n"
     ]
    },
    {
     "name": "stderr",
     "output_type": "stream",
     "text": [
      "Processing Chunks:  17%|█▋        | 129/760 [18:41<2:14:37, 12.80s/it]"
     ]
    },
    {
     "name": "stdout",
     "output_type": "stream",
     "text": [
      "Chunk 129 saved as data_new_combined/129.csv\n"
     ]
    },
    {
     "name": "stderr",
     "output_type": "stream",
     "text": [
      "Processing Chunks:  17%|█▋        | 130/760 [18:55<2:16:24, 12.99s/it]"
     ]
    },
    {
     "name": "stdout",
     "output_type": "stream",
     "text": [
      "Chunk 130 saved as data_new_combined/130.csv\n"
     ]
    },
    {
     "name": "stderr",
     "output_type": "stream",
     "text": [
      "Processing Chunks:  17%|█▋        | 131/760 [19:09<2:18:06, 13.17s/it]"
     ]
    },
    {
     "name": "stdout",
     "output_type": "stream",
     "text": [
      "Chunk 131 saved as data_new_combined/131.csv\n"
     ]
    },
    {
     "name": "stderr",
     "output_type": "stream",
     "text": [
      "Processing Chunks:  17%|█▋        | 132/760 [19:22<2:18:52, 13.27s/it]"
     ]
    },
    {
     "name": "stdout",
     "output_type": "stream",
     "text": [
      "Chunk 132 saved as data_new_combined/132.csv\n"
     ]
    },
    {
     "name": "stderr",
     "output_type": "stream",
     "text": [
      "Processing Chunks:  18%|█▊        | 133/760 [19:35<2:19:07, 13.31s/it]"
     ]
    },
    {
     "name": "stdout",
     "output_type": "stream",
     "text": [
      "Chunk 133 saved as data_new_combined/133.csv\n"
     ]
    },
    {
     "name": "stderr",
     "output_type": "stream",
     "text": [
      "Processing Chunks:  18%|█▊        | 134/760 [19:44<2:04:01, 11.89s/it]"
     ]
    },
    {
     "name": "stdout",
     "output_type": "stream",
     "text": [
      "Chunk 134 saved as data_new_combined/134.csv\n"
     ]
    },
    {
     "name": "stderr",
     "output_type": "stream",
     "text": [
      "Processing Chunks:  18%|█▊        | 135/760 [19:55<2:00:26, 11.56s/it]"
     ]
    },
    {
     "name": "stdout",
     "output_type": "stream",
     "text": [
      "Chunk 135 saved as data_new_combined/135.csv\n"
     ]
    },
    {
     "name": "stderr",
     "output_type": "stream",
     "text": [
      "Processing Chunks:  18%|█▊        | 136/760 [19:57<1:30:36,  8.71s/it]"
     ]
    },
    {
     "name": "stdout",
     "output_type": "stream",
     "text": [
      "Chunk 136 saved as data_new_combined/136.csv\n"
     ]
    },
    {
     "name": "stderr",
     "output_type": "stream",
     "text": [
      "Processing Chunks:  18%|█▊        | 137/760 [20:05<1:29:14,  8.59s/it]"
     ]
    },
    {
     "name": "stdout",
     "output_type": "stream",
     "text": [
      "Chunk 137 saved as data_new_combined/137.csv\n"
     ]
    },
    {
     "name": "stderr",
     "output_type": "stream",
     "text": [
      "Processing Chunks:  18%|█▊        | 138/760 [20:15<1:32:19,  8.91s/it]"
     ]
    },
    {
     "name": "stdout",
     "output_type": "stream",
     "text": [
      "Chunk 138 saved as data_new_combined/138.csv\n"
     ]
    },
    {
     "name": "stderr",
     "output_type": "stream",
     "text": [
      "Processing Chunks:  18%|█▊        | 139/760 [20:23<1:29:25,  8.64s/it]"
     ]
    },
    {
     "name": "stdout",
     "output_type": "stream",
     "text": [
      "Chunk 139 saved as data_new_combined/139.csv\n"
     ]
    },
    {
     "name": "stderr",
     "output_type": "stream",
     "text": [
      "Processing Chunks:  18%|█▊        | 140/760 [20:30<1:25:15,  8.25s/it]"
     ]
    },
    {
     "name": "stdout",
     "output_type": "stream",
     "text": [
      "Chunk 140 saved as data_new_combined/140.csv\n"
     ]
    },
    {
     "name": "stderr",
     "output_type": "stream",
     "text": [
      "Processing Chunks:  19%|█▊        | 141/760 [20:38<1:24:38,  8.20s/it]"
     ]
    },
    {
     "name": "stdout",
     "output_type": "stream",
     "text": [
      "Chunk 141 saved as data_new_combined/141.csv\n"
     ]
    },
    {
     "name": "stderr",
     "output_type": "stream",
     "text": [
      "Processing Chunks:  19%|█▊        | 142/760 [20:47<1:26:04,  8.36s/it]"
     ]
    },
    {
     "name": "stdout",
     "output_type": "stream",
     "text": [
      "Chunk 142 saved as data_new_combined/142.csv\n"
     ]
    },
    {
     "name": "stderr",
     "output_type": "stream",
     "text": [
      "Processing Chunks:  19%|█▉        | 143/760 [20:56<1:27:52,  8.55s/it]"
     ]
    },
    {
     "name": "stdout",
     "output_type": "stream",
     "text": [
      "Chunk 143 saved as data_new_combined/143.csv\n"
     ]
    },
    {
     "name": "stderr",
     "output_type": "stream",
     "text": [
      "Processing Chunks:  19%|█▉        | 144/760 [21:05<1:27:52,  8.56s/it]"
     ]
    },
    {
     "name": "stdout",
     "output_type": "stream",
     "text": [
      "Chunk 144 saved as data_new_combined/144.csv\n"
     ]
    },
    {
     "name": "stderr",
     "output_type": "stream",
     "text": [
      "Processing Chunks:  19%|█▉        | 145/760 [21:12<1:25:14,  8.32s/it]"
     ]
    },
    {
     "name": "stdout",
     "output_type": "stream",
     "text": [
      "Chunk 145 saved as data_new_combined/145.csv\n"
     ]
    },
    {
     "name": "stderr",
     "output_type": "stream",
     "text": [
      "Processing Chunks:  19%|█▉        | 146/760 [21:26<1:41:46,  9.95s/it]"
     ]
    },
    {
     "name": "stdout",
     "output_type": "stream",
     "text": [
      "Chunk 146 saved as data_new_combined/146.csv\n"
     ]
    },
    {
     "name": "stderr",
     "output_type": "stream",
     "text": [
      "Processing Chunks:  19%|█▉        | 147/760 [21:31<1:26:33,  8.47s/it]"
     ]
    },
    {
     "name": "stdout",
     "output_type": "stream",
     "text": [
      "Chunk 147 saved as data_new_combined/147.csv\n"
     ]
    },
    {
     "name": "stderr",
     "output_type": "stream",
     "text": [
      "Processing Chunks:  19%|█▉        | 148/760 [21:45<1:43:44, 10.17s/it]"
     ]
    },
    {
     "name": "stdout",
     "output_type": "stream",
     "text": [
      "Chunk 148 saved as data_new_combined/148.csv\n"
     ]
    },
    {
     "name": "stderr",
     "output_type": "stream",
     "text": [
      "Processing Chunks:  20%|█▉        | 149/760 [21:57<1:47:14, 10.53s/it]"
     ]
    },
    {
     "name": "stdout",
     "output_type": "stream",
     "text": [
      "Chunk 149 saved as data_new_combined/149.csv\n",
      "Chunk 150 saved as data_new_combined/150.csv\n"
     ]
    },
    {
     "name": "stderr",
     "output_type": "stream",
     "text": [
      "Processing Chunks:  20%|█▉        | 151/760 [22:06<1:19:26,  7.83s/it]"
     ]
    },
    {
     "name": "stdout",
     "output_type": "stream",
     "text": [
      "Chunk 151 saved as data_new_combined/151.csv\n"
     ]
    },
    {
     "name": "stderr",
     "output_type": "stream",
     "text": [
      "Processing Chunks:  20%|██        | 152/760 [22:20<1:34:23,  9.31s/it]"
     ]
    },
    {
     "name": "stdout",
     "output_type": "stream",
     "text": [
      "Chunk 152 saved as data_new_combined/152.csv\n"
     ]
    },
    {
     "name": "stderr",
     "output_type": "stream",
     "text": [
      "Processing Chunks:  20%|██        | 153/760 [22:34<1:46:20, 10.51s/it]"
     ]
    },
    {
     "name": "stdout",
     "output_type": "stream",
     "text": [
      "Chunk 153 saved as data_new_combined/153.csv\n"
     ]
    },
    {
     "name": "stderr",
     "output_type": "stream",
     "text": [
      "Processing Chunks:  20%|██        | 154/760 [22:48<1:55:35, 11.45s/it]"
     ]
    },
    {
     "name": "stdout",
     "output_type": "stream",
     "text": [
      "Chunk 154 saved as data_new_combined/154.csv\n"
     ]
    },
    {
     "name": "stderr",
     "output_type": "stream",
     "text": [
      "Processing Chunks:  20%|██        | 155/760 [22:58<1:51:39, 11.07s/it]"
     ]
    },
    {
     "name": "stdout",
     "output_type": "stream",
     "text": [
      "Chunk 155 saved as data_new_combined/155.csv\n",
      "Chunk 156 saved as data_new_combined/156.csv\n",
      "Chunk 157 saved as data_new_combined/157.csv\n"
     ]
    },
    {
     "name": "stderr",
     "output_type": "stream",
     "text": [
      "Processing Chunks:  21%|██        | 158/760 [23:05<1:04:35,  6.44s/it]"
     ]
    },
    {
     "name": "stdout",
     "output_type": "stream",
     "text": [
      "Chunk 158 saved as data_new_combined/158.csv\n"
     ]
    },
    {
     "name": "stderr",
     "output_type": "stream",
     "text": [
      "Processing Chunks:  21%|██        | 159/760 [23:13<1:06:38,  6.65s/it]"
     ]
    },
    {
     "name": "stdout",
     "output_type": "stream",
     "text": [
      "Chunk 159 saved as data_new_combined/159.csv\n"
     ]
    },
    {
     "name": "stderr",
     "output_type": "stream",
     "text": [
      "Processing Chunks:  21%|██        | 160/760 [23:20<1:07:07,  6.71s/it]"
     ]
    },
    {
     "name": "stdout",
     "output_type": "stream",
     "text": [
      "Chunk 160 saved as data_new_combined/160.csv\n"
     ]
    },
    {
     "name": "stderr",
     "output_type": "stream",
     "text": [
      "Processing Chunks:  21%|██        | 161/760 [23:30<1:14:34,  7.47s/it]"
     ]
    },
    {
     "name": "stdout",
     "output_type": "stream",
     "text": [
      "Chunk 161 saved as data_new_combined/161.csv\n"
     ]
    },
    {
     "name": "stderr",
     "output_type": "stream",
     "text": [
      "Processing Chunks:  21%|██▏       | 162/760 [23:37<1:13:09,  7.34s/it]"
     ]
    },
    {
     "name": "stdout",
     "output_type": "stream",
     "text": [
      "Chunk 162 saved as data_new_combined/162.csv\n"
     ]
    },
    {
     "name": "stderr",
     "output_type": "stream",
     "text": [
      "Processing Chunks:  21%|██▏       | 163/760 [23:44<1:14:31,  7.49s/it]"
     ]
    },
    {
     "name": "stdout",
     "output_type": "stream",
     "text": [
      "Chunk 163 saved as data_new_combined/163.csv\n"
     ]
    },
    {
     "name": "stderr",
     "output_type": "stream",
     "text": [
      "Processing Chunks:  22%|██▏       | 164/760 [23:54<1:20:57,  8.15s/it]"
     ]
    },
    {
     "name": "stdout",
     "output_type": "stream",
     "text": [
      "Chunk 164 saved as data_new_combined/164.csv\n"
     ]
    },
    {
     "name": "stderr",
     "output_type": "stream",
     "text": [
      "Processing Chunks:  22%|██▏       | 165/760 [24:08<1:36:45,  9.76s/it]"
     ]
    },
    {
     "name": "stdout",
     "output_type": "stream",
     "text": [
      "Chunk 165 saved as data_new_combined/165.csv\n"
     ]
    },
    {
     "name": "stderr",
     "output_type": "stream",
     "text": [
      "Processing Chunks:  22%|██▏       | 166/760 [24:20<1:41:12, 10.22s/it]"
     ]
    },
    {
     "name": "stdout",
     "output_type": "stream",
     "text": [
      "Chunk 166 saved as data_new_combined/166.csv\n",
      "Chunk 167 saved as data_new_combined/167.csv\n",
      "Chunk 168 saved as data_new_combined/168.csv\n"
     ]
    },
    {
     "name": "stderr",
     "output_type": "stream",
     "text": [
      "Processing Chunks:  22%|██▏       | 169/760 [24:28<59:53,  6.08s/it]  "
     ]
    },
    {
     "name": "stdout",
     "output_type": "stream",
     "text": [
      "Chunk 169 saved as data_new_combined/169.csv\n"
     ]
    },
    {
     "name": "stderr",
     "output_type": "stream",
     "text": [
      "Processing Chunks:  22%|██▏       | 170/760 [24:37<1:05:30,  6.66s/it]"
     ]
    },
    {
     "name": "stdout",
     "output_type": "stream",
     "text": [
      "Chunk 170 saved as data_new_combined/170.csv\n"
     ]
    },
    {
     "name": "stderr",
     "output_type": "stream",
     "text": [
      "Processing Chunks:  22%|██▎       | 171/760 [24:44<1:07:33,  6.88s/it]"
     ]
    },
    {
     "name": "stdout",
     "output_type": "stream",
     "text": [
      "Chunk 171 saved as data_new_combined/171.csv\n"
     ]
    },
    {
     "name": "stderr",
     "output_type": "stream",
     "text": [
      "Processing Chunks:  23%|██▎       | 172/760 [24:54<1:14:07,  7.56s/it]"
     ]
    },
    {
     "name": "stdout",
     "output_type": "stream",
     "text": [
      "Chunk 172 saved as data_new_combined/172.csv\n"
     ]
    },
    {
     "name": "stderr",
     "output_type": "stream",
     "text": [
      "Processing Chunks:  23%|██▎       | 173/760 [25:00<1:09:08,  7.07s/it]"
     ]
    },
    {
     "name": "stdout",
     "output_type": "stream",
     "text": [
      "Chunk 173 saved as data_new_combined/173.csv\n"
     ]
    },
    {
     "name": "stderr",
     "output_type": "stream",
     "text": [
      "Processing Chunks:  23%|██▎       | 174/760 [25:07<1:11:04,  7.28s/it]"
     ]
    },
    {
     "name": "stdout",
     "output_type": "stream",
     "text": [
      "Chunk 174 saved as data_new_combined/174.csv\n"
     ]
    },
    {
     "name": "stderr",
     "output_type": "stream",
     "text": [
      "Processing Chunks:  23%|██▎       | 175/760 [25:13<1:07:40,  6.94s/it]"
     ]
    },
    {
     "name": "stdout",
     "output_type": "stream",
     "text": [
      "Chunk 175 saved as data_new_combined/175.csv\n"
     ]
    },
    {
     "name": "stderr",
     "output_type": "stream",
     "text": [
      "Processing Chunks:  23%|██▎       | 176/760 [25:21<1:10:34,  7.25s/it]"
     ]
    },
    {
     "name": "stdout",
     "output_type": "stream",
     "text": [
      "Chunk 176 saved as data_new_combined/176.csv\n"
     ]
    },
    {
     "name": "stderr",
     "output_type": "stream",
     "text": [
      "Processing Chunks:  23%|██▎       | 177/760 [25:30<1:13:07,  7.53s/it]"
     ]
    },
    {
     "name": "stdout",
     "output_type": "stream",
     "text": [
      "Chunk 177 saved as data_new_combined/177.csv\n"
     ]
    },
    {
     "name": "stderr",
     "output_type": "stream",
     "text": [
      "Processing Chunks:  23%|██▎       | 178/760 [25:39<1:17:16,  7.97s/it]"
     ]
    },
    {
     "name": "stdout",
     "output_type": "stream",
     "text": [
      "Chunk 178 saved as data_new_combined/178.csv\n"
     ]
    },
    {
     "name": "stderr",
     "output_type": "stream",
     "text": [
      "Processing Chunks:  24%|██▎       | 179/760 [25:48<1:19:49,  8.24s/it]"
     ]
    },
    {
     "name": "stdout",
     "output_type": "stream",
     "text": [
      "Chunk 179 saved as data_new_combined/179.csv\n"
     ]
    },
    {
     "name": "stderr",
     "output_type": "stream",
     "text": [
      "Processing Chunks:  24%|██▎       | 180/760 [25:56<1:19:11,  8.19s/it]"
     ]
    },
    {
     "name": "stdout",
     "output_type": "stream",
     "text": [
      "Chunk 180 saved as data_new_combined/180.csv\n"
     ]
    },
    {
     "name": "stderr",
     "output_type": "stream",
     "text": [
      "Processing Chunks:  24%|██▍       | 181/760 [26:03<1:17:27,  8.03s/it]"
     ]
    },
    {
     "name": "stdout",
     "output_type": "stream",
     "text": [
      "Chunk 181 saved as data_new_combined/181.csv\n"
     ]
    },
    {
     "name": "stderr",
     "output_type": "stream",
     "text": [
      "Processing Chunks:  24%|██▍       | 182/760 [26:10<1:13:21,  7.62s/it]"
     ]
    },
    {
     "name": "stdout",
     "output_type": "stream",
     "text": [
      "Chunk 182 saved as data_new_combined/182.csv\n"
     ]
    },
    {
     "name": "stderr",
     "output_type": "stream",
     "text": [
      "Processing Chunks:  24%|██▍       | 183/760 [26:17<1:13:00,  7.59s/it]"
     ]
    },
    {
     "name": "stdout",
     "output_type": "stream",
     "text": [
      "Chunk 183 saved as data_new_combined/183.csv\n"
     ]
    },
    {
     "name": "stderr",
     "output_type": "stream",
     "text": [
      "Processing Chunks:  24%|██▍       | 184/760 [26:27<1:18:18,  8.16s/it]"
     ]
    },
    {
     "name": "stdout",
     "output_type": "stream",
     "text": [
      "Chunk 184 saved as data_new_combined/184.csv\n"
     ]
    },
    {
     "name": "stderr",
     "output_type": "stream",
     "text": [
      "Processing Chunks:  24%|██▍       | 185/760 [26:35<1:18:01,  8.14s/it]"
     ]
    },
    {
     "name": "stdout",
     "output_type": "stream",
     "text": [
      "Chunk 185 saved as data_new_combined/185.csv\n"
     ]
    },
    {
     "name": "stderr",
     "output_type": "stream",
     "text": [
      "Processing Chunks:  24%|██▍       | 186/760 [26:43<1:16:11,  7.96s/it]"
     ]
    },
    {
     "name": "stdout",
     "output_type": "stream",
     "text": [
      "Chunk 186 saved as data_new_combined/186.csv\n"
     ]
    },
    {
     "name": "stderr",
     "output_type": "stream",
     "text": [
      "Processing Chunks:  25%|██▍       | 187/760 [26:56<1:30:18,  9.46s/it]"
     ]
    },
    {
     "name": "stdout",
     "output_type": "stream",
     "text": [
      "Chunk 187 saved as data_new_combined/187.csv\n"
     ]
    },
    {
     "name": "stderr",
     "output_type": "stream",
     "text": [
      "Processing Chunks:  25%|██▍       | 188/760 [26:59<1:13:07,  7.67s/it]"
     ]
    },
    {
     "name": "stdout",
     "output_type": "stream",
     "text": [
      "Chunk 188 saved as data_new_combined/188.csv\n"
     ]
    },
    {
     "name": "stderr",
     "output_type": "stream",
     "text": [
      "Processing Chunks:  25%|██▍       | 189/760 [27:10<1:21:52,  8.60s/it]"
     ]
    },
    {
     "name": "stdout",
     "output_type": "stream",
     "text": [
      "Chunk 189 saved as data_new_combined/189.csv\n"
     ]
    },
    {
     "name": "stderr",
     "output_type": "stream",
     "text": [
      "Processing Chunks:  25%|██▌       | 190/760 [27:14<1:08:35,  7.22s/it]"
     ]
    },
    {
     "name": "stdout",
     "output_type": "stream",
     "text": [
      "Chunk 190 saved as data_new_combined/190.csv\n"
     ]
    },
    {
     "name": "stderr",
     "output_type": "stream",
     "text": [
      "Processing Chunks:  25%|██▌       | 191/760 [27:21<1:07:30,  7.12s/it]"
     ]
    },
    {
     "name": "stdout",
     "output_type": "stream",
     "text": [
      "Chunk 191 saved as data_new_combined/191.csv\n"
     ]
    },
    {
     "name": "stderr",
     "output_type": "stream",
     "text": [
      "Processing Chunks:  25%|██▌       | 192/760 [27:30<1:14:42,  7.89s/it]"
     ]
    },
    {
     "name": "stdout",
     "output_type": "stream",
     "text": [
      "Chunk 192 saved as data_new_combined/192.csv\n"
     ]
    },
    {
     "name": "stderr",
     "output_type": "stream",
     "text": [
      "Processing Chunks:  25%|██▌       | 193/760 [27:36<1:08:30,  7.25s/it]"
     ]
    },
    {
     "name": "stdout",
     "output_type": "stream",
     "text": [
      "Chunk 193 saved as data_new_combined/193.csv\n"
     ]
    },
    {
     "name": "stderr",
     "output_type": "stream",
     "text": [
      "Processing Chunks:  26%|██▌       | 194/760 [27:46<1:14:48,  7.93s/it]"
     ]
    },
    {
     "name": "stdout",
     "output_type": "stream",
     "text": [
      "Chunk 194 saved as data_new_combined/194.csv\n"
     ]
    },
    {
     "name": "stderr",
     "output_type": "stream",
     "text": [
      "Processing Chunks:  26%|██▌       | 195/760 [27:52<1:10:07,  7.45s/it]"
     ]
    },
    {
     "name": "stdout",
     "output_type": "stream",
     "text": [
      "Chunk 195 saved as data_new_combined/195.csv\n"
     ]
    },
    {
     "name": "stderr",
     "output_type": "stream",
     "text": [
      "Processing Chunks:  26%|██▌       | 196/760 [27:59<1:09:29,  7.39s/it]"
     ]
    },
    {
     "name": "stdout",
     "output_type": "stream",
     "text": [
      "Chunk 196 saved as data_new_combined/196.csv\n"
     ]
    },
    {
     "name": "stderr",
     "output_type": "stream",
     "text": [
      "Processing Chunks:  26%|██▌       | 197/760 [28:07<1:10:13,  7.48s/it]"
     ]
    },
    {
     "name": "stdout",
     "output_type": "stream",
     "text": [
      "Chunk 197 saved as data_new_combined/197.csv\n"
     ]
    },
    {
     "name": "stderr",
     "output_type": "stream",
     "text": [
      "Processing Chunks:  26%|██▌       | 198/760 [28:16<1:14:35,  7.96s/it]"
     ]
    },
    {
     "name": "stdout",
     "output_type": "stream",
     "text": [
      "Chunk 198 saved as data_new_combined/198.csv\n"
     ]
    },
    {
     "name": "stderr",
     "output_type": "stream",
     "text": [
      "Processing Chunks:  26%|██▌       | 199/760 [28:23<1:12:56,  7.80s/it]"
     ]
    },
    {
     "name": "stdout",
     "output_type": "stream",
     "text": [
      "Chunk 199 saved as data_new_combined/199.csv\n"
     ]
    },
    {
     "name": "stderr",
     "output_type": "stream",
     "text": [
      "Processing Chunks:  26%|██▋       | 200/760 [28:33<1:16:56,  8.24s/it]"
     ]
    },
    {
     "name": "stdout",
     "output_type": "stream",
     "text": [
      "Chunk 200 saved as data_new_combined/200.csv\n"
     ]
    },
    {
     "name": "stderr",
     "output_type": "stream",
     "text": [
      "Processing Chunks:  26%|██▋       | 201/760 [28:45<1:27:40,  9.41s/it]"
     ]
    },
    {
     "name": "stdout",
     "output_type": "stream",
     "text": [
      "Chunk 201 saved as data_new_combined/201.csv\n"
     ]
    },
    {
     "name": "stderr",
     "output_type": "stream",
     "text": [
      "Processing Chunks:  27%|██▋       | 202/760 [28:48<1:10:56,  7.63s/it]"
     ]
    },
    {
     "name": "stdout",
     "output_type": "stream",
     "text": [
      "Chunk 202 saved as data_new_combined/202.csv\n"
     ]
    },
    {
     "name": "stderr",
     "output_type": "stream",
     "text": [
      "Processing Chunks:  27%|██▋       | 203/760 [28:59<1:18:13,  8.43s/it]"
     ]
    },
    {
     "name": "stdout",
     "output_type": "stream",
     "text": [
      "Chunk 203 saved as data_new_combined/203.csv\n"
     ]
    },
    {
     "name": "stderr",
     "output_type": "stream",
     "text": [
      "Processing Chunks:  27%|██▋       | 204/760 [29:04<1:09:09,  7.46s/it]"
     ]
    },
    {
     "name": "stdout",
     "output_type": "stream",
     "text": [
      "Chunk 204 saved as data_new_combined/204.csv\n"
     ]
    },
    {
     "name": "stderr",
     "output_type": "stream",
     "text": [
      "Processing Chunks:  27%|██▋       | 205/760 [29:14<1:17:34,  8.39s/it]"
     ]
    },
    {
     "name": "stdout",
     "output_type": "stream",
     "text": [
      "Chunk 205 saved as data_new_combined/205.csv\n"
     ]
    },
    {
     "name": "stderr",
     "output_type": "stream",
     "text": [
      "Processing Chunks:  27%|██▋       | 206/760 [29:20<1:08:21,  7.40s/it]"
     ]
    },
    {
     "name": "stdout",
     "output_type": "stream",
     "text": [
      "Chunk 206 saved as data_new_combined/206.csv\n"
     ]
    },
    {
     "name": "stderr",
     "output_type": "stream",
     "text": [
      "Processing Chunks:  27%|██▋       | 207/760 [29:27<1:09:12,  7.51s/it]"
     ]
    },
    {
     "name": "stdout",
     "output_type": "stream",
     "text": [
      "Chunk 207 saved as data_new_combined/207.csv\n"
     ]
    },
    {
     "name": "stderr",
     "output_type": "stream",
     "text": [
      "Processing Chunks:  27%|██▋       | 208/760 [29:35<1:10:08,  7.62s/it]"
     ]
    },
    {
     "name": "stdout",
     "output_type": "stream",
     "text": [
      "Chunk 208 saved as data_new_combined/208.csv\n"
     ]
    },
    {
     "name": "stderr",
     "output_type": "stream",
     "text": [
      "Processing Chunks:  28%|██▊       | 209/760 [29:42<1:07:42,  7.37s/it]"
     ]
    },
    {
     "name": "stdout",
     "output_type": "stream",
     "text": [
      "Chunk 209 saved as data_new_combined/209.csv\n"
     ]
    },
    {
     "name": "stderr",
     "output_type": "stream",
     "text": [
      "Processing Chunks:  28%|██▊       | 210/760 [29:51<1:10:53,  7.73s/it]"
     ]
    },
    {
     "name": "stdout",
     "output_type": "stream",
     "text": [
      "Chunk 210 saved as data_new_combined/210.csv\n"
     ]
    },
    {
     "name": "stderr",
     "output_type": "stream",
     "text": [
      "Processing Chunks:  28%|██▊       | 211/760 [30:00<1:15:03,  8.20s/it]"
     ]
    },
    {
     "name": "stdout",
     "output_type": "stream",
     "text": [
      "Chunk 211 saved as data_new_combined/211.csv\n"
     ]
    },
    {
     "name": "stderr",
     "output_type": "stream",
     "text": [
      "Processing Chunks:  28%|██▊       | 212/760 [30:08<1:13:52,  8.09s/it]"
     ]
    },
    {
     "name": "stdout",
     "output_type": "stream",
     "text": [
      "Chunk 212 saved as data_new_combined/212.csv\n"
     ]
    },
    {
     "name": "stderr",
     "output_type": "stream",
     "text": [
      "Processing Chunks:  28%|██▊       | 213/760 [30:15<1:10:25,  7.72s/it]"
     ]
    },
    {
     "name": "stdout",
     "output_type": "stream",
     "text": [
      "Chunk 213 saved as data_new_combined/213.csv\n"
     ]
    },
    {
     "name": "stderr",
     "output_type": "stream",
     "text": [
      "Processing Chunks:  28%|██▊       | 214/760 [30:25<1:16:57,  8.46s/it]"
     ]
    },
    {
     "name": "stdout",
     "output_type": "stream",
     "text": [
      "Chunk 214 saved as data_new_combined/214.csv\n"
     ]
    },
    {
     "name": "stderr",
     "output_type": "stream",
     "text": [
      "Processing Chunks:  28%|██▊       | 215/760 [30:32<1:12:37,  8.00s/it]"
     ]
    },
    {
     "name": "stdout",
     "output_type": "stream",
     "text": [
      "Chunk 215 saved as data_new_combined/215.csv\n"
     ]
    },
    {
     "name": "stderr",
     "output_type": "stream",
     "text": [
      "Processing Chunks:  28%|██▊       | 216/760 [30:41<1:16:55,  8.49s/it]"
     ]
    },
    {
     "name": "stdout",
     "output_type": "stream",
     "text": [
      "Chunk 216 saved as data_new_combined/216.csv\n"
     ]
    },
    {
     "name": "stderr",
     "output_type": "stream",
     "text": [
      "Processing Chunks:  29%|██▊       | 217/760 [30:49<1:15:40,  8.36s/it]"
     ]
    },
    {
     "name": "stdout",
     "output_type": "stream",
     "text": [
      "Chunk 217 saved as data_new_combined/217.csv\n"
     ]
    },
    {
     "name": "stderr",
     "output_type": "stream",
     "text": [
      "Processing Chunks:  29%|██▊       | 218/760 [30:53<1:03:54,  7.08s/it]"
     ]
    },
    {
     "name": "stdout",
     "output_type": "stream",
     "text": [
      "Chunk 218 saved as data_new_combined/218.csv\n"
     ]
    },
    {
     "name": "stderr",
     "output_type": "stream",
     "text": [
      "Processing Chunks:  29%|██▉       | 219/760 [31:04<1:13:56,  8.20s/it]"
     ]
    },
    {
     "name": "stdout",
     "output_type": "stream",
     "text": [
      "Chunk 219 saved as data_new_combined/219.csv\n"
     ]
    },
    {
     "name": "stderr",
     "output_type": "stream",
     "text": [
      "Processing Chunks:  29%|██▉       | 220/760 [31:08<1:02:46,  6.97s/it]"
     ]
    },
    {
     "name": "stdout",
     "output_type": "stream",
     "text": [
      "Chunk 220 saved as data_new_combined/220.csv\n"
     ]
    },
    {
     "name": "stderr",
     "output_type": "stream",
     "text": [
      "Processing Chunks:  29%|██▉       | 221/760 [31:16<1:05:39,  7.31s/it]"
     ]
    },
    {
     "name": "stdout",
     "output_type": "stream",
     "text": [
      "Chunk 221 saved as data_new_combined/221.csv\n"
     ]
    },
    {
     "name": "stderr",
     "output_type": "stream",
     "text": [
      "Processing Chunks:  29%|██▉       | 222/760 [31:24<1:06:01,  7.36s/it]"
     ]
    },
    {
     "name": "stdout",
     "output_type": "stream",
     "text": [
      "Chunk 222 saved as data_new_combined/222.csv\n"
     ]
    },
    {
     "name": "stderr",
     "output_type": "stream",
     "text": [
      "Processing Chunks:  29%|██▉       | 223/760 [31:31<1:05:19,  7.30s/it]"
     ]
    },
    {
     "name": "stdout",
     "output_type": "stream",
     "text": [
      "Chunk 223 saved as data_new_combined/223.csv\n"
     ]
    },
    {
     "name": "stderr",
     "output_type": "stream",
     "text": [
      "Processing Chunks:  29%|██▉       | 224/760 [31:42<1:15:58,  8.50s/it]"
     ]
    },
    {
     "name": "stdout",
     "output_type": "stream",
     "text": [
      "Chunk 224 saved as data_new_combined/224.csv\n"
     ]
    },
    {
     "name": "stderr",
     "output_type": "stream",
     "text": [
      "Processing Chunks:  30%|██▉       | 225/760 [31:48<1:08:32,  7.69s/it]"
     ]
    },
    {
     "name": "stdout",
     "output_type": "stream",
     "text": [
      "Chunk 225 saved as data_new_combined/225.csv\n"
     ]
    },
    {
     "name": "stderr",
     "output_type": "stream",
     "text": [
      "Processing Chunks:  30%|██▉       | 226/760 [31:58<1:12:57,  8.20s/it]"
     ]
    },
    {
     "name": "stdout",
     "output_type": "stream",
     "text": [
      "Chunk 226 saved as data_new_combined/226.csv\n"
     ]
    },
    {
     "name": "stderr",
     "output_type": "stream",
     "text": [
      "Processing Chunks:  30%|██▉       | 227/760 [32:05<1:11:05,  8.00s/it]"
     ]
    },
    {
     "name": "stdout",
     "output_type": "stream",
     "text": [
      "Chunk 227 saved as data_new_combined/227.csv\n"
     ]
    },
    {
     "name": "stderr",
     "output_type": "stream",
     "text": [
      "Processing Chunks:  30%|███       | 228/760 [32:13<1:11:36,  8.08s/it]"
     ]
    },
    {
     "name": "stdout",
     "output_type": "stream",
     "text": [
      "Chunk 228 saved as data_new_combined/228.csv\n"
     ]
    },
    {
     "name": "stderr",
     "output_type": "stream",
     "text": [
      "Processing Chunks:  30%|███       | 229/760 [32:19<1:05:31,  7.40s/it]"
     ]
    },
    {
     "name": "stdout",
     "output_type": "stream",
     "text": [
      "Chunk 229 saved as data_new_combined/229.csv\n"
     ]
    },
    {
     "name": "stderr",
     "output_type": "stream",
     "text": [
      "Processing Chunks:  30%|███       | 230/760 [32:28<1:09:53,  7.91s/it]"
     ]
    },
    {
     "name": "stdout",
     "output_type": "stream",
     "text": [
      "Chunk 230 saved as data_new_combined/230.csv\n"
     ]
    },
    {
     "name": "stderr",
     "output_type": "stream",
     "text": [
      "Processing Chunks:  30%|███       | 231/760 [32:40<1:18:52,  8.95s/it]"
     ]
    },
    {
     "name": "stdout",
     "output_type": "stream",
     "text": [
      "Chunk 231 saved as data_new_combined/231.csv\n"
     ]
    },
    {
     "name": "stderr",
     "output_type": "stream",
     "text": [
      "Processing Chunks:  31%|███       | 232/760 [32:47<1:14:29,  8.46s/it]"
     ]
    },
    {
     "name": "stdout",
     "output_type": "stream",
     "text": [
      "Chunk 232 saved as data_new_combined/232.csv\n"
     ]
    },
    {
     "name": "stderr",
     "output_type": "stream",
     "text": [
      "Processing Chunks:  31%|███       | 233/760 [32:55<1:13:57,  8.42s/it]"
     ]
    },
    {
     "name": "stdout",
     "output_type": "stream",
     "text": [
      "Chunk 233 saved as data_new_combined/233.csv\n"
     ]
    },
    {
     "name": "stderr",
     "output_type": "stream",
     "text": [
      "Processing Chunks:  31%|███       | 234/760 [33:02<1:08:57,  7.87s/it]"
     ]
    },
    {
     "name": "stdout",
     "output_type": "stream",
     "text": [
      "Chunk 234 saved as data_new_combined/234.csv\n"
     ]
    },
    {
     "name": "stderr",
     "output_type": "stream",
     "text": [
      "Processing Chunks:  31%|███       | 235/760 [33:09<1:05:49,  7.52s/it]"
     ]
    },
    {
     "name": "stdout",
     "output_type": "stream",
     "text": [
      "Chunk 235 saved as data_new_combined/235.csv\n"
     ]
    },
    {
     "name": "stderr",
     "output_type": "stream",
     "text": [
      "Processing Chunks:  31%|███       | 236/760 [33:20<1:14:55,  8.58s/it]"
     ]
    },
    {
     "name": "stdout",
     "output_type": "stream",
     "text": [
      "Chunk 236 saved as data_new_combined/236.csv\n"
     ]
    },
    {
     "name": "stderr",
     "output_type": "stream",
     "text": [
      "Processing Chunks:  31%|███       | 237/760 [33:27<1:10:35,  8.10s/it]"
     ]
    },
    {
     "name": "stdout",
     "output_type": "stream",
     "text": [
      "Chunk 237 saved as data_new_combined/237.csv\n"
     ]
    },
    {
     "name": "stderr",
     "output_type": "stream",
     "text": [
      "Processing Chunks:  31%|███▏      | 238/760 [33:37<1:17:08,  8.87s/it]"
     ]
    },
    {
     "name": "stdout",
     "output_type": "stream",
     "text": [
      "Chunk 238 saved as data_new_combined/238.csv\n"
     ]
    },
    {
     "name": "stderr",
     "output_type": "stream",
     "text": [
      "Processing Chunks:  31%|███▏      | 239/760 [33:43<1:08:12,  7.86s/it]"
     ]
    },
    {
     "name": "stdout",
     "output_type": "stream",
     "text": [
      "Chunk 239 saved as data_new_combined/239.csv\n"
     ]
    },
    {
     "name": "stderr",
     "output_type": "stream",
     "text": [
      "Processing Chunks:  32%|███▏      | 240/760 [33:52<1:11:34,  8.26s/it]"
     ]
    },
    {
     "name": "stdout",
     "output_type": "stream",
     "text": [
      "Chunk 240 saved as data_new_combined/240.csv\n"
     ]
    },
    {
     "name": "stderr",
     "output_type": "stream",
     "text": [
      "Processing Chunks:  32%|███▏      | 241/760 [34:03<1:17:52,  9.00s/it]"
     ]
    },
    {
     "name": "stdout",
     "output_type": "stream",
     "text": [
      "Chunk 241 saved as data_new_combined/241.csv\n"
     ]
    },
    {
     "name": "stderr",
     "output_type": "stream",
     "text": [
      "Processing Chunks:  32%|███▏      | 242/760 [34:11<1:14:45,  8.66s/it]"
     ]
    },
    {
     "name": "stdout",
     "output_type": "stream",
     "text": [
      "Chunk 242 saved as data_new_combined/242.csv\n"
     ]
    },
    {
     "name": "stderr",
     "output_type": "stream",
     "text": [
      "Processing Chunks:  32%|███▏      | 243/760 [34:20<1:17:45,  9.02s/it]"
     ]
    },
    {
     "name": "stdout",
     "output_type": "stream",
     "text": [
      "Chunk 243 saved as data_new_combined/243.csv\n"
     ]
    },
    {
     "name": "stderr",
     "output_type": "stream",
     "text": [
      "Processing Chunks:  32%|███▏      | 244/760 [34:29<1:17:04,  8.96s/it]"
     ]
    },
    {
     "name": "stdout",
     "output_type": "stream",
     "text": [
      "Chunk 244 saved as data_new_combined/244.csv\n"
     ]
    },
    {
     "name": "stderr",
     "output_type": "stream",
     "text": [
      "Processing Chunks:  32%|███▏      | 245/760 [34:35<1:08:23,  7.97s/it]"
     ]
    },
    {
     "name": "stdout",
     "output_type": "stream",
     "text": [
      "Chunk 245 saved as data_new_combined/245.csv\n"
     ]
    },
    {
     "name": "stderr",
     "output_type": "stream",
     "text": [
      "Processing Chunks:  32%|███▏      | 246/760 [34:43<1:07:57,  7.93s/it]"
     ]
    },
    {
     "name": "stdout",
     "output_type": "stream",
     "text": [
      "Chunk 246 saved as data_new_combined/246.csv\n"
     ]
    },
    {
     "name": "stderr",
     "output_type": "stream",
     "text": [
      "Processing Chunks:  32%|███▎      | 247/760 [34:50<1:05:20,  7.64s/it]"
     ]
    },
    {
     "name": "stdout",
     "output_type": "stream",
     "text": [
      "Chunk 247 saved as data_new_combined/247.csv\n"
     ]
    },
    {
     "name": "stderr",
     "output_type": "stream",
     "text": [
      "Processing Chunks:  33%|███▎      | 248/760 [34:56<1:01:35,  7.22s/it]"
     ]
    },
    {
     "name": "stdout",
     "output_type": "stream",
     "text": [
      "Chunk 248 saved as data_new_combined/248.csv\n"
     ]
    },
    {
     "name": "stderr",
     "output_type": "stream",
     "text": [
      "Processing Chunks:  33%|███▎      | 249/760 [35:06<1:07:59,  7.98s/it]"
     ]
    },
    {
     "name": "stdout",
     "output_type": "stream",
     "text": [
      "Chunk 249 saved as data_new_combined/249.csv\n"
     ]
    },
    {
     "name": "stderr",
     "output_type": "stream",
     "text": [
      "Processing Chunks:  33%|███▎      | 250/760 [35:12<1:03:37,  7.49s/it]"
     ]
    },
    {
     "name": "stdout",
     "output_type": "stream",
     "text": [
      "Chunk 250 saved as data_new_combined/250.csv\n"
     ]
    },
    {
     "name": "stderr",
     "output_type": "stream",
     "text": [
      "Processing Chunks:  33%|███▎      | 251/760 [35:22<1:09:16,  8.17s/it]"
     ]
    },
    {
     "name": "stdout",
     "output_type": "stream",
     "text": [
      "Chunk 251 saved as data_new_combined/251.csv\n"
     ]
    },
    {
     "name": "stderr",
     "output_type": "stream",
     "text": [
      "Processing Chunks:  33%|███▎      | 252/760 [35:27<1:02:30,  7.38s/it]"
     ]
    },
    {
     "name": "stdout",
     "output_type": "stream",
     "text": [
      "Chunk 252 saved as data_new_combined/252.csv\n"
     ]
    },
    {
     "name": "stderr",
     "output_type": "stream",
     "text": [
      "Processing Chunks:  33%|███▎      | 253/760 [35:36<1:05:14,  7.72s/it]"
     ]
    },
    {
     "name": "stdout",
     "output_type": "stream",
     "text": [
      "Chunk 253 saved as data_new_combined/253.csv\n"
     ]
    },
    {
     "name": "stderr",
     "output_type": "stream",
     "text": [
      "Processing Chunks:  33%|███▎      | 254/760 [35:46<1:10:27,  8.35s/it]"
     ]
    },
    {
     "name": "stdout",
     "output_type": "stream",
     "text": [
      "Chunk 254 saved as data_new_combined/254.csv\n"
     ]
    },
    {
     "name": "stderr",
     "output_type": "stream",
     "text": [
      "Processing Chunks:  34%|███▎      | 255/760 [35:52<1:05:20,  7.76s/it]"
     ]
    },
    {
     "name": "stdout",
     "output_type": "stream",
     "text": [
      "Chunk 255 saved as data_new_combined/255.csv\n"
     ]
    },
    {
     "name": "stderr",
     "output_type": "stream",
     "text": [
      "Processing Chunks:  34%|███▎      | 256/760 [36:00<1:05:22,  7.78s/it]"
     ]
    },
    {
     "name": "stdout",
     "output_type": "stream",
     "text": [
      "Chunk 256 saved as data_new_combined/256.csv\n"
     ]
    },
    {
     "name": "stderr",
     "output_type": "stream",
     "text": [
      "Processing Chunks:  34%|███▍      | 257/760 [36:07<1:03:10,  7.54s/it]"
     ]
    },
    {
     "name": "stdout",
     "output_type": "stream",
     "text": [
      "Chunk 257 saved as data_new_combined/257.csv\n"
     ]
    },
    {
     "name": "stderr",
     "output_type": "stream",
     "text": [
      "Processing Chunks:  34%|███▍      | 258/760 [36:18<1:11:40,  8.57s/it]"
     ]
    },
    {
     "name": "stdout",
     "output_type": "stream",
     "text": [
      "Chunk 258 saved as data_new_combined/258.csv\n"
     ]
    },
    {
     "name": "stderr",
     "output_type": "stream",
     "text": [
      "Processing Chunks:  34%|███▍      | 259/760 [36:26<1:10:46,  8.48s/it]"
     ]
    },
    {
     "name": "stdout",
     "output_type": "stream",
     "text": [
      "Chunk 259 saved as data_new_combined/259.csv\n"
     ]
    },
    {
     "name": "stderr",
     "output_type": "stream",
     "text": [
      "Processing Chunks:  34%|███▍      | 260/760 [36:32<1:03:44,  7.65s/it]"
     ]
    },
    {
     "name": "stdout",
     "output_type": "stream",
     "text": [
      "Chunk 260 saved as data_new_combined/260.csv\n"
     ]
    },
    {
     "name": "stderr",
     "output_type": "stream",
     "text": [
      "Processing Chunks:  34%|███▍      | 261/760 [36:43<1:12:17,  8.69s/it]"
     ]
    },
    {
     "name": "stdout",
     "output_type": "stream",
     "text": [
      "Chunk 261 saved as data_new_combined/261.csv\n"
     ]
    },
    {
     "name": "stderr",
     "output_type": "stream",
     "text": [
      "Processing Chunks:  34%|███▍      | 262/760 [36:47<1:00:23,  7.28s/it]"
     ]
    },
    {
     "name": "stdout",
     "output_type": "stream",
     "text": [
      "Chunk 262 saved as data_new_combined/262.csv\n"
     ]
    },
    {
     "name": "stderr",
     "output_type": "stream",
     "text": [
      "Processing Chunks:  35%|███▍      | 263/760 [36:56<1:05:15,  7.88s/it]"
     ]
    },
    {
     "name": "stdout",
     "output_type": "stream",
     "text": [
      "Chunk 263 saved as data_new_combined/263.csv\n"
     ]
    },
    {
     "name": "stderr",
     "output_type": "stream",
     "text": [
      "Processing Chunks:  35%|███▍      | 264/760 [37:04<1:05:20,  7.90s/it]"
     ]
    },
    {
     "name": "stdout",
     "output_type": "stream",
     "text": [
      "Chunk 264 saved as data_new_combined/264.csv\n"
     ]
    },
    {
     "name": "stderr",
     "output_type": "stream",
     "text": [
      "Processing Chunks:  35%|███▍      | 265/760 [37:16<1:14:04,  8.98s/it]"
     ]
    },
    {
     "name": "stdout",
     "output_type": "stream",
     "text": [
      "Chunk 265 saved as data_new_combined/265.csv\n"
     ]
    },
    {
     "name": "stderr",
     "output_type": "stream",
     "text": [
      "Processing Chunks:  35%|███▌      | 266/760 [37:20<1:02:37,  7.61s/it]"
     ]
    },
    {
     "name": "stdout",
     "output_type": "stream",
     "text": [
      "Chunk 266 saved as data_new_combined/266.csv\n"
     ]
    },
    {
     "name": "stderr",
     "output_type": "stream",
     "text": [
      "Processing Chunks:  35%|███▌      | 267/760 [37:27<1:01:43,  7.51s/it]"
     ]
    },
    {
     "name": "stdout",
     "output_type": "stream",
     "text": [
      "Chunk 267 saved as data_new_combined/267.csv\n"
     ]
    },
    {
     "name": "stderr",
     "output_type": "stream",
     "text": [
      "Processing Chunks:  35%|███▌      | 268/760 [37:37<1:06:22,  8.10s/it]"
     ]
    },
    {
     "name": "stdout",
     "output_type": "stream",
     "text": [
      "Chunk 268 saved as data_new_combined/268.csv\n"
     ]
    },
    {
     "name": "stderr",
     "output_type": "stream",
     "text": [
      "Processing Chunks:  35%|███▌      | 269/760 [37:48<1:14:11,  9.07s/it]"
     ]
    },
    {
     "name": "stdout",
     "output_type": "stream",
     "text": [
      "Chunk 269 saved as data_new_combined/269.csv\n"
     ]
    },
    {
     "name": "stderr",
     "output_type": "stream",
     "text": [
      "Processing Chunks:  36%|███▌      | 270/760 [37:51<59:52,  7.33s/it]  "
     ]
    },
    {
     "name": "stdout",
     "output_type": "stream",
     "text": [
      "Chunk 270 saved as data_new_combined/270.csv\n"
     ]
    },
    {
     "name": "stderr",
     "output_type": "stream",
     "text": [
      "Processing Chunks:  36%|███▌      | 271/760 [38:01<1:04:13,  7.88s/it]"
     ]
    },
    {
     "name": "stdout",
     "output_type": "stream",
     "text": [
      "Chunk 271 saved as data_new_combined/271.csv\n"
     ]
    },
    {
     "name": "stderr",
     "output_type": "stream",
     "text": [
      "Processing Chunks:  36%|███▌      | 272/760 [38:10<1:08:53,  8.47s/it]"
     ]
    },
    {
     "name": "stdout",
     "output_type": "stream",
     "text": [
      "Chunk 272 saved as data_new_combined/272.csv\n"
     ]
    },
    {
     "name": "stderr",
     "output_type": "stream",
     "text": [
      "Processing Chunks:  36%|███▌      | 273/760 [38:15<58:39,  7.23s/it]  "
     ]
    },
    {
     "name": "stdout",
     "output_type": "stream",
     "text": [
      "Chunk 273 saved as data_new_combined/273.csv\n"
     ]
    },
    {
     "name": "stderr",
     "output_type": "stream",
     "text": [
      "Processing Chunks:  36%|███▌      | 274/760 [38:28<1:14:15,  9.17s/it]"
     ]
    },
    {
     "name": "stdout",
     "output_type": "stream",
     "text": [
      "Chunk 274 saved as data_new_combined/274.csv\n"
     ]
    },
    {
     "name": "stderr",
     "output_type": "stream",
     "text": [
      "Processing Chunks:  36%|███▌      | 275/760 [38:40<1:19:27,  9.83s/it]"
     ]
    },
    {
     "name": "stdout",
     "output_type": "stream",
     "text": [
      "Chunk 275 saved as data_new_combined/275.csv\n",
      "Chunk 276 saved as data_new_combined/276.csv\n"
     ]
    },
    {
     "name": "stderr",
     "output_type": "stream",
     "text": [
      "Processing Chunks:  36%|███▋      | 277/760 [38:52<1:04:51,  8.06s/it]"
     ]
    },
    {
     "name": "stdout",
     "output_type": "stream",
     "text": [
      "Chunk 277 saved as data_new_combined/277.csv\n"
     ]
    },
    {
     "name": "stderr",
     "output_type": "stream",
     "text": [
      "Processing Chunks:  37%|███▋      | 278/760 [39:05<1:15:49,  9.44s/it]"
     ]
    },
    {
     "name": "stdout",
     "output_type": "stream",
     "text": [
      "Chunk 278 saved as data_new_combined/278.csv\n"
     ]
    },
    {
     "name": "stderr",
     "output_type": "stream",
     "text": [
      "Processing Chunks:  37%|███▋      | 279/760 [39:19<1:24:30, 10.54s/it]"
     ]
    },
    {
     "name": "stdout",
     "output_type": "stream",
     "text": [
      "Chunk 279 saved as data_new_combined/279.csv\n",
      "Chunk 280 saved as data_new_combined/280.csv\n",
      "Chunk 281 saved as data_new_combined/281.csv\n"
     ]
    },
    {
     "name": "stderr",
     "output_type": "stream",
     "text": [
      "Processing Chunks:  37%|███▋      | 282/760 [39:27<50:12,  6.30s/it]  "
     ]
    },
    {
     "name": "stdout",
     "output_type": "stream",
     "text": [
      "Chunk 282 saved as data_new_combined/282.csv\n"
     ]
    },
    {
     "name": "stderr",
     "output_type": "stream",
     "text": [
      "Processing Chunks:  37%|███▋      | 283/760 [39:39<59:52,  7.53s/it]"
     ]
    },
    {
     "name": "stdout",
     "output_type": "stream",
     "text": [
      "Chunk 283 saved as data_new_combined/283.csv\n",
      "Chunk 284 saved as data_new_combined/284.csv\n"
     ]
    },
    {
     "name": "stderr",
     "output_type": "stream",
     "text": [
      "Processing Chunks:  38%|███▊      | 285/760 [39:53<57:51,  7.31s/it]"
     ]
    },
    {
     "name": "stdout",
     "output_type": "stream",
     "text": [
      "Chunk 285 saved as data_new_combined/285.csv\n"
     ]
    },
    {
     "name": "stderr",
     "output_type": "stream",
     "text": [
      "Processing Chunks:  38%|███▊      | 286/760 [39:54<48:04,  6.09s/it]"
     ]
    },
    {
     "name": "stdout",
     "output_type": "stream",
     "text": [
      "Chunk 286 saved as data_new_combined/286.csv\n"
     ]
    },
    {
     "name": "stderr",
     "output_type": "stream",
     "text": [
      "Processing Chunks:  38%|███▊      | 287/760 [40:03<51:55,  6.59s/it]"
     ]
    },
    {
     "name": "stdout",
     "output_type": "stream",
     "text": [
      "Chunk 287 saved as data_new_combined/287.csv\n"
     ]
    },
    {
     "name": "stderr",
     "output_type": "stream",
     "text": [
      "Processing Chunks:  38%|███▊      | 288/760 [40:11<55:16,  7.03s/it]"
     ]
    },
    {
     "name": "stdout",
     "output_type": "stream",
     "text": [
      "Chunk 288 saved as data_new_combined/288.csv\n"
     ]
    },
    {
     "name": "stderr",
     "output_type": "stream",
     "text": [
      "Processing Chunks:  38%|███▊      | 289/760 [40:24<1:08:14,  8.69s/it]"
     ]
    },
    {
     "name": "stdout",
     "output_type": "stream",
     "text": [
      "Chunk 289 saved as data_new_combined/289.csv\n"
     ]
    },
    {
     "name": "stderr",
     "output_type": "stream",
     "text": [
      "Processing Chunks:  38%|███▊      | 290/760 [40:37<1:17:02,  9.84s/it]"
     ]
    },
    {
     "name": "stdout",
     "output_type": "stream",
     "text": [
      "Chunk 290 saved as data_new_combined/290.csv\n"
     ]
    },
    {
     "name": "stderr",
     "output_type": "stream",
     "text": [
      "Processing Chunks:  38%|███▊      | 291/760 [40:41<1:04:23,  8.24s/it]"
     ]
    },
    {
     "name": "stdout",
     "output_type": "stream",
     "text": [
      "Chunk 291 saved as data_new_combined/291.csv\n"
     ]
    },
    {
     "name": "stderr",
     "output_type": "stream",
     "text": [
      "Processing Chunks:  38%|███▊      | 292/760 [40:44<51:44,  6.63s/it]  "
     ]
    },
    {
     "name": "stdout",
     "output_type": "stream",
     "text": [
      "Chunk 292 saved as data_new_combined/292.csv\n"
     ]
    },
    {
     "name": "stderr",
     "output_type": "stream",
     "text": [
      "Processing Chunks:  39%|███▊      | 293/760 [40:52<55:09,  7.09s/it]"
     ]
    },
    {
     "name": "stdout",
     "output_type": "stream",
     "text": [
      "Chunk 293 saved as data_new_combined/293.csv\n"
     ]
    },
    {
     "name": "stderr",
     "output_type": "stream",
     "text": [
      "Processing Chunks:  39%|███▊      | 294/760 [40:58<51:36,  6.65s/it]"
     ]
    },
    {
     "name": "stdout",
     "output_type": "stream",
     "text": [
      "Chunk 294 saved as data_new_combined/294.csv\n"
     ]
    },
    {
     "name": "stderr",
     "output_type": "stream",
     "text": [
      "Processing Chunks:  39%|███▉      | 295/760 [41:04<51:26,  6.64s/it]"
     ]
    },
    {
     "name": "stdout",
     "output_type": "stream",
     "text": [
      "Chunk 295 saved as data_new_combined/295.csv\n"
     ]
    },
    {
     "name": "stderr",
     "output_type": "stream",
     "text": [
      "Processing Chunks:  39%|███▉      | 296/760 [41:17<1:04:38,  8.36s/it]"
     ]
    },
    {
     "name": "stdout",
     "output_type": "stream",
     "text": [
      "Chunk 296 saved as data_new_combined/296.csv\n"
     ]
    },
    {
     "name": "stderr",
     "output_type": "stream",
     "text": [
      "Processing Chunks:  39%|███▉      | 297/760 [41:22<57:45,  7.48s/it]  "
     ]
    },
    {
     "name": "stdout",
     "output_type": "stream",
     "text": [
      "Chunk 297 saved as data_new_combined/297.csv\n"
     ]
    },
    {
     "name": "stderr",
     "output_type": "stream",
     "text": [
      "Processing Chunks:  39%|███▉      | 298/760 [41:26<50:08,  6.51s/it]"
     ]
    },
    {
     "name": "stdout",
     "output_type": "stream",
     "text": [
      "Chunk 298 saved as data_new_combined/298.csv\n"
     ]
    },
    {
     "name": "stderr",
     "output_type": "stream",
     "text": [
      "Processing Chunks:  39%|███▉      | 299/760 [41:39<1:02:50,  8.18s/it]"
     ]
    },
    {
     "name": "stdout",
     "output_type": "stream",
     "text": [
      "Chunk 299 saved as data_new_combined/299.csv\n"
     ]
    },
    {
     "name": "stderr",
     "output_type": "stream",
     "text": [
      "Processing Chunks:  39%|███▉      | 300/760 [41:41<50:14,  6.55s/it]  "
     ]
    },
    {
     "name": "stdout",
     "output_type": "stream",
     "text": [
      "Chunk 300 saved as data_new_combined/300.csv\n"
     ]
    },
    {
     "name": "stderr",
     "output_type": "stream",
     "text": [
      "Processing Chunks:  40%|███▉      | 301/760 [41:48<51:16,  6.70s/it]"
     ]
    },
    {
     "name": "stdout",
     "output_type": "stream",
     "text": [
      "Chunk 301 saved as data_new_combined/301.csv\n"
     ]
    },
    {
     "name": "stderr",
     "output_type": "stream",
     "text": [
      "Processing Chunks:  40%|███▉      | 302/760 [41:58<58:11,  7.62s/it]"
     ]
    },
    {
     "name": "stdout",
     "output_type": "stream",
     "text": [
      "Chunk 302 saved as data_new_combined/302.csv\n"
     ]
    },
    {
     "name": "stderr",
     "output_type": "stream",
     "text": [
      "Processing Chunks:  40%|███▉      | 303/760 [42:04<53:30,  7.03s/it]"
     ]
    },
    {
     "name": "stdout",
     "output_type": "stream",
     "text": [
      "Chunk 303 saved as data_new_combined/303.csv\n"
     ]
    },
    {
     "name": "stderr",
     "output_type": "stream",
     "text": [
      "Processing Chunks:  40%|████      | 304/760 [42:17<1:07:37,  8.90s/it]"
     ]
    },
    {
     "name": "stdout",
     "output_type": "stream",
     "text": [
      "Chunk 304 saved as data_new_combined/304.csv\n"
     ]
    },
    {
     "name": "stderr",
     "output_type": "stream",
     "text": [
      "Processing Chunks:  40%|████      | 305/760 [42:18<50:20,  6.64s/it]  "
     ]
    },
    {
     "name": "stdout",
     "output_type": "stream",
     "text": [
      "Chunk 305 saved as data_new_combined/305.csv\n"
     ]
    },
    {
     "name": "stderr",
     "output_type": "stream",
     "text": [
      "Processing Chunks:  40%|████      | 306/760 [42:29<58:53,  7.78s/it]"
     ]
    },
    {
     "name": "stdout",
     "output_type": "stream",
     "text": [
      "Chunk 306 saved as data_new_combined/306.csv\n"
     ]
    },
    {
     "name": "stderr",
     "output_type": "stream",
     "text": [
      "Processing Chunks:  40%|████      | 307/760 [42:32<48:15,  6.39s/it]"
     ]
    },
    {
     "name": "stdout",
     "output_type": "stream",
     "text": [
      "Chunk 307 saved as data_new_combined/307.csv\n"
     ]
    },
    {
     "name": "stderr",
     "output_type": "stream",
     "text": [
      "Processing Chunks:  41%|████      | 308/760 [42:45<1:03:53,  8.48s/it]"
     ]
    },
    {
     "name": "stdout",
     "output_type": "stream",
     "text": [
      "Chunk 308 saved as data_new_combined/308.csv\n"
     ]
    },
    {
     "name": "stderr",
     "output_type": "stream",
     "text": [
      "Processing Chunks:  41%|████      | 309/760 [42:58<1:14:09,  9.86s/it]"
     ]
    },
    {
     "name": "stdout",
     "output_type": "stream",
     "text": [
      "Chunk 309 saved as data_new_combined/309.csv\n"
     ]
    },
    {
     "name": "stderr",
     "output_type": "stream",
     "text": [
      "Processing Chunks:  41%|████      | 310/760 [43:01<57:42,  7.69s/it]  "
     ]
    },
    {
     "name": "stdout",
     "output_type": "stream",
     "text": [
      "Chunk 310 saved as data_new_combined/310.csv\n",
      "Chunk 311 saved as data_new_combined/311.csv\n"
     ]
    },
    {
     "name": "stderr",
     "output_type": "stream",
     "text": [
      "Processing Chunks:  41%|████      | 312/760 [43:09<45:13,  6.06s/it]"
     ]
    },
    {
     "name": "stdout",
     "output_type": "stream",
     "text": [
      "Chunk 312 saved as data_new_combined/312.csv\n"
     ]
    },
    {
     "name": "stderr",
     "output_type": "stream",
     "text": [
      "Processing Chunks:  41%|████      | 313/760 [43:14<42:27,  5.70s/it]"
     ]
    },
    {
     "name": "stdout",
     "output_type": "stream",
     "text": [
      "Chunk 313 saved as data_new_combined/313.csv\n"
     ]
    },
    {
     "name": "stderr",
     "output_type": "stream",
     "text": [
      "Processing Chunks:  41%|████▏     | 314/760 [43:21<43:59,  5.92s/it]"
     ]
    },
    {
     "name": "stdout",
     "output_type": "stream",
     "text": [
      "Chunk 314 saved as data_new_combined/314.csv\n"
     ]
    },
    {
     "name": "stderr",
     "output_type": "stream",
     "text": [
      "Processing Chunks:  41%|████▏     | 315/760 [43:31<52:24,  7.07s/it]"
     ]
    },
    {
     "name": "stdout",
     "output_type": "stream",
     "text": [
      "Chunk 315 saved as data_new_combined/315.csv\n"
     ]
    },
    {
     "name": "stderr",
     "output_type": "stream",
     "text": [
      "Processing Chunks:  42%|████▏     | 316/760 [43:35<46:36,  6.30s/it]"
     ]
    },
    {
     "name": "stdout",
     "output_type": "stream",
     "text": [
      "Chunk 316 saved as data_new_combined/316.csv\n"
     ]
    },
    {
     "name": "stderr",
     "output_type": "stream",
     "text": [
      "Processing Chunks:  42%|████▏     | 317/760 [43:42<48:57,  6.63s/it]"
     ]
    },
    {
     "name": "stdout",
     "output_type": "stream",
     "text": [
      "Chunk 317 saved as data_new_combined/317.csv\n"
     ]
    },
    {
     "name": "stderr",
     "output_type": "stream",
     "text": [
      "Processing Chunks:  42%|████▏     | 318/760 [43:50<51:13,  6.95s/it]"
     ]
    },
    {
     "name": "stdout",
     "output_type": "stream",
     "text": [
      "Chunk 318 saved as data_new_combined/318.csv\n"
     ]
    },
    {
     "name": "stderr",
     "output_type": "stream",
     "text": [
      "Processing Chunks:  42%|████▏     | 319/760 [43:59<55:45,  7.59s/it]"
     ]
    },
    {
     "name": "stdout",
     "output_type": "stream",
     "text": [
      "Chunk 319 saved as data_new_combined/319.csv\n"
     ]
    },
    {
     "name": "stderr",
     "output_type": "stream",
     "text": [
      "Processing Chunks:  42%|████▏     | 320/760 [44:06<54:40,  7.46s/it]"
     ]
    },
    {
     "name": "stdout",
     "output_type": "stream",
     "text": [
      "Chunk 320 saved as data_new_combined/320.csv\n"
     ]
    },
    {
     "name": "stderr",
     "output_type": "stream",
     "text": [
      "Processing Chunks:  42%|████▏     | 321/760 [44:14<55:10,  7.54s/it]"
     ]
    },
    {
     "name": "stdout",
     "output_type": "stream",
     "text": [
      "Chunk 321 saved as data_new_combined/321.csv\n"
     ]
    },
    {
     "name": "stderr",
     "output_type": "stream",
     "text": [
      "Processing Chunks:  42%|████▏     | 322/760 [44:21<52:36,  7.21s/it]"
     ]
    },
    {
     "name": "stdout",
     "output_type": "stream",
     "text": [
      "Chunk 322 saved as data_new_combined/322.csv\n"
     ]
    },
    {
     "name": "stderr",
     "output_type": "stream",
     "text": [
      "Processing Chunks:  42%|████▎     | 323/760 [44:29<55:18,  7.59s/it]"
     ]
    },
    {
     "name": "stdout",
     "output_type": "stream",
     "text": [
      "Chunk 323 saved as data_new_combined/323.csv\n"
     ]
    },
    {
     "name": "stderr",
     "output_type": "stream",
     "text": [
      "Processing Chunks:  43%|████▎     | 324/760 [44:34<48:42,  6.70s/it]"
     ]
    },
    {
     "name": "stdout",
     "output_type": "stream",
     "text": [
      "Chunk 324 saved as data_new_combined/324.csv\n"
     ]
    },
    {
     "name": "stderr",
     "output_type": "stream",
     "text": [
      "Processing Chunks:  43%|████▎     | 325/760 [44:39<46:16,  6.38s/it]"
     ]
    },
    {
     "name": "stdout",
     "output_type": "stream",
     "text": [
      "Chunk 325 saved as data_new_combined/325.csv\n"
     ]
    },
    {
     "name": "stderr",
     "output_type": "stream",
     "text": [
      "Processing Chunks:  43%|████▎     | 326/760 [44:46<46:47,  6.47s/it]"
     ]
    },
    {
     "name": "stdout",
     "output_type": "stream",
     "text": [
      "Chunk 326 saved as data_new_combined/326.csv\n"
     ]
    },
    {
     "name": "stderr",
     "output_type": "stream",
     "text": [
      "Processing Chunks:  43%|████▎     | 327/760 [44:54<50:03,  6.94s/it]"
     ]
    },
    {
     "name": "stdout",
     "output_type": "stream",
     "text": [
      "Chunk 327 saved as data_new_combined/327.csv\n"
     ]
    },
    {
     "name": "stderr",
     "output_type": "stream",
     "text": [
      "Processing Chunks:  43%|████▎     | 328/760 [45:05<58:00,  8.06s/it]"
     ]
    },
    {
     "name": "stdout",
     "output_type": "stream",
     "text": [
      "Chunk 328 saved as data_new_combined/328.csv\n"
     ]
    },
    {
     "name": "stderr",
     "output_type": "stream",
     "text": [
      "Processing Chunks:  43%|████▎     | 329/760 [45:13<58:53,  8.20s/it]"
     ]
    },
    {
     "name": "stdout",
     "output_type": "stream",
     "text": [
      "Chunk 329 saved as data_new_combined/329.csv\n"
     ]
    },
    {
     "name": "stderr",
     "output_type": "stream",
     "text": [
      "Processing Chunks:  43%|████▎     | 330/760 [45:20<55:00,  7.68s/it]"
     ]
    },
    {
     "name": "stdout",
     "output_type": "stream",
     "text": [
      "Chunk 330 saved as data_new_combined/330.csv\n"
     ]
    },
    {
     "name": "stderr",
     "output_type": "stream",
     "text": [
      "Processing Chunks:  44%|████▎     | 331/760 [45:30<1:00:49,  8.51s/it]"
     ]
    },
    {
     "name": "stdout",
     "output_type": "stream",
     "text": [
      "Chunk 331 saved as data_new_combined/331.csv\n"
     ]
    },
    {
     "name": "stderr",
     "output_type": "stream",
     "text": [
      "Processing Chunks:  44%|████▎     | 332/760 [45:36<54:03,  7.58s/it]  "
     ]
    },
    {
     "name": "stdout",
     "output_type": "stream",
     "text": [
      "Chunk 332 saved as data_new_combined/332.csv\n"
     ]
    },
    {
     "name": "stderr",
     "output_type": "stream",
     "text": [
      "Processing Chunks:  44%|████▍     | 333/760 [45:44<54:50,  7.71s/it]"
     ]
    },
    {
     "name": "stdout",
     "output_type": "stream",
     "text": [
      "Chunk 333 saved as data_new_combined/333.csv\n"
     ]
    },
    {
     "name": "stderr",
     "output_type": "stream",
     "text": [
      "Processing Chunks:  44%|████▍     | 334/760 [45:55<1:03:32,  8.95s/it]"
     ]
    },
    {
     "name": "stdout",
     "output_type": "stream",
     "text": [
      "Chunk 334 saved as data_new_combined/334.csv\n"
     ]
    },
    {
     "name": "stderr",
     "output_type": "stream",
     "text": [
      "Processing Chunks:  44%|████▍     | 335/760 [45:59<51:04,  7.21s/it]  "
     ]
    },
    {
     "name": "stdout",
     "output_type": "stream",
     "text": [
      "Chunk 335 saved as data_new_combined/335.csv\n"
     ]
    },
    {
     "name": "stderr",
     "output_type": "stream",
     "text": [
      "Processing Chunks:  44%|████▍     | 336/760 [46:05<49:27,  7.00s/it]"
     ]
    },
    {
     "name": "stdout",
     "output_type": "stream",
     "text": [
      "Chunk 336 saved as data_new_combined/336.csv\n"
     ]
    },
    {
     "name": "stderr",
     "output_type": "stream",
     "text": [
      "Processing Chunks:  44%|████▍     | 337/760 [46:13<51:39,  7.33s/it]"
     ]
    },
    {
     "name": "stdout",
     "output_type": "stream",
     "text": [
      "Chunk 337 saved as data_new_combined/337.csv\n"
     ]
    },
    {
     "name": "stderr",
     "output_type": "stream",
     "text": [
      "Processing Chunks:  44%|████▍     | 338/760 [46:18<46:33,  6.62s/it]"
     ]
    },
    {
     "name": "stdout",
     "output_type": "stream",
     "text": [
      "Chunk 338 saved as data_new_combined/338.csv\n"
     ]
    },
    {
     "name": "stderr",
     "output_type": "stream",
     "text": [
      "Processing Chunks:  45%|████▍     | 339/760 [46:26<49:45,  7.09s/it]"
     ]
    },
    {
     "name": "stdout",
     "output_type": "stream",
     "text": [
      "Chunk 339 saved as data_new_combined/339.csv\n"
     ]
    },
    {
     "name": "stderr",
     "output_type": "stream",
     "text": [
      "Processing Chunks:  45%|████▍     | 340/760 [46:31<44:03,  6.29s/it]"
     ]
    },
    {
     "name": "stdout",
     "output_type": "stream",
     "text": [
      "Chunk 340 saved as data_new_combined/340.csv\n"
     ]
    },
    {
     "name": "stderr",
     "output_type": "stream",
     "text": [
      "Processing Chunks:  45%|████▍     | 341/760 [46:40<50:16,  7.20s/it]"
     ]
    },
    {
     "name": "stdout",
     "output_type": "stream",
     "text": [
      "Chunk 341 saved as data_new_combined/341.csv\n"
     ]
    },
    {
     "name": "stderr",
     "output_type": "stream",
     "text": [
      "Processing Chunks:  45%|████▌     | 342/760 [46:48<51:10,  7.34s/it]"
     ]
    },
    {
     "name": "stdout",
     "output_type": "stream",
     "text": [
      "Chunk 342 saved as data_new_combined/342.csv\n"
     ]
    },
    {
     "name": "stderr",
     "output_type": "stream",
     "text": [
      "Processing Chunks:  45%|████▌     | 343/760 [46:59<58:47,  8.46s/it]"
     ]
    },
    {
     "name": "stdout",
     "output_type": "stream",
     "text": [
      "Chunk 343 saved as data_new_combined/343.csv\n"
     ]
    },
    {
     "name": "stderr",
     "output_type": "stream",
     "text": [
      "Processing Chunks:  45%|████▌     | 344/760 [47:03<50:34,  7.29s/it]"
     ]
    },
    {
     "name": "stdout",
     "output_type": "stream",
     "text": [
      "Chunk 344 saved as data_new_combined/344.csv\n"
     ]
    },
    {
     "name": "stderr",
     "output_type": "stream",
     "text": [
      "Processing Chunks:  45%|████▌     | 345/760 [47:12<53:45,  7.77s/it]"
     ]
    },
    {
     "name": "stdout",
     "output_type": "stream",
     "text": [
      "Chunk 345 saved as data_new_combined/345.csv\n"
     ]
    },
    {
     "name": "stderr",
     "output_type": "stream",
     "text": [
      "Processing Chunks:  46%|████▌     | 346/760 [47:17<47:42,  6.91s/it]"
     ]
    },
    {
     "name": "stdout",
     "output_type": "stream",
     "text": [
      "Chunk 346 saved as data_new_combined/346.csv\n"
     ]
    },
    {
     "name": "stderr",
     "output_type": "stream",
     "text": [
      "Processing Chunks:  46%|████▌     | 347/760 [47:26<50:37,  7.36s/it]"
     ]
    },
    {
     "name": "stdout",
     "output_type": "stream",
     "text": [
      "Chunk 347 saved as data_new_combined/347.csv\n"
     ]
    },
    {
     "name": "stderr",
     "output_type": "stream",
     "text": [
      "Processing Chunks:  46%|████▌     | 348/760 [47:35<54:23,  7.92s/it]"
     ]
    },
    {
     "name": "stdout",
     "output_type": "stream",
     "text": [
      "Chunk 348 saved as data_new_combined/348.csv\n"
     ]
    },
    {
     "name": "stderr",
     "output_type": "stream",
     "text": [
      "Processing Chunks:  46%|████▌     | 349/760 [47:39<47:19,  6.91s/it]"
     ]
    },
    {
     "name": "stdout",
     "output_type": "stream",
     "text": [
      "Chunk 349 saved as data_new_combined/349.csv\n"
     ]
    },
    {
     "name": "stderr",
     "output_type": "stream",
     "text": [
      "Processing Chunks:  46%|████▌     | 350/760 [47:48<50:50,  7.44s/it]"
     ]
    },
    {
     "name": "stdout",
     "output_type": "stream",
     "text": [
      "Chunk 350 saved as data_new_combined/350.csv\n"
     ]
    },
    {
     "name": "stderr",
     "output_type": "stream",
     "text": [
      "Processing Chunks:  46%|████▌     | 351/760 [47:53<45:50,  6.73s/it]"
     ]
    },
    {
     "name": "stdout",
     "output_type": "stream",
     "text": [
      "Chunk 351 saved as data_new_combined/351.csv\n"
     ]
    },
    {
     "name": "stderr",
     "output_type": "stream",
     "text": [
      "Processing Chunks:  46%|████▋     | 352/760 [48:00<45:31,  6.70s/it]"
     ]
    },
    {
     "name": "stdout",
     "output_type": "stream",
     "text": [
      "Chunk 352 saved as data_new_combined/352.csv\n"
     ]
    },
    {
     "name": "stderr",
     "output_type": "stream",
     "text": [
      "Processing Chunks:  46%|████▋     | 353/760 [48:08<49:33,  7.30s/it]"
     ]
    },
    {
     "name": "stdout",
     "output_type": "stream",
     "text": [
      "Chunk 353 saved as data_new_combined/353.csv\n"
     ]
    },
    {
     "name": "stderr",
     "output_type": "stream",
     "text": [
      "Processing Chunks:  47%|████▋     | 354/760 [48:18<54:28,  8.05s/it]"
     ]
    },
    {
     "name": "stdout",
     "output_type": "stream",
     "text": [
      "Chunk 354 saved as data_new_combined/354.csv\n"
     ]
    },
    {
     "name": "stderr",
     "output_type": "stream",
     "text": [
      "Processing Chunks:  47%|████▋     | 355/760 [48:26<52:45,  7.82s/it]"
     ]
    },
    {
     "name": "stdout",
     "output_type": "stream",
     "text": [
      "Chunk 355 saved as data_new_combined/355.csv\n"
     ]
    },
    {
     "name": "stderr",
     "output_type": "stream",
     "text": [
      "Processing Chunks:  47%|████▋     | 356/760 [48:32<50:06,  7.44s/it]"
     ]
    },
    {
     "name": "stdout",
     "output_type": "stream",
     "text": [
      "Chunk 356 saved as data_new_combined/356.csv\n"
     ]
    },
    {
     "name": "stderr",
     "output_type": "stream",
     "text": [
      "Processing Chunks:  47%|████▋     | 357/760 [48:41<53:05,  7.91s/it]"
     ]
    },
    {
     "name": "stdout",
     "output_type": "stream",
     "text": [
      "Chunk 357 saved as data_new_combined/357.csv\n"
     ]
    },
    {
     "name": "stderr",
     "output_type": "stream",
     "text": [
      "Processing Chunks:  47%|████▋     | 358/760 [48:44<42:54,  6.40s/it]"
     ]
    },
    {
     "name": "stdout",
     "output_type": "stream",
     "text": [
      "Chunk 358 saved as data_new_combined/358.csv\n"
     ]
    },
    {
     "name": "stderr",
     "output_type": "stream",
     "text": [
      "Processing Chunks:  47%|████▋     | 359/760 [48:51<44:07,  6.60s/it]"
     ]
    },
    {
     "name": "stdout",
     "output_type": "stream",
     "text": [
      "Chunk 359 saved as data_new_combined/359.csv\n"
     ]
    },
    {
     "name": "stderr",
     "output_type": "stream",
     "text": [
      "Processing Chunks:  47%|████▋     | 360/760 [49:02<53:24,  8.01s/it]"
     ]
    },
    {
     "name": "stdout",
     "output_type": "stream",
     "text": [
      "Chunk 360 saved as data_new_combined/360.csv\n"
     ]
    },
    {
     "name": "stderr",
     "output_type": "stream",
     "text": [
      "Processing Chunks:  48%|████▊     | 361/760 [49:07<45:37,  6.86s/it]"
     ]
    },
    {
     "name": "stdout",
     "output_type": "stream",
     "text": [
      "Chunk 361 saved as data_new_combined/361.csv\n"
     ]
    },
    {
     "name": "stderr",
     "output_type": "stream",
     "text": [
      "Processing Chunks:  48%|████▊     | 362/760 [49:14<46:39,  7.03s/it]"
     ]
    },
    {
     "name": "stdout",
     "output_type": "stream",
     "text": [
      "Chunk 362 saved as data_new_combined/362.csv\n"
     ]
    },
    {
     "name": "stderr",
     "output_type": "stream",
     "text": [
      "Processing Chunks:  48%|████▊     | 363/760 [49:23<50:06,  7.57s/it]"
     ]
    },
    {
     "name": "stdout",
     "output_type": "stream",
     "text": [
      "Chunk 363 saved as data_new_combined/363.csv\n"
     ]
    },
    {
     "name": "stderr",
     "output_type": "stream",
     "text": [
      "Processing Chunks:  48%|████▊     | 364/760 [49:31<51:09,  7.75s/it]"
     ]
    },
    {
     "name": "stdout",
     "output_type": "stream",
     "text": [
      "Chunk 364 saved as data_new_combined/364.csv\n"
     ]
    },
    {
     "name": "stderr",
     "output_type": "stream",
     "text": [
      "Processing Chunks:  48%|████▊     | 365/760 [49:37<48:02,  7.30s/it]"
     ]
    },
    {
     "name": "stdout",
     "output_type": "stream",
     "text": [
      "Chunk 365 saved as data_new_combined/365.csv\n"
     ]
    },
    {
     "name": "stderr",
     "output_type": "stream",
     "text": [
      "Processing Chunks:  48%|████▊     | 366/760 [49:47<53:46,  8.19s/it]"
     ]
    },
    {
     "name": "stdout",
     "output_type": "stream",
     "text": [
      "Chunk 366 saved as data_new_combined/366.csv\n"
     ]
    },
    {
     "name": "stderr",
     "output_type": "stream",
     "text": [
      "Processing Chunks:  48%|████▊     | 367/760 [49:52<46:54,  7.16s/it]"
     ]
    },
    {
     "name": "stdout",
     "output_type": "stream",
     "text": [
      "Chunk 367 saved as data_new_combined/367.csv\n"
     ]
    },
    {
     "name": "stderr",
     "output_type": "stream",
     "text": [
      "Processing Chunks:  48%|████▊     | 368/760 [50:04<55:54,  8.56s/it]"
     ]
    },
    {
     "name": "stdout",
     "output_type": "stream",
     "text": [
      "Chunk 368 saved as data_new_combined/368.csv\n"
     ]
    },
    {
     "name": "stderr",
     "output_type": "stream",
     "text": [
      "Processing Chunks:  49%|████▊     | 369/760 [50:09<49:18,  7.57s/it]"
     ]
    },
    {
     "name": "stdout",
     "output_type": "stream",
     "text": [
      "Chunk 369 saved as data_new_combined/369.csv\n"
     ]
    },
    {
     "name": "stderr",
     "output_type": "stream",
     "text": [
      "Processing Chunks:  49%|████▊     | 370/760 [50:14<43:41,  6.72s/it]"
     ]
    },
    {
     "name": "stdout",
     "output_type": "stream",
     "text": [
      "Chunk 370 saved as data_new_combined/370.csv\n"
     ]
    },
    {
     "name": "stderr",
     "output_type": "stream",
     "text": [
      "Processing Chunks:  49%|████▉     | 371/760 [50:25<51:11,  7.90s/it]"
     ]
    },
    {
     "name": "stdout",
     "output_type": "stream",
     "text": [
      "Chunk 371 saved as data_new_combined/371.csv\n"
     ]
    },
    {
     "name": "stderr",
     "output_type": "stream",
     "text": [
      "Processing Chunks:  49%|████▉     | 372/760 [50:32<50:15,  7.77s/it]"
     ]
    },
    {
     "name": "stdout",
     "output_type": "stream",
     "text": [
      "Chunk 372 saved as data_new_combined/372.csv\n"
     ]
    },
    {
     "name": "stderr",
     "output_type": "stream",
     "text": [
      "Processing Chunks:  49%|████▉     | 373/760 [50:42<53:14,  8.25s/it]"
     ]
    },
    {
     "name": "stdout",
     "output_type": "stream",
     "text": [
      "Chunk 373 saved as data_new_combined/373.csv\n"
     ]
    },
    {
     "name": "stderr",
     "output_type": "stream",
     "text": [
      "Processing Chunks:  49%|████▉     | 374/760 [50:46<46:00,  7.15s/it]"
     ]
    },
    {
     "name": "stdout",
     "output_type": "stream",
     "text": [
      "Chunk 374 saved as data_new_combined/374.csv\n"
     ]
    },
    {
     "name": "stderr",
     "output_type": "stream",
     "text": [
      "Processing Chunks:  49%|████▉     | 375/760 [50:56<51:02,  7.95s/it]"
     ]
    },
    {
     "name": "stdout",
     "output_type": "stream",
     "text": [
      "Chunk 375 saved as data_new_combined/375.csv\n"
     ]
    },
    {
     "name": "stderr",
     "output_type": "stream",
     "text": [
      "Processing Chunks:  49%|████▉     | 376/760 [51:03<48:36,  7.59s/it]"
     ]
    },
    {
     "name": "stdout",
     "output_type": "stream",
     "text": [
      "Chunk 376 saved as data_new_combined/376.csv\n"
     ]
    },
    {
     "name": "stderr",
     "output_type": "stream",
     "text": [
      "Processing Chunks:  50%|████▉     | 377/760 [51:10<47:17,  7.41s/it]"
     ]
    },
    {
     "name": "stdout",
     "output_type": "stream",
     "text": [
      "Chunk 377 saved as data_new_combined/377.csv\n"
     ]
    },
    {
     "name": "stderr",
     "output_type": "stream",
     "text": [
      "Processing Chunks:  50%|████▉     | 378/760 [51:19<51:28,  8.09s/it]"
     ]
    },
    {
     "name": "stdout",
     "output_type": "stream",
     "text": [
      "Chunk 378 saved as data_new_combined/378.csv\n"
     ]
    },
    {
     "name": "stderr",
     "output_type": "stream",
     "text": [
      "Processing Chunks:  50%|████▉     | 379/760 [51:25<47:28,  7.48s/it]"
     ]
    },
    {
     "name": "stdout",
     "output_type": "stream",
     "text": [
      "Chunk 379 saved as data_new_combined/379.csv\n"
     ]
    },
    {
     "name": "stderr",
     "output_type": "stream",
     "text": [
      "Processing Chunks:  50%|█████     | 380/760 [51:33<47:35,  7.51s/it]"
     ]
    },
    {
     "name": "stdout",
     "output_type": "stream",
     "text": [
      "Chunk 380 saved as data_new_combined/380.csv\n"
     ]
    },
    {
     "name": "stderr",
     "output_type": "stream",
     "text": [
      "Processing Chunks:  50%|█████     | 381/760 [51:42<49:35,  7.85s/it]"
     ]
    },
    {
     "name": "stdout",
     "output_type": "stream",
     "text": [
      "Chunk 381 saved as data_new_combined/381.csv\n"
     ]
    },
    {
     "name": "stderr",
     "output_type": "stream",
     "text": [
      "Processing Chunks:  50%|█████     | 382/760 [51:47<43:47,  6.95s/it]"
     ]
    },
    {
     "name": "stdout",
     "output_type": "stream",
     "text": [
      "Chunk 382 saved as data_new_combined/382.csv\n"
     ]
    },
    {
     "name": "stderr",
     "output_type": "stream",
     "text": [
      "Processing Chunks:  50%|█████     | 383/760 [51:58<51:28,  8.19s/it]"
     ]
    },
    {
     "name": "stdout",
     "output_type": "stream",
     "text": [
      "Chunk 383 saved as data_new_combined/383.csv\n"
     ]
    },
    {
     "name": "stderr",
     "output_type": "stream",
     "text": [
      "Processing Chunks:  51%|█████     | 384/760 [52:05<49:42,  7.93s/it]"
     ]
    },
    {
     "name": "stdout",
     "output_type": "stream",
     "text": [
      "Chunk 384 saved as data_new_combined/384.csv\n"
     ]
    },
    {
     "name": "stderr",
     "output_type": "stream",
     "text": [
      "Processing Chunks:  51%|█████     | 385/760 [52:12<48:23,  7.74s/it]"
     ]
    },
    {
     "name": "stdout",
     "output_type": "stream",
     "text": [
      "Chunk 385 saved as data_new_combined/385.csv\n"
     ]
    },
    {
     "name": "stderr",
     "output_type": "stream",
     "text": [
      "Processing Chunks:  51%|█████     | 386/760 [52:20<48:08,  7.72s/it]"
     ]
    },
    {
     "name": "stdout",
     "output_type": "stream",
     "text": [
      "Chunk 386 saved as data_new_combined/386.csv\n"
     ]
    },
    {
     "name": "stderr",
     "output_type": "stream",
     "text": [
      "Processing Chunks:  51%|█████     | 387/760 [52:27<46:49,  7.53s/it]"
     ]
    },
    {
     "name": "stdout",
     "output_type": "stream",
     "text": [
      "Chunk 387 saved as data_new_combined/387.csv\n"
     ]
    },
    {
     "name": "stderr",
     "output_type": "stream",
     "text": [
      "Processing Chunks:  51%|█████     | 388/760 [52:38<53:40,  8.66s/it]"
     ]
    },
    {
     "name": "stdout",
     "output_type": "stream",
     "text": [
      "Chunk 388 saved as data_new_combined/388.csv\n"
     ]
    },
    {
     "name": "stderr",
     "output_type": "stream",
     "text": [
      "Processing Chunks:  51%|█████     | 389/760 [52:44<47:38,  7.71s/it]"
     ]
    },
    {
     "name": "stdout",
     "output_type": "stream",
     "text": [
      "Chunk 389 saved as data_new_combined/389.csv\n"
     ]
    },
    {
     "name": "stderr",
     "output_type": "stream",
     "text": [
      "Processing Chunks:  51%|█████▏    | 390/760 [52:52<49:19,  8.00s/it]"
     ]
    },
    {
     "name": "stdout",
     "output_type": "stream",
     "text": [
      "Chunk 390 saved as data_new_combined/390.csv\n"
     ]
    },
    {
     "name": "stderr",
     "output_type": "stream",
     "text": [
      "Processing Chunks:  51%|█████▏    | 391/760 [53:00<49:15,  8.01s/it]"
     ]
    },
    {
     "name": "stdout",
     "output_type": "stream",
     "text": [
      "Chunk 391 saved as data_new_combined/391.csv\n"
     ]
    },
    {
     "name": "stderr",
     "output_type": "stream",
     "text": [
      "Processing Chunks:  52%|█████▏    | 392/760 [53:12<56:14,  9.17s/it]"
     ]
    },
    {
     "name": "stdout",
     "output_type": "stream",
     "text": [
      "Chunk 392 saved as data_new_combined/392.csv\n"
     ]
    },
    {
     "name": "stderr",
     "output_type": "stream",
     "text": [
      "Processing Chunks:  52%|█████▏    | 393/760 [53:17<48:17,  7.90s/it]"
     ]
    },
    {
     "name": "stdout",
     "output_type": "stream",
     "text": [
      "Chunk 393 saved as data_new_combined/393.csv\n"
     ]
    },
    {
     "name": "stderr",
     "output_type": "stream",
     "text": [
      "Processing Chunks:  52%|█████▏    | 394/760 [53:26<49:53,  8.18s/it]"
     ]
    },
    {
     "name": "stdout",
     "output_type": "stream",
     "text": [
      "Chunk 394 saved as data_new_combined/394.csv\n"
     ]
    },
    {
     "name": "stderr",
     "output_type": "stream",
     "text": [
      "Processing Chunks:  52%|█████▏    | 395/760 [53:33<47:33,  7.82s/it]"
     ]
    },
    {
     "name": "stdout",
     "output_type": "stream",
     "text": [
      "Chunk 395 saved as data_new_combined/395.csv\n"
     ]
    },
    {
     "name": "stderr",
     "output_type": "stream",
     "text": [
      "Processing Chunks:  52%|█████▏    | 396/760 [53:41<48:15,  7.96s/it]"
     ]
    },
    {
     "name": "stdout",
     "output_type": "stream",
     "text": [
      "Chunk 396 saved as data_new_combined/396.csv\n"
     ]
    },
    {
     "name": "stderr",
     "output_type": "stream",
     "text": [
      "Processing Chunks:  52%|█████▏    | 397/760 [53:49<46:44,  7.73s/it]"
     ]
    },
    {
     "name": "stdout",
     "output_type": "stream",
     "text": [
      "Chunk 397 saved as data_new_combined/397.csv\n"
     ]
    },
    {
     "name": "stderr",
     "output_type": "stream",
     "text": [
      "Processing Chunks:  52%|█████▏    | 398/760 [54:01<54:26,  9.02s/it]"
     ]
    },
    {
     "name": "stdout",
     "output_type": "stream",
     "text": [
      "Chunk 398 saved as data_new_combined/398.csv\n"
     ]
    },
    {
     "name": "stderr",
     "output_type": "stream",
     "text": [
      "Processing Chunks:  52%|█████▎    | 399/760 [54:06<47:34,  7.91s/it]"
     ]
    },
    {
     "name": "stdout",
     "output_type": "stream",
     "text": [
      "Chunk 399 saved as data_new_combined/399.csv\n"
     ]
    },
    {
     "name": "stderr",
     "output_type": "stream",
     "text": [
      "Processing Chunks:  53%|█████▎    | 400/760 [54:13<46:05,  7.68s/it]"
     ]
    },
    {
     "name": "stdout",
     "output_type": "stream",
     "text": [
      "Chunk 400 saved as data_new_combined/400.csv\n"
     ]
    },
    {
     "name": "stderr",
     "output_type": "stream",
     "text": [
      "Processing Chunks:  53%|█████▎    | 401/760 [54:20<44:31,  7.44s/it]"
     ]
    },
    {
     "name": "stdout",
     "output_type": "stream",
     "text": [
      "Chunk 401 saved as data_new_combined/401.csv\n"
     ]
    },
    {
     "name": "stderr",
     "output_type": "stream",
     "text": [
      "Processing Chunks:  53%|█████▎    | 402/760 [54:29<47:38,  7.98s/it]"
     ]
    },
    {
     "name": "stdout",
     "output_type": "stream",
     "text": [
      "Chunk 402 saved as data_new_combined/402.csv\n"
     ]
    },
    {
     "name": "stderr",
     "output_type": "stream",
     "text": [
      "Processing Chunks:  53%|█████▎    | 403/760 [54:37<46:43,  7.85s/it]"
     ]
    },
    {
     "name": "stdout",
     "output_type": "stream",
     "text": [
      "Chunk 403 saved as data_new_combined/403.csv\n"
     ]
    },
    {
     "name": "stderr",
     "output_type": "stream",
     "text": [
      "Processing Chunks:  53%|█████▎    | 404/760 [54:44<45:26,  7.66s/it]"
     ]
    },
    {
     "name": "stdout",
     "output_type": "stream",
     "text": [
      "Chunk 404 saved as data_new_combined/404.csv\n"
     ]
    },
    {
     "name": "stderr",
     "output_type": "stream",
     "text": [
      "Processing Chunks:  53%|█████▎    | 405/760 [54:51<43:50,  7.41s/it]"
     ]
    },
    {
     "name": "stdout",
     "output_type": "stream",
     "text": [
      "Chunk 405 saved as data_new_combined/405.csv\n"
     ]
    },
    {
     "name": "stderr",
     "output_type": "stream",
     "text": [
      "Processing Chunks:  53%|█████▎    | 406/760 [55:01<49:31,  8.39s/it]"
     ]
    },
    {
     "name": "stdout",
     "output_type": "stream",
     "text": [
      "Chunk 406 saved as data_new_combined/406.csv\n"
     ]
    },
    {
     "name": "stderr",
     "output_type": "stream",
     "text": [
      "Processing Chunks:  54%|█████▎    | 407/760 [55:04<39:42,  6.75s/it]"
     ]
    },
    {
     "name": "stdout",
     "output_type": "stream",
     "text": [
      "Chunk 407 saved as data_new_combined/407.csv\n"
     ]
    },
    {
     "name": "stderr",
     "output_type": "stream",
     "text": [
      "Processing Chunks:  54%|█████▎    | 408/760 [55:13<42:20,  7.22s/it]"
     ]
    },
    {
     "name": "stdout",
     "output_type": "stream",
     "text": [
      "Chunk 408 saved as data_new_combined/408.csv\n"
     ]
    },
    {
     "name": "stderr",
     "output_type": "stream",
     "text": [
      "Processing Chunks:  54%|█████▍    | 409/760 [55:24<48:44,  8.33s/it]"
     ]
    },
    {
     "name": "stdout",
     "output_type": "stream",
     "text": [
      "Chunk 409 saved as data_new_combined/409.csv\n"
     ]
    },
    {
     "name": "stderr",
     "output_type": "stream",
     "text": [
      "Processing Chunks:  54%|█████▍    | 410/760 [55:35<53:18,  9.14s/it]"
     ]
    },
    {
     "name": "stdout",
     "output_type": "stream",
     "text": [
      "Chunk 410 saved as data_new_combined/410.csv\n"
     ]
    },
    {
     "name": "stderr",
     "output_type": "stream",
     "text": [
      "Processing Chunks:  54%|█████▍    | 411/760 [55:39<45:31,  7.83s/it]"
     ]
    },
    {
     "name": "stdout",
     "output_type": "stream",
     "text": [
      "Chunk 411 saved as data_new_combined/411.csv\n"
     ]
    },
    {
     "name": "stderr",
     "output_type": "stream",
     "text": [
      "Processing Chunks:  54%|█████▍    | 412/760 [55:53<55:18,  9.54s/it]"
     ]
    },
    {
     "name": "stdout",
     "output_type": "stream",
     "text": [
      "Chunk 412 saved as data_new_combined/412.csv\n"
     ]
    },
    {
     "name": "stderr",
     "output_type": "stream",
     "text": [
      "Processing Chunks:  54%|█████▍    | 413/760 [56:02<55:03,  9.52s/it]"
     ]
    },
    {
     "name": "stdout",
     "output_type": "stream",
     "text": [
      "Chunk 413 saved as data_new_combined/413.csv\n",
      "Chunk 414 saved as data_new_combined/414.csv\n"
     ]
    },
    {
     "name": "stderr",
     "output_type": "stream",
     "text": [
      "Processing Chunks:  55%|█████▍    | 415/760 [56:12<41:40,  7.25s/it]"
     ]
    },
    {
     "name": "stdout",
     "output_type": "stream",
     "text": [
      "Chunk 415 saved as data_new_combined/415.csv\n"
     ]
    },
    {
     "name": "stderr",
     "output_type": "stream",
     "text": [
      "Processing Chunks:  55%|█████▍    | 416/760 [56:18<40:21,  7.04s/it]"
     ]
    },
    {
     "name": "stdout",
     "output_type": "stream",
     "text": [
      "Chunk 416 saved as data_new_combined/416.csv\n"
     ]
    },
    {
     "name": "stderr",
     "output_type": "stream",
     "text": [
      "Processing Chunks:  55%|█████▍    | 417/760 [56:27<43:10,  7.55s/it]"
     ]
    },
    {
     "name": "stdout",
     "output_type": "stream",
     "text": [
      "Chunk 417 saved as data_new_combined/417.csv\n"
     ]
    },
    {
     "name": "stderr",
     "output_type": "stream",
     "text": [
      "Processing Chunks:  55%|█████▌    | 418/760 [56:39<49:52,  8.75s/it]"
     ]
    },
    {
     "name": "stdout",
     "output_type": "stream",
     "text": [
      "Chunk 418 saved as data_new_combined/418.csv\n"
     ]
    },
    {
     "name": "stderr",
     "output_type": "stream",
     "text": [
      "Processing Chunks:  55%|█████▌    | 419/760 [56:46<47:20,  8.33s/it]"
     ]
    },
    {
     "name": "stdout",
     "output_type": "stream",
     "text": [
      "Chunk 419 saved as data_new_combined/419.csv\n"
     ]
    },
    {
     "name": "stderr",
     "output_type": "stream",
     "text": [
      "Processing Chunks:  55%|█████▌    | 420/760 [56:55<47:17,  8.34s/it]"
     ]
    },
    {
     "name": "stdout",
     "output_type": "stream",
     "text": [
      "Chunk 420 saved as data_new_combined/420.csv\n"
     ]
    },
    {
     "name": "stderr",
     "output_type": "stream",
     "text": [
      "Processing Chunks:  55%|█████▌    | 421/760 [57:02<46:02,  8.15s/it]"
     ]
    },
    {
     "name": "stdout",
     "output_type": "stream",
     "text": [
      "Chunk 421 saved as data_new_combined/421.csv\n"
     ]
    },
    {
     "name": "stderr",
     "output_type": "stream",
     "text": [
      "Processing Chunks:  56%|█████▌    | 422/760 [57:17<55:54,  9.92s/it]"
     ]
    },
    {
     "name": "stdout",
     "output_type": "stream",
     "text": [
      "Chunk 422 saved as data_new_combined/422.csv\n"
     ]
    },
    {
     "name": "stderr",
     "output_type": "stream",
     "text": [
      "Processing Chunks:  56%|█████▌    | 423/760 [57:19<43:46,  7.79s/it]"
     ]
    },
    {
     "name": "stdout",
     "output_type": "stream",
     "text": [
      "Chunk 423 saved as data_new_combined/423.csv\n"
     ]
    },
    {
     "name": "stderr",
     "output_type": "stream",
     "text": [
      "Processing Chunks:  56%|█████▌    | 424/760 [57:28<44:44,  7.99s/it]"
     ]
    },
    {
     "name": "stdout",
     "output_type": "stream",
     "text": [
      "Chunk 424 saved as data_new_combined/424.csv\n"
     ]
    },
    {
     "name": "stderr",
     "output_type": "stream",
     "text": [
      "Processing Chunks:  56%|█████▌    | 425/760 [57:37<46:02,  8.25s/it]"
     ]
    },
    {
     "name": "stdout",
     "output_type": "stream",
     "text": [
      "Chunk 425 saved as data_new_combined/425.csv\n"
     ]
    },
    {
     "name": "stderr",
     "output_type": "stream",
     "text": [
      "Processing Chunks:  56%|█████▌    | 426/760 [57:44<44:04,  7.92s/it]"
     ]
    },
    {
     "name": "stdout",
     "output_type": "stream",
     "text": [
      "Chunk 426 saved as data_new_combined/426.csv\n"
     ]
    },
    {
     "name": "stderr",
     "output_type": "stream",
     "text": [
      "Processing Chunks:  56%|█████▌    | 427/760 [57:53<46:45,  8.42s/it]"
     ]
    },
    {
     "name": "stdout",
     "output_type": "stream",
     "text": [
      "Chunk 427 saved as data_new_combined/427.csv\n"
     ]
    },
    {
     "name": "stderr",
     "output_type": "stream",
     "text": [
      "Processing Chunks:  56%|█████▋    | 428/760 [58:01<45:05,  8.15s/it]"
     ]
    },
    {
     "name": "stdout",
     "output_type": "stream",
     "text": [
      "Chunk 428 saved as data_new_combined/428.csv\n"
     ]
    },
    {
     "name": "stderr",
     "output_type": "stream",
     "text": [
      "Processing Chunks:  56%|█████▋    | 429/760 [58:10<45:58,  8.33s/it]"
     ]
    },
    {
     "name": "stdout",
     "output_type": "stream",
     "text": [
      "Chunk 429 saved as data_new_combined/429.csv\n"
     ]
    },
    {
     "name": "stderr",
     "output_type": "stream",
     "text": [
      "Processing Chunks:  57%|█████▋    | 430/760 [58:18<46:51,  8.52s/it]"
     ]
    },
    {
     "name": "stdout",
     "output_type": "stream",
     "text": [
      "Chunk 430 saved as data_new_combined/430.csv\n"
     ]
    },
    {
     "name": "stderr",
     "output_type": "stream",
     "text": [
      "Processing Chunks:  57%|█████▋    | 431/760 [58:29<50:47,  9.26s/it]"
     ]
    },
    {
     "name": "stdout",
     "output_type": "stream",
     "text": [
      "Chunk 431 saved as data_new_combined/431.csv\n"
     ]
    },
    {
     "name": "stderr",
     "output_type": "stream",
     "text": [
      "Processing Chunks:  57%|█████▋    | 432/760 [58:35<45:03,  8.24s/it]"
     ]
    },
    {
     "name": "stdout",
     "output_type": "stream",
     "text": [
      "Chunk 432 saved as data_new_combined/432.csv\n"
     ]
    },
    {
     "name": "stderr",
     "output_type": "stream",
     "text": [
      "Processing Chunks:  57%|█████▋    | 433/760 [58:42<42:23,  7.78s/it]"
     ]
    },
    {
     "name": "stdout",
     "output_type": "stream",
     "text": [
      "Chunk 433 saved as data_new_combined/433.csv\n"
     ]
    },
    {
     "name": "stderr",
     "output_type": "stream",
     "text": [
      "Processing Chunks:  57%|█████▋    | 434/760 [58:54<48:34,  8.94s/it]"
     ]
    },
    {
     "name": "stdout",
     "output_type": "stream",
     "text": [
      "Chunk 434 saved as data_new_combined/434.csv\n"
     ]
    },
    {
     "name": "stderr",
     "output_type": "stream",
     "text": [
      "Processing Chunks:  57%|█████▋    | 435/760 [59:00<44:10,  8.15s/it]"
     ]
    },
    {
     "name": "stdout",
     "output_type": "stream",
     "text": [
      "Chunk 435 saved as data_new_combined/435.csv\n"
     ]
    },
    {
     "name": "stderr",
     "output_type": "stream",
     "text": [
      "Processing Chunks:  57%|█████▋    | 436/760 [59:12<49:50,  9.23s/it]"
     ]
    },
    {
     "name": "stdout",
     "output_type": "stream",
     "text": [
      "Chunk 436 saved as data_new_combined/436.csv\n"
     ]
    },
    {
     "name": "stderr",
     "output_type": "stream",
     "text": [
      "Processing Chunks:  57%|█████▊    | 437/760 [59:17<43:13,  8.03s/it]"
     ]
    },
    {
     "name": "stdout",
     "output_type": "stream",
     "text": [
      "Chunk 437 saved as data_new_combined/437.csv\n"
     ]
    },
    {
     "name": "stderr",
     "output_type": "stream",
     "text": [
      "Processing Chunks:  58%|█████▊    | 438/760 [59:26<45:24,  8.46s/it]"
     ]
    },
    {
     "name": "stdout",
     "output_type": "stream",
     "text": [
      "Chunk 438 saved as data_new_combined/438.csv\n"
     ]
    },
    {
     "name": "stderr",
     "output_type": "stream",
     "text": [
      "Processing Chunks:  58%|█████▊    | 439/760 [59:35<45:58,  8.59s/it]"
     ]
    },
    {
     "name": "stdout",
     "output_type": "stream",
     "text": [
      "Chunk 439 saved as data_new_combined/439.csv\n"
     ]
    },
    {
     "name": "stderr",
     "output_type": "stream",
     "text": [
      "Processing Chunks:  58%|█████▊    | 440/760 [59:47<51:30,  9.66s/it]"
     ]
    },
    {
     "name": "stdout",
     "output_type": "stream",
     "text": [
      "Chunk 440 saved as data_new_combined/440.csv\n"
     ]
    },
    {
     "name": "stderr",
     "output_type": "stream",
     "text": [
      "Processing Chunks:  58%|█████▊    | 441/760 [59:53<45:06,  8.48s/it]"
     ]
    },
    {
     "name": "stdout",
     "output_type": "stream",
     "text": [
      "Chunk 441 saved as data_new_combined/441.csv\n"
     ]
    },
    {
     "name": "stderr",
     "output_type": "stream",
     "text": [
      "Processing Chunks:  58%|█████▊    | 442/760 [59:58<39:20,  7.42s/it]"
     ]
    },
    {
     "name": "stdout",
     "output_type": "stream",
     "text": [
      "Chunk 442 saved as data_new_combined/442.csv\n"
     ]
    },
    {
     "name": "stderr",
     "output_type": "stream",
     "text": [
      "Processing Chunks:  58%|█████▊    | 443/760 [1:00:06<39:49,  7.54s/it]"
     ]
    },
    {
     "name": "stdout",
     "output_type": "stream",
     "text": [
      "Chunk 443 saved as data_new_combined/443.csv\n"
     ]
    },
    {
     "name": "stderr",
     "output_type": "stream",
     "text": [
      "Processing Chunks:  58%|█████▊    | 444/760 [1:00:14<40:46,  7.74s/it]"
     ]
    },
    {
     "name": "stdout",
     "output_type": "stream",
     "text": [
      "Chunk 444 saved as data_new_combined/444.csv\n"
     ]
    },
    {
     "name": "stderr",
     "output_type": "stream",
     "text": [
      "Processing Chunks:  59%|█████▊    | 445/760 [1:00:25<46:11,  8.80s/it]"
     ]
    },
    {
     "name": "stdout",
     "output_type": "stream",
     "text": [
      "Chunk 445 saved as data_new_combined/445.csv\n"
     ]
    },
    {
     "name": "stderr",
     "output_type": "stream",
     "text": [
      "Processing Chunks:  59%|█████▊    | 446/760 [1:00:31<41:08,  7.86s/it]"
     ]
    },
    {
     "name": "stdout",
     "output_type": "stream",
     "text": [
      "Chunk 446 saved as data_new_combined/446.csv\n"
     ]
    },
    {
     "name": "stderr",
     "output_type": "stream",
     "text": [
      "Processing Chunks:  59%|█████▉    | 447/760 [1:00:39<40:43,  7.81s/it]"
     ]
    },
    {
     "name": "stdout",
     "output_type": "stream",
     "text": [
      "Chunk 447 saved as data_new_combined/447.csv\n"
     ]
    },
    {
     "name": "stderr",
     "output_type": "stream",
     "text": [
      "Processing Chunks:  59%|█████▉    | 448/760 [1:00:49<44:17,  8.52s/it]"
     ]
    },
    {
     "name": "stdout",
     "output_type": "stream",
     "text": [
      "Chunk 448 saved as data_new_combined/448.csv\n"
     ]
    },
    {
     "name": "stderr",
     "output_type": "stream",
     "text": [
      "Processing Chunks:  59%|█████▉    | 449/760 [1:00:52<35:55,  6.93s/it]"
     ]
    },
    {
     "name": "stdout",
     "output_type": "stream",
     "text": [
      "Chunk 449 saved as data_new_combined/449.csv\n"
     ]
    },
    {
     "name": "stderr",
     "output_type": "stream",
     "text": [
      "Processing Chunks:  59%|█████▉    | 450/760 [1:01:01<38:40,  7.49s/it]"
     ]
    },
    {
     "name": "stdout",
     "output_type": "stream",
     "text": [
      "Chunk 450 saved as data_new_combined/450.csv\n"
     ]
    },
    {
     "name": "stderr",
     "output_type": "stream",
     "text": [
      "Processing Chunks:  59%|█████▉    | 451/760 [1:01:15<48:45,  9.47s/it]"
     ]
    },
    {
     "name": "stdout",
     "output_type": "stream",
     "text": [
      "Chunk 451 saved as data_new_combined/451.csv\n"
     ]
    },
    {
     "name": "stderr",
     "output_type": "stream",
     "text": [
      "Processing Chunks:  59%|█████▉    | 452/760 [1:01:21<43:07,  8.40s/it]"
     ]
    },
    {
     "name": "stdout",
     "output_type": "stream",
     "text": [
      "Chunk 452 saved as data_new_combined/452.csv\n"
     ]
    },
    {
     "name": "stderr",
     "output_type": "stream",
     "text": [
      "Processing Chunks:  60%|█████▉    | 453/760 [1:01:26<37:08,  7.26s/it]"
     ]
    },
    {
     "name": "stdout",
     "output_type": "stream",
     "text": [
      "Chunk 453 saved as data_new_combined/453.csv\n"
     ]
    },
    {
     "name": "stderr",
     "output_type": "stream",
     "text": [
      "Processing Chunks:  60%|█████▉    | 454/760 [1:01:31<34:00,  6.67s/it]"
     ]
    },
    {
     "name": "stdout",
     "output_type": "stream",
     "text": [
      "Chunk 454 saved as data_new_combined/454.csv\n"
     ]
    },
    {
     "name": "stderr",
     "output_type": "stream",
     "text": [
      "Processing Chunks:  60%|█████▉    | 455/760 [1:01:43<42:06,  8.28s/it]"
     ]
    },
    {
     "name": "stdout",
     "output_type": "stream",
     "text": [
      "Chunk 455 saved as data_new_combined/455.csv\n"
     ]
    },
    {
     "name": "stderr",
     "output_type": "stream",
     "text": [
      "Processing Chunks:  60%|██████    | 456/760 [1:01:46<33:34,  6.63s/it]"
     ]
    },
    {
     "name": "stdout",
     "output_type": "stream",
     "text": [
      "Chunk 456 saved as data_new_combined/456.csv\n"
     ]
    },
    {
     "name": "stderr",
     "output_type": "stream",
     "text": [
      "Processing Chunks:  60%|██████    | 457/760 [1:01:57<40:40,  8.06s/it]"
     ]
    },
    {
     "name": "stdout",
     "output_type": "stream",
     "text": [
      "Chunk 457 saved as data_new_combined/457.csv\n"
     ]
    },
    {
     "name": "stderr",
     "output_type": "stream",
     "text": [
      "Processing Chunks:  60%|██████    | 458/760 [1:02:03<37:57,  7.54s/it]"
     ]
    },
    {
     "name": "stdout",
     "output_type": "stream",
     "text": [
      "Chunk 458 saved as data_new_combined/458.csv\n"
     ]
    },
    {
     "name": "stderr",
     "output_type": "stream",
     "text": [
      "Processing Chunks:  60%|██████    | 459/760 [1:02:11<37:13,  7.42s/it]"
     ]
    },
    {
     "name": "stdout",
     "output_type": "stream",
     "text": [
      "Chunk 459 saved as data_new_combined/459.csv\n"
     ]
    },
    {
     "name": "stderr",
     "output_type": "stream",
     "text": [
      "Processing Chunks:  61%|██████    | 460/760 [1:02:21<41:51,  8.37s/it]"
     ]
    },
    {
     "name": "stdout",
     "output_type": "stream",
     "text": [
      "Chunk 460 saved as data_new_combined/460.csv\n"
     ]
    },
    {
     "name": "stderr",
     "output_type": "stream",
     "text": [
      "Processing Chunks:  61%|██████    | 461/760 [1:02:28<38:39,  7.76s/it]"
     ]
    },
    {
     "name": "stdout",
     "output_type": "stream",
     "text": [
      "Chunk 461 saved as data_new_combined/461.csv\n"
     ]
    },
    {
     "name": "stderr",
     "output_type": "stream",
     "text": [
      "Processing Chunks:  61%|██████    | 462/760 [1:02:37<41:03,  8.27s/it]"
     ]
    },
    {
     "name": "stdout",
     "output_type": "stream",
     "text": [
      "Chunk 462 saved as data_new_combined/462.csv\n"
     ]
    },
    {
     "name": "stderr",
     "output_type": "stream",
     "text": [
      "Processing Chunks:  61%|██████    | 463/760 [1:02:45<40:47,  8.24s/it]"
     ]
    },
    {
     "name": "stdout",
     "output_type": "stream",
     "text": [
      "Chunk 463 saved as data_new_combined/463.csv\n"
     ]
    },
    {
     "name": "stderr",
     "output_type": "stream",
     "text": [
      "Processing Chunks:  61%|██████    | 464/760 [1:02:59<48:42,  9.87s/it]"
     ]
    },
    {
     "name": "stdout",
     "output_type": "stream",
     "text": [
      "Chunk 464 saved as data_new_combined/464.csv\n"
     ]
    },
    {
     "name": "stderr",
     "output_type": "stream",
     "text": [
      "Processing Chunks:  61%|██████    | 465/760 [1:03:04<41:15,  8.39s/it]"
     ]
    },
    {
     "name": "stdout",
     "output_type": "stream",
     "text": [
      "Chunk 465 saved as data_new_combined/465.csv\n"
     ]
    },
    {
     "name": "stderr",
     "output_type": "stream",
     "text": [
      "Processing Chunks:  61%|██████▏   | 466/760 [1:03:11<39:12,  8.00s/it]"
     ]
    },
    {
     "name": "stdout",
     "output_type": "stream",
     "text": [
      "Chunk 466 saved as data_new_combined/466.csv\n"
     ]
    },
    {
     "name": "stderr",
     "output_type": "stream",
     "text": [
      "Processing Chunks:  61%|██████▏   | 467/760 [1:03:21<41:57,  8.59s/it]"
     ]
    },
    {
     "name": "stdout",
     "output_type": "stream",
     "text": [
      "Chunk 467 saved as data_new_combined/467.csv\n"
     ]
    },
    {
     "name": "stderr",
     "output_type": "stream",
     "text": [
      "Processing Chunks:  62%|██████▏   | 468/760 [1:03:25<36:01,  7.40s/it]"
     ]
    },
    {
     "name": "stdout",
     "output_type": "stream",
     "text": [
      "Chunk 468 saved as data_new_combined/468.csv\n"
     ]
    },
    {
     "name": "stderr",
     "output_type": "stream",
     "text": [
      "Processing Chunks:  62%|██████▏   | 469/760 [1:03:33<35:51,  7.39s/it]"
     ]
    },
    {
     "name": "stdout",
     "output_type": "stream",
     "text": [
      "Chunk 469 saved as data_new_combined/469.csv\n"
     ]
    },
    {
     "name": "stderr",
     "output_type": "stream",
     "text": [
      "Processing Chunks:  62%|██████▏   | 470/760 [1:03:41<37:07,  7.68s/it]"
     ]
    },
    {
     "name": "stdout",
     "output_type": "stream",
     "text": [
      "Chunk 470 saved as data_new_combined/470.csv\n"
     ]
    },
    {
     "name": "stderr",
     "output_type": "stream",
     "text": [
      "Processing Chunks:  62%|██████▏   | 471/760 [1:03:52<40:52,  8.49s/it]"
     ]
    },
    {
     "name": "stdout",
     "output_type": "stream",
     "text": [
      "Chunk 471 saved as data_new_combined/471.csv\n"
     ]
    },
    {
     "name": "stderr",
     "output_type": "stream",
     "text": [
      "Processing Chunks:  62%|██████▏   | 472/760 [1:03:59<38:35,  8.04s/it]"
     ]
    },
    {
     "name": "stdout",
     "output_type": "stream",
     "text": [
      "Chunk 472 saved as data_new_combined/472.csv\n"
     ]
    },
    {
     "name": "stderr",
     "output_type": "stream",
     "text": [
      "Processing Chunks:  62%|██████▏   | 473/760 [1:04:10<42:43,  8.93s/it]"
     ]
    },
    {
     "name": "stdout",
     "output_type": "stream",
     "text": [
      "Chunk 473 saved as data_new_combined/473.csv\n"
     ]
    },
    {
     "name": "stderr",
     "output_type": "stream",
     "text": [
      "Processing Chunks:  62%|██████▏   | 474/760 [1:04:24<49:48, 10.45s/it]"
     ]
    },
    {
     "name": "stdout",
     "output_type": "stream",
     "text": [
      "Chunk 474 saved as data_new_combined/474.csv\n"
     ]
    },
    {
     "name": "stderr",
     "output_type": "stream",
     "text": [
      "Processing Chunks:  62%|██████▎   | 475/760 [1:04:27<39:04,  8.23s/it]"
     ]
    },
    {
     "name": "stdout",
     "output_type": "stream",
     "text": [
      "Chunk 475 saved as data_new_combined/475.csv\n"
     ]
    },
    {
     "name": "stderr",
     "output_type": "stream",
     "text": [
      "Processing Chunks:  63%|██████▎   | 476/760 [1:04:34<37:07,  7.84s/it]"
     ]
    },
    {
     "name": "stdout",
     "output_type": "stream",
     "text": [
      "Chunk 476 saved as data_new_combined/476.csv\n"
     ]
    },
    {
     "name": "stderr",
     "output_type": "stream",
     "text": [
      "Processing Chunks:  63%|██████▎   | 477/760 [1:04:40<34:39,  7.35s/it]"
     ]
    },
    {
     "name": "stdout",
     "output_type": "stream",
     "text": [
      "Chunk 477 saved as data_new_combined/477.csv\n"
     ]
    },
    {
     "name": "stderr",
     "output_type": "stream",
     "text": [
      "Processing Chunks:  63%|██████▎   | 478/760 [1:04:48<36:14,  7.71s/it]"
     ]
    },
    {
     "name": "stdout",
     "output_type": "stream",
     "text": [
      "Chunk 478 saved as data_new_combined/478.csv\n"
     ]
    },
    {
     "name": "stderr",
     "output_type": "stream",
     "text": [
      "Processing Chunks:  63%|██████▎   | 479/760 [1:05:00<41:20,  8.83s/it]"
     ]
    },
    {
     "name": "stdout",
     "output_type": "stream",
     "text": [
      "Chunk 479 saved as data_new_combined/479.csv\n"
     ]
    },
    {
     "name": "stderr",
     "output_type": "stream",
     "text": [
      "Processing Chunks:  63%|██████▎   | 480/760 [1:05:05<36:10,  7.75s/it]"
     ]
    },
    {
     "name": "stdout",
     "output_type": "stream",
     "text": [
      "Chunk 480 saved as data_new_combined/480.csv\n"
     ]
    },
    {
     "name": "stderr",
     "output_type": "stream",
     "text": [
      "Processing Chunks:  63%|██████▎   | 481/760 [1:05:12<35:33,  7.65s/it]"
     ]
    },
    {
     "name": "stdout",
     "output_type": "stream",
     "text": [
      "Chunk 481 saved as data_new_combined/481.csv\n"
     ]
    },
    {
     "name": "stderr",
     "output_type": "stream",
     "text": [
      "Processing Chunks:  63%|██████▎   | 482/760 [1:05:23<39:09,  8.45s/it]"
     ]
    },
    {
     "name": "stdout",
     "output_type": "stream",
     "text": [
      "Chunk 482 saved as data_new_combined/482.csv\n"
     ]
    },
    {
     "name": "stderr",
     "output_type": "stream",
     "text": [
      "Processing Chunks:  64%|██████▎   | 483/760 [1:05:27<33:35,  7.28s/it]"
     ]
    },
    {
     "name": "stdout",
     "output_type": "stream",
     "text": [
      "Chunk 483 saved as data_new_combined/483.csv\n"
     ]
    },
    {
     "name": "stderr",
     "output_type": "stream",
     "text": [
      "Processing Chunks:  64%|██████▎   | 484/760 [1:05:35<34:47,  7.56s/it]"
     ]
    },
    {
     "name": "stdout",
     "output_type": "stream",
     "text": [
      "Chunk 484 saved as data_new_combined/484.csv\n"
     ]
    },
    {
     "name": "stderr",
     "output_type": "stream",
     "text": [
      "Processing Chunks:  64%|██████▍   | 485/760 [1:05:41<31:51,  6.95s/it]"
     ]
    },
    {
     "name": "stdout",
     "output_type": "stream",
     "text": [
      "Chunk 485 saved as data_new_combined/485.csv\n"
     ]
    },
    {
     "name": "stderr",
     "output_type": "stream",
     "text": [
      "Processing Chunks:  64%|██████▍   | 486/760 [1:05:51<36:13,  7.93s/it]"
     ]
    },
    {
     "name": "stdout",
     "output_type": "stream",
     "text": [
      "Chunk 486 saved as data_new_combined/486.csv\n"
     ]
    },
    {
     "name": "stderr",
     "output_type": "stream",
     "text": [
      "Processing Chunks:  64%|██████▍   | 487/760 [1:06:01<38:34,  8.48s/it]"
     ]
    },
    {
     "name": "stdout",
     "output_type": "stream",
     "text": [
      "Chunk 487 saved as data_new_combined/487.csv\n"
     ]
    },
    {
     "name": "stderr",
     "output_type": "stream",
     "text": [
      "Processing Chunks:  64%|██████▍   | 488/760 [1:06:05<31:51,  7.03s/it]"
     ]
    },
    {
     "name": "stdout",
     "output_type": "stream",
     "text": [
      "Chunk 488 saved as data_new_combined/488.csv\n"
     ]
    },
    {
     "name": "stderr",
     "output_type": "stream",
     "text": [
      "Processing Chunks:  64%|██████▍   | 489/760 [1:06:15<36:54,  8.17s/it]"
     ]
    },
    {
     "name": "stdout",
     "output_type": "stream",
     "text": [
      "Chunk 489 saved as data_new_combined/489.csv\n"
     ]
    },
    {
     "name": "stderr",
     "output_type": "stream",
     "text": [
      "Processing Chunks:  64%|██████▍   | 490/760 [1:06:16<26:39,  5.93s/it]"
     ]
    },
    {
     "name": "stdout",
     "output_type": "stream",
     "text": [
      "Chunk 490 saved as data_new_combined/490.csv\n"
     ]
    },
    {
     "name": "stderr",
     "output_type": "stream",
     "text": [
      "Processing Chunks:  65%|██████▍   | 491/760 [1:06:24<29:16,  6.53s/it]"
     ]
    },
    {
     "name": "stdout",
     "output_type": "stream",
     "text": [
      "Chunk 491 saved as data_new_combined/491.csv\n"
     ]
    },
    {
     "name": "stderr",
     "output_type": "stream",
     "text": [
      "Processing Chunks:  65%|██████▍   | 492/760 [1:06:32<30:32,  6.84s/it]"
     ]
    },
    {
     "name": "stdout",
     "output_type": "stream",
     "text": [
      "Chunk 492 saved as data_new_combined/492.csv\n"
     ]
    },
    {
     "name": "stderr",
     "output_type": "stream",
     "text": [
      "Processing Chunks:  65%|██████▍   | 493/760 [1:06:40<32:15,  7.25s/it]"
     ]
    },
    {
     "name": "stdout",
     "output_type": "stream",
     "text": [
      "Chunk 493 saved as data_new_combined/493.csv\n"
     ]
    },
    {
     "name": "stderr",
     "output_type": "stream",
     "text": [
      "Processing Chunks:  65%|██████▌   | 494/760 [1:06:48<34:00,  7.67s/it]"
     ]
    },
    {
     "name": "stdout",
     "output_type": "stream",
     "text": [
      "Chunk 494 saved as data_new_combined/494.csv\n"
     ]
    },
    {
     "name": "stderr",
     "output_type": "stream",
     "text": [
      "Processing Chunks:  65%|██████▌   | 495/760 [1:06:55<32:40,  7.40s/it]"
     ]
    },
    {
     "name": "stdout",
     "output_type": "stream",
     "text": [
      "Chunk 495 saved as data_new_combined/495.csv\n"
     ]
    },
    {
     "name": "stderr",
     "output_type": "stream",
     "text": [
      "Processing Chunks:  65%|██████▌   | 496/760 [1:07:03<32:59,  7.50s/it]"
     ]
    },
    {
     "name": "stdout",
     "output_type": "stream",
     "text": [
      "Chunk 496 saved as data_new_combined/496.csv\n"
     ]
    },
    {
     "name": "stderr",
     "output_type": "stream",
     "text": [
      "Processing Chunks:  65%|██████▌   | 497/760 [1:07:14<37:07,  8.47s/it]"
     ]
    },
    {
     "name": "stdout",
     "output_type": "stream",
     "text": [
      "Chunk 497 saved as data_new_combined/497.csv\n"
     ]
    },
    {
     "name": "stderr",
     "output_type": "stream",
     "text": [
      "Processing Chunks:  66%|██████▌   | 498/760 [1:07:19<32:15,  7.39s/it]"
     ]
    },
    {
     "name": "stdout",
     "output_type": "stream",
     "text": [
      "Chunk 498 saved as data_new_combined/498.csv\n"
     ]
    },
    {
     "name": "stderr",
     "output_type": "stream",
     "text": [
      "Processing Chunks:  66%|██████▌   | 499/760 [1:07:25<30:22,  6.98s/it]"
     ]
    },
    {
     "name": "stdout",
     "output_type": "stream",
     "text": [
      "Chunk 499 saved as data_new_combined/499.csv\n"
     ]
    },
    {
     "name": "stderr",
     "output_type": "stream",
     "text": [
      "Processing Chunks:  66%|██████▌   | 500/760 [1:07:30<28:22,  6.55s/it]"
     ]
    },
    {
     "name": "stdout",
     "output_type": "stream",
     "text": [
      "Chunk 500 saved as data_new_combined/500.csv\n"
     ]
    },
    {
     "name": "stderr",
     "output_type": "stream",
     "text": [
      "Processing Chunks:  66%|██████▌   | 501/760 [1:07:38<30:05,  6.97s/it]"
     ]
    },
    {
     "name": "stdout",
     "output_type": "stream",
     "text": [
      "Chunk 501 saved as data_new_combined/501.csv\n"
     ]
    },
    {
     "name": "stderr",
     "output_type": "stream",
     "text": [
      "Processing Chunks:  66%|██████▌   | 502/760 [1:07:46<31:29,  7.32s/it]"
     ]
    },
    {
     "name": "stdout",
     "output_type": "stream",
     "text": [
      "Chunk 502 saved as data_new_combined/502.csv\n"
     ]
    },
    {
     "name": "stderr",
     "output_type": "stream",
     "text": [
      "Processing Chunks:  66%|██████▌   | 503/760 [1:07:55<33:31,  7.83s/it]"
     ]
    },
    {
     "name": "stdout",
     "output_type": "stream",
     "text": [
      "Chunk 503 saved as data_new_combined/503.csv\n"
     ]
    },
    {
     "name": "stderr",
     "output_type": "stream",
     "text": [
      "Processing Chunks:  66%|██████▋   | 504/760 [1:08:04<34:15,  8.03s/it]"
     ]
    },
    {
     "name": "stdout",
     "output_type": "stream",
     "text": [
      "Chunk 504 saved as data_new_combined/504.csv\n"
     ]
    },
    {
     "name": "stderr",
     "output_type": "stream",
     "text": [
      "Processing Chunks:  66%|██████▋   | 505/760 [1:08:12<34:25,  8.10s/it]"
     ]
    },
    {
     "name": "stdout",
     "output_type": "stream",
     "text": [
      "Chunk 505 saved as data_new_combined/505.csv\n"
     ]
    },
    {
     "name": "stderr",
     "output_type": "stream",
     "text": [
      "Processing Chunks:  67%|██████▋   | 506/760 [1:08:24<38:42,  9.14s/it]"
     ]
    },
    {
     "name": "stdout",
     "output_type": "stream",
     "text": [
      "Chunk 506 saved as data_new_combined/506.csv\n"
     ]
    },
    {
     "name": "stderr",
     "output_type": "stream",
     "text": [
      "Processing Chunks:  67%|██████▋   | 507/760 [1:08:28<32:10,  7.63s/it]"
     ]
    },
    {
     "name": "stdout",
     "output_type": "stream",
     "text": [
      "Chunk 507 saved as data_new_combined/507.csv\n"
     ]
    },
    {
     "name": "stderr",
     "output_type": "stream",
     "text": [
      "Processing Chunks:  67%|██████▋   | 508/760 [1:08:37<34:20,  8.18s/it]"
     ]
    },
    {
     "name": "stdout",
     "output_type": "stream",
     "text": [
      "Chunk 508 saved as data_new_combined/508.csv\n"
     ]
    },
    {
     "name": "stderr",
     "output_type": "stream",
     "text": [
      "Processing Chunks:  67%|██████▋   | 509/760 [1:08:49<39:06,  9.35s/it]"
     ]
    },
    {
     "name": "stdout",
     "output_type": "stream",
     "text": [
      "Chunk 509 saved as data_new_combined/509.csv\n"
     ]
    },
    {
     "name": "stderr",
     "output_type": "stream",
     "text": [
      "Processing Chunks:  67%|██████▋   | 510/760 [1:09:03<44:46, 10.75s/it]"
     ]
    },
    {
     "name": "stdout",
     "output_type": "stream",
     "text": [
      "Chunk 510 saved as data_new_combined/510.csv\n"
     ]
    },
    {
     "name": "stderr",
     "output_type": "stream",
     "text": [
      "Processing Chunks:  67%|██████▋   | 511/760 [1:09:09<38:37,  9.31s/it]"
     ]
    },
    {
     "name": "stdout",
     "output_type": "stream",
     "text": [
      "Chunk 511 saved as data_new_combined/511.csv\n",
      "Chunk 512 saved as data_new_combined/512.csv\n"
     ]
    },
    {
     "name": "stderr",
     "output_type": "stream",
     "text": [
      "Processing Chunks:  68%|██████▊   | 513/760 [1:09:15<25:46,  6.26s/it]"
     ]
    },
    {
     "name": "stdout",
     "output_type": "stream",
     "text": [
      "Chunk 513 saved as data_new_combined/513.csv\n"
     ]
    },
    {
     "name": "stderr",
     "output_type": "stream",
     "text": [
      "Processing Chunks:  68%|██████▊   | 514/760 [1:09:24<28:43,  7.01s/it]"
     ]
    },
    {
     "name": "stdout",
     "output_type": "stream",
     "text": [
      "Chunk 514 saved as data_new_combined/514.csv\n"
     ]
    },
    {
     "name": "stderr",
     "output_type": "stream",
     "text": [
      "Processing Chunks:  68%|██████▊   | 515/760 [1:09:35<32:46,  8.02s/it]"
     ]
    },
    {
     "name": "stdout",
     "output_type": "stream",
     "text": [
      "Chunk 515 saved as data_new_combined/515.csv\n"
     ]
    },
    {
     "name": "stderr",
     "output_type": "stream",
     "text": [
      "Processing Chunks:  68%|██████▊   | 516/760 [1:09:40<29:12,  7.18s/it]"
     ]
    },
    {
     "name": "stdout",
     "output_type": "stream",
     "text": [
      "Chunk 516 saved as data_new_combined/516.csv\n"
     ]
    },
    {
     "name": "stderr",
     "output_type": "stream",
     "text": [
      "Processing Chunks:  68%|██████▊   | 517/760 [1:09:47<29:19,  7.24s/it]"
     ]
    },
    {
     "name": "stdout",
     "output_type": "stream",
     "text": [
      "Chunk 517 saved as data_new_combined/517.csv\n"
     ]
    },
    {
     "name": "stderr",
     "output_type": "stream",
     "text": [
      "Processing Chunks:  68%|██████▊   | 518/760 [1:09:54<28:31,  7.07s/it]"
     ]
    },
    {
     "name": "stdout",
     "output_type": "stream",
     "text": [
      "Chunk 518 saved as data_new_combined/518.csv\n"
     ]
    },
    {
     "name": "stderr",
     "output_type": "stream",
     "text": [
      "Processing Chunks:  68%|██████▊   | 519/760 [1:10:00<27:15,  6.79s/it]"
     ]
    },
    {
     "name": "stdout",
     "output_type": "stream",
     "text": [
      "Chunk 519 saved as data_new_combined/519.csv\n"
     ]
    },
    {
     "name": "stderr",
     "output_type": "stream",
     "text": [
      "Processing Chunks:  68%|██████▊   | 520/760 [1:10:10<31:07,  7.78s/it]"
     ]
    },
    {
     "name": "stdout",
     "output_type": "stream",
     "text": [
      "Chunk 520 saved as data_new_combined/520.csv\n"
     ]
    },
    {
     "name": "stderr",
     "output_type": "stream",
     "text": [
      "Processing Chunks:  69%|██████▊   | 521/760 [1:10:15<27:41,  6.95s/it]"
     ]
    },
    {
     "name": "stdout",
     "output_type": "stream",
     "text": [
      "Chunk 521 saved as data_new_combined/521.csv\n"
     ]
    },
    {
     "name": "stderr",
     "output_type": "stream",
     "text": [
      "Processing Chunks:  69%|██████▊   | 522/760 [1:10:27<33:32,  8.46s/it]"
     ]
    },
    {
     "name": "stdout",
     "output_type": "stream",
     "text": [
      "Chunk 522 saved as data_new_combined/522.csv\n"
     ]
    },
    {
     "name": "stderr",
     "output_type": "stream",
     "text": [
      "Processing Chunks:  69%|██████▉   | 523/760 [1:10:30<27:35,  6.99s/it]"
     ]
    },
    {
     "name": "stdout",
     "output_type": "stream",
     "text": [
      "Chunk 523 saved as data_new_combined/523.csv\n"
     ]
    },
    {
     "name": "stderr",
     "output_type": "stream",
     "text": [
      "Processing Chunks:  69%|██████▉   | 524/760 [1:10:38<28:30,  7.25s/it]"
     ]
    },
    {
     "name": "stdout",
     "output_type": "stream",
     "text": [
      "Chunk 524 saved as data_new_combined/524.csv\n"
     ]
    },
    {
     "name": "stderr",
     "output_type": "stream",
     "text": [
      "Processing Chunks:  69%|██████▉   | 525/760 [1:10:48<30:50,  7.87s/it]"
     ]
    },
    {
     "name": "stdout",
     "output_type": "stream",
     "text": [
      "Chunk 525 saved as data_new_combined/525.csv\n"
     ]
    },
    {
     "name": "stderr",
     "output_type": "stream",
     "text": [
      "Processing Chunks:  69%|██████▉   | 526/760 [1:10:53<27:17,  7.00s/it]"
     ]
    },
    {
     "name": "stdout",
     "output_type": "stream",
     "text": [
      "Chunk 526 saved as data_new_combined/526.csv\n"
     ]
    },
    {
     "name": "stderr",
     "output_type": "stream",
     "text": [
      "Processing Chunks:  69%|██████▉   | 527/760 [1:11:00<27:58,  7.20s/it]"
     ]
    },
    {
     "name": "stdout",
     "output_type": "stream",
     "text": [
      "Chunk 527 saved as data_new_combined/527.csv\n"
     ]
    },
    {
     "name": "stderr",
     "output_type": "stream",
     "text": [
      "Processing Chunks:  69%|██████▉   | 528/760 [1:11:09<29:10,  7.54s/it]"
     ]
    },
    {
     "name": "stdout",
     "output_type": "stream",
     "text": [
      "Chunk 528 saved as data_new_combined/528.csv\n"
     ]
    },
    {
     "name": "stderr",
     "output_type": "stream",
     "text": [
      "Processing Chunks:  70%|██████▉   | 529/760 [1:11:20<32:52,  8.54s/it]"
     ]
    },
    {
     "name": "stdout",
     "output_type": "stream",
     "text": [
      "Chunk 529 saved as data_new_combined/529.csv\n"
     ]
    },
    {
     "name": "stderr",
     "output_type": "stream",
     "text": [
      "Processing Chunks:  70%|██████▉   | 530/760 [1:11:27<31:13,  8.14s/it]"
     ]
    },
    {
     "name": "stdout",
     "output_type": "stream",
     "text": [
      "Chunk 530 saved as data_new_combined/530.csv\n"
     ]
    },
    {
     "name": "stderr",
     "output_type": "stream",
     "text": [
      "Processing Chunks:  70%|██████▉   | 531/760 [1:11:41<37:35,  9.85s/it]"
     ]
    },
    {
     "name": "stdout",
     "output_type": "stream",
     "text": [
      "Chunk 531 saved as data_new_combined/531.csv\n"
     ]
    },
    {
     "name": "stderr",
     "output_type": "stream",
     "text": [
      "Processing Chunks:  70%|███████   | 532/760 [1:11:52<39:08, 10.30s/it]"
     ]
    },
    {
     "name": "stdout",
     "output_type": "stream",
     "text": [
      "Chunk 532 saved as data_new_combined/532.csv\n",
      "Chunk 533 saved as data_new_combined/533.csv\n"
     ]
    },
    {
     "name": "stderr",
     "output_type": "stream",
     "text": [
      "Processing Chunks:  70%|███████   | 534/760 [1:11:57<25:39,  6.81s/it]"
     ]
    },
    {
     "name": "stdout",
     "output_type": "stream",
     "text": [
      "Chunk 534 saved as data_new_combined/534.csv\n"
     ]
    },
    {
     "name": "stderr",
     "output_type": "stream",
     "text": [
      "Processing Chunks:  70%|███████   | 535/760 [1:12:03<24:35,  6.56s/it]"
     ]
    },
    {
     "name": "stdout",
     "output_type": "stream",
     "text": [
      "Chunk 535 saved as data_new_combined/535.csv\n"
     ]
    },
    {
     "name": "stderr",
     "output_type": "stream",
     "text": [
      "Processing Chunks:  71%|███████   | 536/760 [1:12:11<25:58,  6.96s/it]"
     ]
    },
    {
     "name": "stdout",
     "output_type": "stream",
     "text": [
      "Chunk 536 saved as data_new_combined/536.csv\n"
     ]
    },
    {
     "name": "stderr",
     "output_type": "stream",
     "text": [
      "Processing Chunks:  71%|███████   | 537/760 [1:12:20<27:24,  7.37s/it]"
     ]
    },
    {
     "name": "stdout",
     "output_type": "stream",
     "text": [
      "Chunk 537 saved as data_new_combined/537.csv\n"
     ]
    },
    {
     "name": "stderr",
     "output_type": "stream",
     "text": [
      "Processing Chunks:  71%|███████   | 538/760 [1:12:31<31:13,  8.44s/it]"
     ]
    },
    {
     "name": "stdout",
     "output_type": "stream",
     "text": [
      "Chunk 538 saved as data_new_combined/538.csv\n"
     ]
    },
    {
     "name": "stderr",
     "output_type": "stream",
     "text": [
      "Processing Chunks:  71%|███████   | 539/760 [1:12:41<32:41,  8.88s/it]"
     ]
    },
    {
     "name": "stdout",
     "output_type": "stream",
     "text": [
      "Chunk 539 saved as data_new_combined/539.csv\n"
     ]
    },
    {
     "name": "stderr",
     "output_type": "stream",
     "text": [
      "Processing Chunks:  71%|███████   | 540/760 [1:12:47<30:02,  8.19s/it]"
     ]
    },
    {
     "name": "stdout",
     "output_type": "stream",
     "text": [
      "Chunk 540 saved as data_new_combined/540.csv\n"
     ]
    },
    {
     "name": "stderr",
     "output_type": "stream",
     "text": [
      "Processing Chunks:  71%|███████   | 541/760 [1:12:54<27:44,  7.60s/it]"
     ]
    },
    {
     "name": "stdout",
     "output_type": "stream",
     "text": [
      "Chunk 541 saved as data_new_combined/541.csv\n"
     ]
    },
    {
     "name": "stderr",
     "output_type": "stream",
     "text": [
      "Processing Chunks:  71%|███████▏  | 542/760 [1:13:03<29:42,  8.18s/it]"
     ]
    },
    {
     "name": "stdout",
     "output_type": "stream",
     "text": [
      "Chunk 542 saved as data_new_combined/542.csv\n"
     ]
    },
    {
     "name": "stderr",
     "output_type": "stream",
     "text": [
      "Processing Chunks:  71%|███████▏  | 543/760 [1:13:10<28:01,  7.75s/it]"
     ]
    },
    {
     "name": "stdout",
     "output_type": "stream",
     "text": [
      "Chunk 543 saved as data_new_combined/543.csv\n"
     ]
    },
    {
     "name": "stderr",
     "output_type": "stream",
     "text": [
      "Processing Chunks:  72%|███████▏  | 544/760 [1:13:18<28:38,  7.96s/it]"
     ]
    },
    {
     "name": "stdout",
     "output_type": "stream",
     "text": [
      "Chunk 544 saved as data_new_combined/544.csv\n"
     ]
    },
    {
     "name": "stderr",
     "output_type": "stream",
     "text": [
      "Processing Chunks:  72%|███████▏  | 545/760 [1:13:25<27:18,  7.62s/it]"
     ]
    },
    {
     "name": "stdout",
     "output_type": "stream",
     "text": [
      "Chunk 545 saved as data_new_combined/545.csv\n"
     ]
    },
    {
     "name": "stderr",
     "output_type": "stream",
     "text": [
      "Processing Chunks:  72%|███████▏  | 546/760 [1:13:29<22:43,  6.37s/it]"
     ]
    },
    {
     "name": "stdout",
     "output_type": "stream",
     "text": [
      "Chunk 546 saved as data_new_combined/546.csv\n"
     ]
    },
    {
     "name": "stderr",
     "output_type": "stream",
     "text": [
      "Processing Chunks:  72%|███████▏  | 547/760 [1:13:36<23:31,  6.63s/it]"
     ]
    },
    {
     "name": "stdout",
     "output_type": "stream",
     "text": [
      "Chunk 547 saved as data_new_combined/547.csv\n"
     ]
    },
    {
     "name": "stderr",
     "output_type": "stream",
     "text": [
      "Processing Chunks:  72%|███████▏  | 548/760 [1:13:49<30:15,  8.56s/it]"
     ]
    },
    {
     "name": "stdout",
     "output_type": "stream",
     "text": [
      "Chunk 548 saved as data_new_combined/548.csv\n"
     ]
    },
    {
     "name": "stderr",
     "output_type": "stream",
     "text": [
      "Processing Chunks:  72%|███████▏  | 549/760 [1:13:59<31:59,  9.10s/it]"
     ]
    },
    {
     "name": "stdout",
     "output_type": "stream",
     "text": [
      "Chunk 549 saved as data_new_combined/549.csv\n",
      "Chunk 550 saved as data_new_combined/550.csv\n"
     ]
    },
    {
     "name": "stderr",
     "output_type": "stream",
     "text": [
      "Processing Chunks:  72%|███████▎  | 551/760 [1:14:06<22:33,  6.47s/it]"
     ]
    },
    {
     "name": "stdout",
     "output_type": "stream",
     "text": [
      "Chunk 551 saved as data_new_combined/551.csv\n"
     ]
    },
    {
     "name": "stderr",
     "output_type": "stream",
     "text": [
      "Processing Chunks:  73%|███████▎  | 552/760 [1:14:18<26:52,  7.75s/it]"
     ]
    },
    {
     "name": "stdout",
     "output_type": "stream",
     "text": [
      "Chunk 552 saved as data_new_combined/552.csv\n"
     ]
    },
    {
     "name": "stderr",
     "output_type": "stream",
     "text": [
      "Processing Chunks:  73%|███████▎  | 553/760 [1:14:27<27:46,  8.05s/it]"
     ]
    },
    {
     "name": "stdout",
     "output_type": "stream",
     "text": [
      "Chunk 553 saved as data_new_combined/553.csv\n"
     ]
    },
    {
     "name": "stderr",
     "output_type": "stream",
     "text": [
      "Processing Chunks:  73%|███████▎  | 554/760 [1:14:40<32:42,  9.53s/it]"
     ]
    },
    {
     "name": "stdout",
     "output_type": "stream",
     "text": [
      "Chunk 554 saved as data_new_combined/554.csv\n"
     ]
    },
    {
     "name": "stderr",
     "output_type": "stream",
     "text": [
      "Processing Chunks:  73%|███████▎  | 555/760 [1:14:42<25:00,  7.32s/it]"
     ]
    },
    {
     "name": "stdout",
     "output_type": "stream",
     "text": [
      "Chunk 555 saved as data_new_combined/555.csv\n"
     ]
    },
    {
     "name": "stderr",
     "output_type": "stream",
     "text": [
      "Processing Chunks:  73%|███████▎  | 556/760 [1:14:56<31:15,  9.20s/it]"
     ]
    },
    {
     "name": "stdout",
     "output_type": "stream",
     "text": [
      "Chunk 556 saved as data_new_combined/556.csv\n"
     ]
    },
    {
     "name": "stderr",
     "output_type": "stream",
     "text": [
      "Processing Chunks:  73%|███████▎  | 557/760 [1:15:02<28:20,  8.38s/it]"
     ]
    },
    {
     "name": "stdout",
     "output_type": "stream",
     "text": [
      "Chunk 557 saved as data_new_combined/557.csv\n"
     ]
    },
    {
     "name": "stderr",
     "output_type": "stream",
     "text": [
      "Processing Chunks:  73%|███████▎  | 558/760 [1:15:11<28:45,  8.54s/it]"
     ]
    },
    {
     "name": "stdout",
     "output_type": "stream",
     "text": [
      "Chunk 558 saved as data_new_combined/558.csv\n"
     ]
    },
    {
     "name": "stderr",
     "output_type": "stream",
     "text": [
      "Processing Chunks:  74%|███████▎  | 559/760 [1:15:24<33:11,  9.91s/it]"
     ]
    },
    {
     "name": "stdout",
     "output_type": "stream",
     "text": [
      "Chunk 559 saved as data_new_combined/559.csv\n",
      "Chunk 560 saved as data_new_combined/560.csv\n"
     ]
    },
    {
     "name": "stderr",
     "output_type": "stream",
     "text": [
      "Processing Chunks:  74%|███████▍  | 561/760 [1:15:33<24:25,  7.37s/it]"
     ]
    },
    {
     "name": "stdout",
     "output_type": "stream",
     "text": [
      "Chunk 561 saved as data_new_combined/561.csv\n"
     ]
    },
    {
     "name": "stderr",
     "output_type": "stream",
     "text": [
      "Processing Chunks:  74%|███████▍  | 562/760 [1:15:40<24:27,  7.41s/it]"
     ]
    },
    {
     "name": "stdout",
     "output_type": "stream",
     "text": [
      "Chunk 562 saved as data_new_combined/562.csv\n"
     ]
    },
    {
     "name": "stderr",
     "output_type": "stream",
     "text": [
      "Processing Chunks:  74%|███████▍  | 563/760 [1:15:51<26:57,  8.21s/it]"
     ]
    },
    {
     "name": "stdout",
     "output_type": "stream",
     "text": [
      "Chunk 563 saved as data_new_combined/563.csv\n"
     ]
    },
    {
     "name": "stderr",
     "output_type": "stream",
     "text": [
      "Processing Chunks:  74%|███████▍  | 564/760 [1:16:00<27:37,  8.46s/it]"
     ]
    },
    {
     "name": "stdout",
     "output_type": "stream",
     "text": [
      "Chunk 564 saved as data_new_combined/564.csv\n"
     ]
    },
    {
     "name": "stderr",
     "output_type": "stream",
     "text": [
      "Processing Chunks:  74%|███████▍  | 565/760 [1:16:14<32:07,  9.89s/it]"
     ]
    },
    {
     "name": "stdout",
     "output_type": "stream",
     "text": [
      "Chunk 565 saved as data_new_combined/565.csv\n"
     ]
    },
    {
     "name": "stderr",
     "output_type": "stream",
     "text": [
      "Processing Chunks:  74%|███████▍  | 566/760 [1:16:23<31:18,  9.68s/it]"
     ]
    },
    {
     "name": "stdout",
     "output_type": "stream",
     "text": [
      "Chunk 566 saved as data_new_combined/566.csv\n",
      "Chunk 567 saved as data_new_combined/567.csv\n"
     ]
    },
    {
     "name": "stderr",
     "output_type": "stream",
     "text": [
      "Processing Chunks:  75%|███████▍  | 568/760 [1:16:29<21:52,  6.84s/it]"
     ]
    },
    {
     "name": "stdout",
     "output_type": "stream",
     "text": [
      "Chunk 568 saved as data_new_combined/568.csv\n"
     ]
    },
    {
     "name": "stderr",
     "output_type": "stream",
     "text": [
      "Processing Chunks:  75%|███████▍  | 569/760 [1:16:40<24:30,  7.70s/it]"
     ]
    },
    {
     "name": "stdout",
     "output_type": "stream",
     "text": [
      "Chunk 569 saved as data_new_combined/569.csv\n"
     ]
    },
    {
     "name": "stderr",
     "output_type": "stream",
     "text": [
      "Processing Chunks:  75%|███████▌  | 570/760 [1:16:44<21:51,  6.90s/it]"
     ]
    },
    {
     "name": "stdout",
     "output_type": "stream",
     "text": [
      "Chunk 570 saved as data_new_combined/570.csv\n"
     ]
    },
    {
     "name": "stderr",
     "output_type": "stream",
     "text": [
      "Processing Chunks:  75%|███████▌  | 571/760 [1:16:52<22:17,  7.08s/it]"
     ]
    },
    {
     "name": "stdout",
     "output_type": "stream",
     "text": [
      "Chunk 571 saved as data_new_combined/571.csv\n"
     ]
    },
    {
     "name": "stderr",
     "output_type": "stream",
     "text": [
      "Processing Chunks:  75%|███████▌  | 572/760 [1:17:03<25:49,  8.24s/it]"
     ]
    },
    {
     "name": "stdout",
     "output_type": "stream",
     "text": [
      "Chunk 572 saved as data_new_combined/572.csv\n"
     ]
    },
    {
     "name": "stderr",
     "output_type": "stream",
     "text": [
      "Processing Chunks:  75%|███████▌  | 573/760 [1:17:09<23:15,  7.46s/it]"
     ]
    },
    {
     "name": "stdout",
     "output_type": "stream",
     "text": [
      "Chunk 573 saved as data_new_combined/573.csv\n"
     ]
    },
    {
     "name": "stderr",
     "output_type": "stream",
     "text": [
      "Processing Chunks:  76%|███████▌  | 574/760 [1:17:17<23:46,  7.67s/it]"
     ]
    },
    {
     "name": "stdout",
     "output_type": "stream",
     "text": [
      "Chunk 574 saved as data_new_combined/574.csv\n"
     ]
    },
    {
     "name": "stderr",
     "output_type": "stream",
     "text": [
      "Processing Chunks:  76%|███████▌  | 575/760 [1:17:29<27:49,  9.02s/it]"
     ]
    },
    {
     "name": "stdout",
     "output_type": "stream",
     "text": [
      "Chunk 575 saved as data_new_combined/575.csv\n"
     ]
    },
    {
     "name": "stderr",
     "output_type": "stream",
     "text": [
      "Processing Chunks:  76%|███████▌  | 576/760 [1:17:34<23:34,  7.69s/it]"
     ]
    },
    {
     "name": "stdout",
     "output_type": "stream",
     "text": [
      "Chunk 576 saved as data_new_combined/576.csv\n"
     ]
    },
    {
     "name": "stderr",
     "output_type": "stream",
     "text": [
      "Processing Chunks:  76%|███████▌  | 577/760 [1:17:48<29:08,  9.55s/it]"
     ]
    },
    {
     "name": "stdout",
     "output_type": "stream",
     "text": [
      "Chunk 577 saved as data_new_combined/577.csv\n"
     ]
    },
    {
     "name": "stderr",
     "output_type": "stream",
     "text": [
      "Processing Chunks:  76%|███████▌  | 578/760 [1:17:49<21:25,  7.06s/it]"
     ]
    },
    {
     "name": "stdout",
     "output_type": "stream",
     "text": [
      "Chunk 578 saved as data_new_combined/578.csv\n"
     ]
    },
    {
     "name": "stderr",
     "output_type": "stream",
     "text": [
      "Processing Chunks:  76%|███████▌  | 579/760 [1:17:57<22:15,  7.38s/it]"
     ]
    },
    {
     "name": "stdout",
     "output_type": "stream",
     "text": [
      "Chunk 579 saved as data_new_combined/579.csv\n"
     ]
    },
    {
     "name": "stderr",
     "output_type": "stream",
     "text": [
      "Processing Chunks:  76%|███████▋  | 580/760 [1:18:05<22:20,  7.45s/it]"
     ]
    },
    {
     "name": "stdout",
     "output_type": "stream",
     "text": [
      "Chunk 580 saved as data_new_combined/580.csv\n"
     ]
    },
    {
     "name": "stderr",
     "output_type": "stream",
     "text": [
      "Processing Chunks:  76%|███████▋  | 581/760 [1:18:14<23:51,  8.00s/it]"
     ]
    },
    {
     "name": "stdout",
     "output_type": "stream",
     "text": [
      "Chunk 581 saved as data_new_combined/581.csv\n"
     ]
    },
    {
     "name": "stderr",
     "output_type": "stream",
     "text": [
      "Processing Chunks:  77%|███████▋  | 582/760 [1:18:21<23:01,  7.76s/it]"
     ]
    },
    {
     "name": "stdout",
     "output_type": "stream",
     "text": [
      "Chunk 582 saved as data_new_combined/582.csv\n"
     ]
    },
    {
     "name": "stderr",
     "output_type": "stream",
     "text": [
      "Processing Chunks:  77%|███████▋  | 583/760 [1:18:29<23:08,  7.84s/it]"
     ]
    },
    {
     "name": "stdout",
     "output_type": "stream",
     "text": [
      "Chunk 583 saved as data_new_combined/583.csv\n"
     ]
    },
    {
     "name": "stderr",
     "output_type": "stream",
     "text": [
      "Processing Chunks:  77%|███████▋  | 584/760 [1:18:36<22:02,  7.52s/it]"
     ]
    },
    {
     "name": "stdout",
     "output_type": "stream",
     "text": [
      "Chunk 584 saved as data_new_combined/584.csv\n"
     ]
    },
    {
     "name": "stderr",
     "output_type": "stream",
     "text": [
      "Processing Chunks:  77%|███████▋  | 585/760 [1:18:42<20:59,  7.19s/it]"
     ]
    },
    {
     "name": "stdout",
     "output_type": "stream",
     "text": [
      "Chunk 585 saved as data_new_combined/585.csv\n"
     ]
    },
    {
     "name": "stderr",
     "output_type": "stream",
     "text": [
      "Processing Chunks:  77%|███████▋  | 586/760 [1:18:54<25:10,  8.68s/it]"
     ]
    },
    {
     "name": "stdout",
     "output_type": "stream",
     "text": [
      "Chunk 586 saved as data_new_combined/586.csv\n"
     ]
    },
    {
     "name": "stderr",
     "output_type": "stream",
     "text": [
      "Processing Chunks:  77%|███████▋  | 587/760 [1:19:01<23:25,  8.13s/it]"
     ]
    },
    {
     "name": "stdout",
     "output_type": "stream",
     "text": [
      "Chunk 587 saved as data_new_combined/587.csv\n"
     ]
    },
    {
     "name": "stderr",
     "output_type": "stream",
     "text": [
      "Processing Chunks:  77%|███████▋  | 588/760 [1:19:09<23:14,  8.11s/it]"
     ]
    },
    {
     "name": "stdout",
     "output_type": "stream",
     "text": [
      "Chunk 588 saved as data_new_combined/588.csv\n"
     ]
    },
    {
     "name": "stderr",
     "output_type": "stream",
     "text": [
      "Processing Chunks:  78%|███████▊  | 589/760 [1:19:19<24:41,  8.67s/it]"
     ]
    },
    {
     "name": "stdout",
     "output_type": "stream",
     "text": [
      "Chunk 589 saved as data_new_combined/589.csv\n"
     ]
    },
    {
     "name": "stderr",
     "output_type": "stream",
     "text": [
      "Processing Chunks:  78%|███████▊  | 590/760 [1:19:26<22:34,  7.97s/it]"
     ]
    },
    {
     "name": "stdout",
     "output_type": "stream",
     "text": [
      "Chunk 590 saved as data_new_combined/590.csv\n"
     ]
    },
    {
     "name": "stderr",
     "output_type": "stream",
     "text": [
      "Processing Chunks:  78%|███████▊  | 591/760 [1:19:30<19:18,  6.86s/it]"
     ]
    },
    {
     "name": "stdout",
     "output_type": "stream",
     "text": [
      "Chunk 591 saved as data_new_combined/591.csv\n"
     ]
    },
    {
     "name": "stderr",
     "output_type": "stream",
     "text": [
      "Processing Chunks:  78%|███████▊  | 592/760 [1:19:38<20:36,  7.36s/it]"
     ]
    },
    {
     "name": "stdout",
     "output_type": "stream",
     "text": [
      "Chunk 592 saved as data_new_combined/592.csv\n"
     ]
    },
    {
     "name": "stderr",
     "output_type": "stream",
     "text": [
      "Processing Chunks:  78%|███████▊  | 593/760 [1:19:48<21:57,  7.89s/it]"
     ]
    },
    {
     "name": "stdout",
     "output_type": "stream",
     "text": [
      "Chunk 593 saved as data_new_combined/593.csv\n"
     ]
    },
    {
     "name": "stderr",
     "output_type": "stream",
     "text": [
      "Processing Chunks:  78%|███████▊  | 594/760 [1:19:57<23:22,  8.45s/it]"
     ]
    },
    {
     "name": "stdout",
     "output_type": "stream",
     "text": [
      "Chunk 594 saved as data_new_combined/594.csv\n"
     ]
    },
    {
     "name": "stderr",
     "output_type": "stream",
     "text": [
      "Processing Chunks:  78%|███████▊  | 595/760 [1:20:06<23:12,  8.44s/it]"
     ]
    },
    {
     "name": "stdout",
     "output_type": "stream",
     "text": [
      "Chunk 595 saved as data_new_combined/595.csv\n"
     ]
    },
    {
     "name": "stderr",
     "output_type": "stream",
     "text": [
      "Processing Chunks:  78%|███████▊  | 596/760 [1:20:11<20:06,  7.36s/it]"
     ]
    },
    {
     "name": "stdout",
     "output_type": "stream",
     "text": [
      "Chunk 596 saved as data_new_combined/596.csv\n"
     ]
    },
    {
     "name": "stderr",
     "output_type": "stream",
     "text": [
      "Processing Chunks:  79%|███████▊  | 597/760 [1:20:19<21:05,  7.76s/it]"
     ]
    },
    {
     "name": "stdout",
     "output_type": "stream",
     "text": [
      "Chunk 597 saved as data_new_combined/597.csv\n"
     ]
    },
    {
     "name": "stderr",
     "output_type": "stream",
     "text": [
      "Processing Chunks:  79%|███████▊  | 598/760 [1:20:24<18:27,  6.84s/it]"
     ]
    },
    {
     "name": "stdout",
     "output_type": "stream",
     "text": [
      "Chunk 598 saved as data_new_combined/598.csv\n"
     ]
    },
    {
     "name": "stderr",
     "output_type": "stream",
     "text": [
      "Processing Chunks:  79%|███████▉  | 599/760 [1:20:36<22:41,  8.46s/it]"
     ]
    },
    {
     "name": "stdout",
     "output_type": "stream",
     "text": [
      "Chunk 599 saved as data_new_combined/599.csv\n"
     ]
    },
    {
     "name": "stderr",
     "output_type": "stream",
     "text": [
      "Processing Chunks:  79%|███████▉  | 600/760 [1:20:50<27:02, 10.14s/it]"
     ]
    },
    {
     "name": "stdout",
     "output_type": "stream",
     "text": [
      "Chunk 600 saved as data_new_combined/600.csv\n"
     ]
    },
    {
     "name": "stderr",
     "output_type": "stream",
     "text": [
      "Processing Chunks:  79%|███████▉  | 601/760 [1:20:58<25:02,  9.45s/it]"
     ]
    },
    {
     "name": "stdout",
     "output_type": "stream",
     "text": [
      "Chunk 601 saved as data_new_combined/601.csv\n"
     ]
    },
    {
     "name": "stderr",
     "output_type": "stream",
     "text": [
      "Processing Chunks:  79%|███████▉  | 602/760 [1:20:58<17:36,  6.69s/it]"
     ]
    },
    {
     "name": "stdout",
     "output_type": "stream",
     "text": [
      "Chunk 602 saved as data_new_combined/602.csv\n"
     ]
    },
    {
     "name": "stderr",
     "output_type": "stream",
     "text": [
      "Processing Chunks:  79%|███████▉  | 603/760 [1:21:11<22:24,  8.57s/it]"
     ]
    },
    {
     "name": "stdout",
     "output_type": "stream",
     "text": [
      "Chunk 603 saved as data_new_combined/603.csv\n"
     ]
    },
    {
     "name": "stderr",
     "output_type": "stream",
     "text": [
      "Processing Chunks:  79%|███████▉  | 604/760 [1:21:19<21:40,  8.34s/it]"
     ]
    },
    {
     "name": "stdout",
     "output_type": "stream",
     "text": [
      "Chunk 604 saved as data_new_combined/604.csv\n"
     ]
    },
    {
     "name": "stderr",
     "output_type": "stream",
     "text": [
      "Processing Chunks:  80%|███████▉  | 605/760 [1:21:22<17:14,  6.67s/it]"
     ]
    },
    {
     "name": "stdout",
     "output_type": "stream",
     "text": [
      "Chunk 605 saved as data_new_combined/605.csv\n"
     ]
    },
    {
     "name": "stderr",
     "output_type": "stream",
     "text": [
      "Processing Chunks:  80%|███████▉  | 606/760 [1:21:29<17:17,  6.73s/it]"
     ]
    },
    {
     "name": "stdout",
     "output_type": "stream",
     "text": [
      "Chunk 606 saved as data_new_combined/606.csv\n"
     ]
    },
    {
     "name": "stderr",
     "output_type": "stream",
     "text": [
      "Processing Chunks:  80%|███████▉  | 607/760 [1:21:41<21:05,  8.27s/it]"
     ]
    },
    {
     "name": "stdout",
     "output_type": "stream",
     "text": [
      "Chunk 607 saved as data_new_combined/607.csv\n"
     ]
    },
    {
     "name": "stderr",
     "output_type": "stream",
     "text": [
      "Processing Chunks:  80%|████████  | 608/760 [1:21:45<17:48,  7.03s/it]"
     ]
    },
    {
     "name": "stdout",
     "output_type": "stream",
     "text": [
      "Chunk 608 saved as data_new_combined/608.csv\n"
     ]
    },
    {
     "name": "stderr",
     "output_type": "stream",
     "text": [
      "Processing Chunks:  80%|████████  | 609/760 [1:21:54<19:18,  7.67s/it]"
     ]
    },
    {
     "name": "stdout",
     "output_type": "stream",
     "text": [
      "Chunk 609 saved as data_new_combined/609.csv\n"
     ]
    },
    {
     "name": "stderr",
     "output_type": "stream",
     "text": [
      "Processing Chunks:  80%|████████  | 610/760 [1:21:59<17:14,  6.90s/it]"
     ]
    },
    {
     "name": "stdout",
     "output_type": "stream",
     "text": [
      "Chunk 610 saved as data_new_combined/610.csv\n"
     ]
    },
    {
     "name": "stderr",
     "output_type": "stream",
     "text": [
      "Processing Chunks:  80%|████████  | 611/760 [1:22:09<19:39,  7.92s/it]"
     ]
    },
    {
     "name": "stdout",
     "output_type": "stream",
     "text": [
      "Chunk 611 saved as data_new_combined/611.csv\n"
     ]
    },
    {
     "name": "stderr",
     "output_type": "stream",
     "text": [
      "Processing Chunks:  81%|████████  | 612/760 [1:22:20<21:30,  8.72s/it]"
     ]
    },
    {
     "name": "stdout",
     "output_type": "stream",
     "text": [
      "Chunk 612 saved as data_new_combined/612.csv\n"
     ]
    },
    {
     "name": "stderr",
     "output_type": "stream",
     "text": [
      "Processing Chunks:  81%|████████  | 613/760 [1:22:25<18:29,  7.55s/it]"
     ]
    },
    {
     "name": "stdout",
     "output_type": "stream",
     "text": [
      "Chunk 613 saved as data_new_combined/613.csv\n"
     ]
    },
    {
     "name": "stderr",
     "output_type": "stream",
     "text": [
      "Processing Chunks:  81%|████████  | 614/760 [1:22:33<19:12,  7.89s/it]"
     ]
    },
    {
     "name": "stdout",
     "output_type": "stream",
     "text": [
      "Chunk 614 saved as data_new_combined/614.csv\n"
     ]
    },
    {
     "name": "stderr",
     "output_type": "stream",
     "text": [
      "Processing Chunks:  81%|████████  | 615/760 [1:22:41<18:56,  7.84s/it]"
     ]
    },
    {
     "name": "stdout",
     "output_type": "stream",
     "text": [
      "Chunk 615 saved as data_new_combined/615.csv\n"
     ]
    },
    {
     "name": "stderr",
     "output_type": "stream",
     "text": [
      "Processing Chunks:  81%|████████  | 616/760 [1:22:50<19:21,  8.06s/it]"
     ]
    },
    {
     "name": "stdout",
     "output_type": "stream",
     "text": [
      "Chunk 616 saved as data_new_combined/616.csv\n"
     ]
    },
    {
     "name": "stderr",
     "output_type": "stream",
     "text": [
      "Processing Chunks:  81%|████████  | 617/760 [1:22:55<17:16,  7.25s/it]"
     ]
    },
    {
     "name": "stdout",
     "output_type": "stream",
     "text": [
      "Chunk 617 saved as data_new_combined/617.csv\n"
     ]
    },
    {
     "name": "stderr",
     "output_type": "stream",
     "text": [
      "Processing Chunks:  81%|████████▏ | 618/760 [1:23:04<18:17,  7.73s/it]"
     ]
    },
    {
     "name": "stdout",
     "output_type": "stream",
     "text": [
      "Chunk 618 saved as data_new_combined/618.csv\n"
     ]
    },
    {
     "name": "stderr",
     "output_type": "stream",
     "text": [
      "Processing Chunks:  81%|████████▏ | 619/760 [1:23:18<22:29,  9.57s/it]"
     ]
    },
    {
     "name": "stdout",
     "output_type": "stream",
     "text": [
      "Chunk 619 saved as data_new_combined/619.csv\n",
      "Chunk 620 saved as data_new_combined/620.csv\n"
     ]
    },
    {
     "name": "stderr",
     "output_type": "stream",
     "text": [
      "Processing Chunks:  82%|████████▏ | 621/760 [1:23:29<18:03,  7.79s/it]"
     ]
    },
    {
     "name": "stdout",
     "output_type": "stream",
     "text": [
      "Chunk 621 saved as data_new_combined/621.csv\n"
     ]
    },
    {
     "name": "stderr",
     "output_type": "stream",
     "text": [
      "Processing Chunks:  82%|████████▏ | 622/760 [1:23:36<17:33,  7.63s/it]"
     ]
    },
    {
     "name": "stdout",
     "output_type": "stream",
     "text": [
      "Chunk 622 saved as data_new_combined/622.csv\n"
     ]
    },
    {
     "name": "stderr",
     "output_type": "stream",
     "text": [
      "Processing Chunks:  82%|████████▏ | 623/760 [1:23:43<16:40,  7.31s/it]"
     ]
    },
    {
     "name": "stdout",
     "output_type": "stream",
     "text": [
      "Chunk 623 saved as data_new_combined/623.csv\n"
     ]
    },
    {
     "name": "stderr",
     "output_type": "stream",
     "text": [
      "Processing Chunks:  82%|████████▏ | 624/760 [1:23:48<15:16,  6.74s/it]"
     ]
    },
    {
     "name": "stdout",
     "output_type": "stream",
     "text": [
      "Chunk 624 saved as data_new_combined/624.csv\n"
     ]
    },
    {
     "name": "stderr",
     "output_type": "stream",
     "text": [
      "Processing Chunks:  82%|████████▏ | 625/760 [1:23:56<16:07,  7.17s/it]"
     ]
    },
    {
     "name": "stdout",
     "output_type": "stream",
     "text": [
      "Chunk 625 saved as data_new_combined/625.csv\n"
     ]
    },
    {
     "name": "stderr",
     "output_type": "stream",
     "text": [
      "Processing Chunks:  82%|████████▏ | 626/760 [1:24:02<15:09,  6.79s/it]"
     ]
    },
    {
     "name": "stdout",
     "output_type": "stream",
     "text": [
      "Chunk 626 saved as data_new_combined/626.csv\n"
     ]
    },
    {
     "name": "stderr",
     "output_type": "stream",
     "text": [
      "Processing Chunks:  82%|████████▎ | 627/760 [1:24:13<17:32,  7.91s/it]"
     ]
    },
    {
     "name": "stdout",
     "output_type": "stream",
     "text": [
      "Chunk 627 saved as data_new_combined/627.csv\n"
     ]
    },
    {
     "name": "stderr",
     "output_type": "stream",
     "text": [
      "Processing Chunks:  83%|████████▎ | 628/760 [1:24:21<17:23,  7.91s/it]"
     ]
    },
    {
     "name": "stdout",
     "output_type": "stream",
     "text": [
      "Chunk 628 saved as data_new_combined/628.csv\n"
     ]
    },
    {
     "name": "stderr",
     "output_type": "stream",
     "text": [
      "Processing Chunks:  83%|████████▎ | 629/760 [1:24:33<20:22,  9.33s/it]"
     ]
    },
    {
     "name": "stdout",
     "output_type": "stream",
     "text": [
      "Chunk 629 saved as data_new_combined/629.csv\n"
     ]
    },
    {
     "name": "stderr",
     "output_type": "stream",
     "text": [
      "Processing Chunks:  83%|████████▎ | 630/760 [1:24:39<17:39,  8.15s/it]"
     ]
    },
    {
     "name": "stdout",
     "output_type": "stream",
     "text": [
      "Chunk 630 saved as data_new_combined/630.csv\n"
     ]
    },
    {
     "name": "stderr",
     "output_type": "stream",
     "text": [
      "Processing Chunks:  83%|████████▎ | 631/760 [1:24:44<15:58,  7.43s/it]"
     ]
    },
    {
     "name": "stdout",
     "output_type": "stream",
     "text": [
      "Chunk 631 saved as data_new_combined/631.csv\n"
     ]
    },
    {
     "name": "stderr",
     "output_type": "stream",
     "text": [
      "Processing Chunks:  83%|████████▎ | 632/760 [1:24:53<16:42,  7.84s/it]"
     ]
    },
    {
     "name": "stdout",
     "output_type": "stream",
     "text": [
      "Chunk 632 saved as data_new_combined/632.csv\n"
     ]
    },
    {
     "name": "stderr",
     "output_type": "stream",
     "text": [
      "Processing Chunks:  83%|████████▎ | 633/760 [1:25:04<18:16,  8.64s/it]"
     ]
    },
    {
     "name": "stdout",
     "output_type": "stream",
     "text": [
      "Chunk 633 saved as data_new_combined/633.csv\n"
     ]
    },
    {
     "name": "stderr",
     "output_type": "stream",
     "text": [
      "Processing Chunks:  83%|████████▎ | 634/760 [1:25:11<17:19,  8.25s/it]"
     ]
    },
    {
     "name": "stdout",
     "output_type": "stream",
     "text": [
      "Chunk 634 saved as data_new_combined/634.csv\n"
     ]
    },
    {
     "name": "stderr",
     "output_type": "stream",
     "text": [
      "Processing Chunks:  84%|████████▎ | 635/760 [1:25:17<15:42,  7.54s/it]"
     ]
    },
    {
     "name": "stdout",
     "output_type": "stream",
     "text": [
      "Chunk 635 saved as data_new_combined/635.csv\n"
     ]
    },
    {
     "name": "stderr",
     "output_type": "stream",
     "text": [
      "Processing Chunks:  84%|████████▎ | 636/760 [1:25:30<18:59,  9.19s/it]"
     ]
    },
    {
     "name": "stdout",
     "output_type": "stream",
     "text": [
      "Chunk 636 saved as data_new_combined/636.csv\n"
     ]
    },
    {
     "name": "stderr",
     "output_type": "stream",
     "text": [
      "Processing Chunks:  84%|████████▍ | 637/760 [1:25:35<16:05,  7.85s/it]"
     ]
    },
    {
     "name": "stdout",
     "output_type": "stream",
     "text": [
      "Chunk 637 saved as data_new_combined/637.csv\n"
     ]
    },
    {
     "name": "stderr",
     "output_type": "stream",
     "text": [
      "Processing Chunks:  84%|████████▍ | 638/760 [1:25:39<13:58,  6.87s/it]"
     ]
    },
    {
     "name": "stdout",
     "output_type": "stream",
     "text": [
      "Chunk 638 saved as data_new_combined/638.csv\n"
     ]
    },
    {
     "name": "stderr",
     "output_type": "stream",
     "text": [
      "Processing Chunks:  84%|████████▍ | 639/760 [1:25:49<15:25,  7.64s/it]"
     ]
    },
    {
     "name": "stdout",
     "output_type": "stream",
     "text": [
      "Chunk 639 saved as data_new_combined/639.csv\n"
     ]
    },
    {
     "name": "stderr",
     "output_type": "stream",
     "text": [
      "Processing Chunks:  84%|████████▍ | 640/760 [1:26:02<18:38,  9.32s/it]"
     ]
    },
    {
     "name": "stdout",
     "output_type": "stream",
     "text": [
      "Chunk 640 saved as data_new_combined/640.csv\n"
     ]
    },
    {
     "name": "stderr",
     "output_type": "stream",
     "text": [
      "Processing Chunks:  84%|████████▍ | 641/760 [1:26:06<15:18,  7.72s/it]"
     ]
    },
    {
     "name": "stdout",
     "output_type": "stream",
     "text": [
      "Chunk 641 saved as data_new_combined/641.csv\n"
     ]
    },
    {
     "name": "stderr",
     "output_type": "stream",
     "text": [
      "Processing Chunks:  84%|████████▍ | 642/760 [1:26:14<15:31,  7.89s/it]"
     ]
    },
    {
     "name": "stdout",
     "output_type": "stream",
     "text": [
      "Chunk 642 saved as data_new_combined/642.csv\n"
     ]
    },
    {
     "name": "stderr",
     "output_type": "stream",
     "text": [
      "Processing Chunks:  85%|████████▍ | 643/760 [1:26:24<16:16,  8.35s/it]"
     ]
    },
    {
     "name": "stdout",
     "output_type": "stream",
     "text": [
      "Chunk 643 saved as data_new_combined/643.csv\n"
     ]
    },
    {
     "name": "stderr",
     "output_type": "stream",
     "text": [
      "Processing Chunks:  85%|████████▍ | 644/760 [1:26:27<13:24,  6.93s/it]"
     ]
    },
    {
     "name": "stdout",
     "output_type": "stream",
     "text": [
      "Chunk 644 saved as data_new_combined/644.csv\n"
     ]
    },
    {
     "name": "stderr",
     "output_type": "stream",
     "text": [
      "Processing Chunks:  85%|████████▍ | 645/760 [1:26:35<13:48,  7.20s/it]"
     ]
    },
    {
     "name": "stdout",
     "output_type": "stream",
     "text": [
      "Chunk 645 saved as data_new_combined/645.csv\n"
     ]
    },
    {
     "name": "stderr",
     "output_type": "stream",
     "text": [
      "Processing Chunks:  85%|████████▌ | 646/760 [1:26:43<13:51,  7.30s/it]"
     ]
    },
    {
     "name": "stdout",
     "output_type": "stream",
     "text": [
      "Chunk 646 saved as data_new_combined/646.csv\n"
     ]
    },
    {
     "name": "stderr",
     "output_type": "stream",
     "text": [
      "Processing Chunks:  85%|████████▌ | 647/760 [1:26:52<14:40,  7.79s/it]"
     ]
    },
    {
     "name": "stdout",
     "output_type": "stream",
     "text": [
      "Chunk 647 saved as data_new_combined/647.csv\n"
     ]
    },
    {
     "name": "stderr",
     "output_type": "stream",
     "text": [
      "Processing Chunks:  85%|████████▌ | 648/760 [1:26:57<12:56,  6.93s/it]"
     ]
    },
    {
     "name": "stdout",
     "output_type": "stream",
     "text": [
      "Chunk 648 saved as data_new_combined/648.csv\n"
     ]
    },
    {
     "name": "stderr",
     "output_type": "stream",
     "text": [
      "Processing Chunks:  85%|████████▌ | 649/760 [1:27:07<15:02,  8.13s/it]"
     ]
    },
    {
     "name": "stdout",
     "output_type": "stream",
     "text": [
      "Chunk 649 saved as data_new_combined/649.csv\n"
     ]
    },
    {
     "name": "stderr",
     "output_type": "stream",
     "text": [
      "Processing Chunks:  86%|████████▌ | 650/760 [1:27:18<16:18,  8.90s/it]"
     ]
    },
    {
     "name": "stdout",
     "output_type": "stream",
     "text": [
      "Chunk 650 saved as data_new_combined/650.csv\n"
     ]
    },
    {
     "name": "stderr",
     "output_type": "stream",
     "text": [
      "Processing Chunks:  86%|████████▌ | 651/760 [1:27:23<14:07,  7.78s/it]"
     ]
    },
    {
     "name": "stdout",
     "output_type": "stream",
     "text": [
      "Chunk 651 saved as data_new_combined/651.csv\n"
     ]
    },
    {
     "name": "stderr",
     "output_type": "stream",
     "text": [
      "Processing Chunks:  86%|████████▌ | 652/760 [1:27:34<15:38,  8.69s/it]"
     ]
    },
    {
     "name": "stdout",
     "output_type": "stream",
     "text": [
      "Chunk 652 saved as data_new_combined/652.csv\n"
     ]
    },
    {
     "name": "stderr",
     "output_type": "stream",
     "text": [
      "Processing Chunks:  86%|████████▌ | 653/760 [1:27:40<13:49,  7.75s/it]"
     ]
    },
    {
     "name": "stdout",
     "output_type": "stream",
     "text": [
      "Chunk 653 saved as data_new_combined/653.csv\n"
     ]
    },
    {
     "name": "stderr",
     "output_type": "stream",
     "text": [
      "Processing Chunks:  86%|████████▌ | 654/760 [1:27:47<13:13,  7.49s/it]"
     ]
    },
    {
     "name": "stdout",
     "output_type": "stream",
     "text": [
      "Chunk 654 saved as data_new_combined/654.csv\n"
     ]
    },
    {
     "name": "stderr",
     "output_type": "stream",
     "text": [
      "Processing Chunks:  86%|████████▌ | 655/760 [1:27:55<13:26,  7.68s/it]"
     ]
    },
    {
     "name": "stdout",
     "output_type": "stream",
     "text": [
      "Chunk 655 saved as data_new_combined/655.csv\n"
     ]
    },
    {
     "name": "stderr",
     "output_type": "stream",
     "text": [
      "Processing Chunks:  86%|████████▋ | 656/760 [1:28:02<13:02,  7.53s/it]"
     ]
    },
    {
     "name": "stdout",
     "output_type": "stream",
     "text": [
      "Chunk 656 saved as data_new_combined/656.csv\n"
     ]
    },
    {
     "name": "stderr",
     "output_type": "stream",
     "text": [
      "Processing Chunks:  86%|████████▋ | 657/760 [1:28:13<14:35,  8.50s/it]"
     ]
    },
    {
     "name": "stdout",
     "output_type": "stream",
     "text": [
      "Chunk 657 saved as data_new_combined/657.csv\n"
     ]
    },
    {
     "name": "stderr",
     "output_type": "stream",
     "text": [
      "Processing Chunks:  87%|████████▋ | 658/760 [1:28:19<13:21,  7.86s/it]"
     ]
    },
    {
     "name": "stdout",
     "output_type": "stream",
     "text": [
      "Chunk 658 saved as data_new_combined/658.csv\n"
     ]
    },
    {
     "name": "stderr",
     "output_type": "stream",
     "text": [
      "Processing Chunks:  87%|████████▋ | 659/760 [1:28:30<14:39,  8.71s/it]"
     ]
    },
    {
     "name": "stdout",
     "output_type": "stream",
     "text": [
      "Chunk 659 saved as data_new_combined/659.csv\n"
     ]
    },
    {
     "name": "stderr",
     "output_type": "stream",
     "text": [
      "Processing Chunks:  87%|████████▋ | 660/760 [1:28:37<13:56,  8.36s/it]"
     ]
    },
    {
     "name": "stdout",
     "output_type": "stream",
     "text": [
      "Chunk 660 saved as data_new_combined/660.csv\n"
     ]
    },
    {
     "name": "stderr",
     "output_type": "stream",
     "text": [
      "Processing Chunks:  87%|████████▋ | 661/760 [1:28:42<11:58,  7.26s/it]"
     ]
    },
    {
     "name": "stdout",
     "output_type": "stream",
     "text": [
      "Chunk 661 saved as data_new_combined/661.csv\n"
     ]
    },
    {
     "name": "stderr",
     "output_type": "stream",
     "text": [
      "Processing Chunks:  87%|████████▋ | 662/760 [1:28:49<11:47,  7.22s/it]"
     ]
    },
    {
     "name": "stdout",
     "output_type": "stream",
     "text": [
      "Chunk 662 saved as data_new_combined/662.csv\n"
     ]
    },
    {
     "name": "stderr",
     "output_type": "stream",
     "text": [
      "Processing Chunks:  87%|████████▋ | 663/760 [1:28:55<10:56,  6.77s/it]"
     ]
    },
    {
     "name": "stdout",
     "output_type": "stream",
     "text": [
      "Chunk 663 saved as data_new_combined/663.csv\n"
     ]
    },
    {
     "name": "stderr",
     "output_type": "stream",
     "text": [
      "Processing Chunks:  87%|████████▋ | 664/760 [1:29:03<11:21,  7.10s/it]"
     ]
    },
    {
     "name": "stdout",
     "output_type": "stream",
     "text": [
      "Chunk 664 saved as data_new_combined/664.csv\n"
     ]
    },
    {
     "name": "stderr",
     "output_type": "stream",
     "text": [
      "Processing Chunks:  88%|████████▊ | 665/760 [1:29:13<12:32,  7.92s/it]"
     ]
    },
    {
     "name": "stdout",
     "output_type": "stream",
     "text": [
      "Chunk 665 saved as data_new_combined/665.csv\n"
     ]
    },
    {
     "name": "stderr",
     "output_type": "stream",
     "text": [
      "Processing Chunks:  88%|████████▊ | 666/760 [1:29:18<11:24,  7.29s/it]"
     ]
    },
    {
     "name": "stdout",
     "output_type": "stream",
     "text": [
      "Chunk 666 saved as data_new_combined/666.csv\n"
     ]
    },
    {
     "name": "stderr",
     "output_type": "stream",
     "text": [
      "Processing Chunks:  88%|████████▊ | 667/760 [1:29:23<09:56,  6.42s/it]"
     ]
    },
    {
     "name": "stdout",
     "output_type": "stream",
     "text": [
      "Chunk 667 saved as data_new_combined/667.csv\n"
     ]
    },
    {
     "name": "stderr",
     "output_type": "stream",
     "text": [
      "Processing Chunks:  88%|████████▊ | 668/760 [1:29:30<10:07,  6.60s/it]"
     ]
    },
    {
     "name": "stdout",
     "output_type": "stream",
     "text": [
      "Chunk 668 saved as data_new_combined/668.csv\n"
     ]
    },
    {
     "name": "stderr",
     "output_type": "stream",
     "text": [
      "Processing Chunks:  88%|████████▊ | 669/760 [1:29:41<12:14,  8.08s/it]"
     ]
    },
    {
     "name": "stdout",
     "output_type": "stream",
     "text": [
      "Chunk 669 saved as data_new_combined/669.csv\n"
     ]
    },
    {
     "name": "stderr",
     "output_type": "stream",
     "text": [
      "Processing Chunks:  88%|████████▊ | 670/760 [1:29:55<14:48,  9.87s/it]"
     ]
    },
    {
     "name": "stdout",
     "output_type": "stream",
     "text": [
      "Chunk 670 saved as data_new_combined/670.csv\n"
     ]
    },
    {
     "name": "stderr",
     "output_type": "stream",
     "text": [
      "Processing Chunks:  88%|████████▊ | 671/760 [1:29:57<11:12,  7.56s/it]"
     ]
    },
    {
     "name": "stdout",
     "output_type": "stream",
     "text": [
      "Chunk 671 saved as data_new_combined/671.csv\n"
     ]
    },
    {
     "name": "stderr",
     "output_type": "stream",
     "text": [
      "Processing Chunks:  88%|████████▊ | 672/760 [1:30:05<11:12,  7.64s/it]"
     ]
    },
    {
     "name": "stdout",
     "output_type": "stream",
     "text": [
      "Chunk 672 saved as data_new_combined/672.csv\n"
     ]
    },
    {
     "name": "stderr",
     "output_type": "stream",
     "text": [
      "Processing Chunks:  89%|████████▊ | 673/760 [1:30:15<12:10,  8.39s/it]"
     ]
    },
    {
     "name": "stdout",
     "output_type": "stream",
     "text": [
      "Chunk 673 saved as data_new_combined/673.csv\n"
     ]
    },
    {
     "name": "stderr",
     "output_type": "stream",
     "text": [
      "Processing Chunks:  89%|████████▊ | 674/760 [1:30:23<11:48,  8.24s/it]"
     ]
    },
    {
     "name": "stdout",
     "output_type": "stream",
     "text": [
      "Chunk 674 saved as data_new_combined/674.csv\n"
     ]
    },
    {
     "name": "stderr",
     "output_type": "stream",
     "text": [
      "Processing Chunks:  89%|████████▉ | 675/760 [1:30:33<12:14,  8.64s/it]"
     ]
    },
    {
     "name": "stdout",
     "output_type": "stream",
     "text": [
      "Chunk 675 saved as data_new_combined/675.csv\n"
     ]
    },
    {
     "name": "stderr",
     "output_type": "stream",
     "text": [
      "Processing Chunks:  89%|████████▉ | 676/760 [1:30:38<10:32,  7.53s/it]"
     ]
    },
    {
     "name": "stdout",
     "output_type": "stream",
     "text": [
      "Chunk 676 saved as data_new_combined/676.csv\n"
     ]
    },
    {
     "name": "stderr",
     "output_type": "stream",
     "text": [
      "Processing Chunks:  89%|████████▉ | 677/760 [1:30:52<12:57,  9.37s/it]"
     ]
    },
    {
     "name": "stdout",
     "output_type": "stream",
     "text": [
      "Chunk 677 saved as data_new_combined/677.csv\n"
     ]
    },
    {
     "name": "stderr",
     "output_type": "stream",
     "text": [
      "Processing Chunks:  89%|████████▉ | 678/760 [1:30:56<10:44,  7.86s/it]"
     ]
    },
    {
     "name": "stdout",
     "output_type": "stream",
     "text": [
      "Chunk 678 saved as data_new_combined/678.csv\n",
      "Chunk 679 saved as data_new_combined/679.csv\n"
     ]
    },
    {
     "name": "stderr",
     "output_type": "stream",
     "text": [
      "Processing Chunks:  89%|████████▉ | 680/760 [1:31:03<07:53,  5.92s/it]"
     ]
    },
    {
     "name": "stdout",
     "output_type": "stream",
     "text": [
      "Chunk 680 saved as data_new_combined/680.csv\n"
     ]
    },
    {
     "name": "stderr",
     "output_type": "stream",
     "text": [
      "Processing Chunks:  90%|████████▉ | 681/760 [1:31:09<07:51,  5.96s/it]"
     ]
    },
    {
     "name": "stdout",
     "output_type": "stream",
     "text": [
      "Chunk 681 saved as data_new_combined/681.csv\n"
     ]
    },
    {
     "name": "stderr",
     "output_type": "stream",
     "text": [
      "Processing Chunks:  90%|████████▉ | 682/760 [1:31:23<10:20,  7.96s/it]"
     ]
    },
    {
     "name": "stdout",
     "output_type": "stream",
     "text": [
      "Chunk 682 saved as data_new_combined/682.csv\n"
     ]
    },
    {
     "name": "stderr",
     "output_type": "stream",
     "text": [
      "Processing Chunks:  90%|████████▉ | 683/760 [1:31:26<08:38,  6.74s/it]"
     ]
    },
    {
     "name": "stdout",
     "output_type": "stream",
     "text": [
      "Chunk 683 saved as data_new_combined/683.csv\n"
     ]
    },
    {
     "name": "stderr",
     "output_type": "stream",
     "text": [
      "Processing Chunks:  90%|█████████ | 684/760 [1:31:35<09:04,  7.17s/it]"
     ]
    },
    {
     "name": "stdout",
     "output_type": "stream",
     "text": [
      "Chunk 684 saved as data_new_combined/684.csv\n"
     ]
    },
    {
     "name": "stderr",
     "output_type": "stream",
     "text": [
      "Processing Chunks:  90%|█████████ | 685/760 [1:31:41<08:44,  6.99s/it]"
     ]
    },
    {
     "name": "stdout",
     "output_type": "stream",
     "text": [
      "Chunk 685 saved as data_new_combined/685.csv\n"
     ]
    },
    {
     "name": "stderr",
     "output_type": "stream",
     "text": [
      "Processing Chunks:  90%|█████████ | 686/760 [1:31:49<08:50,  7.17s/it]"
     ]
    },
    {
     "name": "stdout",
     "output_type": "stream",
     "text": [
      "Chunk 686 saved as data_new_combined/686.csv\n"
     ]
    },
    {
     "name": "stderr",
     "output_type": "stream",
     "text": [
      "Processing Chunks:  90%|█████████ | 687/760 [1:31:57<09:02,  7.43s/it]"
     ]
    },
    {
     "name": "stdout",
     "output_type": "stream",
     "text": [
      "Chunk 687 saved as data_new_combined/687.csv\n"
     ]
    },
    {
     "name": "stderr",
     "output_type": "stream",
     "text": [
      "Processing Chunks:  91%|█████████ | 688/760 [1:32:05<09:15,  7.72s/it]"
     ]
    },
    {
     "name": "stdout",
     "output_type": "stream",
     "text": [
      "Chunk 688 saved as data_new_combined/688.csv\n"
     ]
    },
    {
     "name": "stderr",
     "output_type": "stream",
     "text": [
      "Processing Chunks:  91%|█████████ | 689/760 [1:32:16<10:18,  8.71s/it]"
     ]
    },
    {
     "name": "stdout",
     "output_type": "stream",
     "text": [
      "Chunk 689 saved as data_new_combined/689.csv\n"
     ]
    },
    {
     "name": "stderr",
     "output_type": "stream",
     "text": [
      "Processing Chunks:  91%|█████████ | 690/760 [1:32:21<08:37,  7.40s/it]"
     ]
    },
    {
     "name": "stdout",
     "output_type": "stream",
     "text": [
      "Chunk 690 saved as data_new_combined/690.csv\n"
     ]
    },
    {
     "name": "stderr",
     "output_type": "stream",
     "text": [
      "Processing Chunks:  91%|█████████ | 691/760 [1:32:33<10:07,  8.80s/it]"
     ]
    },
    {
     "name": "stdout",
     "output_type": "stream",
     "text": [
      "Chunk 691 saved as data_new_combined/691.csv\n"
     ]
    },
    {
     "name": "stderr",
     "output_type": "stream",
     "text": [
      "Processing Chunks:  91%|█████████ | 692/760 [1:32:46<11:35, 10.22s/it]"
     ]
    },
    {
     "name": "stdout",
     "output_type": "stream",
     "text": [
      "Chunk 692 saved as data_new_combined/692.csv\n"
     ]
    },
    {
     "name": "stderr",
     "output_type": "stream",
     "text": [
      "Processing Chunks:  91%|█████████ | 693/760 [1:33:00<12:35, 11.27s/it]"
     ]
    },
    {
     "name": "stdout",
     "output_type": "stream",
     "text": [
      "Chunk 693 saved as data_new_combined/693.csv\n"
     ]
    },
    {
     "name": "stderr",
     "output_type": "stream",
     "text": [
      "Processing Chunks:  91%|█████████▏| 694/760 [1:33:02<09:20,  8.49s/it]"
     ]
    },
    {
     "name": "stdout",
     "output_type": "stream",
     "text": [
      "Chunk 694 saved as data_new_combined/694.csv\n"
     ]
    },
    {
     "name": "stderr",
     "output_type": "stream",
     "text": [
      "Processing Chunks:  91%|█████████▏| 695/760 [1:33:06<07:53,  7.28s/it]"
     ]
    },
    {
     "name": "stdout",
     "output_type": "stream",
     "text": [
      "Chunk 695 saved as data_new_combined/695.csv\n"
     ]
    },
    {
     "name": "stderr",
     "output_type": "stream",
     "text": [
      "Processing Chunks:  92%|█████████▏| 696/760 [1:33:15<08:15,  7.74s/it]"
     ]
    },
    {
     "name": "stdout",
     "output_type": "stream",
     "text": [
      "Chunk 696 saved as data_new_combined/696.csv\n"
     ]
    },
    {
     "name": "stderr",
     "output_type": "stream",
     "text": [
      "Processing Chunks:  92%|█████████▏| 697/760 [1:33:22<07:54,  7.53s/it]"
     ]
    },
    {
     "name": "stdout",
     "output_type": "stream",
     "text": [
      "Chunk 697 saved as data_new_combined/697.csv\n"
     ]
    },
    {
     "name": "stderr",
     "output_type": "stream",
     "text": [
      "Processing Chunks:  92%|█████████▏| 698/760 [1:33:31<08:16,  8.00s/it]"
     ]
    },
    {
     "name": "stdout",
     "output_type": "stream",
     "text": [
      "Chunk 698 saved as data_new_combined/698.csv\n"
     ]
    },
    {
     "name": "stderr",
     "output_type": "stream",
     "text": [
      "Processing Chunks:  92%|█████████▏| 699/760 [1:33:38<07:44,  7.61s/it]"
     ]
    },
    {
     "name": "stdout",
     "output_type": "stream",
     "text": [
      "Chunk 699 saved as data_new_combined/699.csv\n"
     ]
    },
    {
     "name": "stderr",
     "output_type": "stream",
     "text": [
      "Processing Chunks:  92%|█████████▏| 700/760 [1:33:44<07:11,  7.19s/it]"
     ]
    },
    {
     "name": "stdout",
     "output_type": "stream",
     "text": [
      "Chunk 700 saved as data_new_combined/700.csv\n"
     ]
    },
    {
     "name": "stderr",
     "output_type": "stream",
     "text": [
      "Processing Chunks:  92%|█████████▏| 701/760 [1:33:56<08:25,  8.57s/it]"
     ]
    },
    {
     "name": "stdout",
     "output_type": "stream",
     "text": [
      "Chunk 701 saved as data_new_combined/701.csv\n"
     ]
    },
    {
     "name": "stderr",
     "output_type": "stream",
     "text": [
      "Processing Chunks:  92%|█████████▏| 702/760 [1:34:00<06:53,  7.14s/it]"
     ]
    },
    {
     "name": "stdout",
     "output_type": "stream",
     "text": [
      "Chunk 702 saved as data_new_combined/702.csv\n"
     ]
    },
    {
     "name": "stderr",
     "output_type": "stream",
     "text": [
      "Processing Chunks:  92%|█████████▎| 703/760 [1:34:08<07:01,  7.39s/it]"
     ]
    },
    {
     "name": "stdout",
     "output_type": "stream",
     "text": [
      "Chunk 703 saved as data_new_combined/703.csv\n"
     ]
    },
    {
     "name": "stderr",
     "output_type": "stream",
     "text": [
      "Processing Chunks:  93%|█████████▎| 704/760 [1:34:18<07:43,  8.28s/it]"
     ]
    },
    {
     "name": "stdout",
     "output_type": "stream",
     "text": [
      "Chunk 704 saved as data_new_combined/704.csv\n"
     ]
    },
    {
     "name": "stderr",
     "output_type": "stream",
     "text": [
      "Processing Chunks:  93%|█████████▎| 705/760 [1:34:24<06:50,  7.47s/it]"
     ]
    },
    {
     "name": "stdout",
     "output_type": "stream",
     "text": [
      "Chunk 705 saved as data_new_combined/705.csv\n"
     ]
    },
    {
     "name": "stderr",
     "output_type": "stream",
     "text": [
      "Processing Chunks:  93%|█████████▎| 706/760 [1:34:38<08:26,  9.38s/it]"
     ]
    },
    {
     "name": "stdout",
     "output_type": "stream",
     "text": [
      "Chunk 706 saved as data_new_combined/706.csv\n"
     ]
    },
    {
     "name": "stderr",
     "output_type": "stream",
     "text": [
      "Processing Chunks:  93%|█████████▎| 707/760 [1:34:45<07:40,  8.69s/it]"
     ]
    },
    {
     "name": "stdout",
     "output_type": "stream",
     "text": [
      "Chunk 707 saved as data_new_combined/707.csv\n"
     ]
    },
    {
     "name": "stderr",
     "output_type": "stream",
     "text": [
      "Processing Chunks:  93%|█████████▎| 708/760 [1:34:45<05:28,  6.32s/it]"
     ]
    },
    {
     "name": "stdout",
     "output_type": "stream",
     "text": [
      "Chunk 708 saved as data_new_combined/708.csv\n"
     ]
    },
    {
     "name": "stderr",
     "output_type": "stream",
     "text": [
      "Processing Chunks:  93%|█████████▎| 709/760 [1:34:56<06:23,  7.53s/it]"
     ]
    },
    {
     "name": "stdout",
     "output_type": "stream",
     "text": [
      "Chunk 709 saved as data_new_combined/709.csv\n"
     ]
    },
    {
     "name": "stderr",
     "output_type": "stream",
     "text": [
      "Processing Chunks:  93%|█████████▎| 710/760 [1:35:01<05:33,  6.68s/it]"
     ]
    },
    {
     "name": "stdout",
     "output_type": "stream",
     "text": [
      "Chunk 710 saved as data_new_combined/710.csv\n"
     ]
    },
    {
     "name": "stderr",
     "output_type": "stream",
     "text": [
      "Processing Chunks:  94%|█████████▎| 711/760 [1:35:07<05:18,  6.49s/it]"
     ]
    },
    {
     "name": "stdout",
     "output_type": "stream",
     "text": [
      "Chunk 711 saved as data_new_combined/711.csv\n"
     ]
    },
    {
     "name": "stderr",
     "output_type": "stream",
     "text": [
      "Processing Chunks:  94%|█████████▎| 712/760 [1:35:14<05:30,  6.89s/it]"
     ]
    },
    {
     "name": "stdout",
     "output_type": "stream",
     "text": [
      "Chunk 712 saved as data_new_combined/712.csv\n"
     ]
    },
    {
     "name": "stderr",
     "output_type": "stream",
     "text": [
      "Processing Chunks:  94%|█████████▍| 713/760 [1:35:26<06:26,  8.23s/it]"
     ]
    },
    {
     "name": "stdout",
     "output_type": "stream",
     "text": [
      "Chunk 713 saved as data_new_combined/713.csv\n"
     ]
    },
    {
     "name": "stderr",
     "output_type": "stream",
     "text": [
      "Processing Chunks:  94%|█████████▍| 714/760 [1:35:31<05:38,  7.37s/it]"
     ]
    },
    {
     "name": "stdout",
     "output_type": "stream",
     "text": [
      "Chunk 714 saved as data_new_combined/714.csv\n"
     ]
    },
    {
     "name": "stderr",
     "output_type": "stream",
     "text": [
      "Processing Chunks:  94%|█████████▍| 715/760 [1:35:42<06:13,  8.30s/it]"
     ]
    },
    {
     "name": "stdout",
     "output_type": "stream",
     "text": [
      "Chunk 715 saved as data_new_combined/715.csv\n"
     ]
    },
    {
     "name": "stderr",
     "output_type": "stream",
     "text": [
      "Processing Chunks:  94%|█████████▍| 716/760 [1:35:43<04:33,  6.22s/it]"
     ]
    },
    {
     "name": "stdout",
     "output_type": "stream",
     "text": [
      "Chunk 716 saved as data_new_combined/716.csv\n"
     ]
    },
    {
     "name": "stderr",
     "output_type": "stream",
     "text": [
      "Processing Chunks:  94%|█████████▍| 717/760 [1:35:57<06:04,  8.49s/it]"
     ]
    },
    {
     "name": "stdout",
     "output_type": "stream",
     "text": [
      "Chunk 717 saved as data_new_combined/717.csv\n"
     ]
    },
    {
     "name": "stderr",
     "output_type": "stream",
     "text": [
      "Processing Chunks:  94%|█████████▍| 718/760 [1:35:58<04:27,  6.37s/it]"
     ]
    },
    {
     "name": "stdout",
     "output_type": "stream",
     "text": [
      "Chunk 718 saved as data_new_combined/718.csv\n"
     ]
    },
    {
     "name": "stderr",
     "output_type": "stream",
     "text": [
      "Processing Chunks:  95%|█████████▍| 719/760 [1:36:12<05:50,  8.56s/it]"
     ]
    },
    {
     "name": "stdout",
     "output_type": "stream",
     "text": [
      "Chunk 719 saved as data_new_combined/719.csv\n"
     ]
    },
    {
     "name": "stderr",
     "output_type": "stream",
     "text": [
      "Processing Chunks:  95%|█████████▍| 720/760 [1:36:22<05:56,  8.92s/it]"
     ]
    },
    {
     "name": "stdout",
     "output_type": "stream",
     "text": [
      "Chunk 720 saved as data_new_combined/720.csv\n"
     ]
    },
    {
     "name": "stderr",
     "output_type": "stream",
     "text": [
      "Processing Chunks:  95%|█████████▍| 721/760 [1:36:24<04:31,  6.96s/it]"
     ]
    },
    {
     "name": "stdout",
     "output_type": "stream",
     "text": [
      "Chunk 721 saved as data_new_combined/721.csv\n"
     ]
    },
    {
     "name": "stderr",
     "output_type": "stream",
     "text": [
      "Processing Chunks:  95%|█████████▌| 722/760 [1:36:33<04:50,  7.65s/it]"
     ]
    },
    {
     "name": "stdout",
     "output_type": "stream",
     "text": [
      "Chunk 722 saved as data_new_combined/722.csv\n"
     ]
    },
    {
     "name": "stderr",
     "output_type": "stream",
     "text": [
      "Processing Chunks:  95%|█████████▌| 723/760 [1:36:38<04:15,  6.92s/it]"
     ]
    },
    {
     "name": "stdout",
     "output_type": "stream",
     "text": [
      "Chunk 723 saved as data_new_combined/723.csv\n"
     ]
    },
    {
     "name": "stderr",
     "output_type": "stream",
     "text": [
      "Processing Chunks:  95%|█████████▌| 724/760 [1:36:48<04:42,  7.85s/it]"
     ]
    },
    {
     "name": "stdout",
     "output_type": "stream",
     "text": [
      "Chunk 724 saved as data_new_combined/724.csv\n"
     ]
    },
    {
     "name": "stderr",
     "output_type": "stream",
     "text": [
      "Processing Chunks:  95%|█████████▌| 725/760 [1:36:58<04:50,  8.30s/it]"
     ]
    },
    {
     "name": "stdout",
     "output_type": "stream",
     "text": [
      "Chunk 725 saved as data_new_combined/725.csv\n"
     ]
    },
    {
     "name": "stderr",
     "output_type": "stream",
     "text": [
      "Processing Chunks:  96%|█████████▌| 726/760 [1:37:02<04:04,  7.19s/it]"
     ]
    },
    {
     "name": "stdout",
     "output_type": "stream",
     "text": [
      "Chunk 726 saved as data_new_combined/726.csv\n"
     ]
    },
    {
     "name": "stderr",
     "output_type": "stream",
     "text": [
      "Processing Chunks:  96%|█████████▌| 727/760 [1:37:16<05:01,  9.13s/it]"
     ]
    },
    {
     "name": "stdout",
     "output_type": "stream",
     "text": [
      "Chunk 727 saved as data_new_combined/727.csv\n"
     ]
    },
    {
     "name": "stderr",
     "output_type": "stream",
     "text": [
      "Processing Chunks:  96%|█████████▌| 728/760 [1:37:25<04:49,  9.05s/it]"
     ]
    },
    {
     "name": "stdout",
     "output_type": "stream",
     "text": [
      "Chunk 728 saved as data_new_combined/728.csv\n",
      "Chunk 729 saved as data_new_combined/729.csv\n"
     ]
    },
    {
     "name": "stderr",
     "output_type": "stream",
     "text": [
      "Processing Chunks:  96%|█████████▌| 730/760 [1:37:30<03:03,  6.11s/it]"
     ]
    },
    {
     "name": "stdout",
     "output_type": "stream",
     "text": [
      "Chunk 730 saved as data_new_combined/730.csv\n"
     ]
    },
    {
     "name": "stderr",
     "output_type": "stream",
     "text": [
      "Processing Chunks:  96%|█████████▌| 731/760 [1:37:38<03:11,  6.60s/it]"
     ]
    },
    {
     "name": "stdout",
     "output_type": "stream",
     "text": [
      "Chunk 731 saved as data_new_combined/731.csv\n"
     ]
    },
    {
     "name": "stderr",
     "output_type": "stream",
     "text": [
      "Processing Chunks:  96%|█████████▋| 732/760 [1:37:46<03:14,  6.94s/it]"
     ]
    },
    {
     "name": "stdout",
     "output_type": "stream",
     "text": [
      "Chunk 732 saved as data_new_combined/732.csv\n"
     ]
    },
    {
     "name": "stderr",
     "output_type": "stream",
     "text": [
      "Processing Chunks:  96%|█████████▋| 733/760 [1:37:56<03:31,  7.82s/it]"
     ]
    },
    {
     "name": "stdout",
     "output_type": "stream",
     "text": [
      "Chunk 733 saved as data_new_combined/733.csv\n"
     ]
    },
    {
     "name": "stderr",
     "output_type": "stream",
     "text": [
      "Processing Chunks:  97%|█████████▋| 734/760 [1:37:59<02:43,  6.30s/it]"
     ]
    },
    {
     "name": "stdout",
     "output_type": "stream",
     "text": [
      "Chunk 734 saved as data_new_combined/734.csv\n"
     ]
    },
    {
     "name": "stderr",
     "output_type": "stream",
     "text": [
      "Processing Chunks:  97%|█████████▋| 735/760 [1:38:09<03:04,  7.37s/it]"
     ]
    },
    {
     "name": "stdout",
     "output_type": "stream",
     "text": [
      "Chunk 735 saved as data_new_combined/735.csv\n"
     ]
    },
    {
     "name": "stderr",
     "output_type": "stream",
     "text": [
      "Processing Chunks:  97%|█████████▋| 736/760 [1:38:18<03:09,  7.90s/it]"
     ]
    },
    {
     "name": "stdout",
     "output_type": "stream",
     "text": [
      "Chunk 736 saved as data_new_combined/736.csv\n"
     ]
    },
    {
     "name": "stderr",
     "output_type": "stream",
     "text": [
      "Processing Chunks:  97%|█████████▋| 737/760 [1:38:23<02:40,  6.98s/it]"
     ]
    },
    {
     "name": "stdout",
     "output_type": "stream",
     "text": [
      "Chunk 737 saved as data_new_combined/737.csv\n"
     ]
    },
    {
     "name": "stderr",
     "output_type": "stream",
     "text": [
      "Processing Chunks:  97%|█████████▋| 738/760 [1:38:35<03:05,  8.43s/it]"
     ]
    },
    {
     "name": "stdout",
     "output_type": "stream",
     "text": [
      "Chunk 738 saved as data_new_combined/738.csv\n"
     ]
    },
    {
     "name": "stderr",
     "output_type": "stream",
     "text": [
      "Processing Chunks:  97%|█████████▋| 739/760 [1:38:40<02:34,  7.37s/it]"
     ]
    },
    {
     "name": "stdout",
     "output_type": "stream",
     "text": [
      "Chunk 739 saved as data_new_combined/739.csv\n"
     ]
    },
    {
     "name": "stderr",
     "output_type": "stream",
     "text": [
      "Processing Chunks:  97%|█████████▋| 740/760 [1:38:50<02:44,  8.21s/it]"
     ]
    },
    {
     "name": "stdout",
     "output_type": "stream",
     "text": [
      "Chunk 740 saved as data_new_combined/740.csv\n"
     ]
    },
    {
     "name": "stderr",
     "output_type": "stream",
     "text": [
      "Processing Chunks:  98%|█████████▊| 741/760 [1:38:59<02:43,  8.59s/it]"
     ]
    },
    {
     "name": "stdout",
     "output_type": "stream",
     "text": [
      "Chunk 741 saved as data_new_combined/741.csv\n"
     ]
    },
    {
     "name": "stderr",
     "output_type": "stream",
     "text": [
      "Processing Chunks:  98%|█████████▊| 742/760 [1:39:09<02:39,  8.84s/it]"
     ]
    },
    {
     "name": "stdout",
     "output_type": "stream",
     "text": [
      "Chunk 742 saved as data_new_combined/742.csv\n"
     ]
    },
    {
     "name": "stderr",
     "output_type": "stream",
     "text": [
      "Processing Chunks:  98%|█████████▊| 743/760 [1:39:13<02:06,  7.46s/it]"
     ]
    },
    {
     "name": "stdout",
     "output_type": "stream",
     "text": [
      "Chunk 743 saved as data_new_combined/743.csv\n"
     ]
    },
    {
     "name": "stderr",
     "output_type": "stream",
     "text": [
      "Processing Chunks:  98%|█████████▊| 744/760 [1:39:27<02:29,  9.34s/it]"
     ]
    },
    {
     "name": "stdout",
     "output_type": "stream",
     "text": [
      "Chunk 744 saved as data_new_combined/744.csv\n"
     ]
    },
    {
     "name": "stderr",
     "output_type": "stream",
     "text": [
      "Processing Chunks:  98%|█████████▊| 745/760 [1:39:33<02:05,  8.35s/it]"
     ]
    },
    {
     "name": "stdout",
     "output_type": "stream",
     "text": [
      "Chunk 745 saved as data_new_combined/745.csv\n"
     ]
    },
    {
     "name": "stderr",
     "output_type": "stream",
     "text": [
      "Processing Chunks:  98%|█████████▊| 746/760 [1:39:40<01:51,  7.95s/it]"
     ]
    },
    {
     "name": "stdout",
     "output_type": "stream",
     "text": [
      "Chunk 746 saved as data_new_combined/746.csv\n"
     ]
    },
    {
     "name": "stderr",
     "output_type": "stream",
     "text": [
      "Processing Chunks:  98%|█████████▊| 747/760 [1:39:53<02:06,  9.70s/it]"
     ]
    },
    {
     "name": "stdout",
     "output_type": "stream",
     "text": [
      "Chunk 747 saved as data_new_combined/747.csv\n"
     ]
    },
    {
     "name": "stderr",
     "output_type": "stream",
     "text": [
      "Processing Chunks:  98%|█████████▊| 748/760 [1:40:05<02:01, 10.14s/it]"
     ]
    },
    {
     "name": "stdout",
     "output_type": "stream",
     "text": [
      "Chunk 748 saved as data_new_combined/748.csv\n"
     ]
    },
    {
     "name": "stderr",
     "output_type": "stream",
     "text": [
      "Processing Chunks:  99%|█████████▊| 749/760 [1:40:07<01:25,  7.81s/it]"
     ]
    },
    {
     "name": "stdout",
     "output_type": "stream",
     "text": [
      "Chunk 749 saved as data_new_combined/749.csv\n"
     ]
    },
    {
     "name": "stderr",
     "output_type": "stream",
     "text": [
      "Processing Chunks:  99%|█████████▊| 750/760 [1:40:21<01:36,  9.60s/it]"
     ]
    },
    {
     "name": "stdout",
     "output_type": "stream",
     "text": [
      "Chunk 750 saved as data_new_combined/750.csv\n"
     ]
    },
    {
     "name": "stderr",
     "output_type": "stream",
     "text": [
      "Processing Chunks:  99%|█████████▉| 751/760 [1:40:27<01:16,  8.50s/it]"
     ]
    },
    {
     "name": "stdout",
     "output_type": "stream",
     "text": [
      "Chunk 751 saved as data_new_combined/751.csv\n"
     ]
    },
    {
     "name": "stderr",
     "output_type": "stream",
     "text": [
      "Processing Chunks:  99%|█████████▉| 752/760 [1:40:37<01:11,  8.99s/it]"
     ]
    },
    {
     "name": "stdout",
     "output_type": "stream",
     "text": [
      "Chunk 752 saved as data_new_combined/752.csv\n"
     ]
    },
    {
     "name": "stderr",
     "output_type": "stream",
     "text": [
      "Processing Chunks:  99%|█████████▉| 753/760 [1:40:46<01:03,  9.02s/it]"
     ]
    },
    {
     "name": "stdout",
     "output_type": "stream",
     "text": [
      "Chunk 753 saved as data_new_combined/753.csv\n"
     ]
    },
    {
     "name": "stderr",
     "output_type": "stream",
     "text": [
      "Processing Chunks:  99%|█████████▉| 754/760 [1:40:54<00:51,  8.63s/it]"
     ]
    },
    {
     "name": "stdout",
     "output_type": "stream",
     "text": [
      "Chunk 754 saved as data_new_combined/754.csv\n"
     ]
    },
    {
     "name": "stderr",
     "output_type": "stream",
     "text": [
      "Processing Chunks:  99%|█████████▉| 755/760 [1:41:00<00:40,  8.05s/it]"
     ]
    },
    {
     "name": "stdout",
     "output_type": "stream",
     "text": [
      "Chunk 755 saved as data_new_combined/755.csv\n"
     ]
    },
    {
     "name": "stderr",
     "output_type": "stream",
     "text": [
      "Processing Chunks:  99%|█████████▉| 756/760 [1:41:09<00:32,  8.13s/it]"
     ]
    },
    {
     "name": "stdout",
     "output_type": "stream",
     "text": [
      "Chunk 756 saved as data_new_combined/756.csv\n"
     ]
    },
    {
     "name": "stderr",
     "output_type": "stream",
     "text": [
      "Processing Chunks: 100%|█████████▉| 757/760 [1:41:14<00:21,  7.19s/it]"
     ]
    },
    {
     "name": "stdout",
     "output_type": "stream",
     "text": [
      "Chunk 757 saved as data_new_combined/757.csv\n"
     ]
    },
    {
     "name": "stderr",
     "output_type": "stream",
     "text": [
      "Processing Chunks: 100%|█████████▉| 758/760 [1:41:22<00:15,  7.51s/it]"
     ]
    },
    {
     "name": "stdout",
     "output_type": "stream",
     "text": [
      "Chunk 758 saved as data_new_combined/758.csv\n"
     ]
    },
    {
     "name": "stderr",
     "output_type": "stream",
     "text": [
      "Processing Chunks: 100%|█████████▉| 759/760 [1:41:27<00:06,  6.91s/it]"
     ]
    },
    {
     "name": "stdout",
     "output_type": "stream",
     "text": [
      "Chunk 759 saved as data_new_combined/759.csv\n"
     ]
    },
    {
     "name": "stderr",
     "output_type": "stream",
     "text": [
      "Processing Chunks: 100%|██████████| 760/760 [1:41:33<00:00,  8.02s/it]"
     ]
    },
    {
     "name": "stdout",
     "output_type": "stream",
     "text": [
      "Chunk 760 saved as data_new_combined/760.csv\n"
     ]
    },
    {
     "name": "stderr",
     "output_type": "stream",
     "text": [
      "\n"
     ]
    },
    {
     "name": "stdout",
     "output_type": "stream",
     "text": [
      "Final complete file saved as data_new_combined/complete_file.csv\n"
     ]
    }
   ],
   "source": [
    "# Read CSV file\n",
    "model_test.to(device)\n",
    "df = pd.read_csv(\"updated_filtered_atlanta_restaurant_reviews.csv\")\n",
    "# Define a function to predict label\n",
    "def predict_label(text):\n",
    "    if pd.isna(text) or not isinstance(text, str):  # Check for non-text cells\n",
    "        return 0  # Mark as real if it's not text\n",
    "    tokens = tokenizer.encode_plus(\n",
    "        text,\n",
    "        max_length=MAX_LENGTH,\n",
    "        padding='max_length',  # Updated padding argument\n",
    "        truncation=True,\n",
    "        return_tensors=\"pt\"\n",
    "    )\n",
    "    seq = tokens['input_ids'].to(device)\n",
    "    mask = tokens['attention_mask'].to(device)\n",
    "\n",
    "    with torch.no_grad():\n",
    "        preds = model_test(seq, mask)\n",
    "        preds = preds[0] if isinstance(preds, tuple) else preds\n",
    "    return np.argmax(preds.cpu().numpy(), axis=1)[0]\n",
    "\n",
    "# Split dataframe into chunks\n",
    "chunk_size = 1000\n",
    "chunks = np.array_split(df, len(df) // chunk_size)\n",
    "\n",
    "# # Create 'data' directory if it doesn't exist\n",
    "data_directory = \"data_new_combined\"\n",
    "if not os.path.exists(data_directory):\n",
    "    os.makedirs(data_directory)\n",
    "\n",
    "# # List to hold processed chunks for final file\n",
    "processed_chunks = []\n",
    "\n",
    "# Process each chunk and save\n",
    "for i, chunk in enumerate(tqdm(chunks, desc=\"Processing Chunks\"), start=1):\n",
    "    processed_chunk = chunk.copy()\n",
    "    processed_chunk['predicted_label'] = processed_chunk['text'].apply(predict_label)\n",
    "\n",
    "    # Generate a filename using only the chunk number\n",
    "    filename = os.path.join(data_directory, f\"{i}.csv\")\n",
    "\n",
    "    # Save processed chunk to CSV in the 'data' directory\n",
    "    processed_chunk.to_csv(filename, index=False)\n",
    "\n",
    "    # Append the processed chunk to the list\n",
    "    processed_chunks.append(processed_chunk)\n",
    "\n",
    "    print(f\"Chunk {i} saved as {filename}\")\n",
    "\n",
    "# Concatenate all processed chunks\n",
    "final_df = pd.concat(processed_chunks)\n",
    "\n",
    "# Save the final complete file\n",
    "final_filename = os.path.join(data_directory, \"complete_file.csv\")\n",
    "final_df.to_csv(final_filename, index=False)\n",
    "\n",
    "print(f\"Final complete file saved as {final_filename}\")\n",
    "\n",
    "# # Split dataframe into chunks\n",
    "# chunk_size = 1000\n",
    "# chunks = np.array_split(df, len(df) // chunk_size)\n",
    "\n",
    "# # Ensure 'data' directory exists\n",
    "# data_directory = \"data_new\"\n",
    "# if not os.path.exists(data_directory):\n",
    "#     os.makedirs(data_directory)\n",
    "\n",
    "# # List to hold newly processed chunks\n",
    "# processed_chunks = []\n",
    "\n",
    "# # Start processing from chunk 407 (index 406)\n",
    "# start_chunk_index = 406\n",
    "# for i, chunk in enumerate(tqdm(chunks[start_chunk_index:], desc=\"Processing Chunks\"), start=start_chunk_index + 1):\n",
    "#     processed_chunk = chunk.copy()\n",
    "#     processed_chunk['predicted_label'] = processed_chunk['text'].apply(predict_label)\n",
    "\n",
    "#     filename = os.path.join(data_directory, f\"{i}.csv\")\n",
    "#     if not os.path.exists(filename):\n",
    "#         processed_chunk.to_csv(filename, index=False)\n",
    "#         print(f\"Chunk {i} saved as {filename}\")\n",
    "#         processed_chunks.append(processed_chunk)\n",
    "#     else:\n",
    "#         print(f\"Chunk {i} already processed. Skipping.\")\n",
    "\n",
    "# # Concatenate all newly processed chunks with previously processed ones\n",
    "# new_processed_chunks = pd.concat(processed_chunks)\n",
    "# existing_processed_chunks = pd.concat([pd.read_csv(os.path.join(data_directory, f\"{j}.csv\")) for j in range(1, start_chunk_index + 1)])\n",
    "# final_df = pd.concat([existing_processed_chunks, new_processed_chunks])\n",
    "\n",
    "# # Save the final complete file\n",
    "# final_filename = os.path.join(data_directory, \"complete_file.csv\")\n",
    "# final_df.to_csv(final_filename, index=False)\n",
    "\n",
    "# print(f\"Final complete file saved as {final_filename}\")"
   ]
  }
 ],
 "metadata": {
  "accelerator": "GPU",
  "colab": {
   "collapsed_sections": [
    "Ar3qNZz0MiGk",
    "Zj5h7QbnZC0t",
    "HIkcURDhz2R0",
    "H1G4xtl7dXBD",
    "VkHiWeqop3Q_",
    "XAJPyGH4zaRZ",
    "LGFpP494zgLh",
    "IARpecoUzloO",
    "Qp7jw9a6qiPt"
   ],
   "gpuType": "V100",
   "machine_shape": "hm",
   "provenance": [
    {
     "file_id": "1Ui6B2rToJMqpzACJqYG8D7pMpG0vdDgK",
     "timestamp": 1662535690096
    }
   ]
  },
  "kernelspec": {
   "display_name": "Python 3 (ipykernel)",
   "language": "python",
   "name": "python3"
  },
  "language_info": {
   "codemirror_mode": {
    "name": "ipython",
    "version": 3
   },
   "file_extension": ".py",
   "mimetype": "text/x-python",
   "name": "python",
   "nbconvert_exporter": "python",
   "pygments_lexer": "ipython3",
   "version": "3.10.9"
  },
  "widgets": {
   "application/vnd.jupyter.widget-state+json": {
    "00088238c77b4c88b49cec90ea1e5087": {
     "model_module": "@jupyter-widgets/controls",
     "model_module_version": "1.5.0",
     "model_name": "DescriptionStyleModel",
     "state": {
      "_model_module": "@jupyter-widgets/controls",
      "_model_module_version": "1.5.0",
      "_model_name": "DescriptionStyleModel",
      "_view_count": null,
      "_view_module": "@jupyter-widgets/base",
      "_view_module_version": "1.2.0",
      "_view_name": "StyleView",
      "description_width": ""
     }
    },
    "012237dd69824991b8e9755e034790b8": {
     "model_module": "@jupyter-widgets/base",
     "model_module_version": "1.2.0",
     "model_name": "LayoutModel",
     "state": {
      "_model_module": "@jupyter-widgets/base",
      "_model_module_version": "1.2.0",
      "_model_name": "LayoutModel",
      "_view_count": null,
      "_view_module": "@jupyter-widgets/base",
      "_view_module_version": "1.2.0",
      "_view_name": "LayoutView",
      "align_content": null,
      "align_items": null,
      "align_self": null,
      "border": null,
      "bottom": null,
      "display": null,
      "flex": null,
      "flex_flow": null,
      "grid_area": null,
      "grid_auto_columns": null,
      "grid_auto_flow": null,
      "grid_auto_rows": null,
      "grid_column": null,
      "grid_gap": null,
      "grid_row": null,
      "grid_template_areas": null,
      "grid_template_columns": null,
      "grid_template_rows": null,
      "height": null,
      "justify_content": null,
      "justify_items": null,
      "left": null,
      "margin": null,
      "max_height": null,
      "max_width": null,
      "min_height": null,
      "min_width": null,
      "object_fit": null,
      "object_position": null,
      "order": null,
      "overflow": null,
      "overflow_x": null,
      "overflow_y": null,
      "padding": null,
      "right": null,
      "top": null,
      "visibility": null,
      "width": null
     }
    },
    "04748b4849ac4bc5abbca7c35c034692": {
     "model_module": "@jupyter-widgets/controls",
     "model_module_version": "1.5.0",
     "model_name": "FloatProgressModel",
     "state": {
      "_dom_classes": [],
      "_model_module": "@jupyter-widgets/controls",
      "_model_module_version": "1.5.0",
      "_model_name": "FloatProgressModel",
      "_view_count": null,
      "_view_module": "@jupyter-widgets/controls",
      "_view_module_version": "1.5.0",
      "_view_name": "ProgressView",
      "bar_style": "success",
      "description": "",
      "description_tooltip": null,
      "layout": "IPY_MODEL_5a5b914a0daa42ffa165c8d914a78b38",
      "max": 440449768,
      "min": 0,
      "orientation": "horizontal",
      "style": "IPY_MODEL_140fe9e2b173419fa8b3b6d44ba399b3",
      "value": 440449768
     }
    },
    "0e941067bd334f769e34e764bbf30c80": {
     "model_module": "@jupyter-widgets/base",
     "model_module_version": "1.2.0",
     "model_name": "LayoutModel",
     "state": {
      "_model_module": "@jupyter-widgets/base",
      "_model_module_version": "1.2.0",
      "_model_name": "LayoutModel",
      "_view_count": null,
      "_view_module": "@jupyter-widgets/base",
      "_view_module_version": "1.2.0",
      "_view_name": "LayoutView",
      "align_content": null,
      "align_items": null,
      "align_self": null,
      "border": null,
      "bottom": null,
      "display": null,
      "flex": null,
      "flex_flow": null,
      "grid_area": null,
      "grid_auto_columns": null,
      "grid_auto_flow": null,
      "grid_auto_rows": null,
      "grid_column": null,
      "grid_gap": null,
      "grid_row": null,
      "grid_template_areas": null,
      "grid_template_columns": null,
      "grid_template_rows": null,
      "height": null,
      "justify_content": null,
      "justify_items": null,
      "left": null,
      "margin": null,
      "max_height": null,
      "max_width": null,
      "min_height": null,
      "min_width": null,
      "object_fit": null,
      "object_position": null,
      "order": null,
      "overflow": null,
      "overflow_x": null,
      "overflow_y": null,
      "padding": null,
      "right": null,
      "top": null,
      "visibility": null,
      "width": null
     }
    },
    "10282c0cf6e740f0ba85b42695d22fca": {
     "model_module": "@jupyter-widgets/controls",
     "model_module_version": "1.5.0",
     "model_name": "DescriptionStyleModel",
     "state": {
      "_model_module": "@jupyter-widgets/controls",
      "_model_module_version": "1.5.0",
      "_model_name": "DescriptionStyleModel",
      "_view_count": null,
      "_view_module": "@jupyter-widgets/base",
      "_view_module_version": "1.2.0",
      "_view_name": "StyleView",
      "description_width": ""
     }
    },
    "10c1709b2ee5465aa42d38b04f23471b": {
     "model_module": "@jupyter-widgets/base",
     "model_module_version": "1.2.0",
     "model_name": "LayoutModel",
     "state": {
      "_model_module": "@jupyter-widgets/base",
      "_model_module_version": "1.2.0",
      "_model_name": "LayoutModel",
      "_view_count": null,
      "_view_module": "@jupyter-widgets/base",
      "_view_module_version": "1.2.0",
      "_view_name": "LayoutView",
      "align_content": null,
      "align_items": null,
      "align_self": null,
      "border": null,
      "bottom": null,
      "display": null,
      "flex": null,
      "flex_flow": null,
      "grid_area": null,
      "grid_auto_columns": null,
      "grid_auto_flow": null,
      "grid_auto_rows": null,
      "grid_column": null,
      "grid_gap": null,
      "grid_row": null,
      "grid_template_areas": null,
      "grid_template_columns": null,
      "grid_template_rows": null,
      "height": null,
      "justify_content": null,
      "justify_items": null,
      "left": null,
      "margin": null,
      "max_height": null,
      "max_width": null,
      "min_height": null,
      "min_width": null,
      "object_fit": null,
      "object_position": null,
      "order": null,
      "overflow": null,
      "overflow_x": null,
      "overflow_y": null,
      "padding": null,
      "right": null,
      "top": null,
      "visibility": null,
      "width": null
     }
    },
    "13ab3bbf809e4d67933129e8f7db08bb": {
     "model_module": "@jupyter-widgets/controls",
     "model_module_version": "1.5.0",
     "model_name": "DescriptionStyleModel",
     "state": {
      "_model_module": "@jupyter-widgets/controls",
      "_model_module_version": "1.5.0",
      "_model_name": "DescriptionStyleModel",
      "_view_count": null,
      "_view_module": "@jupyter-widgets/base",
      "_view_module_version": "1.2.0",
      "_view_name": "StyleView",
      "description_width": ""
     }
    },
    "140fe9e2b173419fa8b3b6d44ba399b3": {
     "model_module": "@jupyter-widgets/controls",
     "model_module_version": "1.5.0",
     "model_name": "ProgressStyleModel",
     "state": {
      "_model_module": "@jupyter-widgets/controls",
      "_model_module_version": "1.5.0",
      "_model_name": "ProgressStyleModel",
      "_view_count": null,
      "_view_module": "@jupyter-widgets/base",
      "_view_module_version": "1.2.0",
      "_view_name": "StyleView",
      "bar_color": null,
      "description_width": ""
     }
    },
    "14e24effd855459d9fb085b5b8bd0a2e": {
     "model_module": "@jupyter-widgets/controls",
     "model_module_version": "1.5.0",
     "model_name": "DescriptionStyleModel",
     "state": {
      "_model_module": "@jupyter-widgets/controls",
      "_model_module_version": "1.5.0",
      "_model_name": "DescriptionStyleModel",
      "_view_count": null,
      "_view_module": "@jupyter-widgets/base",
      "_view_module_version": "1.2.0",
      "_view_name": "StyleView",
      "description_width": ""
     }
    },
    "15e053b08aa84e5ba41f016b25ef8009": {
     "model_module": "@jupyter-widgets/controls",
     "model_module_version": "1.5.0",
     "model_name": "ProgressStyleModel",
     "state": {
      "_model_module": "@jupyter-widgets/controls",
      "_model_module_version": "1.5.0",
      "_model_name": "ProgressStyleModel",
      "_view_count": null,
      "_view_module": "@jupyter-widgets/base",
      "_view_module_version": "1.2.0",
      "_view_name": "StyleView",
      "bar_color": null,
      "description_width": ""
     }
    },
    "1935fa5d44184f7fbf7af5845f6a6e76": {
     "model_module": "@jupyter-widgets/controls",
     "model_module_version": "1.5.0",
     "model_name": "ProgressStyleModel",
     "state": {
      "_model_module": "@jupyter-widgets/controls",
      "_model_module_version": "1.5.0",
      "_model_name": "ProgressStyleModel",
      "_view_count": null,
      "_view_module": "@jupyter-widgets/base",
      "_view_module_version": "1.2.0",
      "_view_name": "StyleView",
      "bar_color": null,
      "description_width": ""
     }
    },
    "1cdf108be3d9401799219a1bd5829a50": {
     "model_module": "@jupyter-widgets/base",
     "model_module_version": "1.2.0",
     "model_name": "LayoutModel",
     "state": {
      "_model_module": "@jupyter-widgets/base",
      "_model_module_version": "1.2.0",
      "_model_name": "LayoutModel",
      "_view_count": null,
      "_view_module": "@jupyter-widgets/base",
      "_view_module_version": "1.2.0",
      "_view_name": "LayoutView",
      "align_content": null,
      "align_items": null,
      "align_self": null,
      "border": null,
      "bottom": null,
      "display": null,
      "flex": null,
      "flex_flow": null,
      "grid_area": null,
      "grid_auto_columns": null,
      "grid_auto_flow": null,
      "grid_auto_rows": null,
      "grid_column": null,
      "grid_gap": null,
      "grid_row": null,
      "grid_template_areas": null,
      "grid_template_columns": null,
      "grid_template_rows": null,
      "height": null,
      "justify_content": null,
      "justify_items": null,
      "left": null,
      "margin": null,
      "max_height": null,
      "max_width": null,
      "min_height": null,
      "min_width": null,
      "object_fit": null,
      "object_position": null,
      "order": null,
      "overflow": null,
      "overflow_x": null,
      "overflow_y": null,
      "padding": null,
      "right": null,
      "top": null,
      "visibility": null,
      "width": null
     }
    },
    "24e6be0de3184643b1958a2529ba3383": {
     "model_module": "@jupyter-widgets/controls",
     "model_module_version": "1.5.0",
     "model_name": "FloatProgressModel",
     "state": {
      "_dom_classes": [],
      "_model_module": "@jupyter-widgets/controls",
      "_model_module_version": "1.5.0",
      "_model_name": "FloatProgressModel",
      "_view_count": null,
      "_view_module": "@jupyter-widgets/controls",
      "_view_module_version": "1.5.0",
      "_view_name": "ProgressView",
      "bar_style": "success",
      "description": "",
      "description_tooltip": null,
      "layout": "IPY_MODEL_f958c13be4c64ab5bcbfac343e6c769f",
      "max": 570,
      "min": 0,
      "orientation": "horizontal",
      "style": "IPY_MODEL_1935fa5d44184f7fbf7af5845f6a6e76",
      "value": 570
     }
    },
    "278ba9a56fc449239b5921cc8c10acf0": {
     "model_module": "@jupyter-widgets/base",
     "model_module_version": "1.2.0",
     "model_name": "LayoutModel",
     "state": {
      "_model_module": "@jupyter-widgets/base",
      "_model_module_version": "1.2.0",
      "_model_name": "LayoutModel",
      "_view_count": null,
      "_view_module": "@jupyter-widgets/base",
      "_view_module_version": "1.2.0",
      "_view_name": "LayoutView",
      "align_content": null,
      "align_items": null,
      "align_self": null,
      "border": null,
      "bottom": null,
      "display": null,
      "flex": null,
      "flex_flow": null,
      "grid_area": null,
      "grid_auto_columns": null,
      "grid_auto_flow": null,
      "grid_auto_rows": null,
      "grid_column": null,
      "grid_gap": null,
      "grid_row": null,
      "grid_template_areas": null,
      "grid_template_columns": null,
      "grid_template_rows": null,
      "height": null,
      "justify_content": null,
      "justify_items": null,
      "left": null,
      "margin": null,
      "max_height": null,
      "max_width": null,
      "min_height": null,
      "min_width": null,
      "object_fit": null,
      "object_position": null,
      "order": null,
      "overflow": null,
      "overflow_x": null,
      "overflow_y": null,
      "padding": null,
      "right": null,
      "top": null,
      "visibility": null,
      "width": null
     }
    },
    "28476ca311644436943f8d47e210ba9a": {
     "model_module": "@jupyter-widgets/controls",
     "model_module_version": "1.5.0",
     "model_name": "HTMLModel",
     "state": {
      "_dom_classes": [],
      "_model_module": "@jupyter-widgets/controls",
      "_model_module_version": "1.5.0",
      "_model_name": "HTMLModel",
      "_view_count": null,
      "_view_module": "@jupyter-widgets/controls",
      "_view_module_version": "1.5.0",
      "_view_name": "HTMLView",
      "description": "",
      "description_tooltip": null,
      "layout": "IPY_MODEL_278ba9a56fc449239b5921cc8c10acf0",
      "placeholder": "​",
      "style": "IPY_MODEL_10282c0cf6e740f0ba85b42695d22fca",
      "value": " 232k/232k [00:00&lt;00:00, 1.40MB/s]"
     }
    },
    "294f9d3401784b8e84cf44556484cab8": {
     "model_module": "@jupyter-widgets/controls",
     "model_module_version": "1.5.0",
     "model_name": "DescriptionStyleModel",
     "state": {
      "_model_module": "@jupyter-widgets/controls",
      "_model_module_version": "1.5.0",
      "_model_name": "DescriptionStyleModel",
      "_view_count": null,
      "_view_module": "@jupyter-widgets/base",
      "_view_module_version": "1.2.0",
      "_view_name": "StyleView",
      "description_width": ""
     }
    },
    "30d6bbb0af2c4d5480e5e39a49332c35": {
     "model_module": "@jupyter-widgets/controls",
     "model_module_version": "1.5.0",
     "model_name": "HTMLModel",
     "state": {
      "_dom_classes": [],
      "_model_module": "@jupyter-widgets/controls",
      "_model_module_version": "1.5.0",
      "_model_name": "HTMLModel",
      "_view_count": null,
      "_view_module": "@jupyter-widgets/controls",
      "_view_module_version": "1.5.0",
      "_view_name": "HTMLView",
      "description": "",
      "description_tooltip": null,
      "layout": "IPY_MODEL_4e3e269c4c9d430d998ce0c18a6e5785",
      "placeholder": "​",
      "style": "IPY_MODEL_ca9819dd74834440873f56bef93ec13a",
      "value": "(…)rt-base-uncased/resolve/main/config.json: 100%"
     }
    },
    "3b3dea54897b4f02b25737dc79981471": {
     "model_module": "@jupyter-widgets/base",
     "model_module_version": "1.2.0",
     "model_name": "LayoutModel",
     "state": {
      "_model_module": "@jupyter-widgets/base",
      "_model_module_version": "1.2.0",
      "_model_name": "LayoutModel",
      "_view_count": null,
      "_view_module": "@jupyter-widgets/base",
      "_view_module_version": "1.2.0",
      "_view_name": "LayoutView",
      "align_content": null,
      "align_items": null,
      "align_self": null,
      "border": null,
      "bottom": null,
      "display": null,
      "flex": null,
      "flex_flow": null,
      "grid_area": null,
      "grid_auto_columns": null,
      "grid_auto_flow": null,
      "grid_auto_rows": null,
      "grid_column": null,
      "grid_gap": null,
      "grid_row": null,
      "grid_template_areas": null,
      "grid_template_columns": null,
      "grid_template_rows": null,
      "height": null,
      "justify_content": null,
      "justify_items": null,
      "left": null,
      "margin": null,
      "max_height": null,
      "max_width": null,
      "min_height": null,
      "min_width": null,
      "object_fit": null,
      "object_position": null,
      "order": null,
      "overflow": null,
      "overflow_x": null,
      "overflow_y": null,
      "padding": null,
      "right": null,
      "top": null,
      "visibility": null,
      "width": null
     }
    },
    "449c85d40e23411fb0c18da12555984b": {
     "model_module": "@jupyter-widgets/controls",
     "model_module_version": "1.5.0",
     "model_name": "FloatProgressModel",
     "state": {
      "_dom_classes": [],
      "_model_module": "@jupyter-widgets/controls",
      "_model_module_version": "1.5.0",
      "_model_name": "FloatProgressModel",
      "_view_count": null,
      "_view_module": "@jupyter-widgets/controls",
      "_view_module_version": "1.5.0",
      "_view_name": "ProgressView",
      "bar_style": "success",
      "description": "",
      "description_tooltip": null,
      "layout": "IPY_MODEL_0e941067bd334f769e34e764bbf30c80",
      "max": 28,
      "min": 0,
      "orientation": "horizontal",
      "style": "IPY_MODEL_875cc0d3ef464cb698402cc1cece3b72",
      "value": 28
     }
    },
    "46734effa5794bdfb0a3525d877a46be": {
     "model_module": "@jupyter-widgets/controls",
     "model_module_version": "1.5.0",
     "model_name": "HBoxModel",
     "state": {
      "_dom_classes": [],
      "_model_module": "@jupyter-widgets/controls",
      "_model_module_version": "1.5.0",
      "_model_name": "HBoxModel",
      "_view_count": null,
      "_view_module": "@jupyter-widgets/controls",
      "_view_module_version": "1.5.0",
      "_view_name": "HBoxView",
      "box_style": "",
      "children": [
       "IPY_MODEL_f7bc5f466629451a90329b52676dde50",
       "IPY_MODEL_7e20d8668d174030b45be56f5fcea6c3",
       "IPY_MODEL_d484325e59534ed78c6df6f38ab4586c"
      ],
      "layout": "IPY_MODEL_10c1709b2ee5465aa42d38b04f23471b"
     }
    },
    "4e3e269c4c9d430d998ce0c18a6e5785": {
     "model_module": "@jupyter-widgets/base",
     "model_module_version": "1.2.0",
     "model_name": "LayoutModel",
     "state": {
      "_model_module": "@jupyter-widgets/base",
      "_model_module_version": "1.2.0",
      "_model_name": "LayoutModel",
      "_view_count": null,
      "_view_module": "@jupyter-widgets/base",
      "_view_module_version": "1.2.0",
      "_view_name": "LayoutView",
      "align_content": null,
      "align_items": null,
      "align_self": null,
      "border": null,
      "bottom": null,
      "display": null,
      "flex": null,
      "flex_flow": null,
      "grid_area": null,
      "grid_auto_columns": null,
      "grid_auto_flow": null,
      "grid_auto_rows": null,
      "grid_column": null,
      "grid_gap": null,
      "grid_row": null,
      "grid_template_areas": null,
      "grid_template_columns": null,
      "grid_template_rows": null,
      "height": null,
      "justify_content": null,
      "justify_items": null,
      "left": null,
      "margin": null,
      "max_height": null,
      "max_width": null,
      "min_height": null,
      "min_width": null,
      "object_fit": null,
      "object_position": null,
      "order": null,
      "overflow": null,
      "overflow_x": null,
      "overflow_y": null,
      "padding": null,
      "right": null,
      "top": null,
      "visibility": null,
      "width": null
     }
    },
    "5194e63e6fee42bcba2476d122a1ef47": {
     "model_module": "@jupyter-widgets/controls",
     "model_module_version": "1.5.0",
     "model_name": "HBoxModel",
     "state": {
      "_dom_classes": [],
      "_model_module": "@jupyter-widgets/controls",
      "_model_module_version": "1.5.0",
      "_model_name": "HBoxModel",
      "_view_count": null,
      "_view_module": "@jupyter-widgets/controls",
      "_view_module_version": "1.5.0",
      "_view_name": "HBoxView",
      "box_style": "",
      "children": [
       "IPY_MODEL_bc807b3f60ba4a64897fd0a7c879368e",
       "IPY_MODEL_7a74b4bfa74c47bb99302f4d85729c3e",
       "IPY_MODEL_28476ca311644436943f8d47e210ba9a"
      ],
      "layout": "IPY_MODEL_7aa4ceef727b4cc5b2054e96e02ad1e9"
     }
    },
    "5a5b914a0daa42ffa165c8d914a78b38": {
     "model_module": "@jupyter-widgets/base",
     "model_module_version": "1.2.0",
     "model_name": "LayoutModel",
     "state": {
      "_model_module": "@jupyter-widgets/base",
      "_model_module_version": "1.2.0",
      "_model_name": "LayoutModel",
      "_view_count": null,
      "_view_module": "@jupyter-widgets/base",
      "_view_module_version": "1.2.0",
      "_view_name": "LayoutView",
      "align_content": null,
      "align_items": null,
      "align_self": null,
      "border": null,
      "bottom": null,
      "display": null,
      "flex": null,
      "flex_flow": null,
      "grid_area": null,
      "grid_auto_columns": null,
      "grid_auto_flow": null,
      "grid_auto_rows": null,
      "grid_column": null,
      "grid_gap": null,
      "grid_row": null,
      "grid_template_areas": null,
      "grid_template_columns": null,
      "grid_template_rows": null,
      "height": null,
      "justify_content": null,
      "justify_items": null,
      "left": null,
      "margin": null,
      "max_height": null,
      "max_width": null,
      "min_height": null,
      "min_width": null,
      "object_fit": null,
      "object_position": null,
      "order": null,
      "overflow": null,
      "overflow_x": null,
      "overflow_y": null,
      "padding": null,
      "right": null,
      "top": null,
      "visibility": null,
      "width": null
     }
    },
    "5f8334face55441f8353bf5cc97f4ea6": {
     "model_module": "@jupyter-widgets/base",
     "model_module_version": "1.2.0",
     "model_name": "LayoutModel",
     "state": {
      "_model_module": "@jupyter-widgets/base",
      "_model_module_version": "1.2.0",
      "_model_name": "LayoutModel",
      "_view_count": null,
      "_view_module": "@jupyter-widgets/base",
      "_view_module_version": "1.2.0",
      "_view_name": "LayoutView",
      "align_content": null,
      "align_items": null,
      "align_self": null,
      "border": null,
      "bottom": null,
      "display": null,
      "flex": null,
      "flex_flow": null,
      "grid_area": null,
      "grid_auto_columns": null,
      "grid_auto_flow": null,
      "grid_auto_rows": null,
      "grid_column": null,
      "grid_gap": null,
      "grid_row": null,
      "grid_template_areas": null,
      "grid_template_columns": null,
      "grid_template_rows": null,
      "height": null,
      "justify_content": null,
      "justify_items": null,
      "left": null,
      "margin": null,
      "max_height": null,
      "max_width": null,
      "min_height": null,
      "min_width": null,
      "object_fit": null,
      "object_position": null,
      "order": null,
      "overflow": null,
      "overflow_x": null,
      "overflow_y": null,
      "padding": null,
      "right": null,
      "top": null,
      "visibility": null,
      "width": null
     }
    },
    "605e700924b94999950943203df9ec44": {
     "model_module": "@jupyter-widgets/base",
     "model_module_version": "1.2.0",
     "model_name": "LayoutModel",
     "state": {
      "_model_module": "@jupyter-widgets/base",
      "_model_module_version": "1.2.0",
      "_model_name": "LayoutModel",
      "_view_count": null,
      "_view_module": "@jupyter-widgets/base",
      "_view_module_version": "1.2.0",
      "_view_name": "LayoutView",
      "align_content": null,
      "align_items": null,
      "align_self": null,
      "border": null,
      "bottom": null,
      "display": null,
      "flex": null,
      "flex_flow": null,
      "grid_area": null,
      "grid_auto_columns": null,
      "grid_auto_flow": null,
      "grid_auto_rows": null,
      "grid_column": null,
      "grid_gap": null,
      "grid_row": null,
      "grid_template_areas": null,
      "grid_template_columns": null,
      "grid_template_rows": null,
      "height": null,
      "justify_content": null,
      "justify_items": null,
      "left": null,
      "margin": null,
      "max_height": null,
      "max_width": null,
      "min_height": null,
      "min_width": null,
      "object_fit": null,
      "object_position": null,
      "order": null,
      "overflow": null,
      "overflow_x": null,
      "overflow_y": null,
      "padding": null,
      "right": null,
      "top": null,
      "visibility": null,
      "width": null
     }
    },
    "6b9e496334b44f6c9c51777950279f64": {
     "model_module": "@jupyter-widgets/controls",
     "model_module_version": "1.5.0",
     "model_name": "HBoxModel",
     "state": {
      "_dom_classes": [],
      "_model_module": "@jupyter-widgets/controls",
      "_model_module_version": "1.5.0",
      "_model_name": "HBoxModel",
      "_view_count": null,
      "_view_module": "@jupyter-widgets/controls",
      "_view_module_version": "1.5.0",
      "_view_name": "HBoxView",
      "box_style": "",
      "children": [
       "IPY_MODEL_d974c0849b3f4cc1bd123e8e6121590a",
       "IPY_MODEL_04748b4849ac4bc5abbca7c35c034692",
       "IPY_MODEL_edd9888558ba40099dcd3c569c9fe552"
      ],
      "layout": "IPY_MODEL_a63fe08013814efd96f48229a1bb88ce"
     }
    },
    "6f146d41155d42e5a01b10c62f89e98f": {
     "model_module": "@jupyter-widgets/controls",
     "model_module_version": "1.5.0",
     "model_name": "HBoxModel",
     "state": {
      "_dom_classes": [],
      "_model_module": "@jupyter-widgets/controls",
      "_model_module_version": "1.5.0",
      "_model_name": "HBoxModel",
      "_view_count": null,
      "_view_module": "@jupyter-widgets/controls",
      "_view_module_version": "1.5.0",
      "_view_name": "HBoxView",
      "box_style": "",
      "children": [
       "IPY_MODEL_7197604659e6477880bc3b707d5288d0",
       "IPY_MODEL_449c85d40e23411fb0c18da12555984b",
       "IPY_MODEL_a8ebec6552304c8fa0c5d9b92f8ee94f"
      ],
      "layout": "IPY_MODEL_833d8b9dde0e43f58788280d2fdf3c75"
     }
    },
    "7197604659e6477880bc3b707d5288d0": {
     "model_module": "@jupyter-widgets/controls",
     "model_module_version": "1.5.0",
     "model_name": "HTMLModel",
     "state": {
      "_dom_classes": [],
      "_model_module": "@jupyter-widgets/controls",
      "_model_module_version": "1.5.0",
      "_model_name": "HTMLModel",
      "_view_count": null,
      "_view_module": "@jupyter-widgets/controls",
      "_view_module_version": "1.5.0",
      "_view_name": "HTMLView",
      "description": "",
      "description_tooltip": null,
      "layout": "IPY_MODEL_1cdf108be3d9401799219a1bd5829a50",
      "placeholder": "​",
      "style": "IPY_MODEL_00088238c77b4c88b49cec90ea1e5087",
      "value": "(…)cased/resolve/main/tokenizer_config.json: 100%"
     }
    },
    "76c4ce94f5464b9b8892888f39ba06bc": {
     "model_module": "@jupyter-widgets/base",
     "model_module_version": "1.2.0",
     "model_name": "LayoutModel",
     "state": {
      "_model_module": "@jupyter-widgets/base",
      "_model_module_version": "1.2.0",
      "_model_name": "LayoutModel",
      "_view_count": null,
      "_view_module": "@jupyter-widgets/base",
      "_view_module_version": "1.2.0",
      "_view_name": "LayoutView",
      "align_content": null,
      "align_items": null,
      "align_self": null,
      "border": null,
      "bottom": null,
      "display": null,
      "flex": null,
      "flex_flow": null,
      "grid_area": null,
      "grid_auto_columns": null,
      "grid_auto_flow": null,
      "grid_auto_rows": null,
      "grid_column": null,
      "grid_gap": null,
      "grid_row": null,
      "grid_template_areas": null,
      "grid_template_columns": null,
      "grid_template_rows": null,
      "height": null,
      "justify_content": null,
      "justify_items": null,
      "left": null,
      "margin": null,
      "max_height": null,
      "max_width": null,
      "min_height": null,
      "min_width": null,
      "object_fit": null,
      "object_position": null,
      "order": null,
      "overflow": null,
      "overflow_x": null,
      "overflow_y": null,
      "padding": null,
      "right": null,
      "top": null,
      "visibility": null,
      "width": null
     }
    },
    "79273cbbe53d47088b104a0fee400ced": {
     "model_module": "@jupyter-widgets/base",
     "model_module_version": "1.2.0",
     "model_name": "LayoutModel",
     "state": {
      "_model_module": "@jupyter-widgets/base",
      "_model_module_version": "1.2.0",
      "_model_name": "LayoutModel",
      "_view_count": null,
      "_view_module": "@jupyter-widgets/base",
      "_view_module_version": "1.2.0",
      "_view_name": "LayoutView",
      "align_content": null,
      "align_items": null,
      "align_self": null,
      "border": null,
      "bottom": null,
      "display": null,
      "flex": null,
      "flex_flow": null,
      "grid_area": null,
      "grid_auto_columns": null,
      "grid_auto_flow": null,
      "grid_auto_rows": null,
      "grid_column": null,
      "grid_gap": null,
      "grid_row": null,
      "grid_template_areas": null,
      "grid_template_columns": null,
      "grid_template_rows": null,
      "height": null,
      "justify_content": null,
      "justify_items": null,
      "left": null,
      "margin": null,
      "max_height": null,
      "max_width": null,
      "min_height": null,
      "min_width": null,
      "object_fit": null,
      "object_position": null,
      "order": null,
      "overflow": null,
      "overflow_x": null,
      "overflow_y": null,
      "padding": null,
      "right": null,
      "top": null,
      "visibility": null,
      "width": null
     }
    },
    "7a74b4bfa74c47bb99302f4d85729c3e": {
     "model_module": "@jupyter-widgets/controls",
     "model_module_version": "1.5.0",
     "model_name": "FloatProgressModel",
     "state": {
      "_dom_classes": [],
      "_model_module": "@jupyter-widgets/controls",
      "_model_module_version": "1.5.0",
      "_model_name": "FloatProgressModel",
      "_view_count": null,
      "_view_module": "@jupyter-widgets/controls",
      "_view_module_version": "1.5.0",
      "_view_name": "ProgressView",
      "bar_style": "success",
      "description": "",
      "description_tooltip": null,
      "layout": "IPY_MODEL_9f2f719cb5b947e4b4b320f00efdf237",
      "max": 231508,
      "min": 0,
      "orientation": "horizontal",
      "style": "IPY_MODEL_d901697b48024225b4d653e039c85080",
      "value": 231508
     }
    },
    "7aa4ceef727b4cc5b2054e96e02ad1e9": {
     "model_module": "@jupyter-widgets/base",
     "model_module_version": "1.2.0",
     "model_name": "LayoutModel",
     "state": {
      "_model_module": "@jupyter-widgets/base",
      "_model_module_version": "1.2.0",
      "_model_name": "LayoutModel",
      "_view_count": null,
      "_view_module": "@jupyter-widgets/base",
      "_view_module_version": "1.2.0",
      "_view_name": "LayoutView",
      "align_content": null,
      "align_items": null,
      "align_self": null,
      "border": null,
      "bottom": null,
      "display": null,
      "flex": null,
      "flex_flow": null,
      "grid_area": null,
      "grid_auto_columns": null,
      "grid_auto_flow": null,
      "grid_auto_rows": null,
      "grid_column": null,
      "grid_gap": null,
      "grid_row": null,
      "grid_template_areas": null,
      "grid_template_columns": null,
      "grid_template_rows": null,
      "height": null,
      "justify_content": null,
      "justify_items": null,
      "left": null,
      "margin": null,
      "max_height": null,
      "max_width": null,
      "min_height": null,
      "min_width": null,
      "object_fit": null,
      "object_position": null,
      "order": null,
      "overflow": null,
      "overflow_x": null,
      "overflow_y": null,
      "padding": null,
      "right": null,
      "top": null,
      "visibility": null,
      "width": null
     }
    },
    "7e20d8668d174030b45be56f5fcea6c3": {
     "model_module": "@jupyter-widgets/controls",
     "model_module_version": "1.5.0",
     "model_name": "FloatProgressModel",
     "state": {
      "_dom_classes": [],
      "_model_module": "@jupyter-widgets/controls",
      "_model_module_version": "1.5.0",
      "_model_name": "FloatProgressModel",
      "_view_count": null,
      "_view_module": "@jupyter-widgets/controls",
      "_view_module_version": "1.5.0",
      "_view_name": "ProgressView",
      "bar_style": "success",
      "description": "",
      "description_tooltip": null,
      "layout": "IPY_MODEL_76c4ce94f5464b9b8892888f39ba06bc",
      "max": 466062,
      "min": 0,
      "orientation": "horizontal",
      "style": "IPY_MODEL_15e053b08aa84e5ba41f016b25ef8009",
      "value": 466062
     }
    },
    "811950e7e61e4e2dbff5535359f226ff": {
     "model_module": "@jupyter-widgets/controls",
     "model_module_version": "1.5.0",
     "model_name": "HTMLModel",
     "state": {
      "_dom_classes": [],
      "_model_module": "@jupyter-widgets/controls",
      "_model_module_version": "1.5.0",
      "_model_name": "HTMLModel",
      "_view_count": null,
      "_view_module": "@jupyter-widgets/controls",
      "_view_module_version": "1.5.0",
      "_view_name": "HTMLView",
      "description": "",
      "description_tooltip": null,
      "layout": "IPY_MODEL_ff8e09b34b594dae913143d3545bfa8b",
      "placeholder": "​",
      "style": "IPY_MODEL_a9e671f3ad774f8cacee4e9d00e743df",
      "value": " 570/570 [00:00&lt;00:00, 41.4kB/s]"
     }
    },
    "833d8b9dde0e43f58788280d2fdf3c75": {
     "model_module": "@jupyter-widgets/base",
     "model_module_version": "1.2.0",
     "model_name": "LayoutModel",
     "state": {
      "_model_module": "@jupyter-widgets/base",
      "_model_module_version": "1.2.0",
      "_model_name": "LayoutModel",
      "_view_count": null,
      "_view_module": "@jupyter-widgets/base",
      "_view_module_version": "1.2.0",
      "_view_name": "LayoutView",
      "align_content": null,
      "align_items": null,
      "align_self": null,
      "border": null,
      "bottom": null,
      "display": null,
      "flex": null,
      "flex_flow": null,
      "grid_area": null,
      "grid_auto_columns": null,
      "grid_auto_flow": null,
      "grid_auto_rows": null,
      "grid_column": null,
      "grid_gap": null,
      "grid_row": null,
      "grid_template_areas": null,
      "grid_template_columns": null,
      "grid_template_rows": null,
      "height": null,
      "justify_content": null,
      "justify_items": null,
      "left": null,
      "margin": null,
      "max_height": null,
      "max_width": null,
      "min_height": null,
      "min_width": null,
      "object_fit": null,
      "object_position": null,
      "order": null,
      "overflow": null,
      "overflow_x": null,
      "overflow_y": null,
      "padding": null,
      "right": null,
      "top": null,
      "visibility": null,
      "width": null
     }
    },
    "868402c106a74f2ea269f670469c83fd": {
     "model_module": "@jupyter-widgets/controls",
     "model_module_version": "1.5.0",
     "model_name": "DescriptionStyleModel",
     "state": {
      "_model_module": "@jupyter-widgets/controls",
      "_model_module_version": "1.5.0",
      "_model_name": "DescriptionStyleModel",
      "_view_count": null,
      "_view_module": "@jupyter-widgets/base",
      "_view_module_version": "1.2.0",
      "_view_name": "StyleView",
      "description_width": ""
     }
    },
    "875cc0d3ef464cb698402cc1cece3b72": {
     "model_module": "@jupyter-widgets/controls",
     "model_module_version": "1.5.0",
     "model_name": "ProgressStyleModel",
     "state": {
      "_model_module": "@jupyter-widgets/controls",
      "_model_module_version": "1.5.0",
      "_model_name": "ProgressStyleModel",
      "_view_count": null,
      "_view_module": "@jupyter-widgets/base",
      "_view_module_version": "1.2.0",
      "_view_name": "StyleView",
      "bar_color": null,
      "description_width": ""
     }
    },
    "9f2f719cb5b947e4b4b320f00efdf237": {
     "model_module": "@jupyter-widgets/base",
     "model_module_version": "1.2.0",
     "model_name": "LayoutModel",
     "state": {
      "_model_module": "@jupyter-widgets/base",
      "_model_module_version": "1.2.0",
      "_model_name": "LayoutModel",
      "_view_count": null,
      "_view_module": "@jupyter-widgets/base",
      "_view_module_version": "1.2.0",
      "_view_name": "LayoutView",
      "align_content": null,
      "align_items": null,
      "align_self": null,
      "border": null,
      "bottom": null,
      "display": null,
      "flex": null,
      "flex_flow": null,
      "grid_area": null,
      "grid_auto_columns": null,
      "grid_auto_flow": null,
      "grid_auto_rows": null,
      "grid_column": null,
      "grid_gap": null,
      "grid_row": null,
      "grid_template_areas": null,
      "grid_template_columns": null,
      "grid_template_rows": null,
      "height": null,
      "justify_content": null,
      "justify_items": null,
      "left": null,
      "margin": null,
      "max_height": null,
      "max_width": null,
      "min_height": null,
      "min_width": null,
      "object_fit": null,
      "object_position": null,
      "order": null,
      "overflow": null,
      "overflow_x": null,
      "overflow_y": null,
      "padding": null,
      "right": null,
      "top": null,
      "visibility": null,
      "width": null
     }
    },
    "a63fe08013814efd96f48229a1bb88ce": {
     "model_module": "@jupyter-widgets/base",
     "model_module_version": "1.2.0",
     "model_name": "LayoutModel",
     "state": {
      "_model_module": "@jupyter-widgets/base",
      "_model_module_version": "1.2.0",
      "_model_name": "LayoutModel",
      "_view_count": null,
      "_view_module": "@jupyter-widgets/base",
      "_view_module_version": "1.2.0",
      "_view_name": "LayoutView",
      "align_content": null,
      "align_items": null,
      "align_self": null,
      "border": null,
      "bottom": null,
      "display": null,
      "flex": null,
      "flex_flow": null,
      "grid_area": null,
      "grid_auto_columns": null,
      "grid_auto_flow": null,
      "grid_auto_rows": null,
      "grid_column": null,
      "grid_gap": null,
      "grid_row": null,
      "grid_template_areas": null,
      "grid_template_columns": null,
      "grid_template_rows": null,
      "height": null,
      "justify_content": null,
      "justify_items": null,
      "left": null,
      "margin": null,
      "max_height": null,
      "max_width": null,
      "min_height": null,
      "min_width": null,
      "object_fit": null,
      "object_position": null,
      "order": null,
      "overflow": null,
      "overflow_x": null,
      "overflow_y": null,
      "padding": null,
      "right": null,
      "top": null,
      "visibility": null,
      "width": null
     }
    },
    "a8ebec6552304c8fa0c5d9b92f8ee94f": {
     "model_module": "@jupyter-widgets/controls",
     "model_module_version": "1.5.0",
     "model_name": "HTMLModel",
     "state": {
      "_dom_classes": [],
      "_model_module": "@jupyter-widgets/controls",
      "_model_module_version": "1.5.0",
      "_model_name": "HTMLModel",
      "_view_count": null,
      "_view_module": "@jupyter-widgets/controls",
      "_view_module_version": "1.5.0",
      "_view_name": "HTMLView",
      "description": "",
      "description_tooltip": null,
      "layout": "IPY_MODEL_79273cbbe53d47088b104a0fee400ced",
      "placeholder": "​",
      "style": "IPY_MODEL_e19f6e36344b41f18fc7fb5f16faa005",
      "value": " 28.0/28.0 [00:00&lt;00:00, 2.32kB/s]"
     }
    },
    "a9e671f3ad774f8cacee4e9d00e743df": {
     "model_module": "@jupyter-widgets/controls",
     "model_module_version": "1.5.0",
     "model_name": "DescriptionStyleModel",
     "state": {
      "_model_module": "@jupyter-widgets/controls",
      "_model_module_version": "1.5.0",
      "_model_name": "DescriptionStyleModel",
      "_view_count": null,
      "_view_module": "@jupyter-widgets/base",
      "_view_module_version": "1.2.0",
      "_view_name": "StyleView",
      "description_width": ""
     }
    },
    "bc807b3f60ba4a64897fd0a7c879368e": {
     "model_module": "@jupyter-widgets/controls",
     "model_module_version": "1.5.0",
     "model_name": "HTMLModel",
     "state": {
      "_dom_classes": [],
      "_model_module": "@jupyter-widgets/controls",
      "_model_module_version": "1.5.0",
      "_model_name": "HTMLModel",
      "_view_count": null,
      "_view_module": "@jupyter-widgets/controls",
      "_view_module_version": "1.5.0",
      "_view_name": "HTMLView",
      "description": "",
      "description_tooltip": null,
      "layout": "IPY_MODEL_012237dd69824991b8e9755e034790b8",
      "placeholder": "​",
      "style": "IPY_MODEL_14e24effd855459d9fb085b5b8bd0a2e",
      "value": "(…)bert-base-uncased/resolve/main/vocab.txt: 100%"
     }
    },
    "bfb9e43e90404d3d892f62692091a3e2": {
     "model_module": "@jupyter-widgets/base",
     "model_module_version": "1.2.0",
     "model_name": "LayoutModel",
     "state": {
      "_model_module": "@jupyter-widgets/base",
      "_model_module_version": "1.2.0",
      "_model_name": "LayoutModel",
      "_view_count": null,
      "_view_module": "@jupyter-widgets/base",
      "_view_module_version": "1.2.0",
      "_view_name": "LayoutView",
      "align_content": null,
      "align_items": null,
      "align_self": null,
      "border": null,
      "bottom": null,
      "display": null,
      "flex": null,
      "flex_flow": null,
      "grid_area": null,
      "grid_auto_columns": null,
      "grid_auto_flow": null,
      "grid_auto_rows": null,
      "grid_column": null,
      "grid_gap": null,
      "grid_row": null,
      "grid_template_areas": null,
      "grid_template_columns": null,
      "grid_template_rows": null,
      "height": null,
      "justify_content": null,
      "justify_items": null,
      "left": null,
      "margin": null,
      "max_height": null,
      "max_width": null,
      "min_height": null,
      "min_width": null,
      "object_fit": null,
      "object_position": null,
      "order": null,
      "overflow": null,
      "overflow_x": null,
      "overflow_y": null,
      "padding": null,
      "right": null,
      "top": null,
      "visibility": null,
      "width": null
     }
    },
    "ca9819dd74834440873f56bef93ec13a": {
     "model_module": "@jupyter-widgets/controls",
     "model_module_version": "1.5.0",
     "model_name": "DescriptionStyleModel",
     "state": {
      "_model_module": "@jupyter-widgets/controls",
      "_model_module_version": "1.5.0",
      "_model_name": "DescriptionStyleModel",
      "_view_count": null,
      "_view_module": "@jupyter-widgets/base",
      "_view_module_version": "1.2.0",
      "_view_name": "StyleView",
      "description_width": ""
     }
    },
    "d484325e59534ed78c6df6f38ab4586c": {
     "model_module": "@jupyter-widgets/controls",
     "model_module_version": "1.5.0",
     "model_name": "HTMLModel",
     "state": {
      "_dom_classes": [],
      "_model_module": "@jupyter-widgets/controls",
      "_model_module_version": "1.5.0",
      "_model_name": "HTMLModel",
      "_view_count": null,
      "_view_module": "@jupyter-widgets/controls",
      "_view_module_version": "1.5.0",
      "_view_name": "HTMLView",
      "description": "",
      "description_tooltip": null,
      "layout": "IPY_MODEL_bfb9e43e90404d3d892f62692091a3e2",
      "placeholder": "​",
      "style": "IPY_MODEL_13ab3bbf809e4d67933129e8f7db08bb",
      "value": " 466k/466k [00:00&lt;00:00, 2.86MB/s]"
     }
    },
    "d901697b48024225b4d653e039c85080": {
     "model_module": "@jupyter-widgets/controls",
     "model_module_version": "1.5.0",
     "model_name": "ProgressStyleModel",
     "state": {
      "_model_module": "@jupyter-widgets/controls",
      "_model_module_version": "1.5.0",
      "_model_name": "ProgressStyleModel",
      "_view_count": null,
      "_view_module": "@jupyter-widgets/base",
      "_view_module_version": "1.2.0",
      "_view_name": "StyleView",
      "bar_color": null,
      "description_width": ""
     }
    },
    "d974c0849b3f4cc1bd123e8e6121590a": {
     "model_module": "@jupyter-widgets/controls",
     "model_module_version": "1.5.0",
     "model_name": "HTMLModel",
     "state": {
      "_dom_classes": [],
      "_model_module": "@jupyter-widgets/controls",
      "_model_module_version": "1.5.0",
      "_model_name": "HTMLModel",
      "_view_count": null,
      "_view_module": "@jupyter-widgets/controls",
      "_view_module_version": "1.5.0",
      "_view_name": "HTMLView",
      "description": "",
      "description_tooltip": null,
      "layout": "IPY_MODEL_3b3dea54897b4f02b25737dc79981471",
      "placeholder": "​",
      "style": "IPY_MODEL_294f9d3401784b8e84cf44556484cab8",
      "value": "model.safetensors: 100%"
     }
    },
    "e19f6e36344b41f18fc7fb5f16faa005": {
     "model_module": "@jupyter-widgets/controls",
     "model_module_version": "1.5.0",
     "model_name": "DescriptionStyleModel",
     "state": {
      "_model_module": "@jupyter-widgets/controls",
      "_model_module_version": "1.5.0",
      "_model_name": "DescriptionStyleModel",
      "_view_count": null,
      "_view_module": "@jupyter-widgets/base",
      "_view_module_version": "1.2.0",
      "_view_name": "StyleView",
      "description_width": ""
     }
    },
    "e4006b4ae4474755916af8539f32ffa5": {
     "model_module": "@jupyter-widgets/controls",
     "model_module_version": "1.5.0",
     "model_name": "DescriptionStyleModel",
     "state": {
      "_model_module": "@jupyter-widgets/controls",
      "_model_module_version": "1.5.0",
      "_model_name": "DescriptionStyleModel",
      "_view_count": null,
      "_view_module": "@jupyter-widgets/base",
      "_view_module_version": "1.2.0",
      "_view_name": "StyleView",
      "description_width": ""
     }
    },
    "edd9888558ba40099dcd3c569c9fe552": {
     "model_module": "@jupyter-widgets/controls",
     "model_module_version": "1.5.0",
     "model_name": "HTMLModel",
     "state": {
      "_dom_classes": [],
      "_model_module": "@jupyter-widgets/controls",
      "_model_module_version": "1.5.0",
      "_model_name": "HTMLModel",
      "_view_count": null,
      "_view_module": "@jupyter-widgets/controls",
      "_view_module_version": "1.5.0",
      "_view_name": "HTMLView",
      "description": "",
      "description_tooltip": null,
      "layout": "IPY_MODEL_ef4d6f8beb9248feaa3cbda263949606",
      "placeholder": "​",
      "style": "IPY_MODEL_e4006b4ae4474755916af8539f32ffa5",
      "value": " 440M/440M [00:01&lt;00:00, 442MB/s]"
     }
    },
    "ef4d6f8beb9248feaa3cbda263949606": {
     "model_module": "@jupyter-widgets/base",
     "model_module_version": "1.2.0",
     "model_name": "LayoutModel",
     "state": {
      "_model_module": "@jupyter-widgets/base",
      "_model_module_version": "1.2.0",
      "_model_name": "LayoutModel",
      "_view_count": null,
      "_view_module": "@jupyter-widgets/base",
      "_view_module_version": "1.2.0",
      "_view_name": "LayoutView",
      "align_content": null,
      "align_items": null,
      "align_self": null,
      "border": null,
      "bottom": null,
      "display": null,
      "flex": null,
      "flex_flow": null,
      "grid_area": null,
      "grid_auto_columns": null,
      "grid_auto_flow": null,
      "grid_auto_rows": null,
      "grid_column": null,
      "grid_gap": null,
      "grid_row": null,
      "grid_template_areas": null,
      "grid_template_columns": null,
      "grid_template_rows": null,
      "height": null,
      "justify_content": null,
      "justify_items": null,
      "left": null,
      "margin": null,
      "max_height": null,
      "max_width": null,
      "min_height": null,
      "min_width": null,
      "object_fit": null,
      "object_position": null,
      "order": null,
      "overflow": null,
      "overflow_x": null,
      "overflow_y": null,
      "padding": null,
      "right": null,
      "top": null,
      "visibility": null,
      "width": null
     }
    },
    "efa859a5cb0e4d558d4ff9f232c5998f": {
     "model_module": "@jupyter-widgets/controls",
     "model_module_version": "1.5.0",
     "model_name": "HBoxModel",
     "state": {
      "_dom_classes": [],
      "_model_module": "@jupyter-widgets/controls",
      "_model_module_version": "1.5.0",
      "_model_name": "HBoxModel",
      "_view_count": null,
      "_view_module": "@jupyter-widgets/controls",
      "_view_module_version": "1.5.0",
      "_view_name": "HBoxView",
      "box_style": "",
      "children": [
       "IPY_MODEL_30d6bbb0af2c4d5480e5e39a49332c35",
       "IPY_MODEL_24e6be0de3184643b1958a2529ba3383",
       "IPY_MODEL_811950e7e61e4e2dbff5535359f226ff"
      ],
      "layout": "IPY_MODEL_605e700924b94999950943203df9ec44"
     }
    },
    "f7bc5f466629451a90329b52676dde50": {
     "model_module": "@jupyter-widgets/controls",
     "model_module_version": "1.5.0",
     "model_name": "HTMLModel",
     "state": {
      "_dom_classes": [],
      "_model_module": "@jupyter-widgets/controls",
      "_model_module_version": "1.5.0",
      "_model_name": "HTMLModel",
      "_view_count": null,
      "_view_module": "@jupyter-widgets/controls",
      "_view_module_version": "1.5.0",
      "_view_name": "HTMLView",
      "description": "",
      "description_tooltip": null,
      "layout": "IPY_MODEL_5f8334face55441f8353bf5cc97f4ea6",
      "placeholder": "​",
      "style": "IPY_MODEL_868402c106a74f2ea269f670469c83fd",
      "value": "(…)base-uncased/resolve/main/tokenizer.json: 100%"
     }
    },
    "f958c13be4c64ab5bcbfac343e6c769f": {
     "model_module": "@jupyter-widgets/base",
     "model_module_version": "1.2.0",
     "model_name": "LayoutModel",
     "state": {
      "_model_module": "@jupyter-widgets/base",
      "_model_module_version": "1.2.0",
      "_model_name": "LayoutModel",
      "_view_count": null,
      "_view_module": "@jupyter-widgets/base",
      "_view_module_version": "1.2.0",
      "_view_name": "LayoutView",
      "align_content": null,
      "align_items": null,
      "align_self": null,
      "border": null,
      "bottom": null,
      "display": null,
      "flex": null,
      "flex_flow": null,
      "grid_area": null,
      "grid_auto_columns": null,
      "grid_auto_flow": null,
      "grid_auto_rows": null,
      "grid_column": null,
      "grid_gap": null,
      "grid_row": null,
      "grid_template_areas": null,
      "grid_template_columns": null,
      "grid_template_rows": null,
      "height": null,
      "justify_content": null,
      "justify_items": null,
      "left": null,
      "margin": null,
      "max_height": null,
      "max_width": null,
      "min_height": null,
      "min_width": null,
      "object_fit": null,
      "object_position": null,
      "order": null,
      "overflow": null,
      "overflow_x": null,
      "overflow_y": null,
      "padding": null,
      "right": null,
      "top": null,
      "visibility": null,
      "width": null
     }
    },
    "ff8e09b34b594dae913143d3545bfa8b": {
     "model_module": "@jupyter-widgets/base",
     "model_module_version": "1.2.0",
     "model_name": "LayoutModel",
     "state": {
      "_model_module": "@jupyter-widgets/base",
      "_model_module_version": "1.2.0",
      "_model_name": "LayoutModel",
      "_view_count": null,
      "_view_module": "@jupyter-widgets/base",
      "_view_module_version": "1.2.0",
      "_view_name": "LayoutView",
      "align_content": null,
      "align_items": null,
      "align_self": null,
      "border": null,
      "bottom": null,
      "display": null,
      "flex": null,
      "flex_flow": null,
      "grid_area": null,
      "grid_auto_columns": null,
      "grid_auto_flow": null,
      "grid_auto_rows": null,
      "grid_column": null,
      "grid_gap": null,
      "grid_row": null,
      "grid_template_areas": null,
      "grid_template_columns": null,
      "grid_template_rows": null,
      "height": null,
      "justify_content": null,
      "justify_items": null,
      "left": null,
      "margin": null,
      "max_height": null,
      "max_width": null,
      "min_height": null,
      "min_width": null,
      "object_fit": null,
      "object_position": null,
      "order": null,
      "overflow": null,
      "overflow_x": null,
      "overflow_y": null,
      "padding": null,
      "right": null,
      "top": null,
      "visibility": null,
      "width": null
     }
    }
   }
  }
 },
 "nbformat": 4,
 "nbformat_minor": 1
}
